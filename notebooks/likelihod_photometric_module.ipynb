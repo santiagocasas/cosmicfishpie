{
 "cells": [
  {
   "cell_type": "code",
   "execution_count": 1,
   "metadata": {},
   "outputs": [],
   "source": [
    "import seaborn as sns\n",
    "import numpy as np\n",
    "import logging\n",
    "from itertools import product\n",
    "from copy import deepcopy, copy\n",
    "from collections.abc import Sequence"
   ]
  },
  {
   "cell_type": "code",
   "execution_count": 2,
   "metadata": {},
   "outputs": [],
   "source": [
    "from cosmicfishpie.fishermatrix import cosmicfish\n",
    "from cosmicfishpie.LSSsurvey import photo_obs as pobs\n",
    "from cosmicfishpie.LSSsurvey import photo_cov as pcov\n",
    "from cosmicfishpie.likelihood import PhotometricLikelihood\n",
    "from cosmicfishpie.utilities.utils import printing as upr\n",
    "from nautilus import Prior\n",
    "from nautilus import Sampler\n",
    "import re\n",
    "import time"
   ]
  },
  {
   "cell_type": "code",
   "execution_count": 3,
   "metadata": {},
   "outputs": [],
   "source": [
    "snscolors = sns.color_palette(\"colorblind\")\n",
    "def is_indexable_iterable(var):\n",
    "    return isinstance(var, (list, np.ndarray, Sequence)) and not isinstance(var, (str, bytes))\n"
   ]
  },
  {
   "cell_type": "code",
   "execution_count": 4,
   "metadata": {},
   "outputs": [],
   "source": [
    "logger = logging.getLogger(\"cosmicfishpie.cosmology.nuisance\")\n",
    "logger.setLevel(logging.INFO)"
   ]
  },
  {
   "cell_type": "code",
   "execution_count": 5,
   "metadata": {},
   "outputs": [],
   "source": [
    "upr.debug = False"
   ]
  },
  {
   "cell_type": "code",
   "execution_count": 6,
   "metadata": {},
   "outputs": [],
   "source": [
    "upr.debug_print(\"test\")"
   ]
  },
  {
   "cell_type": "code",
   "execution_count": 7,
   "metadata": {},
   "outputs": [],
   "source": [
    "outroot = \"cosmicjellyfish_Euclid-ISTF-Pess-GCphoto_symb_simple\""
   ]
  },
  {
   "cell_type": "code",
   "execution_count": 8,
   "metadata": {},
   "outputs": [],
   "source": [
    "sampler_settings = {\n",
    "    \"n_live\": 1000,\n",
    "    \"n_networks\": 8,\n",
    "    \"n_batch\": 256,\n",
    "    \"pool\": 8,\n",
    "}"
   ]
  },
  {
   "cell_type": "code",
   "execution_count": 9,
   "metadata": {},
   "outputs": [],
   "source": [
    "fiducial = {\n",
    "    \"Omegam\": 0.3145714273,\n",
    "    \"Omegab\": 0.0491989,\n",
    "    \"h\": 0.6737,\n",
    "    \"ns\": 0.96605,\n",
    "    \"sigma8\": 0.81,\n",
    "    \"w0\": -1.0,\n",
    "    \"wa\": 0.0,\n",
    "    \"mnu\": 0.06,\n",
    "    \"Neff\": 3.044,\n",
    "}\n",
    "observables = ['GCph']"
   ]
  },
  {
   "cell_type": "code",
   "execution_count": 10,
   "metadata": {},
   "outputs": [
    {
     "name": "stdout",
     "output_type": "stream",
     "text": [
      "****************************************************************\n",
      "   _____               _     _____     __  \n",
      "  / ___/__  ___ __ _  (_)___/ __(_)__ / /  \n",
      " / /__/ _ \\(_-</  ' \\/ / __/ _// (_-</ _ \\ \n",
      " \\___/\\___/___/_/_/_/_/\\__/_/ /_/___/_//_/ \n",
      "\n",
      "****************************************************************\n",
      " This is the new Python version of the CosmicFish code.\n",
      "****************************************************************\n",
      "\n",
      "  -> Survey loaded:  Euclid-Photometric-ISTF-Pessimistic\n",
      "\n",
      "  -> Computing cosmology at the fiducial point\n",
      "\n",
      "  ---> Cosmological functions obtained in:   0.11 s\n"
     ]
    }
   ],
   "source": [
    "options = {\n",
    "    \"accuracy\": 1,\n",
    "    \"feedback\": 1,\n",
    "    \"code\": \"symbolic\",\n",
    "    \"outroot\": outroot,\n",
    "    \"survey_name\": \"Euclid\",\n",
    "    \"survey_name_photo\": \"Euclid-Photometric-ISTF-Pessimistic\",\n",
    "    \"survey_name_spectro\": False,\n",
    "    \"specs_dir\": \"../cosmicfishpie/configs/default_survey_specifications/\",\n",
    "    \"cosmo_model\": \"LCDM\",\n",
    "}\n",
    "cosmoFM_fid = cosmicfish.FisherMatrix(\n",
    "    fiducialpars=fiducial,\n",
    "    options=options,\n",
    "    observables=observables,\n",
    "    cosmoModel=options[\"cosmo_model\"],\n",
    "    surveyName=options[\"survey_name\"],\n",
    ")"
   ]
  },
  {
   "cell_type": "code",
   "execution_count": 11,
   "metadata": {},
   "outputs": [
    {
     "data": {
      "text/plain": [
       "{'Omegam': 0.01,\n",
       " 'Omegab': 0.01,\n",
       " 'h': 0.01,\n",
       " 'ns': 0.01,\n",
       " 'sigma8': 0.01,\n",
       " 'b1': 0.06,\n",
       " 'b2': 0.06,\n",
       " 'b3': 0.06,\n",
       " 'b4': 0.06,\n",
       " 'b5': 0.06,\n",
       " 'b6': 0.06,\n",
       " 'b7': 0.06,\n",
       " 'b8': 0.06,\n",
       " 'b9': 0.06,\n",
       " 'b10': 0.06}"
      ]
     },
     "execution_count": 11,
     "metadata": {},
     "output_type": "execute_result"
    }
   ],
   "source": [
    "cosmoFM_fid.freeparams"
   ]
  },
  {
   "cell_type": "code",
   "execution_count": 12,
   "metadata": {},
   "outputs": [],
   "source": [
    "# #photo_fid = pobs.ComputeCls(cosmopars=cosmoFM_fid.fiducialcosmopars,\n",
    "#                             photopars=cosmoFM_fid.photopars,\n",
    "#                             IApars=cosmoFM_fid.IApars,\n",
    "#                             biaspars=cosmoFM_fid.photobiaspars)\n",
    "\n",
    "# #photo_fid.compute_all()\n",
    "\n",
    "# #photo_cov_fid = pcov.PhotoCov(cosmopars=cosmoFM_fid.fiducialcosmopars,\n",
    "#     #photopars=cosmoFM_fid.photopars,\n",
    "#     #IApars=cosmoFM_fid.IApars,\n",
    "#     #biaspars=cosmoFM_fid.photobiaspars,\n",
    "#     #fiducial_Cls=photo_fid)"
   ]
  },
  {
   "cell_type": "code",
   "execution_count": 13,
   "metadata": {},
   "outputs": [
    {
     "data": {
      "text/plain": [
       "{'Omegam': 0.3145714273,\n",
       " 'Omegab': 0.0491989,\n",
       " 'h': 0.6737,\n",
       " 'ns': 0.96605,\n",
       " 'sigma8': 0.81,\n",
       " 'w0': -1.0,\n",
       " 'wa': 0.0,\n",
       " 'mnu': 0.06,\n",
       " 'Neff': 3.044,\n",
       " 'bias_model': 'binned',\n",
       " 'b1': np.float64(1.0997727037892875),\n",
       " 'b2': np.float64(1.220245876862528),\n",
       " 'b3': np.float64(1.2723993083933989),\n",
       " 'b4': np.float64(1.316624471897739),\n",
       " 'b5': np.float64(1.35812370570578),\n",
       " 'b6': np.float64(1.3998214171814918),\n",
       " 'b7': np.float64(1.4446452851824907),\n",
       " 'b8': np.float64(1.4964959071110084),\n",
       " 'b9': np.float64(1.5652475842498528),\n",
       " 'b10': np.float64(1.7429859437184225),\n",
       " 'fout': 0.1,\n",
       " 'co': 1,\n",
       " 'cb': 1,\n",
       " 'sigma_o': 0.05,\n",
       " 'sigma_b': 0.05,\n",
       " 'zo': 0.1,\n",
       " 'zb': 0.0,\n",
       " 'IA_model': 'eNLA',\n",
       " 'AIA': 1.72,\n",
       " 'betaIA': 2.17,\n",
       " 'etaIA': -0.41}"
      ]
     },
     "execution_count": 13,
     "metadata": {},
     "output_type": "execute_result"
    }
   ],
   "source": [
    "cosmoFM_fid.allparams"
   ]
  },
  {
   "cell_type": "code",
   "execution_count": 14,
   "metadata": {},
   "outputs": [
    {
     "data": {
      "text/plain": [
       "['GCph']"
      ]
     },
     "execution_count": 14,
     "metadata": {},
     "output_type": "execute_result"
    }
   ],
   "source": [
    "cosmoFM_fid.observables"
   ]
  },
  {
   "cell_type": "code",
   "execution_count": null,
   "metadata": {},
   "outputs": [
    {
     "name": "stdout",
     "output_type": "stream",
     "text": [
      "\n",
      "In class: FisherMatrix  ----> Computing photo Fisher matrix\n",
      "\n",
      "Computing fiducial\n",
      "\n",
      "Fiducial generated in 0.55 s\n",
      "\n",
      "Noise added to fiducial\n",
      "\n",
      "Noisy Cls generated in 0.00 s\n",
      "\n",
      "Computed covariance matrix\n",
      "\n",
      "Covmat of Cls generated in 0.13 s\n",
      "\n",
      "Total calculation in 0.69 s\n",
      ">> computing derivs >>\n",
      "\n",
      "  +++ Computing derivative on Omegam\n",
      "\n",
      "In class: derivatives  Derivative on Omegam done! in :  1.31 s\n",
      "\n",
      "  +++ Computing derivative on Omegab\n",
      "\n",
      "In class: derivatives  Derivative on Omegab done! in :  1.30 s\n",
      "\n",
      "  +++ Computing derivative on h\n",
      "\n",
      "In class: derivatives  Derivative on h done! in :  1.24 s\n",
      "\n",
      "  +++ Computing derivative on ns\n",
      "\n",
      "In class: derivatives  Derivative on ns done! in :  1.21 s\n",
      "\n",
      "  +++ Computing derivative on sigma8\n",
      "\n",
      "In class: derivatives  Derivative on sigma8 done! in :  1.22 s\n",
      "\n",
      "  +++ Computing derivative on b1\n",
      "\n",
      "In class: derivatives  Derivative on b1 done! in :  1.04 s\n",
      "\n",
      "  +++ Computing derivative on b2\n",
      "\n",
      "In class: derivatives  Derivative on b2 done! in :  1.02 s\n",
      "\n",
      "  +++ Computing derivative on b3\n",
      "\n",
      "In class: derivatives  Derivative on b3 done! in :  1.08 s\n",
      "\n",
      "  +++ Computing derivative on b4\n",
      "\n",
      "In class: derivatives  Derivative on b4 done! in :  1.04 s\n",
      "\n",
      "  +++ Computing derivative on b5\n",
      "\n",
      "In class: derivatives  Derivative on b5 done! in :  1.04 s\n",
      "\n",
      "  +++ Computing derivative on b6\n",
      "\n",
      "In class: derivatives  Derivative on b6 done! in :  1.03 s\n",
      "\n",
      "  +++ Computing derivative on b7\n",
      "\n",
      "In class: derivatives  Derivative on b7 done! in :  1.04 s\n",
      "\n",
      "  +++ Computing derivative on b8\n",
      "\n",
      "In class: derivatives  Derivative on b8 done! in :  1.03 s\n",
      "\n",
      "  +++ Computing derivative on b9\n",
      "\n",
      "In class: derivatives  Derivative on b9 done! in :  1.03 s\n",
      "\n",
      "  +++ Computing derivative on b10\n",
      "\n",
      "In class: derivatives  Derivative on b10 done! in :  1.02 s\n",
      "\n",
      "In class: PhotoCov  -->> Derivatives computed in   16.63 s\n",
      "\n",
      "In class: FisherMatrix  Computing Fisher matrix\n",
      "\n",
      "  Finished calculation of Fisher Matrix for ['GCph'] in:   0.01 s\n",
      "\n",
      "  Fisher matrix calculation finished in   17.57 s\n",
      "\n",
      "  Fisher matrix exported: ./results/CosmicFish_v1.2.4_cosmicjellyfish_Euclid-ISTF-Pess-GCphoto_symb_simple_GCph_fishermatrix.txt\n",
      "\n",
      "\n",
      "In class: FisherMatrix  CosmicFish settings and Survey specifications exported: ./results/CosmicFish_v1.2.4_cosmicjellyfish_Euclid-ISTF-Pess-GCphoto_symb_simple_GCph_fishermatrix_specifications.dat\n"
     ]
    }
   ],
   "source": [
    "#fishmat_photo = cosmoFM_fid.compute()"
   ]
  },
  {
   "cell_type": "code",
   "execution_count": null,
   "metadata": {},
   "outputs": [],
   "source": [
    "photo_like = PhotometricLikelihood(cosmo_data=cosmoFM_fid, cosmo_theory=cosmoFM_fid)"
   ]
  },
  {
   "cell_type": "code",
   "execution_count": 17,
   "metadata": {},
   "outputs": [],
   "source": [
    "#print(Cells_fid[\"Cell_LL\"].shape)\n",
    "#print(Cells_fid[\"Cell_GG\"].shape)\n",
    "#print(Cells_fid[\"Cell_GL\"].shape)"
   ]
  },
  {
   "cell_type": "code",
   "execution_count": 18,
   "metadata": {},
   "outputs": [
    {
     "name": "stdout",
     "output_type": "stream",
     "text": [
      "750\n"
     ]
    }
   ],
   "source": [
    "ellmax_GC = cosmoFM_fid.specs[\"lmax_GCph\"]\n",
    "print(ellmax_GC)"
   ]
  },
  {
   "cell_type": "code",
   "execution_count": 19,
   "metadata": {},
   "outputs": [],
   "source": [
    "samp1dic = cosmoFM_fid.allparams.copy()"
   ]
  },
  {
   "cell_type": "code",
   "execution_count": 20,
   "metadata": {},
   "outputs": [
    {
     "name": "stdout",
     "output_type": "stream",
     "text": [
      "Sample likelihood 4.330972755260946e-11\n",
      "Sample likelihood -1568.703678015382\n",
      "Sample likelihood -1522.4374216102938\n"
     ]
    }
   ],
   "source": [
    "print(\"Sample likelihood\", photo_like.loglike(param_dict=samp1dic))\n",
    "samp1dic = cosmoFM_fid.allparams\n",
    "\n",
    "samp1dic['b1'] = 1.0\n",
    "\n",
    "print(\"Sample likelihood\", photo_like.loglike(param_dict=samp1dic))\n",
    "\n",
    "samp1dic['h'] = 0.7\n",
    "\n",
    "print(\"Sample likelihood\", photo_like.loglike(param_dict=samp1dic))"
   ]
  },
  {
   "cell_type": "code",
   "execution_count": 21,
   "metadata": {},
   "outputs": [],
   "source": [
    "prior_nonuis = Prior()\n",
    "prior_withnuis = Prior()"
   ]
  },
  {
   "cell_type": "code",
   "execution_count": 22,
   "metadata": {},
   "outputs": [],
   "source": [
    "prior_dict ={\n",
    " 'Omegam': [0.24, 0.4],\n",
    " 'Omegab': [0.04, 0.06],\n",
    " 'h': [0.61, 0.75],\n",
    " 'ns': [0.92, 1.00],\n",
    " 'sigma8': [0.79, 0.83],\n",
    " 'AIA': [1.0, 3.0],\n",
    " 'etaIA' :[-6.0, 6.0],\n",
    " 'b1': [1.0, 3.0],\n",
    " 'b2': [1.0, 3.0],\n",
    " 'b3': [1.0, 3.0],\n",
    " 'b4': [1.0, 3.0],\n",
    " 'b5': [1.0, 3.0],\n",
    " 'b6': [1.0, 3.0],\n",
    " 'b7': [1.0, 3.0],\n",
    " 'b8': [1.0, 3.0],\n",
    " 'b9': [1.0, 3.0],\n",
    " 'b10': [1.0, 3.0]\n",
    " }"
   ]
  },
  {
   "cell_type": "code",
   "execution_count": 23,
   "metadata": {},
   "outputs": [
    {
     "data": {
      "text/plain": [
       "{'Omegam': 0.01,\n",
       " 'Omegab': 0.01,\n",
       " 'h': 0.01,\n",
       " 'ns': 0.01,\n",
       " 'sigma8': 0.01,\n",
       " 'b1': 0.06,\n",
       " 'b2': 0.06,\n",
       " 'b3': 0.06,\n",
       " 'b4': 0.06,\n",
       " 'b5': 0.06,\n",
       " 'b6': 0.06,\n",
       " 'b7': 0.06,\n",
       " 'b8': 0.06,\n",
       " 'b9': 0.06,\n",
       " 'b10': 0.06}"
      ]
     },
     "execution_count": 23,
     "metadata": {},
     "output_type": "execute_result"
    }
   ],
   "source": [
    "cosmoFM_fid.freeparams"
   ]
  },
  {
   "cell_type": "code",
   "execution_count": 24,
   "metadata": {},
   "outputs": [],
   "source": [
    "for par in prior_dict.keys():\n",
    "    if par in cosmoFM_fid.freeparams.keys():\n",
    "        dist_prior = (prior_dict[par][0], prior_dict[par][1])\n",
    "        if re.match(r'b\\d+', par):\n",
    "            prior_withnuis.add_parameter(par, dist_prior)\n",
    "        elif re.search(r'IA', par):\n",
    "            prior_withnuis.add_parameter(par, dist_prior)\n",
    "        else:\n",
    "            prior_nonuis.add_parameter(par, dist_prior)\n",
    "            prior_withnuis.add_parameter(par, dist_prior)"
   ]
  },
  {
   "cell_type": "code",
   "execution_count": 25,
   "metadata": {},
   "outputs": [
    {
     "name": "stdout",
     "output_type": "stream",
     "text": [
      "['Omegam', 'Omegab', 'h', 'ns', 'sigma8']\n",
      "['Omegam', 'Omegab', 'h', 'ns', 'sigma8', 'b1', 'b2', 'b3', 'b4', 'b5', 'b6', 'b7', 'b8', 'b9', 'b10']\n"
     ]
    }
   ],
   "source": [
    "print(prior_nonuis.keys)\n",
    "print(prior_withnuis.keys)"
   ]
  },
  {
   "cell_type": "code",
   "execution_count": 26,
   "metadata": {},
   "outputs": [],
   "source": [
    "use_nuisance = True"
   ]
  },
  {
   "cell_type": "code",
   "execution_count": 27,
   "metadata": {},
   "outputs": [
    {
     "name": "stdout",
     "output_type": "stream",
     "text": [
      "Loading prior with keys:  ['Omegam', 'Omegab', 'h', 'ns', 'sigma8', 'b1', 'b2', 'b3', 'b4', 'b5', 'b6', 'b7', 'b8', 'b9', 'b10']\n"
     ]
    }
   ],
   "source": [
    "if use_nuisance: \n",
    "    prior_chosen = prior_withnuis\n",
    "else:\n",
    "    prior_chosen = prior_nonuis\n",
    "print(\"Loading prior with keys: \", prior_chosen.keys)"
   ]
  },
  {
   "cell_type": "code",
   "execution_count": 28,
   "metadata": {},
   "outputs": [
    {
     "name": "stdout",
     "output_type": "stream",
     "text": [
      "Starting sampler at 2025-09-29 13:00:47\n"
     ]
    }
   ],
   "source": [
    "tini = time.time()\n",
    "print(\"Starting sampler at\", time.strftime('%Y-%m-%d %H:%M:%S', time.localtime(tini)))"
   ]
  },
  {
   "cell_type": "code",
   "execution_count": 29,
   "metadata": {},
   "outputs": [
    {
     "name": "stdout",
     "output_type": "stream",
     "text": [
      "Starting the nautilus sampler...\n",
      "Please report issues at github.com/johannesulf/nautilus.\n",
      "Status    | Bounds | Ellipses | Networks | Calls    | f_live | N_eff | log Z    \n",
      "Computing | 10     | 1        | 8        | 12800    | 1.0000 | 1     | -7351.37 \r"
     ]
    },
    {
     "name": "stderr",
     "output_type": "stream",
     "text": [
      "Process ForkPoolWorker-7:\n",
      "Process ForkPoolWorker-8:\n",
      "Process ForkPoolWorker-2:\n",
      "Process ForkPoolWorker-5:\n",
      "Process ForkPoolWorker-1:\n",
      "Process ForkPoolWorker-3:\n",
      "Process ForkPoolWorker-4:\n",
      "Process ForkPoolWorker-6:\n",
      "Traceback (most recent call last):\n",
      "Traceback (most recent call last):\n",
      "Traceback (most recent call last):\n",
      "Traceback (most recent call last):\n",
      "Traceback (most recent call last):\n",
      "  File \"/home/casas/miniforge3/lib/python3.12/multiprocessing/process.py\", line 314, in _bootstrap\n",
      "    self.run()\n",
      "  File \"/home/casas/miniforge3/lib/python3.12/multiprocessing/process.py\", line 314, in _bootstrap\n",
      "    self.run()\n",
      "Traceback (most recent call last):\n",
      "  File \"/home/casas/miniforge3/lib/python3.12/multiprocessing/process.py\", line 314, in _bootstrap\n",
      "    self.run()\n",
      "Traceback (most recent call last):\n",
      "  File \"/home/casas/miniforge3/lib/python3.12/multiprocessing/process.py\", line 108, in run\n",
      "    self._target(*self._args, **self._kwargs)\n",
      "  File \"/home/casas/miniforge3/lib/python3.12/multiprocessing/process.py\", line 314, in _bootstrap\n",
      "    self.run()\n",
      "  File \"/home/casas/miniforge3/lib/python3.12/multiprocessing/process.py\", line 108, in run\n",
      "    self._target(*self._args, **self._kwargs)\n",
      "  File \"/home/casas/miniforge3/lib/python3.12/multiprocessing/process.py\", line 314, in _bootstrap\n",
      "    self.run()\n",
      "  File \"/home/casas/miniforge3/lib/python3.12/multiprocessing/process.py\", line 108, in run\n",
      "    self._target(*self._args, **self._kwargs)\n",
      "  File \"/home/casas/miniforge3/lib/python3.12/multiprocessing/process.py\", line 314, in _bootstrap\n",
      "    self.run()\n",
      "Traceback (most recent call last):\n",
      "  File \"/home/casas/miniforge3/lib/python3.12/multiprocessing/pool.py\", line 125, in worker\n",
      "    result = (True, func(*args, **kwds))\n",
      "                    ^^^^^^^^^^^^^^^^^^^\n",
      "  File \"/home/casas/miniforge3/lib/python3.12/multiprocessing/pool.py\", line 125, in worker\n",
      "    result = (True, func(*args, **kwds))\n",
      "                    ^^^^^^^^^^^^^^^^^^^\n",
      "  File \"/home/casas/miniforge3/lib/python3.12/multiprocessing/process.py\", line 108, in run\n",
      "    self._target(*self._args, **self._kwargs)\n",
      "  File \"/home/casas/miniforge3/lib/python3.12/multiprocessing/process.py\", line 314, in _bootstrap\n",
      "    self.run()\n",
      "  File \"/home/casas/miniforge3/lib/python3.12/multiprocessing/process.py\", line 108, in run\n",
      "    self._target(*self._args, **self._kwargs)\n",
      "  File \"/home/casas/miniforge3/lib/python3.12/multiprocessing/process.py\", line 108, in run\n",
      "    self._target(*self._args, **self._kwargs)\n",
      "  File \"/home/casas/miniforge3/lib/python3.12/multiprocessing/pool.py\", line 48, in mapstar\n",
      "    return list(map(*args))\n",
      "           ^^^^^^^^^^^^^^^^\n",
      "  File \"/home/casas/miniforge3/lib/python3.12/multiprocessing/pool.py\", line 125, in worker\n",
      "    result = (True, func(*args, **kwds))\n",
      "                    ^^^^^^^^^^^^^^^^^^^\n",
      "  File \"/home/casas/miniforge3/lib/python3.12/multiprocessing/pool.py\", line 48, in mapstar\n",
      "    return list(map(*args))\n",
      "           ^^^^^^^^^^^^^^^^\n",
      "  File \"/home/casas/miniforge3/lib/python3.12/multiprocessing/process.py\", line 108, in run\n",
      "    self._target(*self._args, **self._kwargs)\n",
      "  File \"/home/casas/miniforge3/lib/python3.12/multiprocessing/process.py\", line 314, in _bootstrap\n",
      "    self.run()\n",
      "  File \"/home/casas/miniforge3/lib/python3.12/multiprocessing/pool.py\", line 125, in worker\n",
      "    result = (True, func(*args, **kwds))\n",
      "                    ^^^^^^^^^^^^^^^^^^^\n",
      "  File \"/home/casas/miniforge3/lib/python3.12/multiprocessing/pool.py\", line 125, in worker\n",
      "    result = (True, func(*args, **kwds))\n",
      "                    ^^^^^^^^^^^^^^^^^^^\n",
      "  File \"/home/casas/miniforge3/lib/python3.12/multiprocessing/pool.py\", line 48, in mapstar\n",
      "    return list(map(*args))\n",
      "           ^^^^^^^^^^^^^^^^\n",
      "  File \"/home/casas/Cosmo/.cfpenv/lib/python3.12/site-packages/nautilus/pool.py\", line 33, in likelihood_worker\n",
      "    return LIKELIHOOD(*args)\n",
      "           ^^^^^^^^^^^^^^^^^\n",
      "  File \"/home/casas/Cosmo/.cfpenv/lib/python3.12/site-packages/nautilus/pool.py\", line 33, in likelihood_worker\n",
      "    return LIKELIHOOD(*args)\n",
      "           ^^^^^^^^^^^^^^^^^\n",
      "  File \"/home/casas/miniforge3/lib/python3.12/multiprocessing/pool.py\", line 125, in worker\n",
      "    result = (True, func(*args, **kwds))\n",
      "                    ^^^^^^^^^^^^^^^^^^^\n",
      "  File \"/home/casas/miniforge3/lib/python3.12/multiprocessing/pool.py\", line 125, in worker\n",
      "    result = (True, func(*args, **kwds))\n",
      "                    ^^^^^^^^^^^^^^^^^^^\n",
      "  File \"/home/casas/miniforge3/lib/python3.12/multiprocessing/pool.py\", line 48, in mapstar\n",
      "    return list(map(*args))\n",
      "           ^^^^^^^^^^^^^^^^\n",
      "  File \"/home/casas/miniforge3/lib/python3.12/multiprocessing/process.py\", line 108, in run\n",
      "    self._target(*self._args, **self._kwargs)\n",
      "  File \"/home/casas/miniforge3/lib/python3.12/multiprocessing/pool.py\", line 48, in mapstar\n",
      "    return list(map(*args))\n",
      "           ^^^^^^^^^^^^^^^^\n",
      "  File \"/home/casas/Cosmo/cosmicfishpie/cosmicfishpie/likelihood/base.py\", line 83, in loglike\n",
      "    The theory prediction in the same format as the observed data\n",
      "             ^^^^^^^^^^^^^^^^^^^^^^^^^^^\n",
      "  File \"/home/casas/Cosmo/cosmicfishpie/cosmicfishpie/likelihood/base.py\", line 83, in loglike\n",
      "    The theory prediction in the same format as the observed data\n",
      "             ^^^^^^^^^^^^^^^^^^^^^^^^^^^\n",
      "  File \"/home/casas/miniforge3/lib/python3.12/multiprocessing/pool.py\", line 48, in mapstar\n",
      "    return list(map(*args))\n",
      "           ^^^^^^^^^^^^^^^^\n",
      "  File \"/home/casas/Cosmo/.cfpenv/lib/python3.12/site-packages/nautilus/pool.py\", line 33, in likelihood_worker\n",
      "    return LIKELIHOOD(*args)\n",
      "           ^^^^^^^^^^^^^^^^^\n",
      "  File \"/home/casas/Cosmo/.cfpenv/lib/python3.12/site-packages/nautilus/pool.py\", line 33, in likelihood_worker\n",
      "    return LIKELIHOOD(*args)\n",
      "           ^^^^^^^^^^^^^^^^^\n",
      "  File \"/home/casas/miniforge3/lib/python3.12/multiprocessing/pool.py\", line 125, in worker\n",
      "    result = (True, func(*args, **kwds))\n",
      "                    ^^^^^^^^^^^^^^^^^^^\n",
      "  File \"/home/casas/Cosmo/cosmicfishpie/cosmicfishpie/likelihood/photo_like.py\", line 167, in compute_theory\n",
      "    photo_cls = pobs.ComputeCls(\n",
      "                ^^^^^^^^^^^^^^^^\n",
      "  File \"/home/casas/Cosmo/cosmicfishpie/cosmicfishpie/likelihood/photo_like.py\", line 174, in compute_theory\n",
      "    return _cells_from_cls(photo_cls, self.photo_cov_data, self.observables)\n",
      "           ^^^^^^^^^^^^^^^^^^^^^^^^^^^^^^^^^^^^^^^^^^^^^^^^^^^^^^^^^^^^^^^^^\n",
      "  File \"/home/casas/Cosmo/.cfpenv/lib/python3.12/site-packages/nautilus/pool.py\", line 33, in likelihood_worker\n",
      "    return LIKELIHOOD(*args)\n",
      "           ^^^^^^^^^^^^^^^^^\n",
      "  File \"/home/casas/Cosmo/cosmicfishpie/cosmicfishpie/likelihood/base.py\", line 83, in loglike\n",
      "    The theory prediction in the same format as the observed data\n",
      "             ^^^^^^^^^^^^^^^^^^^^^^^^^^^\n",
      "  File \"/home/casas/Cosmo/.cfpenv/lib/python3.12/site-packages/nautilus/pool.py\", line 33, in likelihood_worker\n",
      "    return LIKELIHOOD(*args)\n",
      "           ^^^^^^^^^^^^^^^^^\n",
      "  File \"/home/casas/Cosmo/cosmicfishpie/cosmicfishpie/likelihood/base.py\", line 83, in loglike\n",
      "    The theory prediction in the same format as the observed data\n",
      "             ^^^^^^^^^^^^^^^^^^^^^^^^^^^\n",
      "  File \"/home/casas/Cosmo/cosmicfishpie/cosmicfishpie/LSSsurvey/photo_obs.py\", line 209, in __init__\n",
      "    self.window = photo_window.GalaxyPhotoDist(self.photopars)\n",
      "                  ^^^^^^^^^^^^^^^^^^^^^^^^^^^^^^^^^^^^^^^^^^^^\n",
      "  File \"/home/casas/miniforge3/lib/python3.12/multiprocessing/pool.py\", line 48, in mapstar\n",
      "    return list(map(*args))\n",
      "           ^^^^^^^^^^^^^^^^\n",
      "  File \"/home/casas/Cosmo/cosmicfishpie/cosmicfishpie/likelihood/photo_like.py\", line 34, in _cells_from_cls\n",
      "    photo_cls.compute_all()\n",
      "  File \"/home/casas/Cosmo/cosmicfishpie/cosmicfishpie/likelihood/base.py\", line 83, in loglike\n",
      "    The theory prediction in the same format as the observed data\n",
      "             ^^^^^^^^^^^^^^^^^^^^^^^^^^^\n",
      "  File \"/home/casas/Cosmo/cosmicfishpie/cosmicfishpie/likelihood/photo_like.py\", line 174, in compute_theory\n",
      "    return _cells_from_cls(photo_cls, self.photo_cov_data, self.observables)\n",
      "           ^^^^^^^^^^^^^^^^^^^^^^^^^^^^^^^^^^^^^^^^^^^^^^^^^^^^^^^^^^^^^^^^^\n",
      "  File \"/home/casas/Cosmo/.cfpenv/lib/python3.12/site-packages/nautilus/pool.py\", line 33, in likelihood_worker\n",
      "    return LIKELIHOOD(*args)\n",
      "           ^^^^^^^^^^^^^^^^^\n",
      "  File \"/home/casas/Cosmo/cosmicfishpie/cosmicfishpie/likelihood/base.py\", line 83, in loglike\n",
      "    The theory prediction in the same format as the observed data\n",
      "             ^^^^^^^^^^^^^^^^^^^^^^^^^^^\n",
      "  File \"/home/casas/Cosmo/cosmicfishpie/cosmicfishpie/LSSsurvey/photo_window.py\", line 57, in __init__\n",
      "    self.normalization = {\"GCph\": self.norm(\"GCph\"), \"WL\": self.norm(\"WL\")}\n",
      "                                  ^^^^^^^^^^^^^^^^^\n",
      "  File \"/home/casas/Cosmo/cosmicfishpie/cosmicfishpie/LSSsurvey/photo_obs.py\", line 276, in compute_all\n",
      "    self.P_limber()\n",
      "  File \"/home/casas/Cosmo/cosmicfishpie/cosmicfishpie/likelihood/photo_like.py\", line 167, in compute_theory\n",
      "    photo_cls = pobs.ComputeCls(\n",
      "                ^^^^^^^^^^^^^^^^\n",
      "  File \"/home/casas/miniforge3/lib/python3.12/multiprocessing/pool.py\", line 48, in mapstar\n",
      "    return list(map(*args))\n",
      "           ^^^^^^^^^^^^^^^^\n",
      "  File \"/home/casas/Cosmo/cosmicfishpie/cosmicfishpie/likelihood/photo_like.py\", line 167, in compute_theory\n",
      "    photo_cls = pobs.ComputeCls(\n",
      "                ^^^^^^^^^^^^^^^^\n",
      "  File \"/home/casas/Cosmo/cosmicfishpie/cosmicfishpie/likelihood/photo_like.py\", line 34, in _cells_from_cls\n",
      "    photo_cls.compute_all()\n",
      "  File \"/home/casas/Cosmo/cosmicfishpie/cosmicfishpie/likelihood/base.py\", line 83, in loglike\n",
      "    The theory prediction in the same format as the observed data\n",
      "             ^^^^^^^^^^^^^^^^^^^^^^^^^^^\n",
      "  File \"/home/casas/Cosmo/cosmicfishpie/cosmicfishpie/LSSsurvey/photo_window.py\", line 213, in norm\n",
      "    trapezoid([self.ngal_photoz(z, i, obs) for z in zint], dx=dz)\n",
      "               ^^^^^^^^^^^^^^^^^^^^^^^^^^^\n",
      "  File \"/home/casas/Cosmo/cosmicfishpie/cosmicfishpie/likelihood/photo_like.py\", line 174, in compute_theory\n",
      "    return _cells_from_cls(photo_cls, self.photo_cov_data, self.observables)\n",
      "           ^^^^^^^^^^^^^^^^^^^^^^^^^^^^^^^^^^^^^^^^^^^^^^^^^^^^^^^^^^^^^^^^^\n",
      "  File \"/home/casas/Cosmo/.cfpenv/lib/python3.12/site-packages/nautilus/pool.py\", line 33, in likelihood_worker\n",
      "    return LIKELIHOOD(*args)\n",
      "           ^^^^^^^^^^^^^^^^^\n",
      "  File \"/home/casas/Cosmo/cosmicfishpie/cosmicfishpie/LSSsurvey/photo_obs.py\", line 358, in P_limber\n",
      "    * self.cosmo.matpow(\n",
      "      ^^^^^^^^^^^^^^^^^^\n",
      "  File \"/home/casas/Cosmo/cosmicfishpie/cosmicfishpie/LSSsurvey/photo_obs.py\", line 165, in __init__\n",
      "    self.cosmo = cosmology.cosmo_functions(cosmopars, cfg.input_type)\n",
      "                 ^^^^^^^^^^^^^^^^^^^^^^^^^^^^^^^^^^^^^^^^^^^^^^^^^^^^\n",
      "  File \"/home/casas/Cosmo/cosmicfishpie/cosmicfishpie/LSSsurvey/photo_obs.py\", line 277, in compute_all\n",
      "    self.sqrtP_limber()\n",
      "  File \"/home/casas/Cosmo/cosmicfishpie/cosmicfishpie/LSSsurvey/photo_obs.py\", line 165, in __init__\n",
      "    self.cosmo = cosmology.cosmo_functions(cosmopars, cfg.input_type)\n",
      "                 ^^^^^^^^^^^^^^^^^^^^^^^^^^^^^^^^^^^^^^^^^^^^^^^^^^^^\n",
      "  File \"/home/casas/Cosmo/cosmicfishpie/cosmicfishpie/LSSsurvey/photo_window.py\", line 157, in ngal_photoz\n",
      "    (np.sqrt(1 / 2) * (z - self.photo[\"zo\"] - self.photo[\"co\"] * z_bins[i]))\n",
      "     ^^^^^^^^^^^^^^\n",
      "  File \"/home/casas/Cosmo/cosmicfishpie/cosmicfishpie/cosmology/cosmology.py\", line 1562, in __init__\n",
      "    symbresults = boltzmann_code(cosmopars, code=\"symbolic\")\n",
      "                  ^^^^^^^^^^^^^^^^^^^^^^^^^^^^^^^^^^^^^^^^^^\n",
      "  File \"/home/casas/Cosmo/cosmicfishpie/cosmicfishpie/cosmology/cosmology.py\", line 1637, in matpow\n",
      "    def matpow(self, z, k, nonlinear=False, tracer=\"matter\"):\n",
      "    \n",
      "  File \"/home/casas/Cosmo/cosmicfishpie/cosmicfishpie/likelihood/photo_like.py\", line 174, in compute_theory\n",
      "    return _cells_from_cls(photo_cls, self.photo_cov_data, self.observables)\n",
      "           ^^^^^^^^^^^^^^^^^^^^^^^^^^^^^^^^^^^^^^^^^^^^^^^^^^^^^^^^^^^^^^^^^\n",
      "  File \"/home/casas/Cosmo/cosmicfishpie/cosmicfishpie/likelihood/base.py\", line 83, in loglike\n",
      "    The theory prediction in the same format as the observed data\n",
      "             ^^^^^^^^^^^^^^^^^^^^^^^^^^^\n",
      "  File \"/home/casas/Cosmo/cosmicfishpie/cosmicfishpie/likelihood/photo_like.py\", line 34, in _cells_from_cls\n",
      "    photo_cls.compute_all()\n",
      "KeyboardInterrupt\n",
      "  File \"/home/casas/Cosmo/cosmicfishpie/cosmicfishpie/LSSsurvey/photo_obs.py\", line 277, in compute_all\n",
      "    self.sqrtP_limber()\n",
      "  File \"/home/casas/Cosmo/cosmicfishpie/cosmicfishpie/cosmology/cosmology.py\", line 1562, in __init__\n",
      "    symbresults = boltzmann_code(cosmopars, code=\"symbolic\")\n",
      "                  ^^^^^^^^^^^^^^^^^^^^^^^^^^^^^^^^^^^^^^^^^^\n",
      "  File \"/home/casas/Cosmo/cosmicfishpie/cosmicfishpie/likelihood/photo_like.py\", line 34, in _cells_from_cls\n",
      "    photo_cls.compute_all()\n",
      "  File \"/home/casas/Cosmo/cosmicfishpie/cosmicfishpie/cosmology/cosmology.py\", line 158, in __init__\n",
      "    self.symbolic_results()\n",
      "  File \"/home/casas/Cosmo/cosmicfishpie/cosmicfishpie/likelihood/photo_like.py\", line 167, in compute_theory\n",
      "    photo_cls = pobs.ComputeCls(\n",
      "                ^^^^^^^^^^^^^^^^\n",
      "  File \"/home/casas/Cosmo/cosmicfishpie/cosmicfishpie/LSSsurvey/photo_obs.py\", line 397, in sqrtP_limber\n",
      "    self.cosmo.SigmaMG(self.z[zin], kappa[ell, zin])\n",
      "KeyboardInterrupt\n",
      "  File \"/home/casas/Cosmo/cosmicfishpie/cosmicfishpie/LSSsurvey/photo_obs.py\", line 301, in compute_all\n",
      "    self.result = self.computecls_vectorized()\n",
      "                  ^^^^^^^^^^^^^^^^^^^^^^^^^^^^\n",
      "  File \"/home/casas/Cosmo/cosmicfishpie/cosmicfishpie/cosmology/cosmology.py\", line 1934, in SigmaMG\n",
      "    def SigmaMG(self, z, k):\n",
      "    \n",
      "  File \"/home/casas/Cosmo/cosmicfishpie/cosmicfishpie/LSSsurvey/photo_obs.py\", line 399, in sqrtP_limber\n",
      "    self.cosmo.matpow(\n",
      "  File \"/home/casas/Cosmo/cosmicfishpie/cosmicfishpie/utilities/utils.py\", line 85, in wrapper\n",
      "    return func(*args, **kwargs)\n",
      "           ^^^^^^^^^^^^^^^^^^^^^\n",
      "  File \"/home/casas/Cosmo/cosmicfishpie/cosmicfishpie/LSSsurvey/photo_obs.py\", line 165, in __init__\n",
      "    self.cosmo = cosmology.cosmo_functions(cosmopars, cfg.input_type)\n",
      "                 ^^^^^^^^^^^^^^^^^^^^^^^^^^^^^^^^^^^^^^^^^^^^^^^^^^^^\n",
      "  File \"/home/casas/Cosmo/cosmicfishpie/cosmicfishpie/cosmology/cosmology.py\", line 158, in __init__\n",
      "    self.symbolic_results()\n",
      "  File \"/home/casas/Cosmo/cosmicfishpie/cosmicfishpie/LSSsurvey/photo_obs.py\", line 730, in computecls_vectorized\n",
      "    hub = self.cosmo.Hubble(self.z)\n",
      "          ^^^^^^^^^^^^^^^^^^^^^^^^^\n",
      "KeyboardInterrupt\n",
      "  File \"/home/casas/Cosmo/cosmicfishpie/cosmicfishpie/cosmology/cosmology.py\", line 1092, in symbolic_results\n",
      "    D_kz = np.array([self.symbcosmo.growthFactor(self.zgrid) for kk in self.kgrid_1Mpc]).T\n",
      "                     ^^^^^^^^^^^^^^^^^^^^^^^^^^^^^^^^^^^^^^^\n",
      "  File \"/home/casas/Cosmo/cosmicfishpie/cosmicfishpie/cosmology/cosmology.py\", line 1562, in __init__\n",
      "    symbresults = boltzmann_code(cosmopars, code=\"symbolic\")\n",
      "                  ^^^^^^^^^^^^^^^^^^^^^^^^^^^^^^^^^^^^^^^^^^\n",
      "  File \"/home/casas/Cosmo/cosmicfishpie/cosmicfishpie/cosmology/cosmology.py\", line 1675, in matpow\n",
      "    return self.Pmm(z, k, nonlinear=nonlinear)\n",
      "           ^^^^^^^^^^^^^^^^^^^^^^^^^^^^^^^^^^^\n",
      "  File \"/home/casas/Cosmo/cosmicfishpie/cosmicfishpie/utilities/utils.py\", line 85, in wrapper\n",
      "    return func(*args, **kwargs)\n",
      "           ^^^^^^^^^^^^^^^^^^^^^\n",
      "  File \"/home/casas/Cosmo/cosmicfishpie/cosmicfishpie/cosmology/cosmology.py\", line 1592, in Hubble\n",
      "    hubble = prefactor * self.results.h_of_z(z)\n",
      "                         ^^^^^^^^^^^^^^^^^^^^^^\n",
      "  File \"/home/casas/Cosmo/.cfpenv/lib/python3.12/site-packages/colossus/cosmology/cosmology.py\", line 2077, in growthFactor\n",
      "    D = self._zFunction('lnzp1_growthfactor', self._growthFactorExact, z, derivative = derivative,\n",
      "        ^^^^^^^^^^^^^^^^^^^^^^^^^^^^^^^^^^^^^^^^^^^^^^^^^^^^^^^^^^^^^^^^^^^^^^^^^^^^^^^^^^^^^^^^^^\n",
      "  File \"/home/casas/Cosmo/cosmicfishpie/cosmicfishpie/cosmology/cosmology.py\", line 158, in __init__\n",
      "    self.symbolic_results()\n",
      "  File \"/home/casas/Cosmo/cosmicfishpie/cosmicfishpie/cosmology/cosmology.py\", line 1135, in symbolic_results\n",
      "    Pk_nl = vectorized_run_halofit(self.zgrid)\n",
      "            ^^^^^^^^^^^^^^^^^^^^^^^^^^^^^^^^^^\n",
      "  File \"/home/casas/Cosmo/cosmicfishpie/cosmicfishpie/cosmology/cosmology.py\", line 1691, in Pmm\n",
      "    power = self.results.Pk_nl(z, k, grid=False)\n",
      "            ^^^^^^^^^^^^^^^^^^^^^^^^^^^^^^^^^^^^\n",
      "  File \"/home/casas/Cosmo/.cfpenv/lib/python3.12/site-packages/colossus/cosmology/cosmology.py\", line 1123, in _zFunction\n",
      "    ret = interpolator(x, nu = derivative)\n",
      "          ^^^^^^^^^^^^^^^^^^^^^^^^^^^^^^^^\n",
      "  File \"/home/casas/Cosmo/.cfpenv/lib/python3.12/site-packages/numpy/lib/_function_base_impl.py\", line 2544, in __call__\n",
      "    return self._call_as_normal(*args, **kwargs)\n",
      "           ^^^^^^^^^^^^^^^^^^^^^^^^^^^^^^^^^^^^^\n",
      "  File \"/home/casas/Cosmo/cosmicfishpie/cosmicfishpie/utilities/utils.py\", line 85, in wrapper\n",
      "    return func(*args, **kwargs)\n",
      "           ^^^^^^^^^^^^^^^^^^^^^\n",
      "  File \"/home/casas/Cosmo/.cfpenv/lib/python3.12/site-packages/numpy/lib/_function_base_impl.py\", line 2544, in __call__\n",
      "    return self._call_as_normal(*args, **kwargs)\n",
      "           ^^^^^^^^^^^^^^^^^^^^^^^^^^^^^^^^^^^^^\n",
      "  File \"/home/casas/Cosmo/.cfpenv/lib/python3.12/site-packages/scipy/interpolate/_fitpack2.py\", line 974, in __call__\n",
      "    def __call__(self, x, y, dx=0, dy=0, grid=True):\n",
      "    \n",
      "  File \"/home/casas/Cosmo/.cfpenv/lib/python3.12/site-packages/numpy/lib/_function_base_impl.py\", line 2537, in _call_as_normal\n",
      "    return self._vectorize_call(func=func, args=vargs)\n",
      "           ^^^^^^^^^^^^^^^^^^^^^^^^^^^^^^^^^^^^^^^^^^^\n",
      "  File \"/home/casas/Cosmo/cosmicfishpie/cosmicfishpie/cosmology/cosmology.py\", line 1135, in symbolic_results\n",
      "    Pk_nl = vectorized_run_halofit(self.zgrid)\n",
      "            ^^^^^^^^^^^^^^^^^^^^^^^^^^^^^^^^^^\n",
      "  File \"/home/casas/Cosmo/.cfpenv/lib/python3.12/site-packages/scipy/interpolate/_fitpack2.py\", line 369, in __call__\n",
      "    def __call__(self, x, nu=0, ext=None):\n",
      "    \n",
      "  File \"/home/casas/Cosmo/.cfpenv/lib/python3.12/site-packages/numpy/lib/_function_base_impl.py\", line 2537, in _call_as_normal\n",
      "    return self._vectorize_call(func=func, args=vargs)\n",
      "           ^^^^^^^^^^^^^^^^^^^^^^^^^^^^^^^^^^^^^^^^^^^\n",
      "KeyboardInterrupt\n",
      "  File \"/home/casas/Cosmo/.cfpenv/lib/python3.12/site-packages/numpy/lib/_function_base_impl.py\", line 2544, in __call__\n",
      "    return self._call_as_normal(*args, **kwargs)\n",
      "           ^^^^^^^^^^^^^^^^^^^^^^^^^^^^^^^^^^^^^\n",
      "  File \"/home/casas/Cosmo/.cfpenv/lib/python3.12/site-packages/numpy/lib/_function_base_impl.py\", line 2625, in _vectorize_call\n",
      "    outputs = ufunc(*args, out=...)\n",
      "              ^^^^^^^^^^^^^^^^^^^^^\n",
      "KeyboardInterrupt\n",
      "  File \"/home/casas/Cosmo/.cfpenv/lib/python3.12/site-packages/numpy/lib/_function_base_impl.py\", line 2618, in _vectorize_call\n",
      "    res = self._vectorize_call_with_signature(func, args)\n",
      "          ^^^^^^^^^^^^^^^^^^^^^^^^^^^^^^^^^^^^^^^^^^^^^^^\n",
      "  File \"/home/casas/Cosmo/cosmicfishpie/cosmicfishpie/cosmology/cosmology.py\", line 1081, in <lambda>\n",
      "    lambda zz: self.symbcosmo.Hz(zz) / cosmo_functions.c\n",
      "               ^^^^^^^^^^^^^^^^^^^^^\n",
      "  File \"/home/casas/Cosmo/.cfpenv/lib/python3.12/site-packages/numpy/lib/_function_base_impl.py\", line 2537, in _call_as_normal\n",
      "    return self._vectorize_call(func=func, args=vargs)\n",
      "           ^^^^^^^^^^^^^^^^^^^^^^^^^^^^^^^^^^^^^^^^^^^\n",
      "  File \"/home/casas/Cosmo/.cfpenv/lib/python3.12/site-packages/numpy/lib/_function_base_impl.py\", line 2656, in _vectorize_call_with_signature\n",
      "    results = func(*(arg[index] for arg in args))\n",
      "              ^^^^^^^^^^^^^^^^^^^^^^^^^^^^^^^^^^^\n",
      "  File \"/home/casas/Cosmo/.cfpenv/lib/python3.12/site-packages/numpy/lib/_function_base_impl.py\", line 2618, in _vectorize_call\n",
      "    res = self._vectorize_call_with_signature(func, args)\n",
      "          ^^^^^^^^^^^^^^^^^^^^^^^^^^^^^^^^^^^^^^^^^^^^^^^\n",
      "  File \"/home/casas/Cosmo/.cfpenv/lib/python3.12/site-packages/colossus/cosmology/cosmology.py\", line 927, in Hz\n",
      "    H = self.Ez(z) * self.H0\n",
      "        ^^^^^^^^^^\n",
      "  File \"/home/casas/Cosmo/cosmicfishpie/cosmicfishpie/cosmology/cosmology.py\", line 1119, in vectorized_halofit\n",
      "    return ((1 / self.h_now) ** 3) * self.symbfit.run_halofit(\n",
      "                                     ^^^^^^^^^^^^^^^^^^^^^^^^^\n",
      "  File \"/home/casas/Cosmo/.cfpenv/lib/python3.12/site-packages/colossus/cosmology/cosmology.py\", line 899, in Ez\n",
      "    if np.any(t_array < 0.0):\n",
      "       ^^^^^^^^^^^^^^^^^^^^^\n",
      "  File \"/home/casas/Cosmo/.cfpenv/lib/python3.12/site-packages/numpy/lib/_function_base_impl.py\", line 2656, in _vectorize_call_with_signature\n",
      "    results = func(*(arg[index] for arg in args))\n",
      "              ^^^^^^^^^^^^^^^^^^^^^^^^^^^^^^^^^^^\n",
      "  File \"/home/casas/Cosmo/.cfpenv/lib/python3.12/site-packages/symbolic_pofk/syrenhalofit.py\", line 201, in run_halofit\n",
      "    plin = linear.plin_emulated(\n",
      "           ^^^^^^^^^^^^^^^^^^^^^\n",
      "  File \"/home/casas/Cosmo/.cfpenv/lib/python3.12/site-packages/numpy/_core/fromnumeric.py\", line 2580, in any\n",
      "    return _wrapreduction_any_all(a, np.logical_or, 'any', axis, out,\n",
      "           ^^^^^^^^^^^^^^^^^^^^^^^^^^^^^^^^^^^^^^^^^^^^^^^^^^^^^^^^^^\n",
      "  File \"/home/casas/Cosmo/cosmicfishpie/cosmicfishpie/cosmology/cosmology.py\", line 1119, in vectorized_halofit\n",
      "    return ((1 / self.h_now) ** 3) * self.symbfit.run_halofit(\n",
      "                                     ^^^^^^^^^^^^^^^^^^^^^^^^^\n",
      "  File \"/home/casas/Cosmo/.cfpenv/lib/python3.12/site-packages/symbolic_pofk/linear.py\", line 383, in plin_emulated\n",
      "    D = cosmo.growthFactor(1/a - 1)\n",
      "        ^^^^^^^^^^^^^^^^^^^^^^^^^^^\n",
      "  File \"/home/casas/Cosmo/.cfpenv/lib/python3.12/site-packages/symbolic_pofk/syrenhalofit.py\", line 201, in run_halofit\n",
      "    plin = linear.plin_emulated(\n",
      "           ^^^^^^^^^^^^^^^^^^^^^\n",
      "  File \"/home/casas/Cosmo/.cfpenv/lib/python3.12/site-packages/numpy/_core/fromnumeric.py\", line 102, in _wrapreduction_any_all\n",
      "    return ufunc.reduce(obj, axis, bool, out, **passkwargs)\n",
      "           ^^^^^^^^^^^^^^^^^^^^^^^^^^^^^^^^^^^^^^^^^^^^^^^^\n",
      "  File \"/home/casas/Cosmo/.cfpenv/lib/python3.12/site-packages/symbolic_pofk/linear.py\", line 383, in plin_emulated\n",
      "    D = cosmo.growthFactor(1/a - 1)\n",
      "        ^^^^^^^^^^^^^^^^^^^^^^^^^^^\n",
      "KeyboardInterrupt\n",
      "  File \"/home/casas/Cosmo/.cfpenv/lib/python3.12/site-packages/colossus/cosmology/cosmology.py\", line 2077, in growthFactor\n",
      "    D = self._zFunction('lnzp1_growthfactor', self._growthFactorExact, z, derivative = derivative,\n",
      "        ^^^^^^^^^^^^^^^^^^^^^^^^^^^^^^^^^^^^^^^^^^^^^^^^^^^^^^^^^^^^^^^^^^^^^^^^^^^^^^^^^^^^^^^^^^\n",
      "  File \"/home/casas/Cosmo/.cfpenv/lib/python3.12/site-packages/colossus/cosmology/cosmology.py\", line 2077, in growthFactor\n",
      "    D = self._zFunction('lnzp1_growthfactor', self._growthFactorExact, z, derivative = derivative,\n",
      "        ^^^^^^^^^^^^^^^^^^^^^^^^^^^^^^^^^^^^^^^^^^^^^^^^^^^^^^^^^^^^^^^^^^^^^^^^^^^^^^^^^^^^^^^^^^\n",
      "  File \"/home/casas/Cosmo/.cfpenv/lib/python3.12/site-packages/colossus/cosmology/cosmology.py\", line 1077, in _zFunction\n",
      "    interpolator = self._zInterpolator(table_name, func, inverse = inverse, future = future)\n",
      "                   ^^^^^^^^^^^^^^^^^^^^^^^^^^^^^^^^^^^^^^^^^^^^^^^^^^^^^^^^^^^^^^^^^^^^^^^^^\n",
      "  File \"/home/casas/Cosmo/.cfpenv/lib/python3.12/site-packages/colossus/cosmology/cosmology.py\", line 1077, in _zFunction\n",
      "    interpolator = self._zInterpolator(table_name, func, inverse = inverse, future = future)\n",
      "                   ^^^^^^^^^^^^^^^^^^^^^^^^^^^^^^^^^^^^^^^^^^^^^^^^^^^^^^^^^^^^^^^^^^^^^^^^^\n",
      "  File \"/home/casas/Cosmo/.cfpenv/lib/python3.12/site-packages/colossus/cosmology/cosmology.py\", line 1028, in _zInterpolator\n",
      "    def _zInterpolator(self, table_name, func, inverse = False, future = True):\n",
      "    \n",
      "  File \"/home/casas/Cosmo/.cfpenv/lib/python3.12/site-packages/colossus/cosmology/cosmology.py\", line 1044, in _zInterpolator\n",
      "    x_table = func(z_table)\n",
      "              ^^^^^^^^^^^^^\n",
      "KeyboardInterrupt\n",
      "  File \"/home/casas/Cosmo/.cfpenv/lib/python3.12/site-packages/colossus/cosmology/cosmology.py\", line 2035, in _growthFactorExact\n",
      "    D = self.growthFactorUnnormalized(z) / self.growthFactorUnnormalized(0.0)\n",
      "        ^^^^^^^^^^^^^^^^^^^^^^^^^^^^^^^^\n",
      "  File \"/home/casas/Cosmo/.cfpenv/lib/python3.12/site-packages/colossus/cosmology/cosmology.py\", line 2003, in growthFactorUnnormalized\n",
      "    D[mask1] = 5.0 / 2.0 * self.Om0 * Ez_D(z1) * self._integral(integrand, z1, np.inf)\n",
      "                                                 ^^^^^^^^^^^^^^^^^^^^^^^^^^^^^^^^^^^^^\n",
      "  File \"/home/casas/Cosmo/.cfpenv/lib/python3.12/site-packages/colossus/cosmology/cosmology.py\", line 996, in _integral\n",
      "    integ[i], _ = scipy.integrate.quad(integrand, z_min_use[i], z_max_use[i])\n",
      "                  ^^^^^^^^^^^^^^^^^^^^^^^^^^^^^^^^^^^^^^^^^^^^^^^^^^^^^^^^^^^\n",
      "  File \"/home/casas/Cosmo/.cfpenv/lib/python3.12/site-packages/scipy/integrate/_quadpack_py.py\", line 460, in quad\n",
      "    retval = _quad(func, a, b, args, full_output, epsabs, epsrel, limit,\n",
      "             ^^^^^^^^^^^^^^^^^^^^^^^^^^^^^^^^^^^^^^^^^^^^^^^^^^^^^^^^^^^\n",
      "  File \"/home/casas/Cosmo/.cfpenv/lib/python3.12/site-packages/scipy/integrate/_quadpack_py.py\", line 609, in _quad\n",
      "    return _quadpack._qagie(func, bound, infbounds, args, full_output,\n",
      "          ^^^^^^^^^^^^^^^^^^^^^^^^^^^^^^^^^^^^^^^^^^^^^^^^^^^^^^^^^^^\n",
      "  File \"/home/casas/Cosmo/.cfpenv/lib/python3.12/site-packages/colossus/cosmology/cosmology.py\", line 1920, in integrand\n",
      "    def integrand(z):\n",
      "    \n",
      "KeyboardInterrupt\n"
     ]
    },
    {
     "ename": "KeyboardInterrupt",
     "evalue": "",
     "output_type": "error",
     "traceback": [
      "\u001b[0;31m---------------------------------------------------------------------------\u001b[0m",
      "\u001b[0;31mKeyboardInterrupt\u001b[0m                         Traceback (most recent call last)",
      "Cell \u001b[0;32mIn[29], line 12\u001b[0m\n\u001b[1;32m      1\u001b[0m sampler \u001b[38;5;241m=\u001b[39m Sampler(prior_chosen, \n\u001b[1;32m      2\u001b[0m                           photo_like\u001b[38;5;241m.\u001b[39mloglike, \n\u001b[1;32m      3\u001b[0m                           n_live\u001b[38;5;241m=\u001b[39msampler_settings[\u001b[38;5;124m\"\u001b[39m\u001b[38;5;124mn_live\u001b[39m\u001b[38;5;124m\"\u001b[39m], \n\u001b[0;32m   (...)\u001b[0m\n\u001b[1;32m     10\u001b[0m                           likelihood_kwargs\u001b[38;5;241m=\u001b[39m{\u001b[38;5;124m'\u001b[39m\u001b[38;5;124mprior\u001b[39m\u001b[38;5;124m'\u001b[39m: prior_chosen}\n\u001b[1;32m     11\u001b[0m                           )\n\u001b[0;32m---> 12\u001b[0m \u001b[43msampler\u001b[49m\u001b[38;5;241;43m.\u001b[39;49m\u001b[43mrun\u001b[49m\u001b[43m(\u001b[49m\u001b[43mverbose\u001b[49m\u001b[38;5;241;43m=\u001b[39;49m\u001b[38;5;28;43;01mTrue\u001b[39;49;00m\u001b[43m,\u001b[49m\u001b[43m \u001b[49m\u001b[43mdiscard_exploration\u001b[49m\u001b[38;5;241;43m=\u001b[39;49m\u001b[38;5;28;43;01mTrue\u001b[39;49;00m\u001b[43m)\u001b[49m\n\u001b[1;32m     13\u001b[0m log_z_all \u001b[38;5;241m=\u001b[39m sampler\u001b[38;5;241m.\u001b[39mevidence()\n\u001b[1;32m     14\u001b[0m \u001b[38;5;28mprint\u001b[39m(\u001b[38;5;124m'\u001b[39m\u001b[38;5;124mEvidence:\u001b[39m\u001b[38;5;124m'\u001b[39m, log_z_all)\n",
      "File \u001b[0;32m~/Cosmo/.cfpenv/lib/python3.12/site-packages/nautilus/sampler.py:441\u001b[0m, in \u001b[0;36mSampler.run\u001b[0;34m(self, f_live, n_shell, n_eff, n_like_max, discard_exploration, timeout, verbose)\u001b[0m\n\u001b[1;32m    438\u001b[0m     \u001b[38;5;28;01mif\u001b[39;00m \u001b[38;5;28mself\u001b[39m\u001b[38;5;241m.\u001b[39mfilepath \u001b[38;5;129;01mis\u001b[39;00m \u001b[38;5;129;01mnot\u001b[39;00m \u001b[38;5;28;01mNone\u001b[39;00m:\n\u001b[1;32m    439\u001b[0m         \u001b[38;5;28mself\u001b[39m\u001b[38;5;241m.\u001b[39mwrite(\u001b[38;5;28mself\u001b[39m\u001b[38;5;241m.\u001b[39mfilepath, overwrite\u001b[38;5;241m=\u001b[39m\u001b[38;5;28;01mTrue\u001b[39;00m)\n\u001b[0;32m--> 441\u001b[0m \u001b[38;5;28mself\u001b[39m\u001b[38;5;241m.\u001b[39mn_update_iter \u001b[38;5;241m+\u001b[39m\u001b[38;5;241m=\u001b[39m \u001b[38;5;28;43mself\u001b[39;49m\u001b[38;5;241;43m.\u001b[39;49m\u001b[43madd_samples\u001b[49m\u001b[43m(\u001b[49m\u001b[38;5;241;43m-\u001b[39;49m\u001b[38;5;241;43m1\u001b[39;49m\u001b[43m,\u001b[49m\u001b[43m \u001b[49m\u001b[43mverbose\u001b[49m\u001b[38;5;241;43m=\u001b[39;49m\u001b[43mverbose\u001b[49m\u001b[43m)\u001b[49m\n\u001b[1;32m    442\u001b[0m \u001b[38;5;28mself\u001b[39m\u001b[38;5;241m.\u001b[39mn_like_iter \u001b[38;5;241m+\u001b[39m\u001b[38;5;241m=\u001b[39m \u001b[38;5;28mself\u001b[39m\u001b[38;5;241m.\u001b[39mn_batch\n\u001b[1;32m    443\u001b[0m \u001b[38;5;28;01mif\u001b[39;00m \u001b[38;5;28mself\u001b[39m\u001b[38;5;241m.\u001b[39mfilepath \u001b[38;5;129;01mis\u001b[39;00m \u001b[38;5;129;01mnot\u001b[39;00m \u001b[38;5;28;01mNone\u001b[39;00m:\n\u001b[1;32m    444\u001b[0m     \u001b[38;5;66;03m# Write the complete file if this is the first batch.\u001b[39;00m\n",
      "File \u001b[0;32m~/Cosmo/.cfpenv/lib/python3.12/site-packages/nautilus/sampler.py:1119\u001b[0m, in \u001b[0;36mSampler.add_samples\u001b[0;34m(self, shell, verbose)\u001b[0m\n\u001b[1;32m   1116\u001b[0m         \u001b[38;5;28mself\u001b[39m\u001b[38;5;241m.\u001b[39mprint_status(\u001b[38;5;124m'\u001b[39m\u001b[38;5;124mComputing\u001b[39m\u001b[38;5;124m'\u001b[39m, end\u001b[38;5;241m=\u001b[39m\u001b[38;5;124m'\u001b[39m\u001b[38;5;130;01m\\r\u001b[39;00m\u001b[38;5;124m'\u001b[39m)\n\u001b[1;32m   1118\u001b[0m \u001b[38;5;28mself\u001b[39m\u001b[38;5;241m.\u001b[39mshell_n_sample[shell] \u001b[38;5;241m+\u001b[39m\u001b[38;5;241m=\u001b[39m n_bound\n\u001b[0;32m-> 1119\u001b[0m log_l, blobs \u001b[38;5;241m=\u001b[39m \u001b[38;5;28;43mself\u001b[39;49m\u001b[38;5;241;43m.\u001b[39;49m\u001b[43mevaluate_likelihood\u001b[49m\u001b[43m(\u001b[49m\u001b[43mpoints\u001b[49m\u001b[43m)\u001b[49m\n\u001b[1;32m   1120\u001b[0m \u001b[38;5;28mself\u001b[39m\u001b[38;5;241m.\u001b[39mpoints[shell] \u001b[38;5;241m=\u001b[39m np\u001b[38;5;241m.\u001b[39mappend(\u001b[38;5;28mself\u001b[39m\u001b[38;5;241m.\u001b[39mpoints[shell], points, axis\u001b[38;5;241m=\u001b[39m\u001b[38;5;241m0\u001b[39m)\n\u001b[1;32m   1121\u001b[0m \u001b[38;5;28mself\u001b[39m\u001b[38;5;241m.\u001b[39mlog_l[shell] \u001b[38;5;241m=\u001b[39m np\u001b[38;5;241m.\u001b[39mappend(\u001b[38;5;28mself\u001b[39m\u001b[38;5;241m.\u001b[39mlog_l[shell], log_l, axis\u001b[38;5;241m=\u001b[39m\u001b[38;5;241m0\u001b[39m)\n",
      "File \u001b[0;32m~/Cosmo/.cfpenv/lib/python3.12/site-packages/nautilus/sampler.py:869\u001b[0m, in \u001b[0;36mSampler.evaluate_likelihood\u001b[0;34m(self, points)\u001b[0m\n\u001b[1;32m    867\u001b[0m         result \u001b[38;5;241m=\u001b[39m \u001b[38;5;28mlist\u001b[39m(\u001b[38;5;28mzip\u001b[39m(\u001b[38;5;241m*\u001b[39mresult))\n\u001b[1;32m    868\u001b[0m \u001b[38;5;28;01melif\u001b[39;00m \u001b[38;5;28mself\u001b[39m\u001b[38;5;241m.\u001b[39mpool_l \u001b[38;5;129;01mis\u001b[39;00m \u001b[38;5;129;01mnot\u001b[39;00m \u001b[38;5;28;01mNone\u001b[39;00m:\n\u001b[0;32m--> 869\u001b[0m     result \u001b[38;5;241m=\u001b[39m \u001b[38;5;28mlist\u001b[39m(\u001b[38;5;28;43mself\u001b[39;49m\u001b[38;5;241;43m.\u001b[39;49m\u001b[43mpool_l\u001b[49m\u001b[38;5;241;43m.\u001b[39;49m\u001b[43mmap\u001b[49m\u001b[43m(\u001b[49m\u001b[38;5;28;43mself\u001b[39;49m\u001b[38;5;241;43m.\u001b[39;49m\u001b[43mlikelihood\u001b[49m\u001b[43m,\u001b[49m\u001b[43m \u001b[49m\u001b[43margs\u001b[49m\u001b[43m)\u001b[49m)\n\u001b[1;32m    870\u001b[0m \u001b[38;5;28;01melse\u001b[39;00m:\n\u001b[1;32m    871\u001b[0m     result \u001b[38;5;241m=\u001b[39m \u001b[38;5;28mlist\u001b[39m(\u001b[38;5;28mmap\u001b[39m(\u001b[38;5;28mself\u001b[39m\u001b[38;5;241m.\u001b[39mlikelihood, args))\n",
      "File \u001b[0;32m~/Cosmo/.cfpenv/lib/python3.12/site-packages/nautilus/pool.py:85\u001b[0m, in \u001b[0;36mNautilusPool.map\u001b[0;34m(self, func, iterable)\u001b[0m\n\u001b[1;32m     83\u001b[0m     \u001b[38;5;28;01mreturn\u001b[39;00m \u001b[38;5;28mlist\u001b[39m(\u001b[38;5;28mself\u001b[39m\u001b[38;5;241m.\u001b[39mpool\u001b[38;5;241m.\u001b[39mgather(\u001b[38;5;28mself\u001b[39m\u001b[38;5;241m.\u001b[39mpool\u001b[38;5;241m.\u001b[39mmap(func, iterable)))\n\u001b[1;32m     84\u001b[0m \u001b[38;5;28;01melse\u001b[39;00m:\n\u001b[0;32m---> 85\u001b[0m     \u001b[38;5;28;01mreturn\u001b[39;00m \u001b[38;5;28mlist\u001b[39m(\u001b[38;5;28;43mself\u001b[39;49m\u001b[38;5;241;43m.\u001b[39;49m\u001b[43mpool\u001b[49m\u001b[38;5;241;43m.\u001b[39;49m\u001b[43mmap\u001b[49m\u001b[43m(\u001b[49m\u001b[43mfunc\u001b[49m\u001b[43m,\u001b[49m\u001b[43m \u001b[49m\u001b[43miterable\u001b[49m\u001b[43m)\u001b[49m)\n",
      "File \u001b[0;32m~/miniforge3/lib/python3.12/multiprocessing/pool.py:367\u001b[0m, in \u001b[0;36mPool.map\u001b[0;34m(self, func, iterable, chunksize)\u001b[0m\n\u001b[1;32m    362\u001b[0m \u001b[38;5;28;01mdef\u001b[39;00m\u001b[38;5;250m \u001b[39m\u001b[38;5;21mmap\u001b[39m(\u001b[38;5;28mself\u001b[39m, func, iterable, chunksize\u001b[38;5;241m=\u001b[39m\u001b[38;5;28;01mNone\u001b[39;00m):\n\u001b[1;32m    363\u001b[0m \u001b[38;5;250m    \u001b[39m\u001b[38;5;124;03m'''\u001b[39;00m\n\u001b[1;32m    364\u001b[0m \u001b[38;5;124;03m    Apply `func` to each element in `iterable`, collecting the results\u001b[39;00m\n\u001b[1;32m    365\u001b[0m \u001b[38;5;124;03m    in a list that is returned.\u001b[39;00m\n\u001b[1;32m    366\u001b[0m \u001b[38;5;124;03m    '''\u001b[39;00m\n\u001b[0;32m--> 367\u001b[0m     \u001b[38;5;28;01mreturn\u001b[39;00m \u001b[38;5;28;43mself\u001b[39;49m\u001b[38;5;241;43m.\u001b[39;49m\u001b[43m_map_async\u001b[49m\u001b[43m(\u001b[49m\u001b[43mfunc\u001b[49m\u001b[43m,\u001b[49m\u001b[43m \u001b[49m\u001b[43miterable\u001b[49m\u001b[43m,\u001b[49m\u001b[43m \u001b[49m\u001b[43mmapstar\u001b[49m\u001b[43m,\u001b[49m\u001b[43m \u001b[49m\u001b[43mchunksize\u001b[49m\u001b[43m)\u001b[49m\u001b[38;5;241;43m.\u001b[39;49m\u001b[43mget\u001b[49m\u001b[43m(\u001b[49m\u001b[43m)\u001b[49m\n",
      "File \u001b[0;32m~/miniforge3/lib/python3.12/multiprocessing/pool.py:768\u001b[0m, in \u001b[0;36mApplyResult.get\u001b[0;34m(self, timeout)\u001b[0m\n\u001b[1;32m    767\u001b[0m \u001b[38;5;28;01mdef\u001b[39;00m\u001b[38;5;250m \u001b[39m\u001b[38;5;21mget\u001b[39m(\u001b[38;5;28mself\u001b[39m, timeout\u001b[38;5;241m=\u001b[39m\u001b[38;5;28;01mNone\u001b[39;00m):\n\u001b[0;32m--> 768\u001b[0m     \u001b[38;5;28;43mself\u001b[39;49m\u001b[38;5;241;43m.\u001b[39;49m\u001b[43mwait\u001b[49m\u001b[43m(\u001b[49m\u001b[43mtimeout\u001b[49m\u001b[43m)\u001b[49m\n\u001b[1;32m    769\u001b[0m     \u001b[38;5;28;01mif\u001b[39;00m \u001b[38;5;129;01mnot\u001b[39;00m \u001b[38;5;28mself\u001b[39m\u001b[38;5;241m.\u001b[39mready():\n\u001b[1;32m    770\u001b[0m         \u001b[38;5;28;01mraise\u001b[39;00m \u001b[38;5;167;01mTimeoutError\u001b[39;00m\n",
      "File \u001b[0;32m~/miniforge3/lib/python3.12/multiprocessing/pool.py:765\u001b[0m, in \u001b[0;36mApplyResult.wait\u001b[0;34m(self, timeout)\u001b[0m\n\u001b[1;32m    764\u001b[0m \u001b[38;5;28;01mdef\u001b[39;00m\u001b[38;5;250m \u001b[39m\u001b[38;5;21mwait\u001b[39m(\u001b[38;5;28mself\u001b[39m, timeout\u001b[38;5;241m=\u001b[39m\u001b[38;5;28;01mNone\u001b[39;00m):\n\u001b[0;32m--> 765\u001b[0m     \u001b[38;5;28;43mself\u001b[39;49m\u001b[38;5;241;43m.\u001b[39;49m\u001b[43m_event\u001b[49m\u001b[38;5;241;43m.\u001b[39;49m\u001b[43mwait\u001b[49m\u001b[43m(\u001b[49m\u001b[43mtimeout\u001b[49m\u001b[43m)\u001b[49m\n",
      "File \u001b[0;32m~/miniforge3/lib/python3.12/threading.py:655\u001b[0m, in \u001b[0;36mEvent.wait\u001b[0;34m(self, timeout)\u001b[0m\n\u001b[1;32m    653\u001b[0m signaled \u001b[38;5;241m=\u001b[39m \u001b[38;5;28mself\u001b[39m\u001b[38;5;241m.\u001b[39m_flag\n\u001b[1;32m    654\u001b[0m \u001b[38;5;28;01mif\u001b[39;00m \u001b[38;5;129;01mnot\u001b[39;00m signaled:\n\u001b[0;32m--> 655\u001b[0m     signaled \u001b[38;5;241m=\u001b[39m \u001b[38;5;28;43mself\u001b[39;49m\u001b[38;5;241;43m.\u001b[39;49m\u001b[43m_cond\u001b[49m\u001b[38;5;241;43m.\u001b[39;49m\u001b[43mwait\u001b[49m\u001b[43m(\u001b[49m\u001b[43mtimeout\u001b[49m\u001b[43m)\u001b[49m\n\u001b[1;32m    656\u001b[0m \u001b[38;5;28;01mreturn\u001b[39;00m signaled\n",
      "File \u001b[0;32m~/miniforge3/lib/python3.12/threading.py:355\u001b[0m, in \u001b[0;36mCondition.wait\u001b[0;34m(self, timeout)\u001b[0m\n\u001b[1;32m    353\u001b[0m \u001b[38;5;28;01mtry\u001b[39;00m:    \u001b[38;5;66;03m# restore state no matter what (e.g., KeyboardInterrupt)\u001b[39;00m\n\u001b[1;32m    354\u001b[0m     \u001b[38;5;28;01mif\u001b[39;00m timeout \u001b[38;5;129;01mis\u001b[39;00m \u001b[38;5;28;01mNone\u001b[39;00m:\n\u001b[0;32m--> 355\u001b[0m         \u001b[43mwaiter\u001b[49m\u001b[38;5;241;43m.\u001b[39;49m\u001b[43macquire\u001b[49m\u001b[43m(\u001b[49m\u001b[43m)\u001b[49m\n\u001b[1;32m    356\u001b[0m         gotit \u001b[38;5;241m=\u001b[39m \u001b[38;5;28;01mTrue\u001b[39;00m\n\u001b[1;32m    357\u001b[0m     \u001b[38;5;28;01melse\u001b[39;00m:\n",
      "\u001b[0;31mKeyboardInterrupt\u001b[0m: "
     ]
    }
   ],
   "source": [
    "sampler = Sampler(prior_chosen, \n",
    "                          photo_like.loglike, \n",
    "                          n_live=sampler_settings[\"n_live\"], \n",
    "                          n_networks=sampler_settings[\"n_networks\"], \n",
    "                          n_batch=sampler_settings[\"n_batch\"], \n",
    "                          pool=sampler_settings[\"pool\"], \n",
    "                          pass_dict=False,\n",
    "                          filepath=options[\"outroot\"]+\".hdf5\", \n",
    "                          resume=True,\n",
    "                          likelihood_kwargs={'prior': prior_chosen}\n",
    "                          )\n",
    "sampler.run(verbose=True, discard_exploration=True)\n",
    "log_z_all = sampler.evidence()\n",
    "print('Evidence:', log_z_all)\n",
    "points_all, log_w_all, log_l_all = sampler.posterior()"
   ]
  },
  {
   "cell_type": "code",
   "execution_count": null,
   "metadata": {},
   "outputs": [],
   "source": [
    "tfin = time.time()\n",
    "elapsed = tfin - tini\n",
    "hours = int(elapsed // 3600)\n",
    "minutes = int((elapsed % 3600) // 60)\n",
    "seconds = int(elapsed % 60)\n",
    "print(\"Sampler finished at\", time.strftime('%Y-%m-%d %H:%M:%S', time.localtime(tfin)))\n",
    "print(f\"Total time elapsed: {hours:02d}:{minutes:02d}:{seconds:02d}\")"
   ]
  },
  {
   "cell_type": "code",
   "execution_count": null,
   "metadata": {},
   "outputs": [],
   "source": [
    "sample_wghlkl = (np.vstack((points_all.T, np.exp(log_w_all), log_l_all)).T)"
   ]
  },
  {
   "cell_type": "code",
   "execution_count": null,
   "metadata": {},
   "outputs": [],
   "source": [
    "outfile_chain = options[\"outroot\"]+\".txt\"\n",
    "print(f\"Saving chain to text file {outfile_chain}\")"
   ]
  },
  {
   "cell_type": "code",
   "execution_count": null,
   "metadata": {},
   "outputs": [],
   "source": [
    "headerlist = ['loglike', 'weights'] + list(prior_chosen.keys)\n",
    "header = \" \".join(headerlist)\n",
    "print(\"Saving header: \", header)"
   ]
  },
  {
   "cell_type": "code",
   "execution_count": null,
   "metadata": {},
   "outputs": [],
   "source": [
    "np.savetxt(outfile_chain, sample_wghlkl, header=header)"
   ]
  }
 ],
 "metadata": {
  "kernelspec": {
   "display_name": ".cfpenv",
   "language": "python",
   "name": "python3"
  },
  "language_info": {
   "codemirror_mode": {
    "name": "ipython",
    "version": 3
   },
   "file_extension": ".py",
   "mimetype": "text/x-python",
   "name": "python",
   "nbconvert_exporter": "python",
   "pygments_lexer": "ipython3",
   "version": "3.12.11"
  }
 },
 "nbformat": 4,
 "nbformat_minor": 2
}
