{
 "cells": [
  {
   "cell_type": "code",
   "execution_count": null,
   "id": "52f4ef1d",
   "metadata": {},
   "outputs": [],
   "source": [
    "#Importing main module\n",
    "from cosmicfishpie.fishermatrix.cosmicfish import FisherMatrix"
   ]
  },
  {
   "cell_type": "markdown",
   "id": "0873f314",
   "metadata": {},
   "source": [
    "# Choose input parameters"
   ]
  },
  {
   "cell_type": "code",
   "execution_count": null,
   "id": "b01d21f8",
   "metadata": {},
   "outputs": [],
   "source": [
    "#Define the observables you are interested in\n",
    "observables = [['WL'], ['WL', 'GCph']]\n",
    "\n",
    "\n",
    "#Input options for CosmicFish (global options)\n",
    "options = {'accuracy': 1,\n",
    "           'outroot': 'w0waCDM_internal_camb-Euclid-Optimistic_3PT',\n",
    "           'results_dir': 'results/',\n",
    "           'derivatives': '3PT',\n",
    "           'nonlinear': True,\n",
    "           'feedback': 2,\n",
    "           'survey_name': 'Euclid-ISTF-Optimistic',\n",
    "            'specs_dir' : '../survey_specifications/',\n",
    "           'cosmo_model' : 'w0waCDM',\n",
    "           'code': 'camb',\n",
    "           'camb_config_yaml':'../boltzmann_yaml_files/camb/default.yaml'}\n",
    "\n",
    "#Internally Cosmicfish converts these Parameters to the coresponding parameters in CAMB or CLASS \n",
    "fiducial = {\"Omegam\":0.32,\n",
    "            \"Omegab\":0.05,\n",
    "            \"w0\":-1.0,\n",
    "            \"wa\":0.,\n",
    "            \"h\":0.67,\n",
    "            \"ns\":0.96,\n",
    "            \"sigma8\":0.82,\n",
    "            \"mnu\":0.06,\n",
    "            \"Neff\":3.046}\n",
    "\n",
    "#Intrinsic alignment modeling.\n",
    "IApars = {'IA_model': 'eNLA',\n",
    "          'AIA': 1.72,\n",
    "          'betaIA': 2.17,\n",
    "          'etaIA': -0.41}\n",
    "#These are the parameters entering in the photo-z error modeling\n",
    "photopars = {'fout': 0.1,\n",
    "             'co': 1,\n",
    "             'cb': 1,\n",
    "             'sigma_o': 0.05,\n",
    "             'sigma_b': 0.05,\n",
    "             'zo': 0.1,\n",
    "             'zb': 0.}\n",
    "#Parameters to be varied and analyzed and their percentage variation for numerical derivatives\n",
    "# IA params and photometric galaxy bias are added automatically to these parameters\n",
    "freepars = {'Omegam': 0.01,\n",
    "            'Omegab': 0.01,\n",
    "            'w0': 0.01,\n",
    "            'wa': 0.01,\n",
    "            'h': 0.01,\n",
    "            'ns': 0.01,\n",
    "            'sigma8': 0.01}"
   ]
  },
  {
   "cell_type": "code",
   "execution_count": null,
   "id": "d5ce8931",
   "metadata": {
    "scrolled": true
   },
   "outputs": [],
   "source": [
    "FishersList = []\n",
    "for obse in observables:\n",
    "    cosmoFM = FisherMatrix(fiducialpars=fiducial, freepars=freepars, \n",
    "                           options=options,\n",
    "                           photopars=photopars, observables=obse,\n",
    "                           cosmoModel=options['cosmo_model'],\n",
    "                           surveyName=options['survey_name'])\n",
    "\n",
    "    FishersList.append(cosmoFM.compute())"
   ]
  },
  {
   "cell_type": "markdown",
   "id": "e3466e5a",
   "metadata": {},
   "source": [
    "## Loading Fisher Matrices from files"
   ]
  },
  {
   "cell_type": "code",
   "execution_count": null,
   "id": "bcbf11cb",
   "metadata": {},
   "outputs": [],
   "source": [
    "import glob\n",
    "from cosmicfishpie.analysis import fisher_matrix as fm\n",
    "\n",
    "file_list = glob.glob('./results/CosmicFish_v1.0_w0waCDM*internal*camb*Euclid*fishermatrix.txt')\n",
    "print(file_list)"
   ]
  },
  {
   "cell_type": "code",
   "execution_count": null,
   "id": "9679bd56",
   "metadata": {},
   "outputs": [],
   "source": [
    "fisher_list = [fm.fisher_matrix(file_name=ff) for ff in file_list]\n",
    "for fi in fisher_list:\n",
    "    print(fi.name)\n",
    "    print(fi.get_param_names())\n",
    "    print(fi.get_param_fiducial())\n",
    "    print(fi.get_confidence_bounds())"
   ]
  },
  {
   "cell_type": "markdown",
   "id": "d67858de",
   "metadata": {},
   "source": [
    "## Plotting the Fisher matrix"
   ]
  },
  {
   "cell_type": "code",
   "execution_count": null,
   "id": "27af9685",
   "metadata": {},
   "outputs": [],
   "source": [
    "from cosmicfishpie.analysis import colors\n",
    "colorlist = [colors.nice_colors(ii) for ii in range(3)]"
   ]
  },
  {
   "cell_type": "code",
   "execution_count": null,
   "id": "5bc73ab3",
   "metadata": {},
   "outputs": [],
   "source": [
    "from cosmicfishpie.analysis import fisher_plotting as fpp\n",
    "\n",
    "plot_options = {'fishers_list': fisher_list, \n",
    "                'colors': colorlist,\n",
    "                'fish_labels': ['Euclid 3x2pt Photo Opt.', 'Euclid WL Opt.'],\n",
    "                'plot_pars': list(freepars.keys()),\n",
    "                'axis_custom_factors': {'all':7},  ## Axis limits cover 3-sigma bounds of first Fisher matrix\n",
    "                'plot_method': 'Gaussian',\n",
    "                'file_format': '.pdf',   ##file format for all the plots\n",
    "                'outpath' : './plots/',  ## directory where to store the files, if non-existent, it will be created\n",
    "                'outroot':'Euclid-Optimistic_w0waCDM_WL_WLGCphXC'  ## file name root for all the plots, extra names can be added individually\n",
    "                } "
   ]
  },
  {
   "cell_type": "code",
   "execution_count": null,
   "id": "8f60ba99",
   "metadata": {},
   "outputs": [],
   "source": [
    "fish_plotter = fpp.fisher_plotting(**plot_options)\n",
    "fish_plotter.plot_fisher(filled=[True, False])"
   ]
  }
 ],
 "metadata": {
  "hide_input": false,
  "kernelspec": {
   "display_name": "Python 3 (ipykernel)",
   "language": "python",
   "name": "python3"
  },
  "language_info": {
   "codemirror_mode": {
    "name": "ipython",
    "version": 3
   },
   "file_extension": ".py",
   "mimetype": "text/x-python",
   "name": "python",
   "nbconvert_exporter": "python",
   "pygments_lexer": "ipython3",
   "version": "3.10.13"
  },
  "toc": {
   "base_numbering": 1,
   "nav_menu": {},
   "number_sections": true,
   "sideBar": true,
   "skip_h1_title": false,
   "title_cell": "Table of Contents",
   "title_sidebar": "Contents",
   "toc_cell": false,
   "toc_position": {},
   "toc_section_display": true,
   "toc_window_display": false
  }
 },
 "nbformat": 4,
 "nbformat_minor": 5
}
