{
 "cells": [
  {
   "cell_type": "code",
   "execution_count": 1,
   "metadata": {},
   "outputs": [],
   "source": [
    "import seaborn as sns\n",
    "import numpy as np\n",
    "import logging\n",
    "from itertools import product\n",
    "from copy import deepcopy, copy\n",
    "from collections.abc import Sequence"
   ]
  },
  {
   "cell_type": "code",
   "execution_count": 2,
   "metadata": {},
   "outputs": [],
   "source": [
    "from cosmicfishpie.fishermatrix import cosmicfish\n",
    "from cosmicfishpie.LSSsurvey import photo_obs as pobs\n",
    "from cosmicfishpie.LSSsurvey import photo_cov as pcov\n",
    "from cosmicfishpie.utilities.utils import printing as upr\n",
    "from nautilus import Prior\n",
    "from nautilus import Sampler\n",
    "import re\n",
    "import time"
   ]
  },
  {
   "cell_type": "code",
   "execution_count": 3,
   "metadata": {},
   "outputs": [],
   "source": [
    "snscolors = sns.color_palette(\"colorblind\")\n",
    "def is_indexable_iterable(var):\n",
    "    return isinstance(var, (list, np.ndarray, Sequence)) and not isinstance(var, (str, bytes))\n"
   ]
  },
  {
   "cell_type": "code",
   "execution_count": 4,
   "metadata": {},
   "outputs": [],
   "source": [
    "logger = logging.getLogger(\"cosmicfishpie.cosmology.nuisance\")\n",
    "logger.setLevel(logging.INFO)"
   ]
  },
  {
   "cell_type": "code",
   "execution_count": 5,
   "metadata": {},
   "outputs": [],
   "source": [
    "upr.debug = False"
   ]
  },
  {
   "cell_type": "code",
   "execution_count": 6,
   "metadata": {},
   "outputs": [],
   "source": [
    "upr.debug_print(\"test\")"
   ]
  },
  {
   "cell_type": "code",
   "execution_count": 7,
   "metadata": {},
   "outputs": [],
   "source": [
    "outroot = \"cosmicjellyfish_Euclid-ISTF-Pess-GCphoto_symb_withnuis\""
   ]
  },
  {
   "cell_type": "code",
   "execution_count": 8,
   "metadata": {},
   "outputs": [],
   "source": [
    "sampler_settings = {\n",
    "    \"n_live\": 2000,\n",
    "    \"n_networks\": 16,\n",
    "    \"n_batch\": 256,\n",
    "    \"pool\": 8,\n",
    "}"
   ]
  },
  {
   "cell_type": "code",
   "execution_count": 9,
   "metadata": {},
   "outputs": [],
   "source": [
    "fiducial = {\n",
    "    \"Omegam\": 0.3145714273,\n",
    "    \"Omegab\": 0.0491989,\n",
    "    \"h\": 0.6737,\n",
    "    \"ns\": 0.96605,\n",
    "    \"sigma8\": 0.81,\n",
    "    \"w0\": -1.0,\n",
    "    \"wa\": 0.0,\n",
    "    \"mnu\": 0.06,\n",
    "    \"Neff\": 3.044,\n",
    "}\n",
    "observables = ['GCph']"
   ]
  },
  {
   "cell_type": "code",
   "execution_count": 10,
   "metadata": {},
   "outputs": [
    {
     "name": "stdout",
     "output_type": "stream",
     "text": [
      "****************************************************************\n",
      "   _____               _     _____     __  \n",
      "  / ___/__  ___ __ _  (_)___/ __(_)__ / /  \n",
      " / /__/ _ \\(_-</  ' \\/ / __/ _// (_-</ _ \\ \n",
      " \\___/\\___/___/_/_/_/_/\\__/_/ /_/___/_//_/ \n",
      "\n",
      "****************************************************************\n",
      " This is the new Python version of the CosmicFish code.\n",
      "****************************************************************\n",
      "\n",
      "  -> Survey loaded:  Euclid-Photometric-ISTF-Pessimistic\n",
      "\n",
      "  -> Computing cosmology at the fiducial point\n",
      "\n",
      "  ---> Cosmological functions obtained in:   0.14 s\n"
     ]
    }
   ],
   "source": [
    "options = {\n",
    "    \"accuracy\": 1,\n",
    "    \"feedback\": 1,\n",
    "    \"code\": \"symbolic\",\n",
    "    \"outroot\": outroot,\n",
    "    \"survey_name\": \"Euclid\",\n",
    "    \"survey_name_photo\": \"Euclid-Photometric-ISTF-Pessimistic\",\n",
    "    \"survey_name_spectro\": False,\n",
    "    \"specs_dir\": \"../cosmicfishpie/configs/default_survey_specifications/\",\n",
    "    \"cosmo_model\": \"LCDM\",\n",
    "}\n",
    "cosmoFM_fid = cosmicfish.FisherMatrix(\n",
    "    fiducialpars=fiducial,\n",
    "    options=options,\n",
    "    observables=observables,\n",
    "    cosmoModel=options[\"cosmo_model\"],\n",
    "    surveyName=options[\"survey_name\"],\n",
    ")"
   ]
  },
  {
   "cell_type": "code",
   "execution_count": 11,
   "metadata": {},
   "outputs": [
    {
     "data": {
      "text/plain": [
       "{'IA_model': 'eNLA', 'AIA': 1.72, 'betaIA': 2.17, 'etaIA': -0.41}"
      ]
     },
     "execution_count": 11,
     "metadata": {},
     "output_type": "execute_result"
    }
   ],
   "source": [
    "cosmoFM_fid.IApars"
   ]
  },
  {
   "cell_type": "code",
   "execution_count": 12,
   "metadata": {},
   "outputs": [],
   "source": [
    "photo_fid = pobs.ComputeCls(cosmopars=cosmoFM_fid.fiducialcosmopars,\n",
    "                            photopars=cosmoFM_fid.photopars,\n",
    "                            IApars=cosmoFM_fid.IApars,\n",
    "                            biaspars=cosmoFM_fid.photobiaspars)\n",
    "\n",
    "photo_fid.compute_all()\n",
    "\n",
    "photo_cov_fid = pcov.PhotoCov(cosmopars=cosmoFM_fid.fiducialcosmopars,\n",
    "    photopars=cosmoFM_fid.photopars,\n",
    "    IApars=cosmoFM_fid.IApars,\n",
    "    biaspars=cosmoFM_fid.photobiaspars,\n",
    "    fiducial_Cls=photo_fid)"
   ]
  },
  {
   "cell_type": "code",
   "execution_count": 13,
   "metadata": {},
   "outputs": [
    {
     "data": {
      "text/plain": [
       "{'Omegam': 0.3145714273,\n",
       " 'Omegab': 0.0491989,\n",
       " 'h': 0.6737,\n",
       " 'ns': 0.96605,\n",
       " 'sigma8': 0.81,\n",
       " 'w0': -1.0,\n",
       " 'wa': 0.0,\n",
       " 'mnu': 0.06,\n",
       " 'Neff': 3.044,\n",
       " 'IA_model': 'eNLA',\n",
       " 'AIA': 1.72,\n",
       " 'betaIA': 2.17,\n",
       " 'etaIA': -0.41,\n",
       " 'bias_model': 'binned',\n",
       " 'b1': 1.0997727037892875,\n",
       " 'b2': 1.220245876862528,\n",
       " 'b3': 1.2723993083933989,\n",
       " 'b4': 1.316624471897739,\n",
       " 'b5': 1.35812370570578,\n",
       " 'b6': 1.3998214171814918,\n",
       " 'b7': 1.4446452851824907,\n",
       " 'b8': 1.4964959071110084,\n",
       " 'b9': 1.5652475842498528,\n",
       " 'b10': 1.7429859437184225,\n",
       " 'fout': 0.1,\n",
       " 'co': 1,\n",
       " 'cb': 1,\n",
       " 'sigma_o': 0.05,\n",
       " 'sigma_b': 0.05,\n",
       " 'zo': 0.1,\n",
       " 'zb': 0.0}"
      ]
     },
     "execution_count": 13,
     "metadata": {},
     "output_type": "execute_result"
    }
   ],
   "source": [
    "photo_cov_fid.allparsfid"
   ]
  },
  {
   "cell_type": "code",
   "execution_count": 14,
   "metadata": {},
   "outputs": [
    {
     "name": "stdout",
     "output_type": "stream",
     "text": [
      "range(1, 11)\n",
      "range(1, 11)\n",
      "[35454308.58012683 35454308.58012683 35454308.58012683 35454308.58012683\n",
      " 35454308.58012683 35454308.58012683 35454308.58012683 35454308.58012683\n",
      " 35454308.58012683 35454308.58012683]\n",
      "[35454308.58012683 35454308.58012683 35454308.58012683 35454308.58012683\n",
      " 35454308.58012683 35454308.58012683 35454308.58012683 35454308.58012683\n",
      " 35454308.58012683 35454308.58012683]\n"
     ]
    }
   ],
   "source": [
    "print(photo_fid.binrange_WL)\n",
    "print(photo_fid.binrange_GCph)\n",
    "print(photo_cov_fid.ngalbin_WL)\n",
    "print(photo_cov_fid.ngalbin_GCph)"
   ]
  },
  {
   "cell_type": "code",
   "execution_count": 15,
   "metadata": {},
   "outputs": [],
   "source": [
    "def observable_Cell(photo_th: pobs.ComputeCls):\n",
    "    photo_th.compute_all()\n",
    "    binrange_GCph = photo_th.binrange_GCph\n",
    "    binrange_WL = photo_th.binrange_WL\n",
    "    nbin_GCph = len(binrange_GCph)\n",
    "    nbin_WL = len(binrange_WL)\n",
    "\n",
    "    ells = photo_th.result[\"ells\"]\n",
    "    output = dict(ells=ells)\n",
    "\n",
    "    observables = photo_th.observables\n",
    "    if \"WL\" in observables:\n",
    "        Cell_LL = np.empty((len(ells), nbin_WL, nbin_WL), dtype=np.float64)\n",
    "    if \"GCph\" in observables:\n",
    "        Cell_GG = np.empty((len(ells), nbin_GCph, nbin_GCph), dtype=np.float64)\n",
    "    if \"WL\" in observables and \"GCph\" in observables:\n",
    "        Cell_GL = np.empty((len(ells), nbin_GCph, nbin_WL), dtype=np.float64)\n",
    "\n",
    "    for i,j in product(binrange_WL, binrange_GCph):\n",
    "\n",
    "        if \"WL\" in observables:\n",
    "            Cell_LL[:,i-1,j-1] = (photo_th.result[\"WL {}xWL {}\".format(i,j)]\n",
    "                                  + np.eye(nbin_WL)[i-1,j-1]\n",
    "                                  * photo_cov_fid.ellipt_error**2.0 / photo_cov_fid.ngalbin_WL[i-1]\n",
    "                                  )\n",
    "\n",
    "        if \"GCph\" in observables:\n",
    "            Cell_GG[:,i-1,j-1] = (photo_th.result[\"GCph {}xGCph {}\".format(i,j)]\n",
    "                                  + np.eye(nbin_GCph)[i-1,j-1]\n",
    "                                  * 1 / photo_cov_fid.ngalbin_GCph[i-1]\n",
    "                                  )\n",
    "\n",
    "        if \"WL\" in observables and \"GCph\" in observables:\n",
    "            Cell_GL[:,i-1,j-1] = photo_th.result[\"GCph {}xWL {}\".format(i,j)]\n",
    "\n",
    "    if \"WL\" in observables:\n",
    "        output[\"Cell_LL\"] = Cell_LL\n",
    "    if \"GCph\" in observables:\n",
    "        output[\"Cell_GG\"] = Cell_GG\n",
    "    if \"WL\" in observables and \"GCph\" in observables:\n",
    "        output[\"Cell_GL\"] = Cell_GL\n",
    "\n",
    "    return output"
   ]
  },
  {
   "cell_type": "code",
   "execution_count": 16,
   "metadata": {},
   "outputs": [
    {
     "name": "stdout",
     "output_type": "stream",
     "text": [
      "dict_keys(['ells', 'Cell_GG'])\n"
     ]
    }
   ],
   "source": [
    "Cells_fid = observable_Cell(photo_fid)\n",
    "print(Cells_fid.keys())"
   ]
  },
  {
   "cell_type": "code",
   "execution_count": 17,
   "metadata": {},
   "outputs": [],
   "source": [
    "#print(Cells_fid[\"Cell_LL\"].shape)\n",
    "#print(Cells_fid[\"Cell_GG\"].shape)\n",
    "#print(Cells_fid[\"Cell_GL\"].shape)"
   ]
  },
  {
   "cell_type": "code",
   "execution_count": 18,
   "metadata": {},
   "outputs": [
    {
     "name": "stdout",
     "output_type": "stream",
     "text": [
      "10\n"
     ]
    }
   ],
   "source": [
    "ellmax_WL = cosmoFM_fid.specs[\"lmax_WL\"]\n",
    "ellmax_GC = cosmoFM_fid.specs[\"lmax_GCph\"]\n",
    "ellmax_XC = np.minimum(ellmax_GC,ellmax_WL)\n",
    "nbins_Glob = min(len(list(photo_fid.binrange_WL)), len(list(photo_fid.binrange_GCph)))\n",
    "print(nbins_Glob)"
   ]
  },
  {
   "cell_type": "code",
   "execution_count": 19,
   "metadata": {},
   "outputs": [],
   "source": [
    "def compute_chi2_per_obs(Cell_fid, Cell_th, ells, dells):\n",
    "\n",
    "    dfid = np.linalg.det(Cell_fid)\n",
    "    dth = np.linalg.det(Cell_th)\n",
    "\n",
    "    nells = len(ells)\n",
    "    _, _, nbin = Cell_fid.shape\n",
    "\n",
    "    dmix = 0\n",
    "    for i in range(nbin):\n",
    "        Cth_mix = copy(Cell_th)\n",
    "        Cth_mix[:,i,:] = Cell_fid[:,i,:]\n",
    "        dmix += np.linalg.det(Cth_mix)\n",
    "\n",
    "    ingrd = (\n",
    "        (2*ells+1)\n",
    "        *(\n",
    "        dmix[:nells]/dth[:nells]\n",
    "        + np.log(dth[:nells]/dfid[:nells])\n",
    "        - nbin)\n",
    "    )\n",
    "    ingrd = [*((ingrd[1:]+ingrd[:-1])/2 * dells[:-1]), ingrd[-1]*dells[-1]]\n",
    "\n",
    "    chi2 = np.sum(ingrd)\n",
    "    return chi2"
   ]
  },
  {
   "cell_type": "code",
   "execution_count": 20,
   "metadata": {},
   "outputs": [],
   "source": [
    "def compute_chi2(Cells_fid, Cells_th):\n",
    "    \"\"\"\n",
    "    Compute χ² for wedges using fully vectorized operations.\n",
    "    Matches the loop implementation exactly.\n",
    "\n",
    "    Parameters:\n",
    "    ----------\n",
    "    Cells_fid: Dict\n",
    "\n",
    "    Cells_th: Dict\n",
    "\n",
    "    Returns:\n",
    "    -------\n",
    "    float\n",
    "        χ² value\n",
    "    \"\"\"\n",
    "    chi2 = 0\n",
    "    ells = Cells_fid[\"ells\"]\n",
    "\n",
    "    if \"WL\" in observables and not \"GCph\" in observables:\n",
    "        Cells_WL_th = Cells_th[\"Cell_LL\"]\n",
    "        Cells_WL_fid = Cells_fid[\"Cell_LL\"]\n",
    "\n",
    "        iWL = np.searchsorted(ells, ellmax_WL)\n",
    "        ells_WL = np.insert(ells, iWL, ellmax_WL)\n",
    "        Dl_WL = np.diff(ells_WL)[:iWL]\n",
    "        ells_WL = ells_WL[:iWL]\n",
    "\n",
    "        \n",
    "        chi2 += (\n",
    "            photo_cov_fid.fsky_WL\n",
    "            * compute_chi2_per_obs(Cells_WL_fid, Cells_WL_th, ells_WL, Dl_WL)\n",
    "        )\n",
    "\n",
    "    if \"GCph\" in observables and not \"WL\" in observables:\n",
    "        Cells_GC_th = Cells_th[\"Cell_GG\"]\n",
    "        Cells_GC_fid = Cells_fid[\"Cell_GG\"]\n",
    "\n",
    "        iGC = np.searchsorted(ells, ellmax_GC)\n",
    "        ells_GC = np.insert(ells, iGC, ellmax_GC)\n",
    "        Dl_GC = np.diff(ells_GC)[:iGC]\n",
    "        ells_GC = ells_GC[:iGC]\n",
    "\n",
    "        chi2 += (photo_cov_fid.fsky_GCph\n",
    "                 * compute_chi2_per_obs(Cells_GC_fid, Cells_GC_th, ells_GC, Dl_GC))\n",
    "\n",
    "    if \"GCph\" in observables and \"WL\" in observables:\n",
    "        Cells_XC_th = Cells_th[\"Cell_GL\"]\n",
    "        Cells_XC_fid = Cells_fid[\"Cell_GL\"]\n",
    "        Cells_GC_th = Cells_th[\"Cell_GG\"]\n",
    "        Cells_GC_fid = Cells_fid[\"Cell_GG\"]\n",
    "        Cells_WL_th = Cells_th[\"Cell_LL\"]\n",
    "        Cells_WL_fid = Cells_fid[\"Cell_LL\"]\n",
    "\n",
    "        iGC = np.searchsorted(ells, ellmax_GC)\n",
    "        ells_GC = np.insert(ells, iGC, ellmax_GC)\n",
    "        Dl_GC = np.diff(ells_GC)[:iGC]\n",
    "        ells_GC = ells_GC[:iGC]\n",
    "        iWL = np.searchsorted(ells, ellmax_WL)\n",
    "        ells_WL = np.insert(ells, iWL, ellmax_WL)\n",
    "        Dl_WL = np.diff(ells_WL)[:iWL]\n",
    "        ells_WL = ells_WL[:iWL]\n",
    "        iXC = np.searchsorted(ells, ellmax_XC)\n",
    "        ells_XC = np.insert(ells, iXC, ellmax_XC)\n",
    "        Dl_XC = np.diff(ells_XC)[:iXC]\n",
    "        ells_XC = ells_GC[:iXC]\n",
    "\n",
    "        big_th = np.block([[Cells_WL_th[:iXC],np.transpose(Cells_XC_th,(0,2,1))[:iXC]],\n",
    "                           [Cells_XC_th[:iXC], Cells_GC_th[:iXC]]])\n",
    "        big_fid = np.block([[Cells_WL_fid[:iXC],np.transpose(Cells_XC_fid,(0,2,1))[:iXC]],\n",
    "                           [Cells_XC_fid[:iXC], Cells_GC_fid[:iXC]]])\n",
    "\n",
    "        chi2 += np.sqrt(photo_cov_fid.fsky_WL*photo_cov_fid.fsky_GCph) * compute_chi2_per_obs(big_fid, big_th,ells_XC, Dl_XC)\n",
    "        chi2 += photo_cov_fid.fsky_WL * compute_chi2_per_obs(Cells_WL_fid[:iXC], Cells_WL_th[:iXC],ells_WL[:iXC], Dl_WL[:iXC])\n",
    "\n",
    "    return chi2"
   ]
  },
  {
   "cell_type": "code",
   "execution_count": 21,
   "metadata": {},
   "outputs": [],
   "source": [
    "def loglike(param_vec, prior=None):\n",
    "    \n",
    "    if type(param_vec) == dict:\n",
    "        param_dict = deepcopy(param_vec)\n",
    "    elif is_indexable_iterable(param_vec) and prior is not None:\n",
    "        #print(f'Loading prior with keys: {prior.keys}')\n",
    "        param_dict={key: param_vec[i] for i, key in enumerate(prior.keys)}\n",
    "    \n",
    "    photopars = deepcopy(cosmoFM_fid.photopars)\n",
    "    for ii, pp in enumerate(cosmoFM_fid.photopars.keys()):\n",
    "        photopars[ii] = param_dict.pop(pp, cosmoFM_fid.photopars[pp])\n",
    "    \n",
    "    photobiaspars = deepcopy(cosmoFM_fid.photobiaspars)\n",
    "    for ii, pp in enumerate(cosmoFM_fid.photobiaspars.keys()):\n",
    "        photobiaspars[pp] = param_dict.pop(pp, cosmoFM_fid.photobiaspars[pp])\n",
    "    \n",
    "    IApars = deepcopy(cosmoFM_fid.IApars)\n",
    "    for ii, pp in enumerate(cosmoFM_fid.IApars.keys()):\n",
    "        IApars[pp] = param_dict.pop(pp, cosmoFM_fid.IApars[pp])\n",
    "    \n",
    "    photo_vary = pobs.ComputeCls(\n",
    "        param_dict,\n",
    "        photopars,\n",
    "        IApars,\n",
    "        photobiaspars,\n",
    "        )\n",
    "    Cells_th = observable_Cell(photo_vary)\n",
    "\n",
    "    return -0.5 * compute_chi2(Cells_fid,Cells_th)"
   ]
  },
  {
   "cell_type": "code",
   "execution_count": 22,
   "metadata": {},
   "outputs": [
    {
     "data": {
      "text/plain": [
       "{'Omegam': 0.01,\n",
       " 'Omegab': 0.01,\n",
       " 'h': 0.01,\n",
       " 'ns': 0.01,\n",
       " 'sigma8': 0.01,\n",
       " 'b1': 0.06,\n",
       " 'b2': 0.06,\n",
       " 'b3': 0.06,\n",
       " 'b4': 0.06,\n",
       " 'b5': 0.06,\n",
       " 'b6': 0.06,\n",
       " 'b7': 0.06,\n",
       " 'b8': 0.06,\n",
       " 'b9': 0.06,\n",
       " 'b10': 0.06}"
      ]
     },
     "execution_count": 22,
     "metadata": {},
     "output_type": "execute_result"
    }
   ],
   "source": [
    "cosmoFM_fid.freeparams"
   ]
  },
  {
   "cell_type": "code",
   "execution_count": 23,
   "metadata": {},
   "outputs": [
    {
     "data": {
      "text/plain": [
       "{'Omegam': 0.3145714273,\n",
       " 'Omegab': 0.0491989,\n",
       " 'h': 0.6737,\n",
       " 'ns': 0.96605,\n",
       " 'sigma8': 0.81,\n",
       " 'w0': -1.0,\n",
       " 'wa': 0.0,\n",
       " 'mnu': 0.06,\n",
       " 'Neff': 3.044,\n",
       " 'bias_model': 'binned',\n",
       " 'b1': 1.0997727037892875,\n",
       " 'b2': 1.220245876862528,\n",
       " 'b3': 1.2723993083933989,\n",
       " 'b4': 1.316624471897739,\n",
       " 'b5': 1.35812370570578,\n",
       " 'b6': 1.3998214171814918,\n",
       " 'b7': 1.4446452851824907,\n",
       " 'b8': 1.4964959071110084,\n",
       " 'b9': 1.5652475842498528,\n",
       " 'b10': 1.7429859437184225,\n",
       " 'fout': 0.1,\n",
       " 'co': 1,\n",
       " 'cb': 1,\n",
       " 'sigma_o': 0.05,\n",
       " 'sigma_b': 0.05,\n",
       " 'zo': 0.1,\n",
       " 'zb': 0.0,\n",
       " 'IA_model': 'eNLA',\n",
       " 'AIA': 1.72,\n",
       " 'betaIA': 2.17,\n",
       " 'etaIA': -0.41}"
      ]
     },
     "execution_count": 23,
     "metadata": {},
     "output_type": "execute_result"
    }
   ],
   "source": [
    "cosmoFM_fid.allparams"
   ]
  },
  {
   "cell_type": "code",
   "execution_count": null,
   "metadata": {},
   "outputs": [
    {
     "name": "stdout",
     "output_type": "stream",
     "text": [
      "Sample likelihood 4.038266295364123e-11\n"
     ]
    }
   ],
   "source": [
    "samp1dic = {\n",
    " 'Omegam': 0.3145714273,\n",
    " 'Omegab': 0.0491989,\n",
    " 'h': 0.6737,\n",
    " 'ns': 0.96605,\n",
    " 'sigma8': 0.81,\n",
    " 'w0': -1.0,\n",
    " 'wa': 0.0,\n",
    " 'mnu': 0.06,\n",
    " 'Neff': 3.044,\n",
    " 'bias_model': 'binned',\n",
    " 'b1': 1.0997727037892875,\n",
    " 'b2': 1.220245876862528,\n",
    " 'b3': 1.2723993083933989,\n",
    " 'b4': 1.316624471897739,\n",
    " 'b5': 1.35812370570578,\n",
    " 'b6': 1.3998214171814918,\n",
    " 'b7': 1.4446452851824907,\n",
    " 'b8': 1.4964959071110084,\n",
    " 'b9': 1.5652475842498528,\n",
    " 'b10': 1.7429859437184225,\n",
    " 'fout': 0.1,\n",
    " 'co': 1,\n",
    " 'cb': 1,\n",
    " 'sigma_o': 0.05,\n",
    " 'sigma_b': 0.05,\n",
    " 'zo': 0.1,\n",
    " 'zb': 0.0,\n",
    " 'IA_model': 'eNLA',\n",
    " 'AIA': 1.72,\n",
    " 'betaIA': 2.17,\n",
    " 'etaIA': -0.41*1.1\n",
    " }\n",
    "print(\"Sample likelihood\", loglike(samp1dic))"
   ]
  },
  {
   "cell_type": "code",
   "execution_count": 25,
   "metadata": {},
   "outputs": [
    {
     "data": {
      "text/plain": [
       "4.038266295364123e-11"
      ]
     },
     "execution_count": 25,
     "metadata": {},
     "output_type": "execute_result"
    }
   ],
   "source": [
    "loglike(photo_cov_fid.allparsfid)"
   ]
  },
  {
   "cell_type": "code",
   "execution_count": 26,
   "metadata": {},
   "outputs": [
    {
     "name": "stdout",
     "output_type": "stream",
     "text": [
      "Sample likelihood 4.038266295364123e-11\n"
     ]
    }
   ],
   "source": [
    "from cosmicfishpie.likelihood import PhotometricLikelihood\n",
    "\n",
    "photo_like = PhotometricLikelihood(\n",
    "    cosmoFM_data=cosmoFM_fid,\n",
    "    cosmoFM_theory=cosmoFM_fid,\n",
    "    observables=cosmoFM_fid.observables,\n",
    ")\n",
    "print(\"Sample likelihood\", photo_like.loglike(param_dict=samp1dic))"
   ]
  },
  {
   "cell_type": "code",
   "execution_count": 29,
   "metadata": {},
   "outputs": [
    {
     "name": "stdout",
     "output_type": "stream",
     "text": [
      "ℓ ≈ 303.2865377430769\n",
      "data Cell_GG row (n_GCph × n_GCph):\n",
      "9.974414863747675e-14\n",
      "theory Cell_GG row (n_GCph × n_GCph):\n",
      "9.974414863747675e-14\n"
     ]
    }
   ],
   "source": [
    "target_ell = 300  # adjust as needed\n",
    "ells = photo_like.data_obs[\"ells\"]\n",
    "idx = int(np.argmin(np.abs(ells - target_ell)))\n",
    "ell_value = ells[idx]\n",
    "\n",
    "data_cells = photo_like.data_obs\n",
    "theory_cells = photo_like.compute_theory(dict(samp1dic))\n",
    "\n",
    "print(f\"ℓ ≈ {ell_value}\")\n",
    "print(\"data Cell_GG row (n_GCph × n_GCph):\")\n",
    "print(data_cells[\"Cell_GG\"][idx][1,8])\n",
    "print(\"theory Cell_GG row (n_GCph × n_GCph):\")\n",
    "print(theory_cells[\"Cell_GG\"][idx][1,8])"
   ]
  },
  {
   "cell_type": "code",
   "execution_count": 26,
   "metadata": {},
   "outputs": [
    {
     "data": {
      "text/plain": [
       "{'Omegam': 0.3145714273,\n",
       " 'Omegab': 0.0491989,\n",
       " 'h': 0.6737,\n",
       " 'ns': 0.96605,\n",
       " 'sigma8': 0.81,\n",
       " 'w0': -1.0,\n",
       " 'wa': 0.0,\n",
       " 'mnu': 0.06,\n",
       " 'Neff': 3.044,\n",
       " 'IA_model': 'eNLA',\n",
       " 'AIA': 1.72,\n",
       " 'betaIA': 2.17,\n",
       " 'etaIA': -0.41,\n",
       " 'bias_model': 'binned',\n",
       " 'b1': 1.0997727037892875,\n",
       " 'b2': 1.220245876862528,\n",
       " 'b3': 1.2723993083933989,\n",
       " 'b4': 1.316624471897739,\n",
       " 'b5': 1.35812370570578,\n",
       " 'b6': 1.3998214171814918,\n",
       " 'b7': 1.4446452851824907,\n",
       " 'b8': 1.4964959071110084,\n",
       " 'b9': 1.5652475842498528,\n",
       " 'b10': 1.7429859437184225,\n",
       " 'fout': 0.1,\n",
       " 'co': 1,\n",
       " 'cb': 1,\n",
       " 'sigma_o': 0.05,\n",
       " 'sigma_b': 0.05,\n",
       " 'zo': 0.1,\n",
       " 'zb': 0.0}"
      ]
     },
     "execution_count": 26,
     "metadata": {},
     "output_type": "execute_result"
    }
   ],
   "source": [
    "photo_cov_fid.allparsfid"
   ]
  },
  {
   "cell_type": "code",
   "execution_count": 27,
   "metadata": {},
   "outputs": [
    {
     "name": "stdout",
     "output_type": "stream",
     "text": [
      "\n",
      "In class: FisherMatrix  ----> Computing photo Fisher matrix\n",
      "\n",
      "Computing fiducial\n",
      "\n",
      "Fiducial generated in 0.89 s\n",
      "\n",
      "Noise added to fiducial\n",
      "\n",
      "Noisy Cls generated in 0.00 s\n",
      "\n",
      "Computed covariance matrix\n",
      "\n",
      "Covmat of Cls generated in 0.20 s\n",
      "\n",
      "Total calculation in 1.08 s\n",
      ">> computing derivs >>\n",
      "\n",
      "  +++ Computing derivative on Omegam\n",
      "\n",
      "In class: derivatives  Derivative on Omegam done! in :  1.99 s\n",
      "\n",
      "  +++ Computing derivative on Omegab\n",
      "\n",
      "In class: derivatives  Derivative on Omegab done! in :  1.95 s\n",
      "\n",
      "  +++ Computing derivative on h\n",
      "\n",
      "In class: derivatives  Derivative on h done! in :  1.97 s\n",
      "\n",
      "  +++ Computing derivative on ns\n",
      "\n",
      "In class: derivatives  Derivative on ns done! in :  2.02 s\n",
      "\n",
      "  +++ Computing derivative on sigma8\n",
      "\n",
      "In class: derivatives  Derivative on sigma8 done! in :  1.96 s\n",
      "\n",
      "  +++ Computing derivative on b1\n",
      "\n",
      "In class: derivatives  Derivative on b1 done! in :  2.46 s\n",
      "\n",
      "  +++ Computing derivative on b2\n",
      "\n",
      "In class: derivatives  Derivative on b2 done! in :  2.05 s\n",
      "\n",
      "  +++ Computing derivative on b3\n",
      "\n",
      "In class: derivatives  Derivative on b3 done! in :  2.01 s\n",
      "\n",
      "  +++ Computing derivative on b4\n",
      "\n",
      "In class: derivatives  Derivative on b4 done! in :  1.86 s\n",
      "\n",
      "  +++ Computing derivative on b5\n",
      "\n",
      "In class: derivatives  Derivative on b5 done! in :  1.80 s\n",
      "\n",
      "  +++ Computing derivative on b6\n",
      "\n",
      "In class: derivatives  Derivative on b6 done! in :  1.79 s\n",
      "\n",
      "  +++ Computing derivative on b7\n",
      "\n",
      "In class: derivatives  Derivative on b7 done! in :  1.83 s\n",
      "\n",
      "  +++ Computing derivative on b8\n",
      "\n",
      "In class: derivatives  Derivative on b8 done! in :  1.81 s\n",
      "\n",
      "  +++ Computing derivative on b9\n",
      "\n",
      "In class: derivatives  Derivative on b9 done! in :  1.73 s\n",
      "\n",
      "  +++ Computing derivative on b10\n",
      "\n",
      "In class: derivatives  Derivative on b10 done! in :  1.81 s\n",
      "\n",
      "In class: PhotoCov  -->> Derivatives computed in   29.05 s\n",
      "\n",
      "In class: FisherMatrix  Computing Fisher matrix\n",
      "\n",
      "  Finished calculation of Fisher Matrix for ['GCph'] in:   0.02 s\n",
      "\n",
      "  Fisher matrix calculation finished in   30.50 s\n",
      "\n",
      "  Fisher matrix exported: ./results/CosmicFish_v1.2.4_cosmicjellyfish_Euclid-ISTF-Pess-GGphoto_symb_withnuis_GCph_fishermatrix.txt\n",
      "\n",
      "\n",
      "In class: FisherMatrix  CosmicFish settings and Survey specifications exported: ./results/CosmicFish_v1.2.4_cosmicjellyfish_Euclid-ISTF-Pess-GGphoto_symb_withnuis_GCph_fishermatrix_specifications.dat\n"
     ]
    }
   ],
   "source": [
    "fishmat_photo = cosmoFM_fid.compute()"
   ]
  },
  {
   "cell_type": "code",
   "execution_count": 28,
   "metadata": {},
   "outputs": [],
   "source": [
    "prior_nonuis = Prior()\n",
    "prior_withnuis = Prior()"
   ]
  },
  {
   "cell_type": "code",
   "execution_count": 29,
   "metadata": {},
   "outputs": [],
   "source": [
    "prior_dict ={\n",
    " 'Omegam': [0.24, 0.4],\n",
    " 'Omegab': [0.04, 0.06],\n",
    " 'h': [0.61, 0.75],\n",
    " 'ns': [0.92, 1.00],\n",
    " 'sigma8': [0.79, 0.83],\n",
    " 'AIA': [1.0, 3.0],\n",
    " 'etaIA' :[-6.0, 6.0],\n",
    " 'b1': [1.0, 3.0],\n",
    " 'b2': [1.0, 3.0],\n",
    " 'b3': [1.0, 3.0],\n",
    " 'b4': [1.0, 3.0],\n",
    " 'b5': [1.0, 3.0],\n",
    " 'b6': [1.0, 3.0],\n",
    " 'b7': [1.0, 3.0],\n",
    " 'b8': [1.0, 3.0],\n",
    " 'b9': [1.0, 3.0],\n",
    " 'b10': [1.0, 3.0]\n",
    " }"
   ]
  },
  {
   "cell_type": "code",
   "execution_count": 30,
   "metadata": {},
   "outputs": [
    {
     "data": {
      "text/plain": [
       "{'Omegam': 0.01,\n",
       " 'Omegab': 0.01,\n",
       " 'h': 0.01,\n",
       " 'ns': 0.01,\n",
       " 'sigma8': 0.01,\n",
       " 'b1': 0.06,\n",
       " 'b2': 0.06,\n",
       " 'b3': 0.06,\n",
       " 'b4': 0.06,\n",
       " 'b5': 0.06,\n",
       " 'b6': 0.06,\n",
       " 'b7': 0.06,\n",
       " 'b8': 0.06,\n",
       " 'b9': 0.06,\n",
       " 'b10': 0.06}"
      ]
     },
     "execution_count": 30,
     "metadata": {},
     "output_type": "execute_result"
    }
   ],
   "source": [
    "cosmoFM_fid.freeparams"
   ]
  },
  {
   "cell_type": "code",
   "execution_count": 31,
   "metadata": {},
   "outputs": [],
   "source": [
    "for par in prior_dict.keys():\n",
    "    if par in cosmoFM_fid.freeparams.keys():\n",
    "        dist_prior = (prior_dict[par][0], prior_dict[par][1])\n",
    "        if re.match(r'b\\d+', par):\n",
    "            prior_withnuis.add_parameter(par, dist_prior)\n",
    "        elif re.search(r'IA', par):\n",
    "            prior_withnuis.add_parameter(par, dist_prior)\n",
    "        else:\n",
    "            prior_nonuis.add_parameter(par, dist_prior)\n",
    "            prior_withnuis.add_parameter(par, dist_prior)"
   ]
  },
  {
   "cell_type": "code",
   "execution_count": 32,
   "metadata": {},
   "outputs": [
    {
     "name": "stdout",
     "output_type": "stream",
     "text": [
      "['Omegam', 'Omegab', 'h', 'ns', 'sigma8']\n",
      "['Omegam', 'Omegab', 'h', 'ns', 'sigma8', 'b1', 'b2', 'b3', 'b4', 'b5', 'b6', 'b7', 'b8', 'b9', 'b10']\n"
     ]
    }
   ],
   "source": [
    "print(prior_nonuis.keys)\n",
    "print(prior_withnuis.keys)"
   ]
  },
  {
   "cell_type": "code",
   "execution_count": 33,
   "metadata": {},
   "outputs": [
    {
     "name": "stdout",
     "output_type": "stream",
     "text": [
      "Loading prior with keys:  ['Omegam', 'Omegab', 'h', 'ns', 'sigma8', 'b1', 'b2', 'b3', 'b4', 'b5', 'b6', 'b7', 'b8', 'b9', 'b10']\n"
     ]
    }
   ],
   "source": [
    "if \"withnuis\" in options[\"outroot\"]:\n",
    "    prior_chosen = prior_withnuis\n",
    "elif \"nonuis\" in options[\"outroot\"]:\n",
    "    prior_chosen = prior_nonuis\n",
    "else:\n",
    "    raise ValueError(\"No prior specified in the outroot\")\n",
    "print(\"Loading prior with keys: \", prior_chosen.keys)"
   ]
  },
  {
   "cell_type": "code",
   "execution_count": 34,
   "metadata": {},
   "outputs": [
    {
     "name": "stdout",
     "output_type": "stream",
     "text": [
      "Starting sampler at 2025-09-25 22:18:55\n"
     ]
    }
   ],
   "source": [
    "tini = time.time()\n",
    "print(\"Starting sampler at\", time.strftime('%Y-%m-%d %H:%M:%S', time.localtime(tini)))"
   ]
  },
  {
   "cell_type": "code",
   "execution_count": 35,
   "metadata": {},
   "outputs": [
    {
     "ename": "OSError",
     "evalue": "Unable to synchronously open file (truncated file: eof = 24309760, sblock->base_addr = 0, stored_eof = 24340472)",
     "output_type": "error",
     "traceback": [
      "\u001b[0;31m---------------------------------------------------------------------------\u001b[0m",
      "\u001b[0;31mOSError\u001b[0m                                   Traceback (most recent call last)",
      "Cell \u001b[0;32mIn[35], line 1\u001b[0m\n\u001b[0;32m----> 1\u001b[0m sampler \u001b[38;5;241m=\u001b[39m \u001b[43mSampler\u001b[49m\u001b[43m(\u001b[49m\u001b[43mprior_chosen\u001b[49m\u001b[43m,\u001b[49m\u001b[43m \u001b[49m\n\u001b[1;32m      2\u001b[0m \u001b[43m                          \u001b[49m\u001b[43mloglike\u001b[49m\u001b[43m,\u001b[49m\u001b[43m \u001b[49m\n\u001b[1;32m      3\u001b[0m \u001b[43m                          \u001b[49m\u001b[43mn_live\u001b[49m\u001b[38;5;241;43m=\u001b[39;49m\u001b[43msampler_settings\u001b[49m\u001b[43m[\u001b[49m\u001b[38;5;124;43m\"\u001b[39;49m\u001b[38;5;124;43mn_live\u001b[39;49m\u001b[38;5;124;43m\"\u001b[39;49m\u001b[43m]\u001b[49m\u001b[43m,\u001b[49m\u001b[43m \u001b[49m\n\u001b[1;32m      4\u001b[0m \u001b[43m                          \u001b[49m\u001b[43mn_networks\u001b[49m\u001b[38;5;241;43m=\u001b[39;49m\u001b[43msampler_settings\u001b[49m\u001b[43m[\u001b[49m\u001b[38;5;124;43m\"\u001b[39;49m\u001b[38;5;124;43mn_networks\u001b[39;49m\u001b[38;5;124;43m\"\u001b[39;49m\u001b[43m]\u001b[49m\u001b[43m,\u001b[49m\u001b[43m \u001b[49m\n\u001b[1;32m      5\u001b[0m \u001b[43m                          \u001b[49m\u001b[43mn_batch\u001b[49m\u001b[38;5;241;43m=\u001b[39;49m\u001b[43msampler_settings\u001b[49m\u001b[43m[\u001b[49m\u001b[38;5;124;43m\"\u001b[39;49m\u001b[38;5;124;43mn_batch\u001b[39;49m\u001b[38;5;124;43m\"\u001b[39;49m\u001b[43m]\u001b[49m\u001b[43m,\u001b[49m\u001b[43m \u001b[49m\n\u001b[1;32m      6\u001b[0m \u001b[43m                          \u001b[49m\u001b[43mpool\u001b[49m\u001b[38;5;241;43m=\u001b[39;49m\u001b[43msampler_settings\u001b[49m\u001b[43m[\u001b[49m\u001b[38;5;124;43m\"\u001b[39;49m\u001b[38;5;124;43mpool\u001b[39;49m\u001b[38;5;124;43m\"\u001b[39;49m\u001b[43m]\u001b[49m\u001b[43m,\u001b[49m\u001b[43m \u001b[49m\n\u001b[1;32m      7\u001b[0m \u001b[43m                          \u001b[49m\u001b[43mpass_dict\u001b[49m\u001b[38;5;241;43m=\u001b[39;49m\u001b[38;5;28;43;01mFalse\u001b[39;49;00m\u001b[43m,\u001b[49m\n\u001b[1;32m      8\u001b[0m \u001b[43m                          \u001b[49m\u001b[43mfilepath\u001b[49m\u001b[38;5;241;43m=\u001b[39;49m\u001b[43moptions\u001b[49m\u001b[43m[\u001b[49m\u001b[38;5;124;43m\"\u001b[39;49m\u001b[38;5;124;43moutroot\u001b[39;49m\u001b[38;5;124;43m\"\u001b[39;49m\u001b[43m]\u001b[49m\u001b[38;5;241;43m+\u001b[39;49m\u001b[38;5;124;43m\"\u001b[39;49m\u001b[38;5;124;43m.hdf5\u001b[39;49m\u001b[38;5;124;43m\"\u001b[39;49m\u001b[43m,\u001b[49m\u001b[43m \u001b[49m\n\u001b[1;32m      9\u001b[0m \u001b[43m                          \u001b[49m\u001b[43mresume\u001b[49m\u001b[38;5;241;43m=\u001b[39;49m\u001b[38;5;28;43;01mTrue\u001b[39;49;00m\u001b[43m,\u001b[49m\n\u001b[1;32m     10\u001b[0m \u001b[43m                          \u001b[49m\u001b[43mlikelihood_kwargs\u001b[49m\u001b[38;5;241;43m=\u001b[39;49m\u001b[43m{\u001b[49m\u001b[38;5;124;43m'\u001b[39;49m\u001b[38;5;124;43mprior\u001b[39;49m\u001b[38;5;124;43m'\u001b[39;49m\u001b[43m:\u001b[49m\u001b[43m \u001b[49m\u001b[43mprior_chosen\u001b[49m\u001b[43m}\u001b[49m\n\u001b[1;32m     11\u001b[0m \u001b[43m                          \u001b[49m\u001b[43m)\u001b[49m\n\u001b[1;32m     12\u001b[0m sampler\u001b[38;5;241m.\u001b[39mrun(verbose\u001b[38;5;241m=\u001b[39m\u001b[38;5;28;01mTrue\u001b[39;00m, discard_exploration\u001b[38;5;241m=\u001b[39m\u001b[38;5;28;01mTrue\u001b[39;00m)\n\u001b[1;32m     13\u001b[0m log_z_all \u001b[38;5;241m=\u001b[39m sampler\u001b[38;5;241m.\u001b[39mevidence()\n",
      "File \u001b[0;32m~/anaconda3/envs/cosmicfishpie/lib/python3.10/site-packages/nautilus/sampler.py:328\u001b[0m, in \u001b[0;36mSampler.__init__\u001b[0;34m(self, prior, likelihood, n_dim, n_live, n_update, enlarge_per_dim, n_points_min, split_threshold, n_networks, neural_network_kwargs, prior_args, prior_kwargs, likelihood_args, likelihood_kwargs, n_batch, n_like_new_bound, vectorized, pass_dict, pool, seed, blobs_dtype, filepath, resume)\u001b[0m\n\u001b[1;32m    326\u001b[0m \u001b[38;5;28mself\u001b[39m\u001b[38;5;241m.\u001b[39mfilepath \u001b[38;5;241m=\u001b[39m filepath\n\u001b[1;32m    327\u001b[0m \u001b[38;5;28;01mif\u001b[39;00m resume \u001b[38;5;129;01mand\u001b[39;00m filepath \u001b[38;5;129;01mis\u001b[39;00m \u001b[38;5;129;01mnot\u001b[39;00m \u001b[38;5;28;01mNone\u001b[39;00m \u001b[38;5;129;01mand\u001b[39;00m Path(filepath)\u001b[38;5;241m.\u001b[39mexists():\n\u001b[0;32m--> 328\u001b[0m     \u001b[38;5;28;01mwith\u001b[39;00m \u001b[43mh5py\u001b[49m\u001b[38;5;241;43m.\u001b[39;49m\u001b[43mFile\u001b[49m\u001b[43m(\u001b[49m\u001b[43mfilepath\u001b[49m\u001b[43m,\u001b[49m\u001b[43m \u001b[49m\u001b[38;5;124;43m'\u001b[39;49m\u001b[38;5;124;43mr\u001b[39;49m\u001b[38;5;124;43m'\u001b[39;49m\u001b[43m)\u001b[49m \u001b[38;5;28;01mas\u001b[39;00m fstream:\n\u001b[1;32m    330\u001b[0m         group \u001b[38;5;241m=\u001b[39m fstream[\u001b[38;5;124m'\u001b[39m\u001b[38;5;124msampler\u001b[39m\u001b[38;5;124m'\u001b[39m]\n\u001b[1;32m    332\u001b[0m         \u001b[38;5;28mself\u001b[39m\u001b[38;5;241m.\u001b[39mrng\u001b[38;5;241m.\u001b[39mbit_generator\u001b[38;5;241m.\u001b[39mstate \u001b[38;5;241m=\u001b[39m \u001b[38;5;28mdict\u001b[39m(\n\u001b[1;32m    333\u001b[0m             bit_generator\u001b[38;5;241m=\u001b[39m\u001b[38;5;124m'\u001b[39m\u001b[38;5;124mPCG64\u001b[39m\u001b[38;5;124m'\u001b[39m,\n\u001b[1;32m    334\u001b[0m             state\u001b[38;5;241m=\u001b[39m\u001b[38;5;28mdict\u001b[39m(\n\u001b[0;32m   (...)\u001b[0m\n\u001b[1;32m    337\u001b[0m             has_uint32\u001b[38;5;241m=\u001b[39mgroup\u001b[38;5;241m.\u001b[39mattrs[\u001b[38;5;124m'\u001b[39m\u001b[38;5;124mrng_has_uint32\u001b[39m\u001b[38;5;124m'\u001b[39m],\n\u001b[1;32m    338\u001b[0m             uinteger\u001b[38;5;241m=\u001b[39mgroup\u001b[38;5;241m.\u001b[39mattrs[\u001b[38;5;124m'\u001b[39m\u001b[38;5;124mrng_uinteger\u001b[39m\u001b[38;5;124m'\u001b[39m])\n",
      "File \u001b[0;32m~/anaconda3/envs/cosmicfishpie/lib/python3.10/site-packages/h5py/_hl/files.py:561\u001b[0m, in \u001b[0;36mFile.__init__\u001b[0;34m(self, name, mode, driver, libver, userblock_size, swmr, rdcc_nslots, rdcc_nbytes, rdcc_w0, track_order, fs_strategy, fs_persist, fs_threshold, fs_page_size, page_buf_size, min_meta_keep, min_raw_keep, locking, alignment_threshold, alignment_interval, meta_block_size, **kwds)\u001b[0m\n\u001b[1;32m    552\u001b[0m     fapl \u001b[38;5;241m=\u001b[39m make_fapl(driver, libver, rdcc_nslots, rdcc_nbytes, rdcc_w0,\n\u001b[1;32m    553\u001b[0m                      locking, page_buf_size, min_meta_keep, min_raw_keep,\n\u001b[1;32m    554\u001b[0m                      alignment_threshold\u001b[38;5;241m=\u001b[39malignment_threshold,\n\u001b[1;32m    555\u001b[0m                      alignment_interval\u001b[38;5;241m=\u001b[39malignment_interval,\n\u001b[1;32m    556\u001b[0m                      meta_block_size\u001b[38;5;241m=\u001b[39mmeta_block_size,\n\u001b[1;32m    557\u001b[0m                      \u001b[38;5;241m*\u001b[39m\u001b[38;5;241m*\u001b[39mkwds)\n\u001b[1;32m    558\u001b[0m     fcpl \u001b[38;5;241m=\u001b[39m make_fcpl(track_order\u001b[38;5;241m=\u001b[39mtrack_order, fs_strategy\u001b[38;5;241m=\u001b[39mfs_strategy,\n\u001b[1;32m    559\u001b[0m                      fs_persist\u001b[38;5;241m=\u001b[39mfs_persist, fs_threshold\u001b[38;5;241m=\u001b[39mfs_threshold,\n\u001b[1;32m    560\u001b[0m                      fs_page_size\u001b[38;5;241m=\u001b[39mfs_page_size)\n\u001b[0;32m--> 561\u001b[0m     fid \u001b[38;5;241m=\u001b[39m \u001b[43mmake_fid\u001b[49m\u001b[43m(\u001b[49m\u001b[43mname\u001b[49m\u001b[43m,\u001b[49m\u001b[43m \u001b[49m\u001b[43mmode\u001b[49m\u001b[43m,\u001b[49m\u001b[43m \u001b[49m\u001b[43muserblock_size\u001b[49m\u001b[43m,\u001b[49m\u001b[43m \u001b[49m\u001b[43mfapl\u001b[49m\u001b[43m,\u001b[49m\u001b[43m \u001b[49m\u001b[43mfcpl\u001b[49m\u001b[43m,\u001b[49m\u001b[43m \u001b[49m\u001b[43mswmr\u001b[49m\u001b[38;5;241;43m=\u001b[39;49m\u001b[43mswmr\u001b[49m\u001b[43m)\u001b[49m\n\u001b[1;32m    563\u001b[0m \u001b[38;5;28;01mif\u001b[39;00m \u001b[38;5;28misinstance\u001b[39m(libver, \u001b[38;5;28mtuple\u001b[39m):\n\u001b[1;32m    564\u001b[0m     \u001b[38;5;28mself\u001b[39m\u001b[38;5;241m.\u001b[39m_libver \u001b[38;5;241m=\u001b[39m libver\n",
      "File \u001b[0;32m~/anaconda3/envs/cosmicfishpie/lib/python3.10/site-packages/h5py/_hl/files.py:235\u001b[0m, in \u001b[0;36mmake_fid\u001b[0;34m(name, mode, userblock_size, fapl, fcpl, swmr)\u001b[0m\n\u001b[1;32m    233\u001b[0m     \u001b[38;5;28;01mif\u001b[39;00m swmr \u001b[38;5;129;01mand\u001b[39;00m swmr_support:\n\u001b[1;32m    234\u001b[0m         flags \u001b[38;5;241m|\u001b[39m\u001b[38;5;241m=\u001b[39m h5f\u001b[38;5;241m.\u001b[39mACC_SWMR_READ\n\u001b[0;32m--> 235\u001b[0m     fid \u001b[38;5;241m=\u001b[39m \u001b[43mh5f\u001b[49m\u001b[38;5;241;43m.\u001b[39;49m\u001b[43mopen\u001b[49m\u001b[43m(\u001b[49m\u001b[43mname\u001b[49m\u001b[43m,\u001b[49m\u001b[43m \u001b[49m\u001b[43mflags\u001b[49m\u001b[43m,\u001b[49m\u001b[43m \u001b[49m\u001b[43mfapl\u001b[49m\u001b[38;5;241;43m=\u001b[39;49m\u001b[43mfapl\u001b[49m\u001b[43m)\u001b[49m\n\u001b[1;32m    236\u001b[0m \u001b[38;5;28;01melif\u001b[39;00m mode \u001b[38;5;241m==\u001b[39m \u001b[38;5;124m'\u001b[39m\u001b[38;5;124mr+\u001b[39m\u001b[38;5;124m'\u001b[39m:\n\u001b[1;32m    237\u001b[0m     fid \u001b[38;5;241m=\u001b[39m h5f\u001b[38;5;241m.\u001b[39mopen(name, h5f\u001b[38;5;241m.\u001b[39mACC_RDWR, fapl\u001b[38;5;241m=\u001b[39mfapl)\n",
      "File \u001b[0;32mh5py/_objects.pyx:54\u001b[0m, in \u001b[0;36mh5py._objects.with_phil.wrapper\u001b[0;34m()\u001b[0m\n",
      "File \u001b[0;32mh5py/_objects.pyx:55\u001b[0m, in \u001b[0;36mh5py._objects.with_phil.wrapper\u001b[0;34m()\u001b[0m\n",
      "File \u001b[0;32mh5py/h5f.pyx:102\u001b[0m, in \u001b[0;36mh5py.h5f.open\u001b[0;34m()\u001b[0m\n",
      "\u001b[0;31mOSError\u001b[0m: Unable to synchronously open file (truncated file: eof = 24309760, sblock->base_addr = 0, stored_eof = 24340472)"
     ]
    }
   ],
   "source": [
    "sampler = Sampler(prior_chosen, \n",
    "                          loglike, \n",
    "                          n_live=sampler_settings[\"n_live\"], \n",
    "                          n_networks=sampler_settings[\"n_networks\"], \n",
    "                          n_batch=sampler_settings[\"n_batch\"], \n",
    "                          pool=sampler_settings[\"pool\"], \n",
    "                          pass_dict=False,\n",
    "                          filepath=options[\"outroot\"]+\".hdf5\", \n",
    "                          resume=True,\n",
    "                          likelihood_kwargs={'prior': prior_chosen}\n",
    "                          )\n",
    "sampler.run(verbose=True, discard_exploration=True)\n",
    "log_z_all = sampler.evidence()\n",
    "print('Evidence:', log_z_all)\n",
    "points_all, log_w_all, log_l_all = sampler.posterior()"
   ]
  },
  {
   "cell_type": "code",
   "execution_count": null,
   "metadata": {},
   "outputs": [
    {
     "ename": "",
     "evalue": "",
     "output_type": "error",
     "traceback": [
      "\u001b[1;31mnotebook controller is DISPOSED. \n",
      "\u001b[1;31mView Jupyter <a href='command:jupyter.viewOutput'>log</a> for further details."
     ]
    }
   ],
   "source": [
    "tfin = time.time()\n",
    "elapsed = tfin - tini\n",
    "hours = int(elapsed // 3600)\n",
    "minutes = int((elapsed % 3600) // 60)\n",
    "seconds = int(elapsed % 60)\n",
    "print(\"Sampler finished at\", time.strftime('%Y-%m-%d %H:%M:%S', time.localtime(tfin)))\n",
    "print(f\"Total time elapsed: {hours:02d}:{minutes:02d}:{seconds:02d}\")"
   ]
  },
  {
   "cell_type": "code",
   "execution_count": null,
   "metadata": {},
   "outputs": [
    {
     "ename": "",
     "evalue": "",
     "output_type": "error",
     "traceback": [
      "\u001b[1;31mnotebook controller is DISPOSED. \n",
      "\u001b[1;31mView Jupyter <a href='command:jupyter.viewOutput'>log</a> for further details."
     ]
    }
   ],
   "source": [
    "sample_wghlkl = (np.vstack((points_all.T, np.exp(log_w_all), log_l_all)).T)"
   ]
  },
  {
   "cell_type": "code",
   "execution_count": null,
   "metadata": {},
   "outputs": [
    {
     "ename": "",
     "evalue": "",
     "output_type": "error",
     "traceback": [
      "\u001b[1;31mnotebook controller is DISPOSED. \n",
      "\u001b[1;31mView Jupyter <a href='command:jupyter.viewOutput'>log</a> for further details."
     ]
    }
   ],
   "source": [
    "outfile_chain = options[\"outroot\"]+\".txt\"\n",
    "print(f\"Saving chain to text file {outfile_chain}\")"
   ]
  },
  {
   "cell_type": "code",
   "execution_count": null,
   "metadata": {},
   "outputs": [
    {
     "ename": "",
     "evalue": "",
     "output_type": "error",
     "traceback": [
      "\u001b[1;31mnotebook controller is DISPOSED. \n",
      "\u001b[1;31mView Jupyter <a href='command:jupyter.viewOutput'>log</a> for further details."
     ]
    }
   ],
   "source": [
    "headerlist = ['loglike', 'weights'] + list(prior_chosen.keys)\n",
    "header = \" \".join(headerlist)\n",
    "print(\"Saving header: \", header)"
   ]
  },
  {
   "cell_type": "code",
   "execution_count": null,
   "metadata": {},
   "outputs": [
    {
     "ename": "",
     "evalue": "",
     "output_type": "error",
     "traceback": [
      "\u001b[1;31mnotebook controller is DISPOSED. \n",
      "\u001b[1;31mView Jupyter <a href='command:jupyter.viewOutput'>log</a> for further details."
     ]
    }
   ],
   "source": [
    "np.savetxt(outfile_chain, sample_wghlkl, header=header)"
   ]
  }
 ],
 "metadata": {
  "kernelspec": {
   "display_name": "cosmicfishpie",
   "language": "python",
   "name": "python3"
  },
  "language_info": {
   "codemirror_mode": {
    "name": "ipython",
    "version": 3
   },
   "file_extension": ".py",
   "mimetype": "text/x-python",
   "name": "python",
   "nbconvert_exporter": "python",
   "pygments_lexer": "ipython3",
   "version": "3.10.13"
  }
 },
 "nbformat": 4,
 "nbformat_minor": 2
}
