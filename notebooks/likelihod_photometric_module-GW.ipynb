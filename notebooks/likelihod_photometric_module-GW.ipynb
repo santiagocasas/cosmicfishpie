{
 "cells": [
  {
   "cell_type": "code",
   "execution_count": 1,
   "metadata": {},
   "outputs": [],
   "source": [
    "import seaborn as sns\n",
    "import numpy as np\n",
    "import logging\n",
    "from itertools import product\n",
    "from copy import deepcopy, copy\n",
    "from collections.abc import Sequence"
   ]
  },
  {
   "cell_type": "code",
   "execution_count": 2,
   "metadata": {},
   "outputs": [],
   "source": [
    "from cosmicfishpie.fishermatrix import cosmicfish\n",
    "from cosmicfishpie.LSSsurvey import photo_obs as pobs\n",
    "from cosmicfishpie.LSSsurvey import photo_cov as pcov\n",
    "from cosmicfishpie.likelihood import PhotometricLikelihood\n",
    "from cosmicfishpie.utilities.utils import printing as upr\n",
    "from nautilus import Prior\n",
    "from nautilus import Sampler\n",
    "import re\n",
    "import time"
   ]
  },
  {
   "cell_type": "code",
   "execution_count": 4,
   "metadata": {},
   "outputs": [],
   "source": [
    "snscolors = sns.color_palette(\"colorblind\")\n",
    "def is_indexable_iterable(var):\n",
    "    return isinstance(var, (list, np.ndarray, Sequence)) and not isinstance(var, (str, bytes))\n"
   ]
  },
  {
   "cell_type": "code",
   "execution_count": 5,
   "metadata": {},
   "outputs": [],
   "source": [
    "logger = logging.getLogger(\"cosmicfishpie.cosmology.nuisance\")\n",
    "logger.setLevel(logging.INFO)"
   ]
  },
  {
   "cell_type": "code",
   "execution_count": 6,
   "metadata": {},
   "outputs": [],
   "source": [
    "upr.debug = False"
   ]
  },
  {
   "cell_type": "code",
   "execution_count": 7,
   "metadata": {},
   "outputs": [],
   "source": [
    "upr.debug_print(\"test\")"
   ]
  },
  {
   "cell_type": "code",
   "execution_count": 8,
   "metadata": {},
   "outputs": [],
   "source": [
    "outroot = \"cosmicjellyfish_Euclid-ISTF-Pess-GCphoto_symb_GW\""
   ]
  },
  {
   "cell_type": "code",
   "execution_count": 9,
   "metadata": {},
   "outputs": [],
   "source": [
    "sampler_settings = {\n",
    "    \"n_live\": 1000,\n",
    "    \"n_networks\": 8,\n",
    "    \"n_batch\": 256,\n",
    "    \"pool\": 16,\n",
    "}"
   ]
  },
  {
   "cell_type": "code",
   "execution_count": 10,
   "metadata": {},
   "outputs": [],
   "source": [
    "\n",
    "fiducial = {\n",
    "    \"omch2\": 0.112,\n",
    "    \"ombh2\": 2.249e-2,\n",
    "    \"h\": 0.6737,\n",
    "    \"ns\": 0.96605,\n",
    "    \"10^9As\": 2.42,\n",
    "}\n",
    "\n",
    "freeparams = {kk:0.01 for kk in fiducial.keys()}\n",
    "\n",
    "observables = ['GCph']"
   ]
  },
  {
   "cell_type": "code",
   "execution_count": 11,
   "metadata": {},
   "outputs": [
    {
     "name": "stdout",
     "output_type": "stream",
     "text": [
      "****************************************************************\n",
      "   _____               _     _____     __  \n",
      "  / ___/__  ___ __ _  (_)___/ __(_)__ / /  \n",
      " / /__/ _ \\(_-</  ' \\/ / __/ _// (_-</ _ \\ \n",
      " \\___/\\___/___/_/_/_/_/\\__/_/ /_/___/_//_/ \n",
      "\n",
      "****************************************************************\n",
      " This is the new Python version of the CosmicFish code.\n",
      "****************************************************************\n",
      "\n",
      "  -> Survey loaded:  Euclid-Photometric-ISTF-GW\n",
      "\n",
      "  -> Computing cosmology at the fiducial point\n",
      "\n",
      "  ---> Cosmological functions obtained in:   0.25 s\n"
     ]
    }
   ],
   "source": [
    "options = {\n",
    "    \"accuracy\": 1,\n",
    "    \"feedback\": 1,\n",
    "    \"code\": \"symbolic\",\n",
    "    \"outroot\": outroot,\n",
    "    \"survey_name\": \"Euclid\",\n",
    "    \"survey_name_photo\": \"Euclid-Photometric-ISTF-GW\",\n",
    "    \"survey_name_spectro\": False,\n",
    "    \"specs_dir\": \"../cosmicfishpie/configs/other_survey_specifications/\",\n",
    "    \"cosmo_model\": \"LCDM\",\n",
    "}\n",
    "cosmoFM_fid = cosmicfish.FisherMatrix(\n",
    "    fiducialpars=fiducial,\n",
    "    options=options,\n",
    "    observables=observables,\n",
    "    freepars=freeparams,\n",
    "    cosmoModel=options[\"cosmo_model\"],\n",
    "    surveyName=options[\"survey_name\"],\n",
    ")"
   ]
  },
  {
   "cell_type": "code",
   "execution_count": 12,
   "metadata": {},
   "outputs": [
    {
     "data": {
      "text/plain": [
       "{'omch2': 0.01,\n",
       " 'ombh2': 0.01,\n",
       " 'h': 0.01,\n",
       " 'ns': 0.01,\n",
       " '10^9As': 0.01,\n",
       " 'b0': 0.06}"
      ]
     },
     "execution_count": 12,
     "metadata": {},
     "output_type": "execute_result"
    }
   ],
   "source": [
    "cosmoFM_fid.freeparams"
   ]
  },
  {
   "cell_type": "code",
   "execution_count": 13,
   "metadata": {},
   "outputs": [
    {
     "data": {
      "text/plain": [
       "{'omch2': 0.112, 'ombh2': 0.02249, 'h': 0.6737, 'ns': 0.96605, '10^9As': 2.42}"
      ]
     },
     "execution_count": 13,
     "metadata": {},
     "output_type": "execute_result"
    }
   ],
   "source": [
    "cosmoFM_fid.fiducialcosmopars"
   ]
  },
  {
   "cell_type": "code",
   "execution_count": 14,
   "metadata": {},
   "outputs": [
    {
     "data": {
      "text/plain": [
       "{'omch2': 0.112,\n",
       " 'ombh2': 0.02249,\n",
       " 'h': 0.6737,\n",
       " 'ns': 0.96605,\n",
       " '10^9As': 2.42,\n",
       " 'bias_model': 'sqrt',\n",
       " 'b0': 1.0,\n",
       " 'fout': 0.1,\n",
       " 'co': 1,\n",
       " 'cb': 1,\n",
       " 'sigma_o': 0.05,\n",
       " 'sigma_b': 0.05,\n",
       " 'zo': 0.1,\n",
       " 'zb': 0.0,\n",
       " 'IA_model': 'eNLA',\n",
       " 'AIA': 1.72,\n",
       " 'betaIA': 2.17,\n",
       " 'etaIA': -0.41}"
      ]
     },
     "execution_count": 14,
     "metadata": {},
     "output_type": "execute_result"
    }
   ],
   "source": [
    "cosmoFM_fid.allparams"
   ]
  },
  {
   "cell_type": "code",
   "execution_count": 15,
   "metadata": {},
   "outputs": [
    {
     "data": {
      "text/plain": [
       "['GCph']"
      ]
     },
     "execution_count": 15,
     "metadata": {},
     "output_type": "execute_result"
    }
   ],
   "source": [
    "cosmoFM_fid.observables"
   ]
  },
  {
   "cell_type": "code",
   "execution_count": 16,
   "metadata": {},
   "outputs": [
    {
     "name": "stdout",
     "output_type": "stream",
     "text": [
      "\n",
      "In class: FisherMatrix  ----> Computing photo Fisher matrix\n",
      "\n",
      "Computing fiducial\n",
      "\n",
      "Fiducial generated in 0.66 s\n",
      "\n",
      "Noise added to fiducial\n",
      "\n",
      "Noisy Cls generated in 0.00 s\n",
      "\n",
      "Computed covariance matrix\n",
      "\n",
      "Covmat of Cls generated in 0.19 s\n",
      "\n",
      "Total calculation in 0.86 s\n",
      ">> computing derivs >>\n",
      "\n",
      "  +++ Computing derivative on omch2\n",
      "\n",
      "In class: derivatives  Derivative on omch2 done! in :  1.73 s\n",
      "\n",
      "  +++ Computing derivative on ombh2\n",
      "\n",
      "In class: derivatives  Derivative on ombh2 done! in :  1.77 s\n",
      "\n",
      "  +++ Computing derivative on h\n",
      "\n",
      "In class: derivatives  Derivative on h done! in :  1.60 s\n",
      "\n",
      "  +++ Computing derivative on ns\n",
      "\n",
      "In class: derivatives  Derivative on ns done! in :  1.60 s\n",
      "\n",
      "  +++ Computing derivative on 10^9As\n",
      "\n",
      "In class: derivatives  Derivative on 10^9As done! in :  1.61 s\n",
      "\n",
      "  +++ Computing derivative on b0\n",
      "\n",
      "In class: derivatives  Derivative on b0 done! in :  1.35 s\n",
      "\n",
      "In class: PhotoCov  -->> Derivatives computed in   9.66 s\n",
      "\n",
      "In class: FisherMatrix  Computing Fisher matrix\n",
      "\n",
      "  Finished calculation of Fisher Matrix for ['GCph'] in:   0.01 s\n",
      "\n",
      "  Fisher matrix calculation finished in   10.86 s\n",
      "\n",
      "  Fisher matrix exported: ./results/CosmicFish_v1.2.5_cosmicjellyfish_Euclid-ISTF-Pess-GCphoto_symb_GW_GCph_fishermatrix.txt\n",
      "\n",
      "\n",
      "In class: FisherMatrix  CosmicFish settings and Survey specifications exported: ./results/CosmicFish_v1.2.5_cosmicjellyfish_Euclid-ISTF-Pess-GCphoto_symb_GW_GCph_fishermatrix_specifications.dat\n"
     ]
    }
   ],
   "source": [
    "fishmat_photo = cosmoFM_fid.compute()"
   ]
  },
  {
   "cell_type": "code",
   "execution_count": 17,
   "metadata": {},
   "outputs": [],
   "source": [
    "photo_like = PhotometricLikelihood(cosmo_data=cosmoFM_fid, cosmo_theory=cosmoFM_fid)"
   ]
  },
  {
   "cell_type": "code",
   "execution_count": 18,
   "metadata": {},
   "outputs": [
    {
     "name": "stdout",
     "output_type": "stream",
     "text": [
      "1000\n"
     ]
    }
   ],
   "source": [
    "ellmax_GC = cosmoFM_fid.specs[\"lmax_GCph\"]\n",
    "print(ellmax_GC)"
   ]
  },
  {
   "cell_type": "code",
   "execution_count": 19,
   "metadata": {},
   "outputs": [],
   "source": [
    "samp1dic = cosmoFM_fid.allparams.copy()"
   ]
  },
  {
   "cell_type": "code",
   "execution_count": 20,
   "metadata": {},
   "outputs": [
    {
     "name": "stdout",
     "output_type": "stream",
     "text": [
      "Sample likelihood 5.4865559320654466e-11\n",
      "Sample likelihood -19928.21890180349\n",
      "Sample likelihood -21863.69138020044\n"
     ]
    }
   ],
   "source": [
    "print(\"Sample likelihood\", photo_like.loglike(param_dict=samp1dic))\n",
    "\n",
    "samp1dic['b0'] = 1.1\n",
    "\n",
    "print(\"Sample likelihood\", photo_like.loglike(param_dict=samp1dic))\n",
    "\n",
    "samp1dic['h'] = 0.7\n",
    "\n",
    "print(\"Sample likelihood\", photo_like.loglike(param_dict=samp1dic))"
   ]
  },
  {
   "cell_type": "code",
   "execution_count": 21,
   "metadata": {},
   "outputs": [
    {
     "data": {
      "text/plain": [
       "{'omch2': 0.112, 'ombh2': 0.02249, 'h': 0.6737, 'ns': 0.96605, '10^9As': 2.42}"
      ]
     },
     "execution_count": 21,
     "metadata": {},
     "output_type": "execute_result"
    }
   ],
   "source": [
    "fiducial"
   ]
  },
  {
   "cell_type": "code",
   "execution_count": 23,
   "metadata": {},
   "outputs": [
    {
     "data": {
      "text/plain": [
       "{'omch2': [0.08, 0.16],\n",
       " 'ombh2': [0.015, 0.03],\n",
       " 'h': [0.61, 0.75],\n",
       " 'ns': [0.92, 1.0],\n",
       " '10^9As': [2.0, 3.0],\n",
       " 'b0': [0.25, 2.5]}"
      ]
     },
     "execution_count": 23,
     "metadata": {},
     "output_type": "execute_result"
    }
   ],
   "source": [
    "prior_dict ={\n",
    " 'omch2': [0.08, 0.16],\n",
    " 'ombh2': [0.015, 0.03],\n",
    " 'h': [0.61, 0.75],\n",
    " 'ns': [0.92, 1.00],\n",
    " '10^9As': [2., 3.],\n",
    " 'b0': [0.25, 2.5],\n",
    " }\n",
    "prior_dict"
   ]
  },
  {
   "cell_type": "code",
   "execution_count": 24,
   "metadata": {},
   "outputs": [],
   "source": [
    "prior_with_nuis = photo_like.create_nautilus_prior(prior_dict=prior_dict)"
   ]
  },
  {
   "cell_type": "code",
   "execution_count": 25,
   "metadata": {},
   "outputs": [
    {
     "name": "stdout",
     "output_type": "stream",
     "text": [
      "Starting sampler at 2025-10-01 12:06:06\n"
     ]
    }
   ],
   "source": [
    "tini = time.time()\n",
    "print(\"Starting sampler at\", time.strftime('%Y-%m-%d %H:%M:%S', time.localtime(tini)))"
   ]
  },
  {
   "cell_type": "code",
   "execution_count": 26,
   "metadata": {},
   "outputs": [
    {
     "data": {
      "text/plain": [
       "{'n_live': 1000,\n",
       " 'n_networks': 8,\n",
       " 'n_batch': 256,\n",
       " 'pool': 16,\n",
       " 'pass_dict': False,\n",
       " 'resume': True,\n",
       " 'filepath': 'cosmicjellyfish_Euclid-ISTF-Pess-GCphoto_symb_GW.hdf5'}"
      ]
     },
     "execution_count": 26,
     "metadata": {},
     "output_type": "execute_result"
    }
   ],
   "source": [
    "sampler_settings.update({'pass_dict': False, \n",
    "                    'resume': True, \n",
    "                    'filepath': options[\"outroot\"]+\".hdf5\", \n",
    "                    })\n",
    "sampler_settings"
   ]
  },
  {
   "cell_type": "code",
   "execution_count": 27,
   "metadata": {},
   "outputs": [
    {
     "name": "stdout",
     "output_type": "stream",
     "text": [
      "Starting the nautilus sampler...\n",
      "Please report issues at github.com/johannesulf/nautilus.\n",
      "Status    | Bounds | Ellipses | Networks | Calls    | f_live | N_eff | log Z    \n",
      "Finished  | 30     | 1        | 8        | 54016    | N/A    | 10035 | -19.26   \n"
     ]
    }
   ],
   "source": [
    "sampler = photo_like.run_nautilus(prior=prior_with_nuis, sampler_kwargs=sampler_settings,\n",
    "                                  run_kwargs={'verbose': True, 'discard_exploration': True})"
   ]
  },
  {
   "cell_type": "code",
   "execution_count": 28,
   "metadata": {},
   "outputs": [
    {
     "name": "stdout",
     "output_type": "stream",
     "text": [
      "Evidence: -19.256253862097815\n"
     ]
    }
   ],
   "source": [
    "log_z_all = sampler.log_z\n",
    "print('Evidence:', log_z_all)\n",
    "points_all, log_w_all, log_l_all = sampler.posterior()"
   ]
  },
  {
   "cell_type": "code",
   "execution_count": 29,
   "metadata": {},
   "outputs": [
    {
     "name": "stdout",
     "output_type": "stream",
     "text": [
      "Sampler finished at 2025-10-01 17:10:36\n",
      "Total time elapsed: 05:04:29\n"
     ]
    }
   ],
   "source": [
    "tfin = time.time()\n",
    "elapsed = tfin - tini\n",
    "hours = int(elapsed // 3600)\n",
    "minutes = int((elapsed % 3600) // 60)\n",
    "seconds = int(elapsed % 60)\n",
    "print(\"Sampler finished at\", time.strftime('%Y-%m-%d %H:%M:%S', time.localtime(tfin)))\n",
    "print(f\"Total time elapsed: {hours:02d}:{minutes:02d}:{seconds:02d}\")"
   ]
  },
  {
   "cell_type": "code",
   "execution_count": 30,
   "metadata": {},
   "outputs": [],
   "source": [
    "sample_wghlkl = (np.vstack((points_all.T, np.exp(log_w_all), log_l_all)).T)"
   ]
  },
  {
   "cell_type": "code",
   "execution_count": 31,
   "metadata": {},
   "outputs": [
    {
     "name": "stdout",
     "output_type": "stream",
     "text": [
      "Saving chain to text file cosmicjellyfish_Euclid-ISTF-Pess-GCphoto_symb_GW.txt\n"
     ]
    }
   ],
   "source": [
    "outfile_chain = options[\"outroot\"]+\".txt\"\n",
    "print(f\"Saving chain to text file {outfile_chain}\")"
   ]
  },
  {
   "cell_type": "code",
   "execution_count": 32,
   "metadata": {},
   "outputs": [
    {
     "name": "stdout",
     "output_type": "stream",
     "text": [
      "Saving header:  omch2 ombh2 h ns 10^9As b0 loglike weights\n"
     ]
    }
   ],
   "source": [
    "headerlist = list(prior_with_nuis.keys)+['loglike', 'weights'] \n",
    "header = \" \".join(headerlist)\n",
    "print(\"Saving header: \", header)"
   ]
  },
  {
   "cell_type": "code",
   "execution_count": 33,
   "metadata": {},
   "outputs": [],
   "source": [
    "np.savetxt(outfile_chain, sample_wghlkl, header=header)"
   ]
  }
 ],
 "metadata": {
  "kernelspec": {
   "display_name": "cosmicfishpie",
   "language": "python",
   "name": "python3"
  },
  "language_info": {
   "codemirror_mode": {
    "name": "ipython",
    "version": 3
   },
   "file_extension": ".py",
   "mimetype": "text/x-python",
   "name": "python",
   "nbconvert_exporter": "python",
   "pygments_lexer": "ipython3",
   "version": "3.10.17"
  }
 },
 "nbformat": 4,
 "nbformat_minor": 2
}
