{
 "cells": [
  {
   "cell_type": "markdown",
   "metadata": {},
   "source": [
    "## CosmicFish v1.0"
   ]
  },
  {
   "cell_type": "code",
   "execution_count": null,
   "metadata": {},
   "outputs": [],
   "source": [
    "#Importing main module\n",
    "from cosmicfishpie.fishermatrix import cosmicfish\n",
    "import os"
   ]
  },
  {
   "cell_type": "code",
   "execution_count": null,
   "metadata": {},
   "outputs": [],
   "source": [
    "envkey = 'OMP_NUM_THREADS'\n",
    "# Set this environment variable to the number of available cores in your machine, \n",
    "# to get a fast execution of the Einstein Boltzmann Solver\n",
    "print(\"The value of {:s} is: \".format(envkey), os.environ.get(envkey))\n",
    "os.environ[envkey] = str(8)\n",
    "print(\"The value of {:s} is: \".format(envkey), os.environ.get(envkey))"
   ]
  },
  {
   "cell_type": "markdown",
   "metadata": {},
   "source": [
    "## Define options and load External files. Use STEM derivatives."
   ]
  },
  {
   "cell_type": "code",
   "execution_count": null,
   "metadata": {},
   "outputs": [],
   "source": [
    "\n",
    "external = {'directory': '../../../cosmicfish_reloaded/external_input/default_camb_euclid_w0wa_HP/',  ## Files should be in the input4cast format\n",
    "            'paramnames': ['Omegam', 'Omegab', 'h', 'ns', 'sigma8', 'w0','wa'],  ## Certain paramnames like Omegam and h are obligatory\n",
    "            'folder_paramnames': ['Om', 'Ob', 'h', 'ns', 's8', 'w0', 'wa'],   ## Folder paramnames can have different names as paramnames\n",
    "            'file_prefixes' : ['background_Hz','D_Growth-zk',  \n",
    "                               'f_GrowthRate-zk', 'Plin-zk',    ## Names of cosmological quantity files can be specified here\n",
    "                               'Pnonlin-zk', 'sigma8-z'],\n",
    "            'k-units' : 'h/Mpc',   ## Units of the external input files\n",
    "            'r-units' : 'Mpc',      \n",
    "            'eps_values': [0.00625, 0.01, 0.0125, 0.01875, 0.02, 0.025, 0.03, 0.0375, 0.05, 0.10]   \n",
    "            ## Epsilon parameter variations at which files were computed\n",
    "            } \n",
    "\n",
    "fiducial = {\"Omegam\":0.32,\n",
    "            \"Omegab\":0.05,\n",
    "            \"h\":0.67,\n",
    "            \"ns\":0.96,          ## Fiducial values of the cosmological parameters\n",
    "            \"sigma8\":0.815584,\n",
    "            \"w0\":-1.0,\n",
    "            \"wa\":0.\n",
    "            }\n",
    "## Fiducial values of the nuisance parameters are set by default when specifying the survey below. Can be added also manually.\n",
    "freepars = {\"Omegam\":0.01,\n",
    "            \"Omegab\":0.01 ,\n",
    "            \"h\":0.01,           \n",
    "            \"ns\":0.01,        ## If derivatives are calculated with 3PT, this sets the epsilon step size, per parameter. \n",
    "            \"sigma8\":0.01,      ## Should match one of the epsilons available above\n",
    "            \"w0\":0.01,\n",
    "            \"wa\":0.01\n",
    "            } "
   ]
  },
  {
   "cell_type": "markdown",
   "metadata": {},
   "source": [
    "## CosmicFish in all modes"
   ]
  },
  {
   "cell_type": "code",
   "execution_count": null,
   "metadata": {},
   "outputs": [],
   "source": [
    "Photometric_fish_dic = dict()\n",
    "Spectroscopic_fish_dic = dict()"
   ]
  },
  {
   "cell_type": "code",
   "execution_count": null,
   "metadata": {},
   "outputs": [],
   "source": [
    "specifications = ['Euclid-ISTF-Optimistic', 'Rubin-Optimistic']\n",
    "\n",
    "for specif in specifications:\n",
    "    options = {\n",
    "           'derivatives': '3PT',      ## Derivative option: 3PT or SteM\n",
    "           'accuracy': 1,\n",
    "           'feedback': 1,\n",
    "           'code': 'external',\n",
    "           'outroot': 'w0waCDM_external_camb_HP-{}'.format(specif),    #String attached to all the results files\n",
    "           'results_dir' :  './results/',\n",
    "           'specs_dir' : '../survey_specifications/', \n",
    "           'survey_name': specif,\n",
    "           'cosmo_model' : 'w0waCDM',\n",
    "           'activateMG': False\n",
    "           }\n",
    "    observables = ['WL','GCph']\n",
    "\n",
    "    cosmoFM = cosmicfish.FisherMatrix(fiducialpars=fiducial,    #Pass the above dictionaries to cosmoFM, the main cosmicfish class\n",
    "                              freepars=freepars,\n",
    "                              options=options, \n",
    "                              observables=observables, \n",
    "                              extfiles=external, \n",
    "                              cosmoModel=options['cosmo_model'], \n",
    "                              surveyName=options['survey_name']\n",
    "                              )\n",
    "                            \n",
    "    Photometric_fish_dic[options['outroot']] = cosmoFM.compute()    # Compute the Fisher Matrix\n",
    "\n"
   ]
  },
  {
   "cell_type": "code",
   "execution_count": null,
   "metadata": {},
   "outputs": [],
   "source": [
    "specifications = ['Euclid-ISTF-Optimistic', 'DESI_BGS', 'DESI_ELG']\n",
    "for specif in specifications:\n",
    "    options = {\n",
    "           'derivatives': '3PT',      ## Derivative option: 3PT or STEM of 4PT_FWD\n",
    "           'accuracy': 1,\n",
    "           'feedback': 1,\n",
    "           'code': 'external',\n",
    "           'outroot': 'w0waCDM_external_camb_HP-3PT-{}'.format(specif),    #String attached to all the results files\n",
    "           'results_dir' :  './results/',\n",
    "           'specs_dir' : '../survey_specifications/', \n",
    "           'survey_name': specif,\n",
    "           'cosmo_model' : 'w0waCDM',\n",
    "           'activateMG': False}\n",
    "    observables = ['GCsp']\n",
    "\n",
    "    cosmoFM = cosmicfish.FisherMatrix(fiducialpars=fiducial,    #Pass the above dictionaries to cosmoFM, the main cosmicfish class\n",
    "                              freepars=freepars,\n",
    "                              options=options, \n",
    "                              observables=observables, \n",
    "                              extfiles=external, \n",
    "                              cosmoModel=options['cosmo_model'], \n",
    "                              surveyName=options['survey_name']\n",
    "                              )\n",
    "                            \n",
    "    Spectroscopic_fish_dic[options['outroot']] = cosmoFM.compute()    # Compute the Fisher Matrix"
   ]
  },
  {
   "cell_type": "code",
   "execution_count": null,
   "metadata": {},
   "outputs": [],
   "source": [
    "cosmoFM.derivs_dict.keys()"
   ]
  },
  {
   "cell_type": "markdown",
   "metadata": {},
   "source": [
    "# Plot the resulting Fisher matrices"
   ]
  },
  {
   "cell_type": "code",
   "execution_count": null,
   "metadata": {},
   "outputs": [],
   "source": [
    "from cosmicfishpie.analysis import fisher_plotting as fpp\n",
    "from cosmicfishpie.analysis import fisher_matrix as fm\n",
    "from cosmicfishpie.analysis import fisher_operations as fo\n",
    "import seaborn as sns\n",
    "snscolors=sns.color_palette(\"colorblind\")\n",
    "snscolors"
   ]
  },
  {
   "cell_type": "markdown",
   "metadata": {},
   "source": [
    "## Comparing the forecasts of different experiments\n",
    " - One can add Fisher matrices by just using the addition operator\n",
    " - One can marginalize over nuisance parameters\n",
    " - One can fix nuisance parameters (maximize them)"
   ]
  },
  {
   "cell_type": "code",
   "execution_count": null,
   "metadata": {},
   "outputs": [],
   "source": [
    "Photometric_fish_dic.keys()"
   ]
  },
  {
   "cell_type": "code",
   "execution_count": null,
   "metadata": {},
   "outputs": [],
   "source": [
    "Spectroscopic_fish_dic.keys()"
   ]
  },
  {
   "cell_type": "markdown",
   "metadata": {},
   "source": [
    "### GC spectro observations: DESI ELG+BGS "
   ]
  },
  {
   "cell_type": "code",
   "execution_count": null,
   "metadata": {},
   "outputs": [],
   "source": [
    "Fisher_DESI_ELG = Spectroscopic_fish_dic['w0waCDM_external_camb_HP-3PT-DESI_ELG']\n",
    "print(Fisher_DESI_ELG.get_param_names())\n",
    "Fisher_DESI_BGS = Spectroscopic_fish_dic['w0waCDM_external_camb_HP-3PT-DESI_BGS']\n",
    "print(Fisher_DESI_BGS.get_param_names())\n",
    "#Fisher_DESI_EplusB = Fisher_DESI_ELG + Fisher_DESI_BGS\n",
    "#Fisher_DESI_EplusB.get_param_names()"
   ]
  },
  {
   "cell_type": "markdown",
   "metadata": {},
   "source": [
    "#### Nuisance parameters from each of these surveys are defined at different redshifts and values despite having same names. We need to rename them in order to be able to add them."
   ]
  },
  {
   "cell_type": "code",
   "execution_count": null,
   "metadata": {},
   "outputs": [],
   "source": [
    "Fisher_DESI_BGS.set_param_names?"
   ]
  },
  {
   "cell_type": "markdown",
   "metadata": {},
   "source": [
    "-  We choose to reset the values for the survey with less nuisance parameters DESI_BGS"
   ]
  },
  {
   "cell_type": "code",
   "execution_count": null,
   "metadata": {},
   "outputs": [],
   "source": [
    "Fisher_DESI_BGS.set_param_names(['Omegam', 'Omegab', 'h', 'ns', 'sigma8', 'w0', 'wa', 'lnbBgs8_1', 'lnbBgs8_2', 'lnbBgs8_3', 'lnbBgs8_4', 'lnbBgs8_5', 'PsB_1', 'PsB_2', 'PsB_3', 'PsB_4', 'PsB_5'])"
   ]
  },
  {
   "cell_type": "markdown",
   "metadata": {},
   "source": [
    "- The LaTeX paramnames have been reset by this operation, so we need to set new ones"
   ]
  },
  {
   "cell_type": "code",
   "execution_count": null,
   "metadata": {},
   "outputs": [],
   "source": [
    "print(Fisher_DESI_ELG.get_param_names_latex())"
   ]
  },
  {
   "cell_type": "code",
   "execution_count": null,
   "metadata": {},
   "outputs": [],
   "source": [
    "Fisher_DESI_BGS.set_param_names_latex(['\\\\Omega_{{\\\\rm m}, 0}', '\\\\Omega_{{\\\\rm b}, 0}', 'h', 'n_{\\\\rm s}', '\\\\sigma_8', 'w_0', 'w_a', '\\\\ln(b_{B,g} \\\\sigma_8)_1', '\\\\ln(b_{B,g} \\\\sigma_8)_2', '\\\\ln(b_{B,g} \\\\sigma_8)_3', '\\\\ln(b_{B,g} \\\\sigma_8)_4', '\\\\ln(b_{B,g} \\\\sigma_8)_5', '\\P_{B,S1}', 'P_{B,S2}', 'P_{B,S3}', 'P_{B,S4}', 'P_{B,S5}'])"
   ]
  },
  {
   "cell_type": "markdown",
   "metadata": {},
   "source": [
    "#### Now we add the Fisher matrices"
   ]
  },
  {
   "cell_type": "code",
   "execution_count": null,
   "metadata": {},
   "outputs": [],
   "source": [
    "Fisher_DESI_EB_full = Fisher_DESI_ELG + Fisher_DESI_BGS"
   ]
  },
  {
   "cell_type": "code",
   "execution_count": null,
   "metadata": {},
   "outputs": [],
   "source": [
    "print(Fisher_DESI_EB_full.get_param_names())"
   ]
  },
  {
   "cell_type": "markdown",
   "metadata": {},
   "source": [
    "#### One can also add the Fisher matrices after marginalizing or fixing the nuisance parameters, leaving only the cosmological ones"
   ]
  },
  {
   "cell_type": "code",
   "execution_count": null,
   "metadata": {},
   "outputs": [],
   "source": [
    "fo.reshuffle?"
   ]
  },
  {
   "cell_type": "code",
   "execution_count": null,
   "metadata": {},
   "outputs": [],
   "source": [
    "cosmoparams = ['Omegam', 'Omegab', 'h', 'ns', 'sigma8', 'w0', 'wa']"
   ]
  },
  {
   "cell_type": "code",
   "execution_count": null,
   "metadata": {},
   "outputs": [],
   "source": [
    "Fisher_DESI_ELG_marg = fo.marginalise(Fisher_DESI_ELG, names=cosmoparams)\n",
    "Fisher_DESI_ELG_fix = fo.reshuffle(Fisher_DESI_ELG, names=cosmoparams)"
   ]
  },
  {
   "cell_type": "code",
   "execution_count": null,
   "metadata": {},
   "outputs": [],
   "source": [
    "Fisher_DESI_BGS_marg = fo.marginalise(Fisher_DESI_BGS, names=cosmoparams)\n",
    "Fisher_DESI_BGS_fix = fo.reshuffle(Fisher_DESI_BGS, names=cosmoparams)"
   ]
  },
  {
   "cell_type": "code",
   "execution_count": null,
   "metadata": {},
   "outputs": [],
   "source": [
    "Fisher_DESI_EB_marg = Fisher_DESI_ELG_marg+Fisher_DESI_BGS_marg\n",
    "Fisher_DESI_EB_fix = Fisher_DESI_ELG_fix+Fisher_DESI_BGS_fix"
   ]
  },
  {
   "cell_type": "markdown",
   "metadata": {},
   "source": [
    "#### Now let's compare their 1 $\\sigma$ bounds"
   ]
  },
  {
   "cell_type": "code",
   "execution_count": null,
   "metadata": {},
   "outputs": [],
   "source": [
    "plot_options = {'fishers_list': [Fisher_DESI_BGS, Fisher_DESI_ELG, Fisher_DESI_EB_marg, Fisher_DESI_EB_fix, Fisher_DESI_EB_full], \n",
    "                'colors': snscolors,\n",
    "                'fish_labels': ['DESI BGS','DESI ELG', 'DESI BGS+ELG (marg. nuisance)', 'DESI BGS+ELG (fix nuisance)', 'DESI BGS+ELG (full)'],\n",
    "                'filled': False,\n",
    "                'plot_pars': cosmoparams,\n",
    "                'axis_custom_factors': {'all':3},  ## Axis limits cover 3-sigma bounds of first Fisher matrix\n",
    "                'plot_method': 'Gaussian',\n",
    "                'file_format': '.pdf',   ##file format for all the plots\n",
    "                'outpath' : './plots/',  ## directory where to store the files, if non-existent, it will be created\n",
    "                'outroot':'DESI-GCspec_comparison_BGS_ELG_w0waCDM'  ## file name root for all the plots, extra names can be added individually\n",
    "                } \n",
    "\n",
    "fish_plotter = fpp.fisher_plotting(**plot_options)\n",
    "#fish_plotter.plot_fisher(filled=False)\n",
    "fish_plotter.compare_errors(options={'yrang' : [-500, 500], 'ncol_legend': 2})"
   ]
  },
  {
   "cell_type": "markdown",
   "metadata": {},
   "source": [
    "#### As expected we can see:\n",
    "- BGS is a much less constraining probe than ELG\n",
    "- Fixing the nuisance parameters provides the smallest errors on the full combination\n",
    "- Marginalizing first over the nuisances and adding Fisher matrices is the same as adding them in full and then marginalizing over the nuisance parameters."
   ]
  },
  {
   "cell_type": "code",
   "execution_count": null,
   "metadata": {},
   "outputs": [],
   "source": [
    "fish_plotter.plot_fisher(filled=False)"
   ]
  },
  {
   "cell_type": "markdown",
   "metadata": {},
   "source": [
    "### Combine Spectroscopic and Photometric observations"
   ]
  },
  {
   "cell_type": "code",
   "execution_count": null,
   "metadata": {},
   "outputs": [],
   "source": [
    "Spectroscopic_fish_dic.keys()"
   ]
  },
  {
   "cell_type": "code",
   "execution_count": null,
   "metadata": {},
   "outputs": [],
   "source": [
    "Photometric_fish_dic.keys()"
   ]
  },
  {
   "cell_type": "code",
   "execution_count": null,
   "metadata": {},
   "outputs": [],
   "source": [
    "Fisher_Rubin_3x2photo = Photometric_fish_dic['w0waCDM_external_camb_HP-Rubin-Optimistic']\n",
    "Fisher_Euclid_3x2photo = Photometric_fish_dic['w0waCDM_external_camb_HP-Euclid-ISTF-Optimistic']\n",
    "Fisher_Euclid_GCspectro = Spectroscopic_fish_dic['w0waCDM_external_camb_HP-3PT-Euclid-ISTF-Optimistic']"
   ]
  },
  {
   "cell_type": "code",
   "execution_count": null,
   "metadata": {},
   "outputs": [],
   "source": [
    "Fisher_Euclid_combined = Fisher_Euclid_GCspectro + Fisher_Euclid_3x2photo\n",
    "print(\"Euclid Combined Fisher matrix for GC spectro + 3x2pt photometric\")\n",
    "for pp,ff,ss in zip(Fisher_Euclid_combined.get_param_names(), Fisher_Euclid_combined.get_param_fiducial(), Fisher_Euclid_combined.get_confidence_bounds()):\n",
    "    print(\"Parameter name {:s}, fiducial={:.4f}, 1sigma bound: {:.2e}\".format(pp,ff,ss))"
   ]
  },
  {
   "cell_type": "code",
   "execution_count": null,
   "metadata": {},
   "outputs": [],
   "source": [
    "Fisher_RubinDESI_combined = Fisher_DESI_EB_full + Fisher_Rubin_3x2photo\n",
    "print(\"Rubin+DESI Combined Fisher matrix for GC spectro + 3x2pt photometric\")\n",
    "for pp,ff,ss in zip(Fisher_RubinDESI_combined.get_param_names(), Fisher_RubinDESI_combined.get_param_fiducial(), Fisher_RubinDESI_combined.get_confidence_bounds()):\n",
    "    print(\"Parameter name {:s}, fiducial={:.4f}, 1sigma bound: {:.2e}\".format(pp,ff,ss))"
   ]
  },
  {
   "cell_type": "code",
   "execution_count": null,
   "metadata": {},
   "outputs": [],
   "source": [
    "plot_options = {'fishers_list': [Fisher_Euclid_GCspectro, Fisher_DESI_EB_full, \n",
    "                                 Fisher_Euclid_combined, Fisher_RubinDESI_combined], \n",
    "                'colors': snscolors,\n",
    "                'fish_labels': ['Euclid GCsp', 'DESI ELG+BGS GCsp', 'Euclid GCsp + 3x2photo', 'DESI ELG+BGS GCsp + Rubin 3x2photo'],\n",
    "                'filled': False,\n",
    "                'plot_pars': cosmoparams,\n",
    "                'axis_custom_factors': {'all':3},  ## Axis limits cover 3-sigma bounds of first Fisher matrix\n",
    "                'plot_method': 'Gaussian',\n",
    "                'file_format': '.pdf',   ##file format for all the plots\n",
    "                'outpath' : './plots/',  ## directory where to store the files, if non-existent, it will be created\n",
    "                'outroot':'Euclid-Rubin-DESI-combined_w0waCDM'  ## file name root for all the plots, extra names can be added individually\n",
    "                } \n",
    "\n",
    "fish_plotter = fpp.fisher_plotting(**plot_options)\n",
    "fish_plotter.plot_fisher(filled=True)"
   ]
  },
  {
   "cell_type": "markdown",
   "metadata": {},
   "source": [
    "#### Compute FoM "
   ]
  },
  {
   "cell_type": "code",
   "execution_count": null,
   "metadata": {},
   "outputs": [],
   "source": [
    "import numpy as np"
   ]
  },
  {
   "cell_type": "code",
   "execution_count": null,
   "metadata": {},
   "outputs": [],
   "source": [
    "Fisher_Euclid_combined_w0wa_marg = fo.marginalise(Fisher_Euclid_combined, names=['w0', 'wa'])\n",
    "print(\"Euclid combined total DE FoM = {:.2f}\".format(np.sqrt(Fisher_Euclid_combined_w0wa_marg.determinant())))"
   ]
  },
  {
   "cell_type": "code",
   "execution_count": null,
   "metadata": {},
   "outputs": [],
   "source": [
    "Fisher_RubinDESI_combined_w0wa_marg = fo.marginalise(Fisher_RubinDESI_combined, names=['w0', 'wa'])\n",
    "print(\"Rubin + DESI combined total DE FoM = {:.2f}\".format(np.sqrt(Fisher_RubinDESI_combined_w0wa_marg.determinant())))"
   ]
  },
  {
   "cell_type": "code",
   "execution_count": null,
   "metadata": {},
   "outputs": [],
   "source": [
    "print(Fisher_RubinDESI_combined_w0wa_marg.fisher_matrix)\n",
    "print(Fisher_Euclid_combined_w0wa_marg.fisher_matrix)"
   ]
  },
  {
   "cell_type": "code",
   "execution_count": null,
   "metadata": {},
   "outputs": [],
   "source": [
    "plot_options = {'fishers_list': [Fisher_Euclid_combined, Fisher_RubinDESI_combined], \n",
    "                'colors': snscolors,\n",
    "                'fish_labels': ['Euclid GCsp + 3x2photo', 'DESI ELG+BGS GCsp + Rubin 3x2photo'],\n",
    "                'filled': False,\n",
    "                'plot_pars': ['w0','wa'],\n",
    "                'axis_custom_factors': {'all':3},  ## Axis limits cover 3-sigma bounds of first Fisher matrix\n",
    "                'plot_method': 'Gaussian',\n",
    "                'file_format': '.pdf',   ##file format for all the plots\n",
    "                'outpath' : './plots/',  ## directory where to store the files, if non-existent, it will be created\n",
    "                'outroot':'Euclid-Rubin-DESI-combined_w0wa-only'  ## file name root for all the plots, extra names can be added individually\n",
    "                } \n",
    "\n",
    "fish_plotter = fpp.fisher_plotting(**plot_options)\n",
    "fish_plotter.plot_fisher(filled=False)"
   ]
  },
  {
   "cell_type": "code",
   "execution_count": null,
   "metadata": {},
   "outputs": [],
   "source": []
  }
 ],
 "metadata": {
  "hide_input": false,
  "interpreter": {
   "hash": "6de7e2f7ee95035bf0c6e476fd00bafd31c302653b763246190ee2d75deeceb1"
  },
  "kernelspec": {
   "display_name": "Python 3.8.12 ('cosmicfish')",
   "language": "python",
   "name": "python3"
  },
  "language_info": {
   "codemirror_mode": {
    "name": "ipython",
    "version": 3
   },
   "file_extension": ".py",
   "mimetype": "text/x-python",
   "name": "python",
   "nbconvert_exporter": "python",
   "pygments_lexer": "ipython3",
   "version": "3.10.13"
  },
  "toc": {
   "base_numbering": 1,
   "nav_menu": {},
   "number_sections": true,
   "sideBar": true,
   "skip_h1_title": false,
   "title_cell": "Table of Contents",
   "title_sidebar": "Contents",
   "toc_cell": false,
   "toc_position": {},
   "toc_section_display": true,
   "toc_window_display": false
  }
 },
 "nbformat": 4,
 "nbformat_minor": 2
}
