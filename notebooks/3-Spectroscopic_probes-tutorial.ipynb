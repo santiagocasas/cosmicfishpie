{
 "cells": [
  {
   "cell_type": "markdown",
   "metadata": {},
   "source": [
    "# CosmicFishPie"
   ]
  },
  {
   "cell_type": "code",
   "execution_count": null,
   "metadata": {},
   "outputs": [],
   "source": [
    "import matplotlib.pyplot as plt\n",
    "from matplotlib.colors import ListedColormap\n",
    "import seaborn as sns\n",
    "import numpy as np\n",
    "\n",
    "snscolors = sns.color_palette(\"colorblind\")\n",
    "snscolors"
   ]
  },
  {
   "cell_type": "code",
   "execution_count": null,
   "metadata": {},
   "outputs": [],
   "source": [
    "from cosmicfishpie.fishermatrix import cosmicfish\n",
    "from cosmicfishpie.LSSsurvey import spectro_obs as spobs\n",
    "from cosmicfishpie.analysis import fisher_plotting as fpp"
   ]
  },
  {
   "cell_type": "markdown",
   "metadata": {},
   "source": [
    "# Table of Contents\n",
    "\n",
    "[Options](#settings)\n",
    "\n",
    "[Cosmology Parameters](#cosmology-parameters)\n",
    "\n",
    "[Spectroscopic Power Spectrum](#spectroscopic-power-spectrum)"
   ]
  },
  {
   "cell_type": "markdown",
   "metadata": {},
   "source": [
    "# Settings"
   ]
  },
  {
   "cell_type": "code",
   "execution_count": null,
   "metadata": {},
   "outputs": [],
   "source": [
    "# Base options for CosmicFishPie\n",
    "options = {\n",
    "    \"accuracy\": 1,\n",
    "    \"feedback\": 1,\n",
    "    \"code\": \"camb\",\n",
    "    \"outroot\": \"Euclid_Demo-GCsp-Pess-class\",\n",
    "    \"survey_name\": \"Euclid\",\n",
    "    \"survey_name_spectro\": \"Euclid-Spectroscopic-ISTF-Superpessimistic\",\n",
    "    \"survey_name_photo\": False,\n",
    "    \"cosmo_model\": \"w0waCDM\",\n",
    "    \"bfs8terms\": False,\n",
    "}"
   ]
  },
  {
   "cell_type": "code",
   "execution_count": null,
   "metadata": {},
   "outputs": [],
   "source": [
    "# Options to vary the parameters for the non-linear description of the observed power spectrum \n",
    "specs = {\n",
    "    \"nonlinear_model\": \"rescale_sigma_pv\",\n",
    "    \"nonlinear_parametrization\": {\n",
    "        \"rescale_sigmav\": True,\n",
    "        \"rescale_sigmap\": True,\n",
    "        \"rescale_sigma_pv\": {\n",
    "            \"sigmap_1\": 1.0,\n",
    "            \"sigmap_2\": 1.0,\n",
    "            \"sigmap_3\": 1.0,\n",
    "            \"sigmap_4\": 1.0,\n",
    "            \"sigmav_1\": 1.0,\n",
    "            \"sigmav_2\": 1.0,\n",
    "            \"sigmav_3\": 1.0,\n",
    "            \"sigmav_4\": 1.0,\n",
    "        }\n",
    "    }\n",
    "}"
   ]
  },
  {
   "cell_type": "code",
   "execution_count": null,
   "metadata": {},
   "outputs": [],
   "source": [
    "observables = [\"GCsp\"]"
   ]
  },
  {
   "cell_type": "code",
   "execution_count": null,
   "metadata": {},
   "outputs": [],
   "source": []
  },
  {
   "cell_type": "markdown",
   "metadata": {},
   "source": [
    "# Cosmology Parameters"
   ]
  },
  {
   "cell_type": "code",
   "execution_count": null,
   "metadata": {},
   "outputs": [],
   "source": [
    "fiducial = {\n",
    "    \"Omegam\": 0.32,\n",
    "    \"Omegab\": 0.05,\n",
    "    \"h\": 0.67,\n",
    "    \"ns\": 0.96,\n",
    "    \"sigma8\": 0.815584,\n",
    "    \"w0\": -1.0,\n",
    "    \"wa\": 0.0,\n",
    "    \"mnu\": 0.06,\n",
    "    \"Neff\": 3.044,\n",
    "}"
   ]
  },
  {
   "cell_type": "code",
   "execution_count": null,
   "metadata": {},
   "outputs": [],
   "source": []
  },
  {
   "cell_type": "markdown",
   "metadata": {},
   "source": [
    "### Pass options and settings to Cosmicfishpie\n",
    "\n",
    "We set the survey to `Euclid-Spectroscopic-ISTF-Pessimistic` setting the default settings for the galaxy biases, modeling choices for red shift space distortions and computation of non-linearity"
   ]
  },
  {
   "cell_type": "code",
   "execution_count": null,
   "metadata": {},
   "outputs": [],
   "source": [
    "cosmoFM = cosmicfish.FisherMatrix(\n",
    "    fiducialpars=fiducial,\n",
    "    options=options,\n",
    "    specifications=specs,\n",
    "    observables=observables,\n",
    "    cosmoModel=options[\"cosmo_model\"],\n",
    "    surveyName=options[\"survey_name\"],\n",
    ")"
   ]
  },
  {
   "cell_type": "code",
   "execution_count": null,
   "metadata": {},
   "outputs": [],
   "source": [
    "cosmoFM.freeparams"
   ]
  },
  {
   "cell_type": "markdown",
   "metadata": {},
   "source": [
    "# Spectroscopic Power Spectrum"
   ]
  },
  {
   "cell_type": "markdown",
   "metadata": {},
   "source": [
    "The observed power spectrum of galaxies can be related to the mater power spectrum by \n",
    "\n",
    "$$\n",
    "P^\\mathrm{th} = q_\\| \\times  q_\\perp^2 \\times K \\times \\mathrm{FoG} \\times \\mathrm{Err} \\times P_{mm} + P^\\mathrm{shot}.\n",
    "$$\n",
    "The factors in front are due to different observational effects. The factor $q_\\|$ and $q_\\perp$ are coming from the fact that we can only observe the redshift of galaxies and not their position.\n",
    "To calculate the power spectrum we have to settle for a reference transformation. If this is different from the cosmology we used to compute the power spectrum in, we find \n",
    "$$\n",
    "q_\\| = H(z)/H^\\mathrm{ref}(z) \\quad\\text{and}\\quad q_\\perp = D_A^\\mathrm{ref}(z)/D_A(z)\n",
    "$$\n",
    "\n",
    "The factors $q_\\mathrm{RSD}$ and $q_\\mathrm{FOG}$ describe redshift space distortions and are given by\n",
    "$$\n",
    "K = \\left(b+f\\,\\mu^2\\right)^2\\\\\n",
    "\\mathrm{FoG} = 1+\\left[f\\,\\sigma_p\\,\\mu^2\\right]^2\n",
    "\n",
    "$$\n",
    "where $\\mu$ denotes the angle under which we observe the structures.\n",
    "The factor $q_\\sigma$ is due to the resolution of the instrument and is given by\n",
    "$$\n",
    "\\mathrm{Err} = \\exp\\left[-\\sigma^2_\\|\\, k^2\\, \\mu^2 -\\sigma_\\perp^2 \\,k^2\\,\\left(1- \\mu^2\\right)\\right].\n",
    "$$\n",
    "Finaly, $P^\\mathrm{shot}$ just is a constant term we add for shot noise.\n",
    "The nonlinear power spectrum $P_{mm}$ is approximated as \n",
    "$$\n",
    "P_{mm} \\approx P_{dw} \\coloneqq P_{mm}^\\mathrm{lin}\\,e^{-g} + P_{mm}\\,(1-e^g),\\\\\n",
    "g= \\sigma_v^2 k^2\\, \\left((1-\\mu^2)+\\mu^2(1+f)^2\\right)\n",
    "$$"
   ]
  },
  {
   "cell_type": "code",
   "execution_count": null,
   "metadata": {},
   "outputs": [],
   "source": [
    "spectro_Pk = spobs.ComputeGalSpectro(cosmoFM.fiducialcosmopars)"
   ]
  },
  {
   "cell_type": "code",
   "execution_count": null,
   "metadata": {},
   "outputs": [],
   "source": [
    "print(spectro_Pk.spectrobiaspars)\n",
    "print(\"bias term at z=1.0: \", spectro_Pk.bterm_fid(1.0, bias_sample=\"g\"))\n",
    "print(\"bias term at z=1.2: \", spectro_Pk.bterm_fid(1.2, bias_sample=\"g\"))\n",
    "print(\"bias term at z=1.4: \", spectro_Pk.bterm_fid(1.4, bias_sample=\"g\"))\n",
    "print(\"bias term at z=1.65: \", spectro_Pk.bterm_fid(1.65, bias_sample=\"g\"))"
   ]
  },
  {
   "cell_type": "markdown",
   "metadata": {},
   "source": [
    "### \"De-wiggling\" of the Power Spectrum\n",
    "\n",
    "To calculate the observed power spectrum we need to dewiggle it to find the non linear correction "
   ]
  },
  {
   "cell_type": "code",
   "execution_count": null,
   "metadata": {},
   "outputs": [],
   "source": [
    "\n",
    "z = 1\n",
    "kk = np.logspace(-2, np.log10(0.4), 200)\n",
    "\n",
    "fig, axs = plt.subplots(1, 2, figsize=(18, 8))\n",
    "\n",
    "color = iter(snscolors)\n",
    "\n",
    "c = next(color)\n",
    "axs[0].loglog(kk, spectro_Pk.cosmo.Pmm(z, kk), c=c, label=\"$P_\\mathrm{mm}$\")\n",
    "c = next(color)\n",
    "axs[0].loglog(kk, spectro_Pk.cosmo.nonwiggle_pow(z, kk), c=c, label=\"$P_\\mathrm{nw}$\")\n",
    "axs[0].set_xlabel(r\"$k$ [$\\mathrm{Mpc}^{-1}$]\", fontsize=20)\n",
    "axs[0].set_ylabel(r\"Power Spectrum $P(k)$ [$\\mathrm{Mpc}^{3}$]\", fontsize=20)\n",
    "axs[0].legend(fontsize=20)\n",
    "axs[0].set_xlim([1e-2, 0.4])\n",
    "\n",
    "colormap_mu = sns.color_palette(\"rocket\")\n",
    "colors = iter(colormap_mu)\n",
    "mus = np.linspace(0, 1, 6)\n",
    "\n",
    "sm_mu = plt.cm.ScalarMappable(cmap=ListedColormap(colormap_mu), norm=plt.Normalize(vmin=mus.min(), vmax=mus.max()))\n",
    "sm_mu.set_array([])\n",
    "\n",
    "for mu in mus:\n",
    "    c = next(colors)\n",
    "    axs[1].plot(kk, spectro_Pk.dewiggled_pdd(z, kk, mu) / spectro_Pk.normalized_pnw(z, kk), c=c)\n",
    "\n",
    "cbar_mu = fig.colorbar(sm_mu, ax=axs[1])\n",
    "cbar_mu.set_label('μ', fontsize=20, rotation=0)\n",
    "axs[1].set_xscale(\"log\")\n",
    "axs[1].set_xlabel(r\"$k$ [$\\mathrm{Mpc}^{-1}$]\", fontsize=20)\n",
    "axs[1].set_ylabel(r\"$P_\\mathrm{dw}(k, \\mu)$/$P_\\mathrm{nw}(k, \\mu)$\", fontsize=20)\n",
    "axs[1].set_xlim([1e-2, 0.4])\n",
    "\n",
    "[ax.tick_params(which=\"major\", length=15, width=2, direction=\"in\") for ax in axs]\n",
    "[ax.tick_params(which=\"minor\", length=8, width=1, direction=\"in\") for ax in axs]\n",
    "[ax.minorticks_on() for ax in axs]\n",
    "[ax.tick_params(axis=\"both\", which=\"major\", labelsize=21) for ax in axs]\n",
    "[ax.tick_params(axis=\"both\", which=\"minor\", labelsize=15) for ax in axs]\n",
    "\n",
    "plt.show()"
   ]
  },
  {
   "cell_type": "markdown",
   "metadata": {},
   "source": [
    "#### Compute the observed power spectrum at different redshifts and different angles "
   ]
  },
  {
   "cell_type": "code",
   "execution_count": null,
   "metadata": {},
   "outputs": [],
   "source": [
    "fig, axs = plt.subplots(1, 2, figsize=(18, 8))\n",
    "\n",
    "colormap_z = sns.color_palette(\"autumn\", 8)\n",
    "colors_z = iter(colormap_z)\n",
    "zz = np.linspace(1, 1.7, 8)\n",
    "\n",
    "sm_z = plt.cm.ScalarMappable(cmap=ListedColormap(colormap_z), norm=plt.Normalize(vmin=zz.min(), vmax=zz.max()))\n",
    "sm_z.set_array([])\n",
    "\n",
    "zz = np.linspace(1, 1.7, 8)\n",
    "for z in zz:\n",
    "    c = next(colors_z)\n",
    "    axs[0].loglog(kk, spectro_Pk.observed_Pgg(z, kk, 1), c=c)\n",
    "\n",
    "axs[0].set_xlabel(r\"$k$ [$\\mathrm{Mpc}^{-1}$]\", fontsize=20)\n",
    "axs[0].set_ylabel(r\"$P(k,z,\\mu=1)[\\mathrm{Mpc}^3]$\", fontsize=20)\n",
    "axs[0].set_xlim([1e-2, 0.4])\n",
    "axs[0].set_ylim([5*1e1, 5*1e5])\n",
    "cbar_z = fig.colorbar(sm_z, ax=axs[0])\n",
    "cbar_z.set_label('z', fontsize=20, rotation=0)\n",
    "\n",
    "colormap_mu = sns.color_palette(\"rocket\", 6)\n",
    "colors_mu = iter(colormap_mu)\n",
    "mus = np.linspace(1, 0, 6)\n",
    "sm_mu = plt.cm.ScalarMappable(cmap=ListedColormap(colormap_mu), norm=plt.Normalize(vmin=mus.min(), vmax=mus.max()))\n",
    "sm_mu.set_array([])\n",
    "\n",
    "for mu in mus:\n",
    "    c = next(colors_mu)\n",
    "    axs[1].loglog(kk, spectro_Pk.observed_Pgg(1, kk, mu), c=c)\n",
    "\n",
    "axs[1].set_xlabel(r\"$k$ [$\\mathrm{Mpc}^{-1}$]\", fontsize=20)\n",
    "axs[1].set_ylabel(r\"$P(k,z=1,\\mu)[\\mathrm{Mpc}^3]$\", fontsize=20)\n",
    "axs[1].set_xlim([1e-2, 0.4])\n",
    "axs[1].set_ylim([5*1e1, 5*1e5])\n",
    "cbar_mu = fig.colorbar(sm_mu, ax=axs[1])\n",
    "cbar_mu.set_label('μ', fontsize=20, rotation=0)\n",
    "\n",
    "[ax.tick_params(which=\"major\", length=15, width=2, direction=\"in\") for ax in axs]\n",
    "[ax.tick_params(which=\"minor\", length=8, width=1, direction=\"in\") for ax in axs]\n",
    "[ax.minorticks_on() for ax in axs]\n",
    "[ax.tick_params(axis=\"both\", which=\"major\", labelsize=21, pad=10) for ax in axs]\n",
    "[ax.tick_params(axis=\"both\", which=\"minor\", labelsize=15) for ax in axs]\n",
    "plt.tight_layout()\n",
    "plt.show()"
   ]
  },
  {
   "cell_type": "markdown",
   "metadata": {},
   "source": [
    "### Compare the Power Spectrum from two different cosmologies"
   ]
  },
  {
   "cell_type": "code",
   "execution_count": null,
   "metadata": {},
   "outputs": [],
   "source": [
    "sample = {\n",
    "    \"Omegam\": 0.32,\n",
    "    \"Omegab\": 0.06,  # 20% higher than the fiducial\n",
    "    \"h\": 0.737,  # 10% higher than the fiducal\n",
    "    \"ns\": 0.96,\n",
    "    \"sigma8\": 0.815584,\n",
    "    \"w0\": -1.0,\n",
    "    \"wa\": 0.0,\n",
    "    \"mnu\": 0.06,\n",
    "    \"Neff\": 3.044,\n",
    "}\n",
    "\n",
    "spectro_Pk_sampled = spobs.ComputeGalSpectro(sample, cosmoFM.fiducialcosmopars)"
   ]
  },
  {
   "cell_type": "code",
   "execution_count": null,
   "metadata": {},
   "outputs": [],
   "source": [
    "fig, axs = plt.subplots(1, 2, figsize=(18, 8))\n",
    "\n",
    "colormap = sns.color_palette(\"colorblind\")\n",
    "colors = iter(colormap)\n",
    "\n",
    "c = next(colors)\n",
    "axs[0].loglog(kk, spectro_Pk.observed_Pgg(1, kk, 1), c=c, label=\"fiducal\")\n",
    "\n",
    "c = next(colors)\n",
    "axs[0].loglog(kk, spectro_Pk_sampled.observed_Pgg(1, kk, 1), c=c, label=\"sample\")\n",
    "\n",
    "axs[0].set_xlabel(r\"$k$ [$\\mathrm{Mpc}^{-1}$]\", fontsize=20)\n",
    "axs[0].set_ylabel(r\"$P(k,z=1,\\mu=1)[\\mathrm{Mpc}^3]$\", fontsize=20)\n",
    "axs[0].set_xlim([1e-2, 0.4])\n",
    "axs[0].legend(fontsize=20)\n",
    "axs[0].set_xscale(\"log\")\n",
    "\n",
    "axs[1].plot(\n",
    "    kk,\n",
    "    (spectro_Pk.observed_Pgg(1, kk, 1) - spectro_Pk_sampled.observed_Pgg(1, kk, 1))\n",
    "    / (spectro_Pk.observed_Pgg(1, kk, 1) + spectro_Pk_sampled.observed_Pgg(1, kk, 1))\n",
    "    * 200,\n",
    "    c=\"black\",\n",
    ")\n",
    "\n",
    "axs[1].set_xlabel(r\"$k$ [$\\mathrm{Mpc}^{-1}$]\", fontsize=20)\n",
    "axs[1].set_ylabel(r\"% deviation of Power Spectra\", fontsize=20)\n",
    "axs[1].set_xlim([1e-2, 0.4])\n",
    "axs[1].set_xscale(\"log\")\n",
    "\n",
    "[ax.tick_params(which=\"major\", length=15, width=2, direction=\"in\") for ax in axs]\n",
    "[ax.tick_params(which=\"minor\", length=8, width=1, direction=\"in\") for ax in axs]\n",
    "[ax.minorticks_on() for ax in axs]\n",
    "[ax.tick_params(axis=\"both\", which=\"major\", labelsize=21, pad=10) for ax in axs]\n",
    "[ax.tick_params(axis=\"both\", which=\"minor\", labelsize=15) for ax in axs]\n",
    "\n",
    "plt.show()"
   ]
  },
  {
   "cell_type": "code",
   "execution_count": null,
   "metadata": {},
   "outputs": [],
   "source": []
  },
  {
   "cell_type": "markdown",
   "metadata": {},
   "source": [
    "# Fisher Matrix Spectro"
   ]
  },
  {
   "cell_type": "markdown",
   "metadata": {},
   "source": [
    "After we have learned how to extract the observable for the spectroscopic we will perform a Fisher forecast"
   ]
  },
  {
   "cell_type": "code",
   "execution_count": null,
   "metadata": {},
   "outputs": [],
   "source": [
    "freepars = [key for key in cosmoFM.freeparams.keys()]\n",
    "freepars"
   ]
  },
  {
   "cell_type": "code",
   "execution_count": null,
   "metadata": {},
   "outputs": [],
   "source": [
    "fisher = cosmoFM.compute()"
   ]
  },
  {
   "cell_type": "markdown",
   "metadata": {},
   "source": [
    "The Fisher matrix was computed varying the non-linear parameters. This effect of this modeling choice can be studied by comparaing it to the Fisher with the parameters fixed. "
   ]
  },
  {
   "cell_type": "code",
   "execution_count": null,
   "metadata": {},
   "outputs": [],
   "source": [
    "from cosmicfishpie.analysis.fisher_operations import eliminate_parameters\n",
    "from cosmicfishpie.analysis.fisher_plotting import fisher_plotting"
   ]
  },
  {
   "cell_type": "code",
   "execution_count": null,
   "metadata": {},
   "outputs": [],
   "source": [
    "fisher_fixed = eliminate_parameters(\n",
    "    fisher,\n",
    "    [\n",
    "        \"sigmap_1\", \"sigmav_1\",\n",
    "        \"sigmap_2\", \"sigmav_2\",\n",
    "        \"sigmap_3\", \"sigmav_3\",\n",
    "        \"sigmap_4\", \"sigmav_4\",\n",
    "    ]\n",
    ")\n",
    "\n",
    "fisherlist = [fisher, fisher_fixed]\n",
    "plotpars = [\"Omegam\", \"Omegab\", \"h\", \"w0\"]"
   ]
  },
  {
   "cell_type": "code",
   "execution_count": null,
   "metadata": {},
   "outputs": [],
   "source": [
    "plot_options = {'fishers_list': fisherlist, \n",
    "                'colors': [snscolors[i] for i in range(len(fisherlist))],\n",
    "                'fish_labels': ['Euclid GCsp', \"Euclid GCsp Fixed NL\"],\n",
    "                'plot_pars': plotpars,\n",
    "                'axis_custom_factors': {'all': 3},  ## Axis limits cover 3-sigma bounds of first Fisher matrix\n",
    "                'plot_method': 'Gaussian',\n",
    "                'file_format': '.pdf',   ##file format for all the plots\n",
    "                'outpath' : './plots/',  ## directory where to store the files, if non-existent, it will be created\n",
    "                'outroot':'Euclid-comparison_w0waCDM_GCsp'  ## file name root for all the plots, extra names can be added individually\n",
    "                } "
   ]
  },
  {
   "cell_type": "code",
   "execution_count": null,
   "metadata": {},
   "outputs": [],
   "source": [
    "fish_plotter = fisher_plotting(**plot_options)\n",
    "fish_plotter.plot_fisher(filled=False)"
   ]
  }
 ],
 "metadata": {
  "kernelspec": {
   "display_name": "fishconsumer",
   "language": "python",
   "name": "python3"
  },
  "language_info": {
   "codemirror_mode": {
    "name": "ipython",
    "version": 3
   },
   "file_extension": ".py",
   "mimetype": "text/x-python",
   "name": "python",
   "nbconvert_exporter": "python",
   "pygments_lexer": "ipython3",
   "version": "3.12.3"
  }
 },
 "nbformat": 4,
 "nbformat_minor": 2
}
