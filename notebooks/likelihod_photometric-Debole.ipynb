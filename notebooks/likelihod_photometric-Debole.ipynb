{
 "cells": [
  {
   "cell_type": "code",
   "execution_count": 1,
   "metadata": {},
   "outputs": [],
   "source": [
    "import seaborn as sns\n",
    "import numpy as np\n",
    "import logging\n",
    "from itertools import product\n",
    "from copy import deepcopy, copy\n",
    "from collections.abc import Sequence"
   ]
  },
  {
   "cell_type": "code",
   "execution_count": 2,
   "metadata": {},
   "outputs": [],
   "source": [
    "from cosmicfishpie.fishermatrix import cosmicfish\n",
    "from cosmicfishpie.LSSsurvey import photo_obs as pobs\n",
    "from cosmicfishpie.LSSsurvey import photo_cov as pcov\n",
    "from cosmicfishpie.utilities.utils import printing as upr\n",
    "from nautilus import Prior\n",
    "from nautilus import Sampler\n",
    "import re\n",
    "import time"
   ]
  },
  {
   "cell_type": "code",
   "execution_count": 3,
   "metadata": {},
   "outputs": [],
   "source": [
    "snscolors = sns.color_palette(\"colorblind\")\n",
    "def is_indexable_iterable(var):\n",
    "    return isinstance(var, (list, np.ndarray, Sequence)) and not isinstance(var, (str, bytes))\n"
   ]
  },
  {
   "cell_type": "code",
   "execution_count": 4,
   "metadata": {},
   "outputs": [],
   "source": [
    "logger = logging.getLogger(\"cosmicfishpie.cosmology.nuisance\")\n",
    "logger.setLevel(logging.INFO)"
   ]
  },
  {
   "cell_type": "code",
   "execution_count": 5,
   "metadata": {},
   "outputs": [],
   "source": [
    "upr.debug = False"
   ]
  },
  {
   "cell_type": "code",
   "execution_count": 6,
   "metadata": {},
   "outputs": [],
   "source": [
    "upr.debug_print(\"test\")"
   ]
  },
  {
   "cell_type": "code",
   "execution_count": 7,
   "metadata": {},
   "outputs": [],
   "source": [
    "outroot = \"cosmicjellyfish_Euclid-DeboleR1-3x2photo_symb_withnuis\""
   ]
  },
  {
   "cell_type": "code",
   "execution_count": 8,
   "metadata": {},
   "outputs": [],
   "source": [
    "sampler_settings = {\n",
    "    \"n_live\": 2000,\n",
    "    \"n_networks\": 16,\n",
    "    \"n_batch\": 256,\n",
    "    \"pool\": 8,\n",
    "}"
   ]
  },
  {
   "cell_type": "code",
   "execution_count": 9,
   "metadata": {},
   "outputs": [],
   "source": [
    "fiducial = {\n",
    "    \"Omegam\": 0.3145714273,\n",
    "    \"Omegab\": 0.0491989,\n",
    "    \"h\": 0.6737,\n",
    "    \"ns\": 0.96605,\n",
    "    \"sigma8\": 0.81,\n",
    "    \"w0\": -1.0,\n",
    "    \"wa\": 0.0,\n",
    "    \"mnu\": 0.06,\n",
    "    \"Neff\": 3.044,\n",
    "}\n",
    "observables = ['WL', 'GCph']"
   ]
  },
  {
   "cell_type": "code",
   "execution_count": null,
   "metadata": {},
   "outputs": [],
   "source": [
    "options = {\n",
    "    \"accuracy\": 1,\n",
    "    \"feedback\": 1,\n",
    "    \"code\": \"symbolic\",\n",
    "    \"outroot\": outroot,\n",
    "    \"survey_name\": \"Euclid\",\n",
    "    \"survey_name_photo\": \"Euclid-Photometric-DeboleR1\",\n",
    "    \"survey_name_spectro\": False,\n",
    "    \"specs_dir\": \"../cosmicfishpie/configs/other_survey_specifications/\",\n",
    "    \"cosmo_model\": \"LCDM\",\n",
    "}\n",
    "cosmoFM_fid = cosmicfish.FisherMatrix(\n",
    "    fiducialpars=fiducial,\n",
    "    options=options,\n",
    "    observables=observables,\n",
    "    cosmoModel=options[\"cosmo_model\"],\n",
    "    surveyName=options[\"survey_name\"],\n",
    ")"
   ]
  },
  {
   "cell_type": "code",
   "execution_count": null,
   "metadata": {},
   "outputs": [],
   "source": [
    "cosmoFM_fid.IApars"
   ]
  },
  {
   "cell_type": "code",
   "execution_count": 12,
   "metadata": {},
   "outputs": [],
   "source": [
    "photo_fid = pobs.ComputeCls(cosmopars=cosmoFM_fid.fiducialcosmopars,\n",
    "                            photopars=cosmoFM_fid.photopars,\n",
    "                            IApars=cosmoFM_fid.IApars,\n",
    "                            biaspars=cosmoFM_fid.photobiaspars)\n",
    "\n",
    "photo_fid.compute_all()\n",
    "\n",
    "photo_cov_fid = pcov.PhotoCov(cosmopars=cosmoFM_fid.fiducialcosmopars,\n",
    "    photopars=cosmoFM_fid.photopars,\n",
    "    IApars=cosmoFM_fid.IApars,\n",
    "    biaspars=cosmoFM_fid.photobiaspars,\n",
    "    fiducial_Cls=photo_fid)"
   ]
  },
  {
   "cell_type": "code",
   "execution_count": null,
   "metadata": {},
   "outputs": [],
   "source": [
    "photo_cov_fid.allparsfid"
   ]
  },
  {
   "cell_type": "code",
   "execution_count": null,
   "metadata": {},
   "outputs": [],
   "source": [
    "print(photo_fid.binrange_WL)\n",
    "print(photo_fid.binrange_GCph)\n",
    "print(photo_cov_fid.ngalbin_WL)\n",
    "print(photo_cov_fid.ngalbin_GCph)"
   ]
  },
  {
   "cell_type": "code",
   "execution_count": 15,
   "metadata": {},
   "outputs": [],
   "source": [
    "def observable_Cell(photo_th: pobs.ComputeCls):\n",
    "    photo_th.compute_all()\n",
    "    binrange_GCph = photo_th.binrange_GCph\n",
    "    binrange_WL = photo_th.binrange_WL\n",
    "    nbin_GCph = len(binrange_GCph)\n",
    "    nbin_WL = len(binrange_WL)\n",
    "\n",
    "    ells = photo_th.result[\"ells\"]\n",
    "    output = dict(ells=ells)\n",
    "\n",
    "    observables = photo_th.observables\n",
    "    if \"WL\" in observables:\n",
    "        Cell_LL = np.empty((len(ells), nbin_WL, nbin_WL), dtype=np.float64)\n",
    "    if \"GCph\" in observables:\n",
    "        Cell_GG = np.empty((len(ells), nbin_GCph, nbin_GCph), dtype=np.float64)\n",
    "    if \"WL\" in observables and \"GCph\" in observables:\n",
    "        Cell_GL = np.empty((len(ells), nbin_GCph, nbin_WL), dtype=np.float64)\n",
    "\n",
    "    for i,j in product(binrange_WL, binrange_GCph):\n",
    "\n",
    "        if \"WL\" in observables:\n",
    "            Cell_LL[:,i-1,j-1] = (photo_th.result[\"WL {}xWL {}\".format(i,j)]\n",
    "                                  + np.eye(nbin_WL)[i-1,j-1]\n",
    "                                  * photo_cov_fid.ellipt_error**2.0 / photo_cov_fid.ngalbin_WL[i-1]\n",
    "                                  )\n",
    "\n",
    "        if \"GCph\" in observables:\n",
    "            Cell_GG[:,i-1,j-1] = (photo_th.result[\"GCph {}xGCph {}\".format(i,j)]\n",
    "                                  + np.eye(nbin_GCph)[i-1,j-1]\n",
    "                                  * 1 / photo_cov_fid.ngalbin_GCph[i-1]\n",
    "                                  )\n",
    "\n",
    "        if \"WL\" in observables and \"GCph\" in observables:\n",
    "            Cell_GL[:,i-1,j-1] = photo_th.result[\"GCph {}xWL {}\".format(i,j)]\n",
    "\n",
    "    if \"WL\" in observables:\n",
    "        output[\"Cell_LL\"] = Cell_LL\n",
    "    if \"GCph\" in observables:\n",
    "        output[\"Cell_GG\"] = Cell_GG\n",
    "    if \"WL\" in observables and \"GCph\" in observables:\n",
    "        output[\"Cell_GL\"] = Cell_GL\n",
    "\n",
    "    return output"
   ]
  },
  {
   "cell_type": "code",
   "execution_count": null,
   "metadata": {},
   "outputs": [],
   "source": [
    "Cells_fid = observable_Cell(photo_fid)\n",
    "print(Cells_fid.keys())"
   ]
  },
  {
   "cell_type": "code",
   "execution_count": null,
   "metadata": {},
   "outputs": [],
   "source": [
    "print(Cells_fid[\"Cell_LL\"].shape)\n",
    "print(Cells_fid[\"Cell_GG\"].shape)\n",
    "print(Cells_fid[\"Cell_GL\"].shape)"
   ]
  },
  {
   "cell_type": "code",
   "execution_count": null,
   "metadata": {},
   "outputs": [],
   "source": [
    "ellmax_WL = cosmoFM_fid.specs[\"lmax_WL\"]\n",
    "ellmax_GC = cosmoFM_fid.specs[\"lmax_GCph\"]\n",
    "ellmax_XC = np.minimum(ellmax_GC,ellmax_WL)\n",
    "nbins_Glob = min(len(list(photo_fid.binrange_WL)), len(list(photo_fid.binrange_GCph)))\n",
    "print(nbins_Glob)"
   ]
  },
  {
   "cell_type": "code",
   "execution_count": 19,
   "metadata": {},
   "outputs": [],
   "source": [
    "def compute_chi2_per_obs(Cell_fid, Cell_th, ells, dells):\n",
    "\n",
    "    dfid = np.linalg.det(Cell_fid)\n",
    "    dth = np.linalg.det(Cell_th)\n",
    "\n",
    "    nells = len(ells)\n",
    "    _, _, nbin = Cell_fid.shape\n",
    "\n",
    "    dmix = 0\n",
    "    for i in range(nbin):\n",
    "        Cth_mix = copy(Cell_th)\n",
    "        Cth_mix[:,i,:] = Cell_fid[:,i,:]\n",
    "        dmix += np.linalg.det(Cth_mix)\n",
    "\n",
    "    ingrd = (\n",
    "        (2*ells+1)\n",
    "        *(\n",
    "        dmix[:nells]/dth[:nells]\n",
    "        + np.log(dth[:nells]/dfid[:nells])\n",
    "        - nbin)\n",
    "    )\n",
    "    ingrd = [*((ingrd[1:]+ingrd[:-1])/2 * dells[:-1]), ingrd[-1]*dells[-1]]\n",
    "\n",
    "    chi2 = np.sum(ingrd)\n",
    "    return chi2"
   ]
  },
  {
   "cell_type": "code",
   "execution_count": 20,
   "metadata": {},
   "outputs": [],
   "source": [
    "def compute_chi2(Cells_fid, Cells_th):\n",
    "    \"\"\"\n",
    "    Compute χ² for wedges using fully vectorized operations.\n",
    "    Matches the loop implementation exactly.\n",
    "\n",
    "    Parameters:\n",
    "    ----------\n",
    "    Cells_fid: Dict\n",
    "\n",
    "    Cells_th: Dict\n",
    "\n",
    "    Returns:\n",
    "    -------\n",
    "    float\n",
    "        χ² value\n",
    "    \"\"\"\n",
    "    chi2 = 0\n",
    "    ells = Cells_fid[\"ells\"]\n",
    "\n",
    "    if \"WL\" in observables and not \"GCph\" in observables:\n",
    "        Cells_WL_th = Cells_th[\"Cell_LL\"]\n",
    "        Cells_WL_fid = Cells_fid[\"Cell_LL\"]\n",
    "\n",
    "        iWL = np.searchsorted(ells, ellmax_WL)\n",
    "        ells_WL = np.insert(ells, iWL, ellmax_WL)\n",
    "        Dl_WL = np.diff(ells_WL)[:iWL]\n",
    "        ells_WL = ells_WL[:iWL]\n",
    "\n",
    "        \n",
    "        chi2 += (\n",
    "            photo_cov_fid.fsky_WL\n",
    "            * compute_chi2_per_obs(Cells_WL_fid, Cells_WL_th, ells_WL, Dl_WL)\n",
    "        )\n",
    "\n",
    "    if \"GCph\" in observables and not \"WL\" in observables:\n",
    "        Cells_GC_th = Cells_th[\"Cell_GG\"]\n",
    "        Cells_GC_fid = Cells_fid[\"Cell_GG\"]\n",
    "\n",
    "        iGC = np.searchsorted(ells, ellmax_GC)\n",
    "        ells_GC = np.insert(ells, iGC, ellmax_GC)\n",
    "        Dl_GC = np.diff(ells_GC)[:iGC]\n",
    "        ells_GC = ells_GC[:iGC]\n",
    "\n",
    "        chi2 += (photo_cov_fid.fsky_GCph\n",
    "                 * compute_chi2_per_obs(Cells_GC_fid, Cells_GC_th, ells_GC, Dl_GC))\n",
    "\n",
    "    if \"GCph\" in observables and \"WL\" in observables:\n",
    "        Cells_XC_th = Cells_th[\"Cell_GL\"]\n",
    "        Cells_XC_fid = Cells_fid[\"Cell_GL\"]\n",
    "        Cells_GC_th = Cells_th[\"Cell_GG\"]\n",
    "        Cells_GC_fid = Cells_fid[\"Cell_GG\"]\n",
    "        Cells_WL_th = Cells_th[\"Cell_LL\"]\n",
    "        Cells_WL_fid = Cells_fid[\"Cell_LL\"]\n",
    "\n",
    "        iGC = np.searchsorted(ells, ellmax_GC)\n",
    "        ells_GC = np.insert(ells, iGC, ellmax_GC)\n",
    "        Dl_GC = np.diff(ells_GC)[:iGC]\n",
    "        ells_GC = ells_GC[:iGC]\n",
    "        iWL = np.searchsorted(ells, ellmax_WL)\n",
    "        ells_WL = np.insert(ells, iWL, ellmax_WL)\n",
    "        Dl_WL = np.diff(ells_WL)[:iWL]\n",
    "        ells_WL = ells_WL[:iWL]\n",
    "        iXC = np.searchsorted(ells, ellmax_XC)\n",
    "        ells_XC = np.insert(ells, iXC, ellmax_XC)\n",
    "        Dl_XC = np.diff(ells_XC)[:iXC]\n",
    "        ells_XC = ells_GC[:iXC]\n",
    "\n",
    "        big_th = np.block([[Cells_WL_th[:iXC],np.transpose(Cells_XC_th,(0,2,1))[:iXC]],\n",
    "                           [Cells_XC_th[:iXC], Cells_GC_th[:iXC]]])\n",
    "        big_fid = np.block([[Cells_WL_fid[:iXC],np.transpose(Cells_XC_fid,(0,2,1))[:iXC]],\n",
    "                           [Cells_XC_fid[:iXC], Cells_GC_fid[:iXC]]])\n",
    "\n",
    "        chi2 += np.sqrt(photo_cov_fid.fsky_WL*photo_cov_fid.fsky_GCph) * compute_chi2_per_obs(big_fid, big_th,ells_XC, Dl_XC)\n",
    "        chi2 += photo_cov_fid.fsky_WL * compute_chi2_per_obs(Cells_WL_fid[:iXC], Cells_WL_th[:iXC],ells_WL[:iXC], Dl_WL[:iXC])\n",
    "\n",
    "    return chi2"
   ]
  },
  {
   "cell_type": "code",
   "execution_count": 21,
   "metadata": {},
   "outputs": [],
   "source": [
    "def loglike(param_vec, prior=None):\n",
    "    \n",
    "    if type(param_vec) == dict:\n",
    "        param_dict = deepcopy(param_vec)\n",
    "    elif is_indexable_iterable(param_vec) and prior is not None:\n",
    "        #print(f'Loading prior with keys: {prior.keys}')\n",
    "        param_dict={key: param_vec[i] for i, key in enumerate(prior.keys)}\n",
    "    \n",
    "    photopars = deepcopy(cosmoFM_fid.photopars)\n",
    "    for ii, pp in enumerate(cosmoFM_fid.photopars.keys()):\n",
    "        photopars[ii] = param_dict.pop(pp, cosmoFM_fid.photopars[pp])\n",
    "    \n",
    "    photobiaspars = deepcopy(cosmoFM_fid.photobiaspars)\n",
    "    for ii, pp in enumerate(cosmoFM_fid.photobiaspars.keys()):\n",
    "        photobiaspars[pp] = param_dict.pop(pp, cosmoFM_fid.photobiaspars[pp])\n",
    "    \n",
    "    IApars = deepcopy(cosmoFM_fid.IApars)\n",
    "    for ii, pp in enumerate(cosmoFM_fid.IApars.keys()):\n",
    "        IApars[pp] = param_dict.pop(pp, cosmoFM_fid.IApars[pp])\n",
    "    \n",
    "    photo_vary = pobs.ComputeCls(\n",
    "        param_dict,\n",
    "        photopars,\n",
    "        IApars,\n",
    "        photobiaspars,\n",
    "        )\n",
    "    Cells_th = observable_Cell(photo_vary)\n",
    "\n",
    "    return -0.5 * compute_chi2(Cells_fid,Cells_th)"
   ]
  },
  {
   "cell_type": "code",
   "execution_count": null,
   "metadata": {},
   "outputs": [],
   "source": [
    "cosmoFM_fid.freeparams"
   ]
  },
  {
   "cell_type": "code",
   "execution_count": null,
   "metadata": {},
   "outputs": [],
   "source": [
    "cosmoFM_fid.allparams"
   ]
  },
  {
   "cell_type": "code",
   "execution_count": null,
   "metadata": {},
   "outputs": [],
   "source": [
    "samp1dic = {'Omegam': 0.3145714273,\n",
    " 'Omegab': 0.0491989,\n",
    " 'h': 0.6737,\n",
    " 'ns': 0.96605,\n",
    " 'sigma8': 0.81,\n",
    " 'w0': -1.0,\n",
    " 'wa': 0.0,\n",
    " 'mnu': 0.06,\n",
    " 'Neff': 3.044,\n",
    " 'bias_model': 'binned',\n",
    " 'b1': 1.0997727037892875,\n",
    " 'b2': 1.220245876862528,\n",
    " 'b3': 1.2723993083933989,\n",
    " 'b4': 1.316624471897739,\n",
    " 'b5': 1.35812370570578,\n",
    " 'b6': 1.3998214171814918,\n",
    " 'b7': 1.4446452851824907,\n",
    " 'b8': 1.4964959071110084,\n",
    " 'b9': 1.5652475842498528,\n",
    " 'b10': 1.7429859437184225,\n",
    " 'fout': 0.1,\n",
    " 'co': 1,\n",
    " 'cb': 1,\n",
    " 'sigma_o': 0.05,\n",
    " 'sigma_b': 0.05,\n",
    " 'zo': 0.1,\n",
    " 'zb': 0.0,\n",
    " 'IA_model': 'eNLA',\n",
    " 'AIA': 1.72,\n",
    " 'betaIA': 2.17,\n",
    " 'etaIA': -0.41*1.1}\n",
    "print(\"Sample likelihood\", loglike(samp1dic))"
   ]
  },
  {
   "cell_type": "code",
   "execution_count": null,
   "metadata": {},
   "outputs": [],
   "source": [
    "loglike(photo_cov_fid.allparsfid)"
   ]
  },
  {
   "cell_type": "code",
   "execution_count": null,
   "metadata": {},
   "outputs": [],
   "source": [
    "photo_cov_fid.allparsfid"
   ]
  },
  {
   "cell_type": "code",
   "execution_count": null,
   "metadata": {},
   "outputs": [],
   "source": [
    "fishmat_photo = cosmoFM_fid.compute()"
   ]
  },
  {
   "cell_type": "code",
   "execution_count": 28,
   "metadata": {},
   "outputs": [],
   "source": [
    "prior_nonuis = Prior()\n",
    "prior_withnuis = Prior()"
   ]
  },
  {
   "cell_type": "code",
   "execution_count": 29,
   "metadata": {},
   "outputs": [],
   "source": [
    "prior_dict ={\n",
    " 'Omegam': [0.24, 0.4],\n",
    " 'Omegab': [0.04, 0.06],\n",
    " 'h': [0.61, 0.75],\n",
    " 'ns': [0.92, 1.00],\n",
    " 'sigma8': [0.79, 0.83],\n",
    " 'AIA': [1.0, 3.0],\n",
    " 'etaIA' :[-6.0, 6.0],\n",
    " 'b1': [1.0, 3.0],\n",
    " 'b2': [1.0, 3.0],\n",
    " 'b3': [1.0, 3.0],\n",
    " 'b4': [1.0, 3.0],\n",
    " 'b5': [1.0, 3.0],\n",
    " 'b6': [1.0, 3.0],\n",
    " 'b7': [1.0, 3.0],\n",
    " 'b8': [1.0, 3.0],\n",
    " 'b9': [1.0, 3.0],\n",
    " 'b10': [1.0, 3.0]\n",
    " }"
   ]
  },
  {
   "cell_type": "code",
   "execution_count": null,
   "metadata": {},
   "outputs": [],
   "source": [
    "cosmoFM_fid.freeparams"
   ]
  },
  {
   "cell_type": "code",
   "execution_count": 31,
   "metadata": {},
   "outputs": [],
   "source": [
    "for par in prior_dict.keys():\n",
    "    if par in cosmoFM_fid.freeparams.keys():\n",
    "        dist_prior = (prior_dict[par][0], prior_dict[par][1])\n",
    "        if re.match(r'b\\d+', par):\n",
    "            prior_withnuis.add_parameter(par, dist_prior)\n",
    "        elif re.search(r'IA', par):\n",
    "            prior_withnuis.add_parameter(par, dist_prior)\n",
    "        else:\n",
    "            prior_nonuis.add_parameter(par, dist_prior)\n",
    "            prior_withnuis.add_parameter(par, dist_prior)"
   ]
  },
  {
   "cell_type": "code",
   "execution_count": null,
   "metadata": {},
   "outputs": [],
   "source": [
    "print(prior_nonuis.keys)\n",
    "print(prior_withnuis.keys)"
   ]
  },
  {
   "cell_type": "code",
   "execution_count": null,
   "metadata": {},
   "outputs": [],
   "source": [
    "if \"withnuis\" in options[\"outroot\"]:\n",
    "    prior_chosen = prior_withnuis\n",
    "elif \"nonuis\" in options[\"outroot\"]:\n",
    "    prior_chosen = prior_nonuis\n",
    "else:\n",
    "    raise ValueError(\"No prior specified in the outroot\")\n",
    "print(\"Loading prior with keys: \", prior_chosen.keys)"
   ]
  },
  {
   "cell_type": "code",
   "execution_count": null,
   "metadata": {},
   "outputs": [],
   "source": [
    "tini = time.time()\n",
    "print(\"Starting sampler at\", time.strftime('%Y-%m-%d %H:%M:%S', time.localtime(tini)))"
   ]
  },
  {
   "cell_type": "code",
   "execution_count": null,
   "metadata": {},
   "outputs": [],
   "source": [
    "sampler = Sampler(prior_chosen, \n",
    "                          loglike, \n",
    "                          n_live=sampler_settings[\"n_live\"], \n",
    "                          n_networks=sampler_settings[\"n_networks\"], \n",
    "                          n_batch=sampler_settings[\"n_batch\"], \n",
    "                          pool=sampler_settings[\"pool\"], \n",
    "                          pass_dict=False,\n",
    "                          filepath=options[\"outroot\"]+\".hdf5\", \n",
    "                          resume=True,\n",
    "                          likelihood_kwargs={'prior': prior_chosen}\n",
    "                          )\n",
    "sampler.run(verbose=True, discard_exploration=True)\n",
    "log_z_all = sampler.evidence()\n",
    "print('Evidence:', log_z_all)\n",
    "points_all, log_w_all, log_l_all = sampler.posterior()"
   ]
  },
  {
   "cell_type": "code",
   "execution_count": null,
   "metadata": {},
   "outputs": [],
   "source": [
    "tfin = time.time()\n",
    "elapsed = tfin - tini\n",
    "hours = int(elapsed // 3600)\n",
    "minutes = int((elapsed % 3600) // 60)\n",
    "seconds = int(elapsed % 60)\n",
    "print(\"Sampler finished at\", time.strftime('%Y-%m-%d %H:%M:%S', time.localtime(tfin)))\n",
    "print(f\"Total time elapsed: {hours:02d}:{minutes:02d}:{seconds:02d}\")"
   ]
  },
  {
   "cell_type": "code",
   "execution_count": null,
   "metadata": {},
   "outputs": [],
   "source": [
    "sample_wghlkl = (np.vstack((points_all.T, np.exp(log_w_all), log_l_all)).T)"
   ]
  },
  {
   "cell_type": "code",
   "execution_count": null,
   "metadata": {},
   "outputs": [],
   "source": [
    "outfile_chain = options[\"outroot\"]+\".txt\"\n",
    "print(f\"Saving chain to text file {outfile_chain}\")"
   ]
  },
  {
   "cell_type": "code",
   "execution_count": null,
   "metadata": {},
   "outputs": [],
   "source": [
    "headerlist = ['loglike', 'weights'] + list(prior_chosen.keys)\n",
    "header = \" \".join(headerlist)\n",
    "print(\"Saving header: \", header)"
   ]
  },
  {
   "cell_type": "code",
   "execution_count": null,
   "metadata": {},
   "outputs": [],
   "source": [
    "np.savetxt(outfile_chain, sample_wghlkl, header=header)"
   ]
  }
 ],
 "metadata": {
  "kernelspec": {
   "display_name": "fishconsumer",
   "language": "python",
   "name": "python3"
  },
  "language_info": {
   "codemirror_mode": {
    "name": "ipython",
    "version": 3
   },
   "file_extension": ".py",
   "mimetype": "text/x-python",
   "name": "python",
   "nbconvert_exporter": "python",
   "pygments_lexer": "ipython3",
   "version": "3.10.13"
  }
 },
 "nbformat": 4,
 "nbformat_minor": 2
}
