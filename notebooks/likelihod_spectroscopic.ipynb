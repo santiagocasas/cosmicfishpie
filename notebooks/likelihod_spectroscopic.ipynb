{
 "cells": [
  {
   "cell_type": "code",
   "execution_count": 1,
   "metadata": {},
   "outputs": [],
   "source": [
    "import numpy as np\n",
    "import logging\n",
    "from copy import deepcopy\n",
    "import os"
   ]
  },
  {
   "cell_type": "code",
   "execution_count": 2,
   "metadata": {},
   "outputs": [],
   "source": [
    "from cosmicfishpie.fishermatrix import cosmicfish\n",
    "from cosmicfishpie.LSSsurvey import spectro_obs as spobs\n",
    "from cosmicfishpie.LSSsurvey import spectro_cov as spcov\n",
    "from cosmicfishpie.utilities.utils import printing as upr"
   ]
  },
  {
   "cell_type": "code",
   "execution_count": 3,
   "metadata": {},
   "outputs": [],
   "source": [
    "from nautilus import Prior\n",
    "from nautilus import Sampler"
   ]
  },
  {
   "cell_type": "code",
   "execution_count": 4,
   "metadata": {},
   "outputs": [],
   "source": [
    "from cosmicfishpie.likelihood.spectro_like import observable_Pgg, legendre_Pgg, loglike"
   ]
  },
  {
   "cell_type": "code",
   "execution_count": 5,
   "metadata": {},
   "outputs": [],
   "source": [
    "os.environ[\"OMP_NUM_THREADS\"] = \"6\""
   ]
  },
  {
   "cell_type": "markdown",
   "metadata": {},
   "source": [
    "# Compute fiducial data and theory"
   ]
  },
  {
   "cell_type": "code",
   "execution_count": 6,
   "metadata": {},
   "outputs": [],
   "source": [
    "fiducial = {\n",
    "    \"Omegam\": 0.3145714273,\n",
    "    \"Omegab\": 0.0491989,\n",
    "    \"h\": 0.6737,\n",
    "    \"ns\": 0.96605,\n",
    "    \"sigma8\": 0.81,\n",
    "    \"w0\": -1.0,\n",
    "    \"wa\": 0.0,\n",
    "    \"mnu\": 0.06,\n",
    "    \"Neff\": 3.044,\n",
    "}\n",
    "observables = ['GCsp']"
   ]
  },
  {
   "cell_type": "markdown",
   "metadata": {},
   "source": [
    "## Compute symbolic Observable"
   ]
  },
  {
   "cell_type": "code",
   "execution_count": 7,
   "metadata": {},
   "outputs": [
    {
     "name": "stdout",
     "output_type": "stream",
     "text": [
      "****************************************************************\n",
      "   _____               _     _____     __  \n",
      "  / ___/__  ___ __ _  (_)___/ __(_)__ / /  \n",
      " / /__/ _ \\(_-</  ' \\/ / __/ _// (_-</ _ \\ \n",
      " \\___/\\___/___/_/_/_/_/\\__/_/ /_/___/_//_/ \n",
      "\n",
      "****************************************************************\n",
      " This is the new Python version of the CosmicFish code.\n",
      "****************************************************************\n",
      "\n",
      "  -> Survey loaded:  Euclid-Spectroscopic-ISTF-Pessimistic\n",
      "\n",
      "  -> Computing cosmology at the fiducial point\n",
      "10^9As value not found\n",
      "\n",
      "  ---> Cosmological functions obtained in:   0.19 s\n",
      "{'lnbg_1': 0.37944989, 'lnbg_2': 0.4738057, 'lnbg_3': 0.55760176, 'lnbg_4': 0.64125687}\n",
      "{'Omegam': 0.01, 'Omegab': 0.01, 'h': 0.01, 'ns': 0.01, 'sigma8': 0.01, 'Ps_1': 0.0001, 'Ps_2': 0.0001, 'Ps_3': 0.0001, 'Ps_4': 0.0001, 'lnbg_1': 0.0001, 'lnbg_2': 0.0001, 'lnbg_3': 0.0001, 'lnbg_4': 0.0001}\n",
      "\n",
      "In class: FisherMatrix  ----> Computing Pk-spectro Fisher matrix\n",
      "Computing derivatives of Galaxy Clustering Spectro\n",
      ">> Computing Derivs >>\n",
      "\n",
      "  +++ Computing derivative on Omegam\n",
      "10^9As value not found\n",
      "10^9As value not found\n",
      "\n",
      "In class: derivatives  Derivative on Omegam done! in :  0.46 s\n",
      "\n",
      "  +++ Computing derivative on Omegab\n",
      "10^9As value not found\n",
      "10^9As value not found\n",
      "\n",
      "In class: derivatives  Derivative on Omegab done! in :  0.47 s\n",
      "\n",
      "  +++ Computing derivative on h\n",
      "10^9As value not found\n",
      "10^9As value not found\n",
      "\n",
      "In class: derivatives  Derivative on h done! in :  0.44 s\n",
      "\n",
      "  +++ Computing derivative on ns\n",
      "10^9As value not found\n",
      "10^9As value not found\n",
      "\n",
      "In class: derivatives  Derivative on ns done! in :  0.45 s\n",
      "\n",
      "  +++ Computing derivative on sigma8\n",
      "10^9As value not found\n",
      "10^9As value not found\n",
      "\n",
      "In class: derivatives  Derivative on sigma8 done! in :  0.45 s\n",
      "ððð Obtaining analytical derivative for parameter:  Ps_1\n",
      "ððð Obtaining analytical derivative for parameter:  Ps_2\n",
      "ððð Obtaining analytical derivative for parameter:  Ps_3\n",
      "ððð Obtaining analytical derivative for parameter:  Ps_4\n",
      "\n",
      "  +++ Computing derivative on lnbg_1\n",
      "\n",
      "In class: derivatives  Derivative on lnbg_1 done! in :  0.09 s\n",
      "\n",
      "  +++ Computing derivative on lnbg_2\n",
      "\n",
      "In class: derivatives  Derivative on lnbg_2 done! in :  0.09 s\n",
      "\n",
      "  +++ Computing derivative on lnbg_3\n",
      "\n",
      "In class: derivatives  Derivative on lnbg_3 done! in :  0.09 s\n",
      "\n",
      "  +++ Computing derivative on lnbg_4\n",
      "\n",
      "In class: derivatives  Derivative on lnbg_4 done! in :  0.09 s\n",
      "\n",
      "In class: FisherMatrix  Fisher Matrix shape: (4, 13, 13)\n",
      "\n",
      "  Fisher matrix calculation finished in   2.99 s\n",
      "\n",
      "  Fisher matrix exported: ./results/CosmicFish_v1.2.0_Euc-ISTF-Pess-symb_GCsp_fishermatrix.txt\n",
      "\n",
      "\n",
      "In class: FisherMatrix  CosmicFish settings and Survey specifications exported: ./results/CosmicFish_v1.2.0_Euc-ISTF-Pess-symb_GCsp_fishermatrix_specifications.dat\n"
     ]
    },
    {
     "data": {
      "text/plain": [
       "<cosmicfishpie.analysis.fisher_matrix.fisher_matrix at 0x7ffb3aa4dbd0>"
      ]
     },
     "execution_count": 7,
     "metadata": {},
     "output_type": "execute_result"
    }
   ],
   "source": [
    "options = {\n",
    "    \"accuracy\": 1,\n",
    "    \"feedback\": 1,\n",
    "    \"code\": \"symbolic\",\n",
    "    \"outroot\": \"Euc-ISTF-Pess-symb\",\n",
    "    \"survey_name\": \"Euclid\",\n",
    "    #\"survey_name_spectro\": \"SKAO-Spectroscopic-Redbook\",\n",
    "    \"survey_name_spectro\": \"Euclid-Spectroscopic-ISTF-Pessimistic\",\n",
    "    \"survey_name_photo\": False,\n",
    "    #\"survey_name_radio_IM\": \"SKAO-IM-Redbook\",\n",
    "    #'specs_dir': '../cosmicfishpie/configs/other_survey_specifications/',\n",
    "    \"cosmo_model\": \"LCDM\",\n",
    "    \"bfs8terms\": False,\n",
    "}\n",
    "cosmoFM_theory = cosmicfish.FisherMatrix(\n",
    "    fiducialpars=fiducial,\n",
    "    options=options,\n",
    "    observables=observables,\n",
    "    cosmoModel=options[\"cosmo_model\"],\n",
    "    surveyName=options[\"survey_name\"],\n",
    ")\n",
    "print(cosmoFM_theory.Spectrobiaspars)\n",
    "print(cosmoFM_theory.freeparams)\n",
    "cosmoFM_theory.compute()"
   ]
  },
  {
   "cell_type": "code",
   "execution_count": 8,
   "metadata": {},
   "outputs": [
    {
     "name": "stdout",
     "output_type": "stream",
     "text": [
      "[1.   1.2  1.4  1.65]\n",
      "(513,)\n",
      "['g', 'g']\n",
      "9\n",
      "513\n",
      "(9, 513)\n",
      "(513,)\n"
     ]
    }
   ],
   "source": [
    "#cosmoFM_fid.set_pk_settings()\n",
    "print(cosmoFM_theory.pk_cov.global_z_bin_mids)\n",
    "print(cosmoFM_theory.Pk_kgrid.shape)\n",
    "print(cosmoFM_theory.obs_spectrum)\n",
    "print(cosmoFM_theory.Pk_musamp)\n",
    "print(cosmoFM_theory.Pk_ksamp)\n",
    "print(cosmoFM_theory.Pk_mumesh.shape)\n",
    "print(cosmoFM_theory.Pk_kgrid.shape)\n",
    "# spectro_fid = spobs.ComputeGalSpectro(cosmoFM_fid.fiducialcosmopars,\n",
    "#                                        spectrobiaspars=cosmoFM_fid.Spectrobiaspars,\n",
    "#                                        spectrononlinearpars=cosmoFM_fid.Spectrononlinpars,\n",
    "#                                        PShotpars=cosmoFM_fid.PShotpars,\n",
    "#                                        IMbiaspars=cosmoFM_fid.IMbiaspars,\n",
    "#                                        fiducial_cosmo=cosmoFM_fid.fiducialcosmo,\n",
    "#                                        use_bias_funcs=False, \n",
    "#                                        configuration=cosmoFM_fid)\n",
    "\n",
    "# spectro_cov_fid = spcov.SpectroCov(fiducialpars=cosmoFM_fid.fiducialcosmopars,\n",
    "#                                    configuration=cosmoFM_fid)\n",
    "\n",
    "\n",
    "#volume_surveys = np.array([spectro_cov_fid.volume_survey(ii) for ii in range(len(spectro_cov_fid.global_z_bin_mids))])"
   ]
  },
  {
   "cell_type": "markdown",
   "metadata": {},
   "source": [
    "## Compute camb Observable"
   ]
  },
  {
   "cell_type": "code",
   "execution_count": 9,
   "metadata": {},
   "outputs": [
    {
     "name": "stdout",
     "output_type": "stream",
     "text": [
      "****************************************************************\n",
      "   _____               _     _____     __  \n",
      "  / ___/__  ___ __ _  (_)___/ __(_)__ / /  \n",
      " / /__/ _ \\(_-</  ' \\/ / __/ _// (_-</ _ \\ \n",
      " \\___/\\___/___/_/_/_/_/\\__/_/ /_/___/_//_/ \n",
      "\n",
      "****************************************************************\n",
      " This is the new Python version of the CosmicFish code.\n",
      "****************************************************************\n",
      "\n",
      "  -> Survey loaded:  Euclid-Spectroscopic-ISTF-Pessimistic\n",
      "\n",
      "  -> Computing cosmology at the fiducial point\n"
     ]
    },
    {
     "ename": "CosmoSevereError",
     "evalue": "\n\nError in Class: Class did not read input parameter(s): w0_fld, wa_fld\n",
     "output_type": "error",
     "traceback": [
      "\u001b[0;31m---------------------------------------------------------------------------\u001b[0m",
      "\u001b[0;31mCosmoSevereError\u001b[0m                          Traceback (most recent call last)",
      "Cell \u001b[0;32mIn[9], line 15\u001b[0m\n\u001b[1;32m      1\u001b[0m options \u001b[38;5;241m=\u001b[39m {\n\u001b[1;32m      2\u001b[0m     \u001b[38;5;124m\"\u001b[39m\u001b[38;5;124maccuracy\u001b[39m\u001b[38;5;124m\"\u001b[39m: \u001b[38;5;241m1\u001b[39m,\n\u001b[1;32m      3\u001b[0m     \u001b[38;5;124m\"\u001b[39m\u001b[38;5;124mfeedback\u001b[39m\u001b[38;5;124m\"\u001b[39m: \u001b[38;5;241m1\u001b[39m,\n\u001b[0;32m   (...)\u001b[0m\n\u001b[1;32m     13\u001b[0m     \u001b[38;5;124m\"\u001b[39m\u001b[38;5;124mbfs8terms\u001b[39m\u001b[38;5;124m\"\u001b[39m: \u001b[38;5;28;01mFalse\u001b[39;00m,\n\u001b[1;32m     14\u001b[0m }\n\u001b[0;32m---> 15\u001b[0m cosmoFM_data \u001b[38;5;241m=\u001b[39m \u001b[43mcosmicfish\u001b[49m\u001b[38;5;241;43m.\u001b[39;49m\u001b[43mFisherMatrix\u001b[49m\u001b[43m(\u001b[49m\n\u001b[1;32m     16\u001b[0m \u001b[43m    \u001b[49m\u001b[43mfiducialpars\u001b[49m\u001b[38;5;241;43m=\u001b[39;49m\u001b[43mfiducial\u001b[49m\u001b[43m,\u001b[49m\n\u001b[1;32m     17\u001b[0m \u001b[43m    \u001b[49m\u001b[43moptions\u001b[49m\u001b[38;5;241;43m=\u001b[39;49m\u001b[43moptions\u001b[49m\u001b[43m,\u001b[49m\n\u001b[1;32m     18\u001b[0m \u001b[43m    \u001b[49m\u001b[43mobservables\u001b[49m\u001b[38;5;241;43m=\u001b[39;49m\u001b[43mobservables\u001b[49m\u001b[43m,\u001b[49m\n\u001b[1;32m     19\u001b[0m \u001b[43m    \u001b[49m\u001b[43mcosmoModel\u001b[49m\u001b[38;5;241;43m=\u001b[39;49m\u001b[43moptions\u001b[49m\u001b[43m[\u001b[49m\u001b[38;5;124;43m\"\u001b[39;49m\u001b[38;5;124;43mcosmo_model\u001b[39;49m\u001b[38;5;124;43m\"\u001b[39;49m\u001b[43m]\u001b[49m\u001b[43m,\u001b[49m\n\u001b[1;32m     20\u001b[0m \u001b[43m    \u001b[49m\u001b[43msurveyName\u001b[49m\u001b[38;5;241;43m=\u001b[39;49m\u001b[43moptions\u001b[49m\u001b[43m[\u001b[49m\u001b[38;5;124;43m\"\u001b[39;49m\u001b[38;5;124;43msurvey_name\u001b[39;49m\u001b[38;5;124;43m\"\u001b[39;49m\u001b[43m]\u001b[49m\u001b[43m,\u001b[49m\n\u001b[1;32m     21\u001b[0m \u001b[43m)\u001b[49m\n\u001b[1;32m     22\u001b[0m \u001b[38;5;28mprint\u001b[39m(cosmoFM_data\u001b[38;5;241m.\u001b[39mSpectrobiaspars)\n\u001b[1;32m     23\u001b[0m \u001b[38;5;28mprint\u001b[39m(cosmoFM_data\u001b[38;5;241m.\u001b[39mfreeparams)\n",
      "File \u001b[0;32m~/CosmoProjects/cosmicfish_release/jellyfish/cosmicfishpie/cosmicfishpie/fishermatrix/cosmicfish.py:142\u001b[0m, in \u001b[0;36mFisherMatrix.__init__\u001b[0;34m(self, options, specifications, observables, freepars, extfiles, fiducialpars, photobiaspars, photopars, spectrononlinearpars, spectrobiaspars, IApars, IMbiaspars, PShotpars, surveyName, cosmoModel, latexnames, parallel, parallel_cpus)\u001b[0m\n\u001b[1;32m    139\u001b[0m     \u001b[38;5;28mprint\u001b[39m(\u001b[38;5;124m\"\u001b[39m\u001b[38;5;124m****************************************************************\u001b[39m\u001b[38;5;124m\"\u001b[39m)\n\u001b[1;32m    140\u001b[0m     sys\u001b[38;5;241m.\u001b[39mstdout\u001b[38;5;241m.\u001b[39mflush()\n\u001b[0;32m--> 142\u001b[0m \u001b[43mcfg\u001b[49m\u001b[38;5;241;43m.\u001b[39;49m\u001b[43minit\u001b[49m\u001b[43m(\u001b[49m\n\u001b[1;32m    143\u001b[0m \u001b[43m    \u001b[49m\u001b[43moptions\u001b[49m\u001b[38;5;241;43m=\u001b[39;49m\u001b[43moptions\u001b[49m\u001b[43m,\u001b[49m\n\u001b[1;32m    144\u001b[0m \u001b[43m    \u001b[49m\u001b[43mspecifications\u001b[49m\u001b[38;5;241;43m=\u001b[39;49m\u001b[43mspecifications\u001b[49m\u001b[43m,\u001b[49m\n\u001b[1;32m    145\u001b[0m \u001b[43m    \u001b[49m\u001b[43mobservables\u001b[49m\u001b[38;5;241;43m=\u001b[39;49m\u001b[43mobservables\u001b[49m\u001b[43m,\u001b[49m\n\u001b[1;32m    146\u001b[0m \u001b[43m    \u001b[49m\u001b[43mfreepars\u001b[49m\u001b[38;5;241;43m=\u001b[39;49m\u001b[43mfreepars\u001b[49m\u001b[43m,\u001b[49m\n\u001b[1;32m    147\u001b[0m \u001b[43m    \u001b[49m\u001b[43mextfiles\u001b[49m\u001b[38;5;241;43m=\u001b[39;49m\u001b[43mextfiles\u001b[49m\u001b[43m,\u001b[49m\n\u001b[1;32m    148\u001b[0m \u001b[43m    \u001b[49m\u001b[43mfiducialpars\u001b[49m\u001b[38;5;241;43m=\u001b[39;49m\u001b[43mfiducialpars\u001b[49m\u001b[43m,\u001b[49m\n\u001b[1;32m    149\u001b[0m \u001b[43m    \u001b[49m\u001b[43mphotobiaspars\u001b[49m\u001b[38;5;241;43m=\u001b[39;49m\u001b[43mphotobiaspars\u001b[49m\u001b[43m,\u001b[49m\n\u001b[1;32m    150\u001b[0m \u001b[43m    \u001b[49m\u001b[43mphotopars\u001b[49m\u001b[38;5;241;43m=\u001b[39;49m\u001b[43mphotopars\u001b[49m\u001b[43m,\u001b[49m\n\u001b[1;32m    151\u001b[0m \u001b[43m    \u001b[49m\u001b[43mIApars\u001b[49m\u001b[38;5;241;43m=\u001b[39;49m\u001b[43mIApars\u001b[49m\u001b[43m,\u001b[49m\n\u001b[1;32m    152\u001b[0m \u001b[43m    \u001b[49m\u001b[43mspectrononlinearpars\u001b[49m\u001b[38;5;241;43m=\u001b[39;49m\u001b[43mspectrononlinearpars\u001b[49m\u001b[43m,\u001b[49m\n\u001b[1;32m    153\u001b[0m \u001b[43m    \u001b[49m\u001b[43mspectrobiaspars\u001b[49m\u001b[38;5;241;43m=\u001b[39;49m\u001b[43mspectrobiaspars\u001b[49m\u001b[43m,\u001b[49m\n\u001b[1;32m    154\u001b[0m \u001b[43m    \u001b[49m\u001b[43mIMbiaspars\u001b[49m\u001b[38;5;241;43m=\u001b[39;49m\u001b[43mIMbiaspars\u001b[49m\u001b[43m,\u001b[49m\n\u001b[1;32m    155\u001b[0m \u001b[43m    \u001b[49m\u001b[43mPShotpars\u001b[49m\u001b[38;5;241;43m=\u001b[39;49m\u001b[43mPShotpars\u001b[49m\u001b[43m,\u001b[49m\n\u001b[1;32m    156\u001b[0m \u001b[43m    \u001b[49m\u001b[43msurveyName\u001b[49m\u001b[38;5;241;43m=\u001b[39;49m\u001b[43msurveyName\u001b[49m\u001b[43m,\u001b[49m\n\u001b[1;32m    157\u001b[0m \u001b[43m    \u001b[49m\u001b[43mcosmoModel\u001b[49m\u001b[38;5;241;43m=\u001b[39;49m\u001b[43mcosmoModel\u001b[49m\u001b[43m,\u001b[49m\n\u001b[1;32m    158\u001b[0m \u001b[43m    \u001b[49m\u001b[43mlatexnames\u001b[49m\u001b[38;5;241;43m=\u001b[39;49m\u001b[43mlatexnames\u001b[49m\u001b[43m,\u001b[49m\n\u001b[1;32m    159\u001b[0m \u001b[43m\u001b[49m\u001b[43m)\u001b[49m\n\u001b[1;32m    160\u001b[0m \u001b[38;5;28mself\u001b[39m\u001b[38;5;241m.\u001b[39msettings \u001b[38;5;241m=\u001b[39m deepcopy(cfg\u001b[38;5;241m.\u001b[39msettings)\n\u001b[1;32m    161\u001b[0m \u001b[38;5;28mself\u001b[39m\u001b[38;5;241m.\u001b[39mspecs \u001b[38;5;241m=\u001b[39m deepcopy(cfg\u001b[38;5;241m.\u001b[39mspecs)\n",
      "File \u001b[0;32m~/CosmoProjects/cosmicfish_release/jellyfish/cosmicfishpie/cosmicfishpie/configs/config.py:595\u001b[0m, in \u001b[0;36minit\u001b[0;34m(options, specifications, observables, freepars, extfiles, fiducialpars, photobiaspars, photopars, IApars, PShotpars, spectrobiaspars, spectrononlinearpars, IMbiaspars, surveyName, cosmoModel, latexnames)\u001b[0m\n\u001b[1;32m    589\u001b[0m upt\u001b[38;5;241m.\u001b[39mtime_print(\n\u001b[1;32m    590\u001b[0m     feedback_level\u001b[38;5;241m=\u001b[39mfeed_lvl,\n\u001b[1;32m    591\u001b[0m     min_level\u001b[38;5;241m=\u001b[39m\u001b[38;5;241m1\u001b[39m,\n\u001b[1;32m    592\u001b[0m     text\u001b[38;5;241m=\u001b[39m\u001b[38;5;124m\"\u001b[39m\u001b[38;5;124m-> Computing cosmology at the fiducial point\u001b[39m\u001b[38;5;124m\"\u001b[39m,\n\u001b[1;32m    593\u001b[0m )\n\u001b[1;32m    594\u001b[0m tcosmo1 \u001b[38;5;241m=\u001b[39m time()\n\u001b[0;32m--> 595\u001b[0m fiducialcosmo \u001b[38;5;241m=\u001b[39m \u001b[43mcosmology\u001b[49m\u001b[38;5;241;43m.\u001b[39;49m\u001b[43mcosmo_functions\u001b[49m\u001b[43m(\u001b[49m\u001b[43mfiducialparams\u001b[49m\u001b[43m,\u001b[49m\u001b[43m \u001b[49m\u001b[43minput_type\u001b[49m\u001b[43m)\u001b[49m\n\u001b[1;32m    596\u001b[0m tcosmo2 \u001b[38;5;241m=\u001b[39m time()\n\u001b[1;32m    597\u001b[0m upt\u001b[38;5;241m.\u001b[39mtime_print(\n\u001b[1;32m    598\u001b[0m     feedback_level\u001b[38;5;241m=\u001b[39mfeed_lvl,\n\u001b[1;32m    599\u001b[0m     min_level\u001b[38;5;241m=\u001b[39m\u001b[38;5;241m1\u001b[39m,\n\u001b[0;32m   (...)\u001b[0m\n\u001b[1;32m    602\u001b[0m     time_fin\u001b[38;5;241m=\u001b[39mtcosmo2,\n\u001b[1;32m    603\u001b[0m )\n",
      "File \u001b[0;32m~/CosmoProjects/cosmicfish_release/jellyfish/cosmicfishpie/cosmicfishpie/cosmology/cosmology.py:1544\u001b[0m, in \u001b[0;36mcosmo_functions.__init__\u001b[0;34m(self, cosmopars, input)\u001b[0m\n\u001b[1;32m   1542\u001b[0m     \u001b[38;5;28mself\u001b[39m\u001b[38;5;241m.\u001b[39mcosmopars \u001b[38;5;241m=\u001b[39m externalinput\u001b[38;5;241m.\u001b[39mcosmopars\n\u001b[1;32m   1543\u001b[0m \u001b[38;5;28;01melif\u001b[39;00m \u001b[38;5;28minput\u001b[39m \u001b[38;5;241m==\u001b[39m \u001b[38;5;124m\"\u001b[39m\u001b[38;5;124mclass\u001b[39m\u001b[38;5;124m\"\u001b[39m:\n\u001b[0;32m-> 1544\u001b[0m     classresults \u001b[38;5;241m=\u001b[39m \u001b[43mboltzmann_code\u001b[49m\u001b[43m(\u001b[49m\u001b[43mcosmopars\u001b[49m\u001b[43m,\u001b[49m\u001b[43m \u001b[49m\u001b[43mcode\u001b[49m\u001b[38;5;241;43m=\u001b[39;49m\u001b[38;5;124;43m\"\u001b[39;49m\u001b[38;5;124;43mclass\u001b[39;49m\u001b[38;5;124;43m\"\u001b[39;49m\u001b[43m)\u001b[49m\n\u001b[1;32m   1545\u001b[0m     \u001b[38;5;28mself\u001b[39m\u001b[38;5;241m.\u001b[39mcode \u001b[38;5;241m=\u001b[39m \u001b[38;5;124m\"\u001b[39m\u001b[38;5;124mclass\u001b[39m\u001b[38;5;124m\"\u001b[39m\n\u001b[1;32m   1546\u001b[0m     \u001b[38;5;28mself\u001b[39m\u001b[38;5;241m.\u001b[39mresults \u001b[38;5;241m=\u001b[39m classresults\u001b[38;5;241m.\u001b[39mresults\n",
      "File \u001b[0;32m~/CosmoProjects/cosmicfish_release/jellyfish/cosmicfishpie/cosmicfishpie/cosmology/cosmology.py:126\u001b[0m, in \u001b[0;36mboltzmann_code.__init__\u001b[0;34m(self, cosmopars, code)\u001b[0m\n\u001b[1;32m    123\u001b[0m     \u001b[38;5;28;01mfrom\u001b[39;00m \u001b[38;5;21;01mclassy\u001b[39;00m \u001b[38;5;28;01mimport\u001b[39;00m Class\n\u001b[1;32m    125\u001b[0m     \u001b[38;5;28mself\u001b[39m\u001b[38;5;241m.\u001b[39mclass_setparams(\u001b[38;5;28mself\u001b[39m\u001b[38;5;241m.\u001b[39mcosmopars)\n\u001b[0;32m--> 126\u001b[0m     \u001b[38;5;28;43mself\u001b[39;49m\u001b[38;5;241;43m.\u001b[39;49m\u001b[43mclass_results\u001b[49m\u001b[43m(\u001b[49m\u001b[43mClass\u001b[49m\u001b[43m)\u001b[49m\n\u001b[1;32m    127\u001b[0m \u001b[38;5;28;01melif\u001b[39;00m code \u001b[38;5;241m==\u001b[39m \u001b[38;5;124m\"\u001b[39m\u001b[38;5;124msymbolic\u001b[39m\u001b[38;5;124m\"\u001b[39m:\n\u001b[1;32m    128\u001b[0m     \u001b[38;5;28;01mtry\u001b[39;00m:\n",
      "File \u001b[0;32m~/CosmoProjects/cosmicfish_release/jellyfish/cosmicfishpie/cosmicfishpie/cosmology/cosmology.py:806\u001b[0m, in \u001b[0;36mboltzmann_code.class_results\u001b[0;34m(self, Class)\u001b[0m\n\u001b[1;32m    804\u001b[0m classres \u001b[38;5;241m=\u001b[39m Class()\n\u001b[1;32m    805\u001b[0m classres\u001b[38;5;241m.\u001b[39mset(\u001b[38;5;28mself\u001b[39m\u001b[38;5;241m.\u001b[39mclasscosmopars)\n\u001b[0;32m--> 806\u001b[0m \u001b[43mclassres\u001b[49m\u001b[38;5;241;43m.\u001b[39;49m\u001b[43mcompute\u001b[49m\u001b[43m(\u001b[49m\u001b[43m)\u001b[49m\n\u001b[1;32m    807\u001b[0m \u001b[38;5;28mself\u001b[39m\u001b[38;5;241m.\u001b[39mClassres \u001b[38;5;241m=\u001b[39m classres\n\u001b[1;32m    808\u001b[0m \u001b[38;5;28mself\u001b[39m\u001b[38;5;241m.\u001b[39mresults\u001b[38;5;241m.\u001b[39mh_of_z \u001b[38;5;241m=\u001b[39m np\u001b[38;5;241m.\u001b[39mvectorize(classres\u001b[38;5;241m.\u001b[39mHubble)\n",
      "File \u001b[0;32mclassy.pyx:376\u001b[0m, in \u001b[0;36mclassy.Class.compute\u001b[0;34m()\u001b[0m\n",
      "\u001b[0;31mCosmoSevereError\u001b[0m: \n\nError in Class: Class did not read input parameter(s): w0_fld, wa_fld\n"
     ]
    }
   ],
   "source": [
    "options = {\n",
    "    \"accuracy\": 1,\n",
    "    \"feedback\": 1,\n",
    "    \"code\": \"class\",\n",
    "    \"outroot\": \"Euc-ISTF-Pess-class\",\n",
    "    \"survey_name\": \"Euclid\",\n",
    "    #\"survey_name_spectro\": \"SKAO-Spectroscopic-Redbook\",\n",
    "    \"survey_name_spectro\": \"Euclid-Spectroscopic-ISTF-Pessimistic\",\n",
    "    \"survey_name_photo\": False,\n",
    "    #\"survey_name_radio_IM\": \"SKAO-IM-Redbook\",\n",
    "    #'specs_dir': '../cosmicfishpie/configs/other_survey_specifications/',\n",
    "    \"cosmo_model\": \"LCDM\",\n",
    "    \"bfs8terms\": False,\n",
    "}\n",
    "cosmoFM_data = cosmicfish.FisherMatrix(\n",
    "    fiducialpars=fiducial,\n",
    "    options=options,\n",
    "    observables=observables,\n",
    "    cosmoModel=options[\"cosmo_model\"],\n",
    "    surveyName=options[\"survey_name\"],\n",
    ")\n",
    "print(cosmoFM_data.Spectrobiaspars)\n",
    "print(cosmoFM_data.freeparams)\n",
    "cosmoFM_data.compute()"
   ]
  },
  {
   "cell_type": "code",
   "execution_count": 11,
   "metadata": {},
   "outputs": [
    {
     "ename": "NameError",
     "evalue": "name 'cosmoFM_data' is not defined",
     "output_type": "error",
     "traceback": [
      "\u001b[0;31m---------------------------------------------------------------------------\u001b[0m",
      "\u001b[0;31mNameError\u001b[0m                                 Traceback (most recent call last)",
      "Cell \u001b[0;32mIn[11], line 1\u001b[0m\n\u001b[0;32m----> 1\u001b[0m \u001b[43mcosmoFM_data\u001b[49m\n",
      "\u001b[0;31mNameError\u001b[0m: name 'cosmoFM_data' is not defined"
     ]
    }
   ],
   "source": []
  },
  {
   "cell_type": "code",
   "execution_count": 10,
   "metadata": {},
   "outputs": [
    {
     "ename": "NameError",
     "evalue": "name 'cosmoFM_data' is not defined",
     "output_type": "error",
     "traceback": [
      "\u001b[0;31m---------------------------------------------------------------------------\u001b[0m",
      "\u001b[0;31mNameError\u001b[0m                                 Traceback (most recent call last)",
      "Cell \u001b[0;32mIn[10], line 1\u001b[0m\n\u001b[0;32m----> 1\u001b[0m \u001b[43mcosmoFM_data\u001b[49m\u001b[38;5;241m.\u001b[39mfreeparams\n",
      "\u001b[0;31mNameError\u001b[0m: name 'cosmoFM_data' is not defined"
     ]
    }
   ],
   "source": [
    "cosmoFM_data.freeparams"
   ]
  },
  {
   "cell_type": "code",
   "execution_count": 10,
   "metadata": {},
   "outputs": [
    {
     "name": "stdout",
     "output_type": "stream",
     "text": [
      "[1.   1.2  1.4  1.65]\n",
      "(513,)\n",
      "['g', 'g']\n",
      "9\n",
      "513\n",
      "(9, 513)\n",
      "(513,)\n"
     ]
    }
   ],
   "source": [
    "#cosmoFM_fid.set_pk_settings()\n",
    "print(cosmoFM_data.pk_cov.global_z_bin_mids)\n",
    "print(cosmoFM_data.Pk_kgrid.shape)\n",
    "print(cosmoFM_data.obs_spectrum)\n",
    "print(cosmoFM_data.Pk_musamp)\n",
    "print(cosmoFM_data.Pk_ksamp)\n",
    "print(cosmoFM_data.Pk_mumesh.shape)\n",
    "print(cosmoFM_data.Pk_kgrid.shape)\n",
    "spectro_data = spobs.ComputeGalSpectro(cosmoFM_data.fiducialcosmopars,\n",
    "                                       spectrobiaspars=cosmoFM_data.Spectrobiaspars,\n",
    "                                       spectrononlinearpars=cosmoFM_data.Spectrononlinpars,\n",
    "                                       PShotpars=cosmoFM_data.PShotpars,\n",
    "                                       IMbiaspars=cosmoFM_data.IMbiaspars,\n",
    "                                       fiducial_cosmo=cosmoFM_data.fiducialcosmo,\n",
    "                                       use_bias_funcs=False, \n",
    "                                       configuration=cosmoFM_data)\n",
    "\n",
    "spectro_cov_data = spcov.SpectroCov(fiducialpars=cosmoFM_data.fiducialcosmopars,\n",
    "                                   configuration=cosmoFM_data)\n",
    "\n"
   ]
  },
  {
   "cell_type": "code",
   "execution_count": 11,
   "metadata": {},
   "outputs": [
    {
     "data": {
      "text/plain": [
       "0.0006737"
      ]
     },
     "execution_count": 11,
     "metadata": {},
     "output_type": "execute_result"
    }
   ],
   "source": [
    "min(cosmoFM_theory.Pk_kgrid)"
   ]
  },
  {
   "cell_type": "code",
   "execution_count": 12,
   "metadata": {},
   "outputs": [
    {
     "data": {
      "text/plain": [
       "<matplotlib.legend.Legend at 0x7fce1e61ac50>"
      ]
     },
     "execution_count": 12,
     "metadata": {},
     "output_type": "execute_result"
    },
    {
     "data": {
      "image/png": "[encoded data removed]",
      "text/plain": [
       "<Figure size 1000x1000 with 2 Axes>"
      ]
     },
     "metadata": {},
     "output_type": "display_data"
    }
   ],
   "source": [
    "from matplotlib import pyplot as plt\n",
    "fig, axs = plt.subplots(2, 1, figsize=(10, 10))\n",
    "pktheo = cosmoFM_theory.pk_obs_fid.observed_Pgg(1.0, cosmoFM_theory.Pk_kgrid, 0.66)\n",
    "pkdata = cosmoFM_data.pk_obs_fid.observed_Pgg(1.0, cosmoFM_data.Pk_kgrid, 0.66)\n",
    "axs[0].loglog(cosmoFM_theory.Pk_kgrid, pktheo)\n",
    "axs[0].loglog(cosmoFM_data.Pk_kgrid, pkdata)\n",
    "axs[0].legend(['symbolicPk Theory', 'CAMB Data'])\n",
    "axs[1].semilogx(cosmoFM_theory.Pk_kgrid, (pktheo/pkdata - 1))\n",
    "axs[0].set_xlim(1e-3, 0.2)\n",
    "axs[1].set_xlim(1e-3, 0.2)\n",
    "axs[1].set_ylim(-0.1, 0.1)\n",
    "axs[0].set_ylabel(r'$P_{gg}(k,z, \\mu)$')\n",
    "axs[1].set_ylabel(r'$P_{th}/P_{dat} - 1$')\n",
    "axs[1].set_xlabel(r'$k$ [1/Mpc]')\n",
    "axs[1].legend('Ratio Theory to Data')\n"
   ]
  },
  {
   "cell_type": "markdown",
   "metadata": {},
   "source": [
    "## Choose data vector"
   ]
  },
  {
   "cell_type": "code",
   "execution_count": 12,
   "metadata": {},
   "outputs": [
    {
     "data": {
      "text/plain": [
       "(4, 9, 513)"
      ]
     },
     "execution_count": 12,
     "metadata": {},
     "output_type": "execute_result"
    }
   ],
   "source": [
    "obsPgg_data = observable_Pgg(spectro_cov_data, cosmoFM_data)\n",
    "obsPgg_data.shape"
   ]
  },
  {
   "cell_type": "code",
   "execution_count": 13,
   "metadata": {},
   "outputs": [
    {
     "data": {
      "text/plain": [
       "(513, 4, 3)"
      ]
     },
     "execution_count": 13,
     "metadata": {},
     "output_type": "execute_result"
    }
   ],
   "source": [
    "P_ell_data = legendre_Pgg(obsPgg_data, cosmoFM_data)\n",
    "P_ell_data.shape"
   ]
  },
  {
   "cell_type": "code",
   "execution_count": 14,
   "metadata": {},
   "outputs": [
    {
     "data": {
      "text/plain": [
       "{'Omegam': 0.3145714273,\n",
       " 'Omegab': 0.0491989,\n",
       " 'h': 0.6737,\n",
       " 'ns': 0.96605,\n",
       " 'sigma8': 0.81,\n",
       " 'Ps_1': 0.0,\n",
       " 'Ps_2': 0.0,\n",
       " 'Ps_3': 0.0,\n",
       " 'Ps_4': 0.0,\n",
       " 'lnbg_1': 0.37944989,\n",
       " 'lnbg_2': 0.4738057,\n",
       " 'lnbg_3': 0.55760176,\n",
       " 'lnbg_4': 0.64125687}"
      ]
     },
     "execution_count": 14,
     "metadata": {},
     "output_type": "execute_result"
    }
   ],
   "source": [
    "fid_truth = {par : cosmoFM_data.allparams[par] for par in cosmoFM_data.freeparams.keys()}\n",
    "fid_truth"
   ]
  },
  {
   "cell_type": "markdown",
   "metadata": {},
   "source": [
    "## Compute example loglike"
   ]
  },
  {
   "cell_type": "code",
   "execution_count": 15,
   "metadata": {},
   "outputs": [
    {
     "name": "stdout",
     "output_type": "stream",
     "text": [
      "Wedges loglike:  -590.2634422857816\n",
      "Multipoles loglike:  -590.8641353388894\n"
     ]
    }
   ],
   "source": [
    "samp1dic = {'Omegam': 0.31,\n",
    "            'Omegab': 0.05,\n",
    "            'h': 0.68,\n",
    "            'ns': 0.96,\n",
    "            'sigma8': 0.82,\n",
    "            'w0': -1.01,\n",
    "            'wa': 0.2,\n",
    "            'Ps_0': 0.0,\n",
    "            'Ps_1': 0.0,\n",
    "            'Ps_2': 0.0,\n",
    "            'Ps_3': 10.0,\n",
    "            'lnbg_1': 0.37944989,\n",
    "            'lnbg_2': 0.4738057,\n",
    "            'lnbg_3': 0.55760176,\n",
    "            'lnbg_4': 0.6,\n",
    "            'sigmap_1': 1.0,\n",
    "            'sigmap_2': 0.,\n",
    "            'sigmap_3': 1.0,\n",
    "            'sigmap_4': 1.0,\n",
    "            'sigmav_1': 1.0,\n",
    "            'sigmav_2': 1.0,\n",
    "            'sigmav_3': 0.,\n",
    "            'sigmav_4': 10,\n",
    "            'bI_c1': -0.3,\n",
    "            'bI_c2': +0.6,\n",
    "            }\n",
    "print(\"Wedges loglike: \", loglike(samp1dic, leg_flag='wedges', cosmoFM_theory=cosmoFM_theory, cosmoFM_data=cosmoFM_data, data_obsPgg=obsPgg_data))\n",
    "print(\"Multipoles loglike: \", loglike(samp1dic, leg_flag='legendre', cosmoFM_theory=cosmoFM_theory, cosmoFM_data=cosmoFM_data, data_obsPgg=obsPgg_data))"
   ]
  },
  {
   "cell_type": "code",
   "execution_count": 16,
   "metadata": {},
   "outputs": [
    {
     "name": "stdout",
     "output_type": "stream",
     "text": [
      "226 ms ± 2.38 ms per loop (mean ± std. dev. of 7 runs, 1 loop each)\n"
     ]
    }
   ],
   "source": [
    "%%timeit\n",
    "loglike(samp1dic, leg_flag='wedges', cosmoFM_theory=cosmoFM_theory, cosmoFM_data=cosmoFM_data, data_obsPgg=obsPgg_data)"
   ]
  },
  {
   "cell_type": "code",
   "execution_count": 17,
   "metadata": {},
   "outputs": [
    {
     "name": "stdout",
     "output_type": "stream",
     "text": [
      "333 ms ± 4.2 ms per loop (mean ± std. dev. of 7 runs, 1 loop each)\n"
     ]
    }
   ],
   "source": [
    "%%timeit\n",
    "loglike(samp1dic, leg_flag='legendre', cosmoFM_theory=cosmoFM_theory, cosmoFM_data=cosmoFM_data, data_obsPgg=obsPgg_data)"
   ]
  },
  {
   "cell_type": "markdown",
   "metadata": {},
   "source": [
    "## Initialize Nautilus sampler"
   ]
  },
  {
   "cell_type": "code",
   "execution_count": 18,
   "metadata": {},
   "outputs": [],
   "source": [
    "prior = Prior()\n",
    "prior_noshot = Prior()\n",
    "prior_noshot_no_bi = Prior()\n",
    "prior_nosigma = Prior()"
   ]
  },
  {
   "cell_type": "code",
   "execution_count": 19,
   "metadata": {},
   "outputs": [],
   "source": [
    "prior_dict ={\n",
    " 'Omegam': [0.24, 0.4],\n",
    " 'Omegab': [0.04, 0.06],\n",
    " 'h': [0.61, 0.73],\n",
    " 'ns': [0.92, 1.00],\n",
    " 'sigma8': [0.79, 0.83],\n",
    " 'Ps_0': [-10, 10],\n",
    " 'Ps_1': [-10, 10],\n",
    " 'Ps_2': [-10, 10],\n",
    " 'Ps_3': [-10, 10],\n",
    " 'lnbg_1': [0, 1],\n",
    " 'lnbg_2': [0, 1],\n",
    " 'lnbg_3': [0, 1],\n",
    " 'lnbg_4': [0, 1],\n",
    " 'sigmap_1': [0, 10],\n",
    " 'sigmap_2': [0, 10],\n",
    " 'sigmap_3': [0, 10],\n",
    " 'sigmap_4': [0, 10],\n",
    " 'sigmav_1': [0, 10],\n",
    " 'sigmav_2': [0, 10],\n",
    " 'sigmav_3': [0, 10],\n",
    " 'sigmav_4': [0, 10],\n",
    " 'bI_c1': [-5, 5],\n",
    " 'bI_c2': [-5, 5],\n",
    " }\n"
   ]
  },
  {
   "cell_type": "code",
   "execution_count": 20,
   "metadata": {},
   "outputs": [
    {
     "data": {
      "text/plain": [
       "{'Omegam': 0.01,\n",
       " 'Omegab': 0.01,\n",
       " 'h': 0.01,\n",
       " 'ns': 0.01,\n",
       " 'sigma8': 0.01,\n",
       " 'Ps_1': 0.0001,\n",
       " 'Ps_2': 0.0001,\n",
       " 'Ps_3': 0.0001,\n",
       " 'Ps_4': 0.0001,\n",
       " 'lnbg_1': 0.0001,\n",
       " 'lnbg_2': 0.0001,\n",
       " 'lnbg_3': 0.0001,\n",
       " 'lnbg_4': 0.0001}"
      ]
     },
     "execution_count": 20,
     "metadata": {},
     "output_type": "execute_result"
    }
   ],
   "source": [
    "cosmoFM_theory.freeparams"
   ]
  },
  {
   "cell_type": "code",
   "execution_count": 21,
   "metadata": {},
   "outputs": [],
   "source": [
    "for par in prior_dict.keys():\n",
    "    if par in cosmoFM_theory.freeparams.keys():\n",
    "        dist_prior = (prior_dict[par][0], prior_dict[par][1])\n",
    "        prior.add_parameter(par, dist_prior)\n",
    "        if 'sigmap' not in par and 'sigmav' not in par:\n",
    "            prior_nosigma.add_parameter(par, dist_prior)\n",
    "        if 'Ps' not in par and ('sigmap' not in par and 'sigmav' not in par):\n",
    "            prior_noshot.add_parameter(par, dist_prior)\n",
    "        if 'Ps' not in par and 'lnbg' not in par and ('sigmap' not in par and 'sigmav' not in par):\n",
    "            prior_noshot_no_bi.add_parameter(par, dist_prior)"
   ]
  },
  {
   "cell_type": "code",
   "execution_count": 22,
   "metadata": {},
   "outputs": [
    {
     "name": "stdout",
     "output_type": "stream",
     "text": [
      "Loaded prior into Nautilus with dimension 12\n",
      "Loaded prior into Nautilus with dimension 9\n",
      "Loaded prior into Nautilus with dimension 5\n",
      "Loaded prior into Nautilus with dimension 12\n",
      "Prior keys:  ['Omegam', 'Omegab', 'h', 'ns', 'sigma8', 'Ps_1', 'Ps_2', 'Ps_3', 'lnbg_1', 'lnbg_2', 'lnbg_3', 'lnbg_4']\n",
      "Prior keys noshot:  ['Omegam', 'Omegab', 'h', 'ns', 'sigma8', 'lnbg_1', 'lnbg_2', 'lnbg_3', 'lnbg_4']\n",
      "Prior keys noshot no bi:  ['Omegam', 'Omegab', 'h', 'ns', 'sigma8']\n",
      "Prior keys nosigma:  ['Omegam', 'Omegab', 'h', 'ns', 'sigma8', 'Ps_1', 'Ps_2', 'Ps_3', 'lnbg_1', 'lnbg_2', 'lnbg_3', 'lnbg_4']\n"
     ]
    }
   ],
   "source": [
    "print('Loaded prior into Nautilus with dimension',prior.dimensionality())\n",
    "print('Loaded prior into Nautilus with dimension',prior_noshot.dimensionality())\n",
    "print('Loaded prior into Nautilus with dimension',prior_noshot_no_bi.dimensionality())\n",
    "print('Loaded prior into Nautilus with dimension',prior_nosigma.dimensionality())\n",
    "print('Prior keys: ',prior.keys)\n",
    "print('Prior keys noshot: ',prior_noshot.keys)\n",
    "print('Prior keys noshot no bi: ',prior_noshot_no_bi.keys)\n",
    "print('Prior keys nosigma: ',prior_nosigma.keys)"
   ]
  },
  {
   "cell_type": "code",
   "execution_count": 23,
   "metadata": {},
   "outputs": [
    {
     "name": "stdout",
     "output_type": "stream",
     "text": [
      "Loading prior with keys:  ['Omegam', 'Omegab', 'h', 'ns', 'sigma8']\n"
     ]
    }
   ],
   "source": [
    "outfile_chain_path = 'cosmicjellyfish_eucid_spectro_legendre_nonuis'\n",
    "prior_to_use = prior_noshot_no_bi\n",
    "print(\"Loading prior with keys: \", prior_to_use.keys)"
   ]
  },
  {
   "cell_type": "code",
   "execution_count": 24,
   "metadata": {},
   "outputs": [
    {
     "name": "stdout",
     "output_type": "stream",
     "text": [
      "Loading prior with keys:  ['Omegam', 'Omegab', 'h', 'ns', 'sigma8']\n",
      "Starting the nautilus sampler...\n",
      "Please report issues at github.com/johannesulf/nautilus.\n",
      "Status    | Bounds | Ellipses | Networks | Calls    | f_live | N_eff | log Z    \n",
      "Finished  | 26     | 1        | 4        | 41728    | N/A    | 10140 | -15.49   \n",
      "Evidence: -15.492472294484205\n",
      "Sampling posterior\n"
     ]
    },
    {
     "name": "stderr",
     "output_type": "stream",
     "text": [
      "/tmp/ipykernel_175917/2438946709.py:17: DeprecationWarning: The function 'evidence' is deprecated. Please use the property 'log_z', instead.\n",
      "  log_z_all = sampler.evidence()\n"
     ]
    }
   ],
   "source": [
    "print(\"Loading prior with keys: \", prior_to_use.keys)\n",
    "sampler = Sampler(prior_to_use, \n",
    "                          loglike, \n",
    "                          n_live=1000, \n",
    "                          n_networks=4, \n",
    "                          n_batch=256, pool=8, \n",
    "                          pass_dict=False,\n",
    "                          filepath=outfile_chain_path+'.hdf5', \n",
    "                          resume=True,\n",
    "                          likelihood_kwargs={'leg_flag': 'legendre', \n",
    "                                             'prior': prior_to_use,\n",
    "                                             'cosmoFM_theory': cosmoFM_theory,\n",
    "                                             'cosmoFM_data': cosmoFM_data,\n",
    "                                             'data_obsPgg': obsPgg_data}\n",
    "                          )\n",
    "sampler.run(verbose=True, discard_exploration=True)\n",
    "log_z_all = sampler.evidence()\n",
    "print('Evidence:', log_z_all)\n",
    "print(\"Sampling posterior\")\n",
    "points_all, log_w_all, log_l_all = sampler.posterior()"
   ]
  },
  {
   "cell_type": "code",
   "execution_count": 25,
   "metadata": {},
   "outputs": [],
   "source": [
    "sample_wghlkl = (np.vstack((points_all.T, np.exp(log_w_all), log_l_all)).T)"
   ]
  },
  {
   "cell_type": "code",
   "execution_count": 26,
   "metadata": {},
   "outputs": [
    {
     "name": "stdout",
     "output_type": "stream",
     "text": [
      "Saving chain to text file cosmicjellyfish_eucid_spectro_legendre_nonuis.txt\n"
     ]
    }
   ],
   "source": [
    "outfile_new = outfile_chain_path\n",
    "print(f\"Saving chain to text file {outfile_new}.txt\")"
   ]
  },
  {
   "cell_type": "code",
   "execution_count": 27,
   "metadata": {},
   "outputs": [],
   "source": [
    "np.savetxt(outfile_new + '.txt', sample_wghlkl)\n"
   ]
  },
  {
   "cell_type": "code",
   "execution_count": null,
   "metadata": {},
   "outputs": [],
   "source": []
  }
 ],
 "metadata": {
  "kernelspec": {
   "display_name": "cosmicfish",
   "language": "python",
   "name": "python3"
  },
  "language_info": {
   "codemirror_mode": {
    "name": "ipython",
    "version": 3
   },
   "file_extension": ".py",
   "mimetype": "text/x-python",
   "name": "python",
   "nbconvert_exporter": "python",
   "pygments_lexer": "ipython3",
   "version": "3.10.13"
  }
 },
 "nbformat": 4,
 "nbformat_minor": 2
}
