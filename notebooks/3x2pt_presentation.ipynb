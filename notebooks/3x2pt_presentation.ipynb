{
 "cells": [
  {
   "cell_type": "code",
   "execution_count": 16,
   "metadata": {},
   "outputs": [],
   "source": [
    "import matplotlib.pyplot as plt\n",
    "import seaborn as sns\n",
    "import numpy as np\n",
    "\n",
    "snscolors = sns.color_palette(\"colorblind\")"
   ]
  },
  {
   "cell_type": "code",
   "execution_count": 2,
   "metadata": {},
   "outputs": [],
   "source": [
    "from cosmicfishpie.fishermatrix import cosmicfish"
   ]
  },
  {
   "cell_type": "code",
   "execution_count": 6,
   "metadata": {},
   "outputs": [],
   "source": [
    "fiducial = {\n",
    "    \"Omegam\": 0.32,\n",
    "    \"Omegab\": 0.05,\n",
    "    \"h\": 0.67,\n",
    "    \"ns\": 0.96,\n",
    "    \"sigma8\": 0.815584,\n",
    "    \"w0\": -1.0,\n",
    "    \"wa\": 0.0,\n",
    "    \"mnu\": 0.06,\n",
    "    \"Neff\": 3.044,\n",
    "}\n",
    "\n",
    "options = {\n",
    "    \"accuracy\": 1,\n",
    "    \"feedback\": 1,\n",
    "    \"code\": \"camb\",\n",
    "    \"specs_dir\": \"../survey_specifications/\",\n",
    "    \"outroot\": \"3x2pt_presentation\",\n",
    "    \"specs_dir\": \"../survey_specifications/\",\n",
    "    \"survey_name\": \"Euclid\",\n",
    "    \"survey_name_photo\": \"Euclid-Photometric-ISTF-Pessimistic\",\n",
    "    \"cosmo_model\": \"w0waCDM\",\n",
    "}"
   ]
  },
  {
   "cell_type": "code",
   "execution_count": 7,
   "metadata": {},
   "outputs": [],
   "source": [
    "observables = [\"GCph\", \"WL\"]"
   ]
  },
  {
   "cell_type": "markdown",
   "metadata": {},
   "source": [
    "### Pass options and settings to Cosmicfishpie\n",
    "\n",
    "We set the survey to `Euclid-Photometric-ISTF-Pessimistic` setting the default settings for the galaxy distributions, biases and modeling choices"
   ]
  },
  {
   "cell_type": "code",
   "execution_count": null,
   "metadata": {},
   "outputs": [],
   "source": [
    "cosmoFM_A = cosmicfish.FisherMatrix(\n",
    "    fiducialpars=fiducial,\n",
    "    options=options,\n",
    "    observables=observables,\n",
    "    cosmoModel=options[\"cosmo_model\"],\n",
    "    surveyName=options[\"survey_name\"],\n",
    ")"
   ]
  },
  {
   "cell_type": "markdown",
   "metadata": {},
   "source": [
    "# Photometric 3x2pt Angular Power Spectrum Observable"
   ]
  },
  {
   "cell_type": "markdown",
   "metadata": {},
   "source": [
    "The 3x2pt function is the auto- and cross-correlation of observables X, Y = {L, G},  which can be combined in 3 times the 2pt-function of:\n",
    "Lensing-Lensing, Galaxy-Lensing and Galaxy-Galaxy\n",
    "\n",
    "$$\n",
    "C_{ij}^{XY}(\\ell) = \\int^{z_{max}}_{z_{min}} \\!\\!\\!\\!\\! dz  \\frac{W_{i}^{X}(z) W_{j}^{Y}(z)}{H(z)r^{2}(z)} P_{\\delta \\delta} \\! \\left[ \\frac{\\ell+1/2}{r(z)},z \\right] +N_{ij}^{XY}(\\ell)\n",
    "$$\n",
    "\n",
    "where the cosmic shear window function is given by:\n",
    "\n",
    "$$\n",
    "W_i^{\\gamma}(z) = \\frac{3}{2} \\, H_0^2 \\, \\Omega_m \\,  (1+z) \\, r(z) \\int_z^{z_{max}}dz^\\prime \\,\n",
    "    %\\niof(z') \n",
    "    n_i(z^\\prime)\n",
    "    \\left[1- \\frac{r(z)}{r(z^\\prime)}\\right]~\n",
    "$$\n",
    "\n",
    "and the estimated number density of galaxies in each bin is given by:\n",
    "\n",
    "$$\n",
    "n_i(z) = \\frac{\\int_{z_i^-}^{z_i^+} dz_p n(z) p_{ph}(z_p|z)}{\\int_{z_{min}}^{z_{max}}dz \\int_{z_i^-}^{z_i^+}dz_p n(z) p_{ph}(z_p|z)}~\n",
    "$$\n",
    "\n",
    "which is a convolution of the theoretical mean number density with a photometric redshift error distribution:\n",
    "\n",
    "$$\n",
    "p_{ph}(z_p|z) = \\frac{1-f_{out}}{\\sqrt{2\\pi}\\sigma_b(1+z)} \\exp\\left\\{-\\frac{1}{2}\\left[\\frac{z-c_bz_p-z_b}{\\sigma_b(1+z)}\\right]^2\\right\\} \\\\ + \\frac{f_{out}}{\\sqrt{2\\pi}\\sigma_0(1+z)} \\exp\\left\\{-\\frac{1}{2}\\left[\\frac{z-c_0z_p-z_0}{\\sigma_0(1+z)}\\right]^2\\right\\}\n",
    "$$\n",
    "\n",
    "The full lensing function is given by the addition of cosmic shear and intrinsic alignment, which takes the following form:\n",
    "\n",
    "$$\n",
    "W_{i}^{L}(z) = W_{i}^{\\gamma}(z) - W_{i}^\\mathrm{IA}(z) \n",
    "$$\n",
    "\n",
    "Moreover for IA and for photometric Galaxy clustering, the window function takes the simple form:\n",
    "\n",
    "$$\n",
    "W_{i}^\\mathrm{IA}(z) = \\mathcal{A}_\\mathrm{IA} \\mathcal{C}_\\mathrm{IA}\\Omega_{m,0} \\frac{\\mathcal{F}_\\mathrm{IA}(z)}{D(z)} n_i(z) H(z)\\\\\n",
    "W_{i}^{G}(z) = n_i(z) H(z)\\, b_i(z)\n",
    "$$\n",
    "\n",
    "Here, $b_i(z)$ is the galaxy bias (the ratio between the density contrast of galaxies and dark matter)."
   ]
  },
  {
   "cell_type": "code",
   "execution_count": null,
   "metadata": {},
   "outputs": [],
   "source": [
    "print(cosmoFM_A.biaspars)\n",
    "print(cosmoFM_A.photopars)\n",
    "print(cosmoFM_A.IApars)"
   ]
  },
  {
   "cell_type": "markdown",
   "metadata": {},
   "source": [
    "# Compute the Photometric angular power spectrum $C(\\ell)$"
   ]
  },
  {
   "cell_type": "code",
   "execution_count": 12,
   "metadata": {},
   "outputs": [],
   "source": [
    "from cosmicfishpie.LSSsurvey import photo_obs as phobs"
   ]
  },
  {
   "cell_type": "markdown",
   "metadata": {},
   "source": [
    "Declare an instance of the class and compute the angular power spectrum"
   ]
  },
  {
   "cell_type": "code",
   "execution_count": 13,
   "metadata": {},
   "outputs": [],
   "source": [
    "photo_Cls = phobs.ComputeCls(\n",
    "    cosmoFM_A.fiducialcosmopars, cosmoFM_A.photopars, cosmoFM_A.IApars, cosmoFM_A.biaspars\n",
    ")\n",
    "phCls_A = photo_Cls.compute_all()"
   ]
  },
  {
   "cell_type": "markdown",
   "metadata": {},
   "source": [
    "### Extract the radial selection functions from Cosmicfishpie"
   ]
  },
  {
   "cell_type": "code",
   "execution_count": 17,
   "metadata": {},
   "outputs": [],
   "source": [
    "zz = np.linspace(0.001, 2.5, 250)  ## Euclid specs are only defined up to z=3."
   ]
  },
  {
   "cell_type": "code",
   "execution_count": 18,
   "metadata": {},
   "outputs": [],
   "source": [
    "ph_window = photo_Cls.window"
   ]
  },
  {
   "cell_type": "code",
   "execution_count": null,
   "metadata": {},
   "outputs": [],
   "source": [
    "# Full window function and binned photo n(z) distribution\n",
    "window = photo_Cls.window\n",
    "\n",
    "color = iter(snscolors)\n",
    "plt.figure(figsize=(12, 9))\n",
    "plt.plot(zz, window.dNdz(zz), label=r\"$n(z)$\", color=\"k\", lw=3, ls=\"--\")\n",
    "for ind in photo_Cls.binrange:\n",
    "    c = next(color)\n",
    "    plt.plot(zz, window.ngal_photoz(zz, ind), label=r\"$n^{ph}_{%s}$\" % ind, color=c)\n",
    "    plt.plot(zz, window.n_i(zz, ind), ls=\":\")  # label=r'dNi bin-'+str(ind), color=c)\n",
    "plt.xlabel(r\"$z$\", fontsize=25)\n",
    "plt.ylabel(r\"$n(z)$\", fontsize=25)\n",
    "plt.legend(bbox_to_anchor=(1.04, 0.5), loc=\"center left\", fontsize=20)"
   ]
  },
  {
   "cell_type": "code",
   "execution_count": null,
   "metadata": {},
   "outputs": [],
   "source": [
    "# Testing the generation of kernels and Cls\n",
    "\n",
    "color = iter(snscolors)\n",
    "fig, axs = plt.subplots(3, 1, figsize=(13, 9))\n",
    "plt.figure(figsize=(10, 8))\n",
    "for ind in photo_Cls.binrange:\n",
    "    c = next(color)\n",
    "    axs[0].plot(zz, photo_Cls.genwindow(zz, \"GCph\", ind)[0], lw=2.0, color=c)\n",
    "    axs[1].plot(zz, photo_Cls.genwindow(zz, \"WL\", ind)[0], lw=3.0, color=c)\n",
    "    axs[2].plot(zz, photo_Cls.genwindow(zz, \"WL\", ind)[1], lw=3.0, color=c, label=r\"bin %s\" % ind)\n",
    "axs[0].set_xlabel(r\"$z$\", fontsize=20)\n",
    "\n",
    "axs[0].set_ylabel(r\"$W_i^{G}(z)$\", fontsize=20)\n",
    "axs[1].set_ylabel(r\"$W_i^{\\gamma}(z)$\", fontsize=20)\n",
    "axs[2].set_ylabel(r\"$W_i^\\mathrm{IA}(z)$\", fontsize=20)\n",
    "axs[0].minorticks_on()\n",
    "axs[1].minorticks_on()\n",
    "axs[2].minorticks_on()\n",
    "fig.legend(bbox_to_anchor=(1.04, 0.5), loc=\"center left\", fontsize=20)"
   ]
  },
  {
   "cell_type": "markdown",
   "metadata": {},
   "source": [
    "## Finally plot the 3x2pt $C^{XY}_{ij}(\\ell)$"
   ]
  },
  {
   "cell_type": "code",
   "execution_count": null,
   "metadata": {},
   "outputs": [],
   "source": [
    "# Accessing LSS cls\n",
    "cls = photo_Cls.result\n",
    "ell = cls[\"ells\"]\n",
    "norm = ell * (ell + 1) / (2 * np.pi)\n",
    "\n",
    "color = iter(snscolors)\n",
    "fig, axs = plt.subplots(3, 1, figsize=(21, 25), sharex=True)\n",
    "for bin1, bin2 in zip([1, 2, 4, 6, 10], [2, 2, 5, 7, 10]):\n",
    "    c = next(color)\n",
    "    axs[0].loglog(\n",
    "        ell,\n",
    "        norm * cls[\"GCph \" + str(bin1) + \"xGCph \" + str(bin2)],\n",
    "        color=c,\n",
    "        label=\"GxG i=\" + str(bin1) + \", j=\" + str(bin2),\n",
    "        ls=\"-\",\n",
    "        lw=2.1,\n",
    "    )\n",
    "    axs[1].loglog(\n",
    "        ell,\n",
    "        norm * cls[\"WL \" + str(bin1) + \"xWL \" + str(bin2)],\n",
    "        color=c,\n",
    "        label=\"LxL i=\" + str(bin1) + \", j=\" + str(bin2),\n",
    "        ls=\"-\",\n",
    "        lw=2.1,\n",
    "    )\n",
    "    corr = norm * cls[\"WL \" + str(bin1) + \"xGCph \" + str(bin2)]\n",
    "    if np.mean(corr) < 0:\n",
    "        ls = \"--\"\n",
    "    else:\n",
    "        ls = \"-\"\n",
    "    axs[2].loglog(\n",
    "        ell, abs(corr), color=c, label=\"LxG i=\" + str(bin1) + \", j=\" + str(bin2), ls=ls, lw=2.1\n",
    "    )\n",
    "axs[0].set_ylabel(r\"$\\ell(\\ell+1)C_{ij}^{GG}(\\ell)/2\\pi$\", fontsize=35)\n",
    "axs[0].legend(bbox_to_anchor=(1.04, 0.5), loc=\"center left\", fontsize=25)\n",
    "axs[1].set_ylabel(r\"$\\ell(\\ell+1)C_{ij}^{LL}(\\ell)/2\\pi$\", fontsize=35)\n",
    "axs[1].legend(bbox_to_anchor=(1.04, 0.5), loc=\"center left\", fontsize=25)\n",
    "axs[2].set_ylabel(r\"$\\ell(\\ell+1)C_{ij}^{LG}(\\ell)/2\\pi$\", fontsize=35)\n",
    "axs[2].legend(bbox_to_anchor=(1.04, 0.5), loc=\"center left\", fontsize=25)\n",
    "\n",
    "axs[2].set_xlim(10, 740)\n",
    "axs[2].set_xlabel(r\"Multipole $\\ell$\", fontsize=35)\n",
    "fig.subplots_adjust(hspace=0.0)\n",
    "\n",
    "[ax.tick_params(which=\"major\", length=15, width=2, direction=\"in\") for ax in axs]\n",
    "[ax.tick_params(which=\"minor\", length=8, width=1, direction=\"in\") for ax in axs]\n",
    "[ax.minorticks_on() for ax in axs]\n",
    "[ax.tick_params(axis=\"both\", which=\"major\", labelsize=21) for ax in axs]\n",
    "[ax.tick_params(axis=\"both\", which=\"minor\", labelsize=15) for ax in axs]\n",
    "\n",
    "plt.show()"
   ]
  }
 ],
 "metadata": {
  "kernelspec": {
   "display_name": "cosmicfish",
   "language": "python",
   "name": "python3"
  },
  "language_info": {
   "codemirror_mode": {
    "name": "ipython",
    "version": 3
   },
   "file_extension": ".py",
   "mimetype": "text/x-python",
   "name": "python",
   "nbconvert_exporter": "python",
   "pygments_lexer": "ipython3",
   "version": "3.12.3"
  }
 },
 "nbformat": 4,
 "nbformat_minor": 2
}
