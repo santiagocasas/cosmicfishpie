{
 "cells": [
  {
   "cell_type": "code",
   "execution_count": 1,
   "metadata": {},
   "outputs": [],
   "source": [
    "import matplotlib.pyplot as plt\n",
    "import seaborn as sns\n",
    "import numpy as np\n",
    "\n",
    "snscolors = sns.color_palette(\"colorblind\")"
   ]
  },
  {
   "cell_type": "code",
   "execution_count": 2,
   "metadata": {},
   "outputs": [],
   "source": [
    "from cosmicfishpie.fishermatrix import cosmicfish"
   ]
  },
  {
   "cell_type": "code",
   "execution_count": 3,
   "metadata": {},
   "outputs": [],
   "source": [
    "fiducial = {\n",
    "    \"Omegam\": 0.32,\n",
    "    \"Omegab\": 0.05,\n",
    "    \"h\": 0.67,\n",
    "    \"ns\": 0.96,\n",
    "    \"sigma8\": 0.815584,\n",
    "    \"w0\": -1.0,\n",
    "    \"wa\": 0.0,\n",
    "    \"mnu\": 0.06,\n",
    "    \"Neff\": 3.044,\n",
    "}\n",
    "\n",
    "options = {\n",
    "    \"accuracy\": 1,\n",
    "    \"feedback\": 1,\n",
    "    \"code\": \"camb\",\n",
    "    \"specs_dir\": \"../survey_specifications/\",\n",
    "    \"outroot\": \"GCsp_presentation\",\n",
    "    \"specs_dir\": \"../survey_specifications/\",\n",
    "    \"survey_name\": \"Euclid\",\n",
    "    \"survey_name_spectro\": \"Euclid-Spectroscopic-ISTF-Pessimistic\",\n",
    "    \"cosmo_model\": \"w0waCDM\",\n",
    "    \"bfs8terms\": False,\n",
    "    \"vary_bias_str\": \"b\",\n",
    "}"
   ]
  },
  {
   "cell_type": "code",
   "execution_count": 4,
   "metadata": {},
   "outputs": [],
   "source": [
    "observables = [\"GCsp\"]"
   ]
  },
  {
   "cell_type": "markdown",
   "metadata": {},
   "source": [
    "### Pass options and settings to Cosmicfishpie\n",
    "\n",
    "We set the survey to `Euclid-Spectroscopic-ISTF-Pessimistic` setting the default settings for the galaxy biases, modeling choices for red shift space distortions and computation of non-linearity"
   ]
  },
  {
   "cell_type": "code",
   "execution_count": null,
   "metadata": {},
   "outputs": [],
   "source": [
    "cosmoFM_A = cosmicfish.FisherMatrix(\n",
    "    fiducialpars=fiducial,\n",
    "    options=options,\n",
    "    observables=observables,\n",
    "    cosmoModel=options[\"cosmo_model\"],\n",
    "    surveyName=options[\"survey_name\"],\n",
    ")"
   ]
  },
  {
   "cell_type": "markdown",
   "metadata": {},
   "source": [
    "# Spectroscopic Power Spectrum"
   ]
  },
  {
   "cell_type": "markdown",
   "metadata": {},
   "source": [
    "The observed power spectrum of galaxies can be related to the mater power spectrum by \n",
    "\n",
    "$$\n",
    "P^\\mathrm{th} = q_\\| \\times  q_\\perp^2 \\times K \\times \\mathrm{FoG} \\times \\mathrm{Err} \\times P_{mm} + P^\\mathrm{shot}.\n",
    "$$\n",
    "The factors in front are due to different observational effects. The factor $q_\\|$ and $q_\\perp$ are coming from the fact that we can only observe the redshift of galaxies and not their position.\n",
    "To calculate the power spectrum we have to settle for a reference transformation. If this is different from the cosmology we used to compute the power spectrum in, we find \n",
    "$$\n",
    "q_\\| = H(z)/H^\\mathrm{ref}(z) \\quad\\text{and}\\quad q_\\perp = D_A^\\mathrm{ref}(z)/D_A(z)\n",
    "$$\n",
    "\n",
    "The factors $q_\\mathrm{RSD}$ and $q_\\mathrm{FOG}$ describe redshift space distortions and are given by\n",
    "$$\n",
    "K = \\left(b+f\\,\\mu^2\\right)^2\\\\\n",
    "\\mathrm{FoG} = 1+\\left[f\\,\\sigma_p\\,\\mu^2\\right]^2\n",
    "\n",
    "$$\n",
    "where $\\mu$ denotes the angle under which we observe the structures.\n",
    "The factor $q_\\sigma$ is due to the resolution of the instrument and is given by\n",
    "$$\n",
    "\\mathrm{Err} = \\exp\\left[-\\sigma^2_\\|\\, k^2\\, \\mu^2 -\\sigma_\\perp^2 \\,k^2\\,\\left(1- \\mu^2\\right)\\right].\n",
    "$$\n",
    "Finaly, $P^\\mathrm{shot}$ just is a constant term we add for shot noise.\n",
    "The nonlinear power spectrum $P_{mm}$ is approximated as \n",
    "$$\n",
    "P_{mm} \\approx P_{dw} \\coloneqq P_{mm}^\\mathrm{lin}\\,e^{-g} + P_{mm}\\,(1-e^g),\\\\\n",
    "g= \\sigma_v^2 k^2\\, \\left((1-\\mu^2)+\\mu^2(1+f)^2\\right)\n",
    "$$"
   ]
  },
  {
   "cell_type": "code",
   "execution_count": 6,
   "metadata": {},
   "outputs": [],
   "source": [
    "from cosmicfishpie.LSSsurvey import spectro_obs as spobs\n",
    "\n",
    "spectro_Pk = spobs.ComputeGalSpectro(cosmoFM_A.fiducialcosmopars)"
   ]
  },
  {
   "cell_type": "code",
   "execution_count": null,
   "metadata": {},
   "outputs": [],
   "source": [
    "print(spectro_Pk.spectrobiaspars)\n",
    "print(\"bias term at z=1.0: \", spectro_Pk.bterm_fid(1.0, bias_sample=\"g\"))\n",
    "print(\"bias term at z=1.2: \", spectro_Pk.bterm_fid(1.2, bias_sample=\"g\"))\n",
    "print(\"bias term at z=1.4: \", spectro_Pk.bterm_fid(1.4, bias_sample=\"g\"))\n",
    "print(\"bias term at z=1.65: \", spectro_Pk.bterm_fid(1.65, bias_sample=\"g\"))"
   ]
  },
  {
   "cell_type": "markdown",
   "metadata": {},
   "source": [
    "### \"De-wiggling\" of the Power Spectrum\n",
    "\n",
    "To calculate the observed power spectrum we need to dewiggle it to find the non linear correction "
   ]
  },
  {
   "cell_type": "code",
   "execution_count": null,
   "metadata": {},
   "outputs": [],
   "source": [
    "z = 1\n",
    "kk = np.logspace(-2, np.log10(0.4), 200)\n",
    "\n",
    "fig, axs = plt.subplots(1, 2, figsize=(18, 8))\n",
    "\n",
    "color = iter(snscolors)\n",
    "\n",
    "c = next(color)\n",
    "axs[0].loglog(kk, spectro_Pk.cosmo.Pmm(z, kk), c=c, label=\"$P_\\mathrm{mm}$\")\n",
    "c = next(color)\n",
    "axs[0].loglog(kk, spectro_Pk.cosmo.nonwiggle_pow(z, kk), c=c, label=\"$P_\\mathrm{nw}$\")\n",
    "axs[0].set_xlabel(r\"$k$ [$\\mathrm{Mpc}^{-1}$]\", fontsize=20)\n",
    "axs[0].set_ylabel(r\"Power Spectrum $P(k)$ [$\\mathrm{Mpc}^{3}$]\", fontsize=20)\n",
    "axs[0].legend(fontsize=20)\n",
    "axs[0].set_xlim([1e-2, 0.4])\n",
    "\n",
    "colormap = sns.color_palette(\"rocket\")\n",
    "colors = iter(colormap)\n",
    "mus = np.linspace(0, 1, 6)\n",
    "for mu in mus:\n",
    "    c = next(colors)\n",
    "    axs[1].plot(kk, spectro_Pk.dewiggled_pdd(z, kk, mu) / spectro_Pk.normalized_pnw(z, kk), c=c)\n",
    "\n",
    "axs[1].set_xscale(\"log\")\n",
    "axs[1].set_xlabel(r\"$k$ [$\\mathrm{Mpc}^{-1}$]\", fontsize=20)\n",
    "axs[1].set_ylabel(r\"$P_\\mathrm{dw}(k)$/$P_\\mathrm{nw}(k)$ for different $\\mu$\", fontsize=20)\n",
    "axs[1].set_xlim([1e-2, 0.4])\n",
    "\n",
    "[ax.tick_params(which=\"major\", length=15, width=2, direction=\"in\") for ax in axs]\n",
    "[ax.tick_params(which=\"minor\", length=8, width=1, direction=\"in\") for ax in axs]\n",
    "[ax.minorticks_on() for ax in axs]\n",
    "[ax.tick_params(axis=\"both\", which=\"major\", labelsize=21) for ax in axs]\n",
    "[ax.tick_params(axis=\"both\", which=\"minor\", labelsize=15) for ax in axs]\n",
    "\n",
    "plt.show()"
   ]
  },
  {
   "cell_type": "markdown",
   "metadata": {},
   "source": [
    "#### Compute the observed power spectrum at different redshifts and different angles "
   ]
  },
  {
   "cell_type": "code",
   "execution_count": null,
   "metadata": {},
   "outputs": [],
   "source": [
    "fig, axs = plt.subplots(1, 2, figsize=(18, 8))\n",
    "\n",
    "colormap = sns.color_palette(\"rocket\", 8)\n",
    "colors = iter(colormap)\n",
    "\n",
    "zz = np.linspace(1, 1.7, 8)\n",
    "for z in zz:\n",
    "    c = next(colors)\n",
    "    # axs[0].plot(kk,spectro_Pk.observed_Pgg(z,kk,1)/spectro_Pk.observed_Pgg(1,kk,1),c=c)\n",
    "    axs[0].loglog(kk, spectro_Pk.observed_Pgg(z, kk, 1), c=c)\n",
    "\n",
    "axs[0].set_xlabel(r\"$k$ [$\\mathrm{Mpc}^{-1}$]\", fontsize=20)\n",
    "axs[0].set_ylabel(r\"$P(k,z,\\mu=1)[\\mathrm{Mpc}^3]$\", fontsize=20)\n",
    "axs[0].set_xlim([1e-2, 0.4])\n",
    "axs[0].set_xscale(\"log\")\n",
    "\n",
    "colormap = sns.color_palette(\"rocket\")\n",
    "colors = iter(colormap)\n",
    "mus = np.linspace(1, 0, 6)\n",
    "for mu in mus:\n",
    "    c = next(colors)\n",
    "    # axs[1].plot(kk,spectro_Pk.observed_Pgg(1,kk,mu)/spectro_Pk.observed_Pgg(1,kk,1),c=c)\n",
    "    axs[1].loglog(kk, spectro_Pk.observed_Pgg(1, kk, mu), c=c)\n",
    "\n",
    "axs[1].set_xlabel(r\"$k$ [$\\mathrm{Mpc}^{-1}$]\", fontsize=20)\n",
    "axs[1].set_ylabel(r\"$P(k,z=1,\\mu)[\\mathrm{Mpc}^3]$\", fontsize=20)\n",
    "axs[1].set_xlim([1e-2, 0.4])\n",
    "\n",
    "[ax.tick_params(which=\"major\", length=15, width=2, direction=\"in\") for ax in axs]\n",
    "[ax.tick_params(which=\"minor\", length=8, width=1, direction=\"in\") for ax in axs]\n",
    "[ax.minorticks_on() for ax in axs]\n",
    "[ax.tick_params(axis=\"both\", which=\"major\", labelsize=21) for ax in axs]\n",
    "[ax.tick_params(axis=\"both\", which=\"minor\", labelsize=15) for ax in axs]\n",
    "\n",
    "plt.show()"
   ]
  },
  {
   "cell_type": "markdown",
   "metadata": {},
   "source": [
    "### Compare the Power Spectrum from two different cosmologies"
   ]
  },
  {
   "cell_type": "code",
   "execution_count": 21,
   "metadata": {},
   "outputs": [],
   "source": [
    "sample = {\n",
    "    \"Omegam\": 0.32,\n",
    "    \"Omegab\": 0.06,  # 20% higher than the fiducial\n",
    "    \"h\": 0.737,  # 10% higher than the fiducal\n",
    "    \"ns\": 0.96,\n",
    "    \"sigma8\": 0.815584,\n",
    "    \"w0\": -1.0,\n",
    "    \"wa\": 0.0,\n",
    "    \"mnu\": 0.06,\n",
    "    \"Neff\": 3.044,\n",
    "}\n",
    "\n",
    "spectro_Pk_sampled = spobs.ComputeGalSpectro(sample, cosmoFM_A.fiducialcosmopars)"
   ]
  },
  {
   "cell_type": "code",
   "execution_count": null,
   "metadata": {},
   "outputs": [],
   "source": [
    "fig, axs = plt.subplots(1, 2, figsize=(18, 8))\n",
    "\n",
    "colormap = sns.color_palette(\"colorblind\")\n",
    "colors = iter(colormap)\n",
    "\n",
    "c = next(colors)\n",
    "axs[0].loglog(kk, spectro_Pk.observed_Pgg(1, kk, 1), c=c, label=\"fiducal\")\n",
    "\n",
    "c = next(colors)\n",
    "axs[0].loglog(kk, spectro_Pk_sampled.observed_Pgg(1, kk, 1), c=c, label=\"sample\")\n",
    "\n",
    "axs[0].set_xlabel(r\"$k$ [$\\mathrm{Mpc}^{-1}$]\", fontsize=20)\n",
    "axs[0].set_ylabel(r\"$P(k,z=1,\\mu=1)[\\mathrm{Mpc}^3]$\", fontsize=20)\n",
    "axs[0].set_xlim([1e-2, 0.4])\n",
    "axs[0].legend(fontsize=20)\n",
    "axs[0].set_xscale(\"log\")\n",
    "\n",
    "axs[1].plot(\n",
    "    kk,\n",
    "    (spectro_Pk.observed_Pgg(1, kk, 1) - spectro_Pk_sampled.observed_Pgg(1, kk, 1))\n",
    "    / (spectro_Pk.observed_Pgg(1, kk, 1) + spectro_Pk_sampled.observed_Pgg(1, kk, 1))\n",
    "    * 200,\n",
    "    c=\"black\",\n",
    ")\n",
    "\n",
    "axs[1].set_xlabel(r\"$k$ [$\\mathrm{Mpc}^{-1}$]\", fontsize=20)\n",
    "axs[1].set_ylabel(r\"% deviation of Power Spectra\", fontsize=20)\n",
    "axs[1].set_xlim([1e-2, 0.4])\n",
    "axs[1].set_xscale(\"log\")\n",
    "\n",
    "[ax.tick_params(which=\"major\", length=15, width=2, direction=\"in\") for ax in axs]\n",
    "[ax.tick_params(which=\"minor\", length=8, width=1, direction=\"in\") for ax in axs]\n",
    "[ax.minorticks_on() for ax in axs]\n",
    "[ax.tick_params(axis=\"both\", which=\"major\", labelsize=21) for ax in axs]\n",
    "[ax.tick_params(axis=\"both\", which=\"minor\", labelsize=15) for ax in axs]\n",
    "\n",
    "plt.show()"
   ]
  }
 ],
 "metadata": {
  "kernelspec": {
   "display_name": "cosmicfish",
   "language": "python",
   "name": "python3"
  },
  "language_info": {
   "codemirror_mode": {
    "name": "ipython",
    "version": 3
   },
   "file_extension": ".py",
   "mimetype": "text/x-python",
   "name": "python",
   "nbconvert_exporter": "python",
   "pygments_lexer": "ipython3",
   "version": "3.12.3"
  }
 },
 "nbformat": 4,
 "nbformat_minor": 2
}
