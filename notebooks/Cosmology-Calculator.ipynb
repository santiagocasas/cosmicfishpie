{
 "cells": [
  {
   "cell_type": "markdown",
   "metadata": {},
   "source": [
    "# CosmicFish Pie v1.0   "
   ]
  },
  {
   "cell_type": "code",
   "execution_count": null,
   "metadata": {},
   "outputs": [],
   "source": [
    "%load_ext autoreload\n",
    "%autoreload 2"
   ]
  },
  {
   "cell_type": "code",
   "execution_count": null,
   "metadata": {},
   "outputs": [],
   "source": [
    "%matplotlib inline\n",
    "import os\n",
    "import numpy as np\n",
    "import matplotlib.pyplot as plt\n",
    "import seaborn as sns\n",
    "snscolors=sns.color_palette(\"colorblind\")"
   ]
  },
  {
   "cell_type": "code",
   "execution_count": null,
   "metadata": {},
   "outputs": [],
   "source": [
    "from cosmicfishpie.fishermatrix import cosmicfish"
   ]
  },
  {
   "cell_type": "code",
   "execution_count": null,
   "metadata": {},
   "outputs": [],
   "source": [
    "envkey = 'OMP_NUM_THREADS'\n",
    "# Set this environment variable to the number of available cores in your machine, \n",
    "# to get a fast execution of the Einstein Boltzmann Solver\n",
    "print(\"The value of {:s} is: \".format(envkey), os.environ.get(envkey))\n",
    "os.environ[envkey] = str(8)\n",
    "print(\"The value of {:s} is: \".format(envkey), os.environ.get(envkey))"
   ]
  },
  {
   "cell_type": "markdown",
   "metadata": {},
   "source": [
    "# CosmicFish as a cosmology calculator"
   ]
  },
  {
   "cell_type": "markdown",
   "metadata": {},
   "source": [
    "## Define input, options, fiducial and observables"
   ]
  },
  {
   "cell_type": "code",
   "execution_count": null,
   "metadata": {},
   "outputs": [],
   "source": [
    "fiducial = {\"Omegam\":0.32,\n",
    "            \"Omegab\":0.05,\n",
    "            \"h\":0.67,\n",
    "            \"ns\":0.96,\n",
    "            \"sigma8\":0.815584,\n",
    "            \"w0\":-1.0,\n",
    "            \"wa\":0.,\n",
    "            \"mnu\":0.06,\n",
    "            \"Neff\":3.044,\n",
    "            }\n",
    "\n",
    "options = {\n",
    "                'accuracy': 1,\n",
    "                'feedback': 1,\n",
    "                'code' : 'camb',\n",
    "                'camb_config_yaml' : '../boltzmann_yaml_files/camb/default.yaml',\n",
    "                'outroot': 'w0waCDM-test1',\n",
    "                'specs_dir' : '../survey_specifications/',        \n",
    "                'survey_name': 'Euclid',\n",
    "                'cosmo_model' : 'w0waCDM'}"
   ]
  },
  {
   "cell_type": "markdown",
   "metadata": {},
   "source": [
    "# Photometric 3x2pt Angular Power Spectrum Observable"
   ]
  },
  {
   "cell_type": "markdown",
   "metadata": {},
   "source": [
    "The 3x2pt function is the auto- and cross-correlation of observables X, Y = {L, G},  which can be combined in 3 times the 2pt-function of:\n",
    "Lensing-Lensing, Galaxy-Lensing and Galaxy-Galaxy\n",
    "\n",
    "$$\n",
    "C_{ij}^{XY}(\\ell) = \\int^{z_{max}}_{z_{min}} \\!\\!\\!\\!\\! dz  \\frac{W_{i}^{X}(z) W_{j}^{Y}(z)}{H(z)r^{2}(z)} P_{\\delta \\delta} \\! \\left[ \\frac{\\ell+1/2}{r(z)},z \\right] +N_{ij}^{XY}(\\ell)\n",
    "$$\n",
    "\n",
    "where the cosmic shear window function is given by:\n",
    "\n",
    "$$\n",
    "W_i^{\\gamma}(z) = \\frac{3}{2} \\, H_0^2 \\, \\Omega_m \\,  (1+z) \\, r(z) \\int_z^{z_{max}}dz^\\prime \\,\n",
    "    %\\niof(z') \n",
    "    n_i(z^\\prime)\n",
    "    \\left[1- \\frac{r(z)}{r(z^\\prime)}\\right]~\n",
    "$$\n",
    "\n",
    "and the estimated number density of galaxies in each bin is given by:\n",
    "\n",
    "$$\n",
    "n_i(z) = \\frac{\\int_{z_i^-}^{z_i^+} dz_p n(z) p_{ph}(z_p|z)}{\\int_{z_{min}}^{z_{max}}dz \\int_{z_i^-}^{z_i^+}dz_p n(z) p_{ph}(z_p|z)}~\n",
    "$$\n",
    "\n",
    "which is a convolution of the theoretical mean number density with a photometric redshift error distribution:\n",
    "\n",
    "$$\n",
    "p_{ph}(z_p|z) = \\frac{1-f_{out}}{\\sqrt{2\\pi}\\sigma_b(1+z)} \\exp\\left\\{-\\frac{1}{2}\\left[\\frac{z-c_bz_p-z_b}{\\sigma_b(1+z)}\\right]^2\\right\\} \\\\ + \\frac{f_{out}}{\\sqrt{2\\pi}\\sigma_0(1+z)} \\exp\\left\\{-\\frac{1}{2}\\left[\\frac{z-c_0z_p-z_0}{\\sigma_0(1+z)}\\right]^2\\right\\}\n",
    "$$\n",
    "\n",
    "The full lensing function is given by the addition of cosmic shear and intrinsic alignment, which takes the following form:\n",
    "\n",
    "$$\n",
    "W_{i}^{L}(z) = W_{i}^{\\gamma}(z) - W_{i}^\\mathrm{IA}(z) \n",
    "$$\n",
    "\n",
    "Moreover for IA and for photometric Galaxy clustering, the window function takes the simple form:\n",
    "\n",
    "$$\n",
    "W_{i}^\\mathrm{IA}(z) = \\mathcal{A}_\\mathrm{IA} \\mathcal{C}_\\mathrm{IA}\\Omega_{m,0} \\frac{\\mathcal{F}_\\mathrm{IA}(z)}{D(z)} n_i(z) H(z)\\\\\n",
    "W_{i}^{G}(z) = n_i(z) H(z)\\, b_i(z)\n",
    "$$\n",
    "\n",
    "Here, $b_i(z)$ is the galaxy bias (the ratio between the density contrast of galaxies and dark matter)."
   ]
  },
  {
   "cell_type": "code",
   "execution_count": null,
   "metadata": {},
   "outputs": [],
   "source": [
    "observables = ['GCph', 'WL']"
   ]
  },
  {
   "cell_type": "markdown",
   "metadata": {},
   "source": [
    "### Pass options and settings to cosmicfish"
   ]
  },
  {
   "cell_type": "code",
   "execution_count": null,
   "metadata": {},
   "outputs": [],
   "source": [
    "cosmoFM_A = cosmicfish.FisherMatrix(fiducialpars=fiducial,\n",
    "                                        options=options, \n",
    "                                        observables=observables,\n",
    "                                        cosmoModel=options['cosmo_model'],\n",
    "                                        surveyName=options['survey_name'])"
   ]
  },
  {
   "cell_type": "markdown",
   "metadata": {},
   "source": [
    "#### By setting `survey_name=Euclid` above, we have implicitly chose a default set of observational parameters to be used for the photometric probe"
   ]
  },
  {
   "cell_type": "code",
   "execution_count": null,
   "metadata": {},
   "outputs": [],
   "source": [
    "cosmoFM_A.fiducialcosmopars"
   ]
  },
  {
   "cell_type": "code",
   "execution_count": null,
   "metadata": {},
   "outputs": [],
   "source": [
    "cosmoFM_A.biaspars"
   ]
  },
  {
   "cell_type": "code",
   "execution_count": null,
   "metadata": {},
   "outputs": [],
   "source": [
    "cosmoFM_A.photopars"
   ]
  },
  {
   "cell_type": "code",
   "execution_count": null,
   "metadata": {},
   "outputs": [],
   "source": [
    "cosmoFM_A.IApars"
   ]
  },
  {
   "cell_type": "markdown",
   "metadata": {},
   "source": [
    "# Compute the Photometric angular power spectrum $C(\\ell)$"
   ]
  },
  {
   "cell_type": "code",
   "execution_count": null,
   "metadata": {},
   "outputs": [],
   "source": [
    "## Import the photometric observable from an LSSsurvey as phobs\n",
    "from cosmicfishpie.LSSsurvey import photo_obs as phobs"
   ]
  },
  {
   "cell_type": "markdown",
   "metadata": {},
   "source": [
    "#### Declare an instance of the class"
   ]
  },
  {
   "cell_type": "code",
   "execution_count": null,
   "metadata": {},
   "outputs": [],
   "source": [
    "photo_Cls = phobs.ComputeCls(cosmoFM_A.fiducialcosmopars, \n",
    "                             cosmoFM_A.photopars, cosmoFM_A.IApars, \n",
    "                             cosmoFM_A.biaspars)"
   ]
  },
  {
   "cell_type": "markdown",
   "metadata": {},
   "source": [
    "#### Compute the actual $C_\\ell$"
   ]
  },
  {
   "cell_type": "code",
   "execution_count": null,
   "metadata": {},
   "outputs": [],
   "source": [
    "phCls_A = photo_Cls.compute_all()"
   ]
  },
  {
   "cell_type": "markdown",
   "metadata": {},
   "source": [
    " ##  Let's first extract the cosmological ingredients separately"
   ]
  },
  {
   "cell_type": "code",
   "execution_count": null,
   "metadata": {},
   "outputs": [],
   "source": [
    "zz = np.linspace(0.001,5.0,250)   ## declare a z-array\n",
    "kk = np.logspace(np.log10(1e-3),np.log10(10),250)  ## declare a k-array"
   ]
  },
  {
   "cell_type": "code",
   "execution_count": null,
   "metadata": {},
   "outputs": [],
   "source": [
    "cosmofuncs = photo_Cls.cosmo  ## Access the cosmo attribute of the photometric observable\n",
    "                              ## All observables in CF have a cosmo attribute"
   ]
  },
  {
   "cell_type": "code",
   "execution_count": null,
   "metadata": {},
   "outputs": [],
   "source": [
    "method_list = [attribute for attribute in dir(cosmofuncs) if callable(getattr(cosmofuncs, attribute)) \n",
    "               and attribute.startswith('__') is False]\n",
    "print(method_list)"
   ]
  },
  {
   "cell_type": "markdown",
   "metadata": {},
   "source": [
    "### Background and linear perturbations"
   ]
  },
  {
   "cell_type": "code",
   "execution_count": null,
   "metadata": {},
   "outputs": [],
   "source": [
    "chi_z = cosmofuncs.comoving(zz)\n",
    "ang_z = cosmofuncs.angdist(zz)\n",
    "hub_z = cosmofuncs.Hubble(zz, physical=True)\n",
    "D_growth_z = cosmofuncs.growth(zz)\n",
    "f_growthrate_z = cosmofuncs.f_growthrate(zz)"
   ]
  },
  {
   "cell_type": "code",
   "execution_count": null,
   "metadata": {},
   "outputs": [],
   "source": [
    "fig, axs = plt.subplots(2,2, figsize=(12,12))\n",
    "codelab = options['code']\n",
    "axs[0,0].semilogx(zz, hub_z, color=snscolors[0], lw=3, label=codelab)\n",
    "axs[0,0].set_xlabel('$z$',fontsize=20)\n",
    "axs[0,0].set_ylabel(r'$H(z)$',fontsize=20)\n",
    "axs[0,0].legend(loc='best',fontsize=20)\n",
    "\n",
    "axs[0,1].semilogx(zz, chi_z, color=snscolors[1], lw=3, label=r'$\\chi(z)$')\n",
    "axs[0,1].semilogx(zz, ang_z, color=snscolors[1], lw=2, ls='--',  label=r'$d_A (z)$')\n",
    "axs[0,1].set_xlabel('$z$',fontsize=20)\n",
    "axs[0,1].set_ylabel(r'$d(z)$',fontsize=20)\n",
    "axs[0,1].legend(loc='best',fontsize=20)\n",
    "\n",
    "axs[1,0].semilogx(zz, D_growth_z, color=snscolors[2], lw=3, label=codelab)\n",
    "axs[1,0].set_xlabel('$z$',fontsize=20)\n",
    "axs[1,0].set_ylabel(r'$D(z)$',fontsize=20)\n",
    "axs[1,0].legend(loc='best',fontsize=20)\n",
    "\n",
    "axs[1,1].semilogx(zz, f_growthrate_z, color=snscolors[3], lw=3, label=codelab)\n",
    "axs[1,1].set_xlabel('$z$',fontsize=20)\n",
    "axs[1,1].set_ylabel(r'$f(z)$',fontsize=20)\n",
    "axs[1,1].legend(loc='best',fontsize=20)"
   ]
  },
  {
   "cell_type": "markdown",
   "metadata": {},
   "source": [
    "### The matter power spectrum"
   ]
  },
  {
   "cell_type": "code",
   "execution_count": null,
   "metadata": {},
   "outputs": [],
   "source": [
    "fig, axs = plt.subplots(1,1, figsize=(12,7))\n",
    "color=iter(snscolors)\n",
    "zplot = [0, 0.5, 1, 2.5]\n",
    "for zii in zplot:\n",
    "    c=next(color)\n",
    "    axs.loglog(kk, cosmofuncs.matpow(zii, kk, nonlinear=False), ls='--', c=c, label='linear $P(k)$ z=%s'%zii)\n",
    "axs.set_xlabel(r'$k \\, [\\mathrm{Mpc}]$', fontsize=18)\n",
    "axs.set_ylabel(r'$P_{mm} \\, [\\mathrm{Mpc}^{-3}]$', fontsize=18)\n",
    "color=iter(snscolors)\n",
    "for zii in zplot:\n",
    "    c=next(color)\n",
    "    axs.loglog(kk, cosmofuncs.matpow(zii, kk, nonlinear=True), ls='-', c=c, label='nonlinear $P(k)$ z=%s'%zii)\n",
    "axs.legend(fontsize=18)"
   ]
  },
  {
   "cell_type": "markdown",
   "metadata": {},
   "source": [
    "### Extract the Window Functions from Cosmicfish"
   ]
  },
  {
   "cell_type": "code",
   "execution_count": null,
   "metadata": {},
   "outputs": [],
   "source": [
    "zz = np.linspace(0.001, 2.5, 250)   ## Euclid specs are only defined up to z=3."
   ]
  },
  {
   "cell_type": "code",
   "execution_count": null,
   "metadata": {},
   "outputs": [],
   "source": [
    "ph_window = photo_Cls.window"
   ]
  },
  {
   "cell_type": "code",
   "execution_count": null,
   "metadata": {},
   "outputs": [],
   "source": [
    "#Full window function and binned photo n(z) distribution\n",
    "window = photo_Cls.window\n",
    "\n",
    "color=iter(snscolors)\n",
    "plt.figure(figsize=(12, 9))\n",
    "plt.plot(zz, window.dNdz(zz),label=r'$n(z)$', color='k', lw=3, ls='--')\n",
    "for ind in photo_Cls.binrange:\n",
    "    c = next(color)\n",
    "    plt.plot(zz, window.ngal_photoz(zz, ind), label=r'$n^{ph}_{%s}$' %ind, color=c)\n",
    "    plt.plot(zz, window.n_i(zz, ind), ls=':') #label=r'dNi bin-'+str(ind), color=c)\n",
    "plt.xlabel(r'$z$',fontsize=25)\n",
    "plt.ylabel(r'$n(z)$',fontsize=25)\n",
    "plt.legend(bbox_to_anchor=(1.04,0.5), loc=\"center left\",fontsize=20)"
   ]
  },
  {
   "cell_type": "code",
   "execution_count": null,
   "metadata": {
    "scrolled": false
   },
   "outputs": [],
   "source": [
    "#Testing the generation of kernels and Cls\n",
    "\n",
    "color=iter(snscolors)\n",
    "fig, axs = plt.subplots(3,1, figsize=(13,9))\n",
    "plt.figure(figsize=(10, 8))\n",
    "for ind in photo_Cls.binrange:\n",
    "    c = next(color)\n",
    "    axs[0].plot(zz, photo_Cls.genwindow(zz, 'GCph', ind)[0], lw=2., color=c)\n",
    "    axs[1].plot(zz, photo_Cls.genwindow(zz,   'WL', ind)[0], lw=3., color=c)\n",
    "    axs[2].plot(zz, photo_Cls.genwindow(zz,   'WL', ind)[1], lw=3., color=c, label=r'bin %s' %ind)\n",
    "axs[0].set_xlabel(r'$z$',fontsize=20)\n",
    "\n",
    "axs[0].set_ylabel(r'$W_i^{G}(z)$',fontsize=20)\n",
    "axs[1].set_ylabel(r'$W_i^{\\gamma}(z)$',fontsize=20)\n",
    "axs[2].set_ylabel(r'$W_i^\\mathrm{IA}(z)$',fontsize=20)\n",
    "axs[0].minorticks_on()\n",
    "axs[1].minorticks_on()\n",
    "axs[2].minorticks_on()\n",
    "#axs[0].legend()\n",
    "fig.legend(bbox_to_anchor=(1.04,0.5), loc=\"center left\",fontsize=20)"
   ]
  },
  {
   "cell_type": "markdown",
   "metadata": {},
   "source": [
    "## Finally plot the 3x2pt $C^{XY}_{ij}(\\ell) $"
   ]
  },
  {
   "cell_type": "code",
   "execution_count": null,
   "metadata": {
    "scrolled": false
   },
   "outputs": [],
   "source": [
    "#Accessing LSS cls\n",
    "cls = photo_Cls.result\n",
    "ell = cls['ells']\n",
    "norm = ell*(ell+1)/(2*np.pi)\n",
    "\n",
    "color=iter(snscolors)\n",
    "fig, axs = plt.subplots(3,1, figsize=(21,25))\n",
    "for bin1, bin2 in zip([1,2,4,6,10], [2,2,5,7,10]):\n",
    "    c = next(color)   \n",
    "    axs[0].loglog(ell, norm*cls['GCph '+str(bin1)+'xGCph '+str(bin2)], color=c,\n",
    "                  label='GxG i='+str(bin1)+', j='+str(bin2), ls='-', lw=2.1)\n",
    "    axs[1].loglog(ell, norm*cls['WL '+str(bin1)+'xWL '+str(bin2)], color=c,\n",
    "                  label='LxL i='+str(bin1)+', j='+str(bin2), ls='-', lw=2.1)\n",
    "    corr = norm*cls['WL '+str(bin1)+'xGCph '+str(bin2)]\n",
    "    if np.mean(corr) < 0:\n",
    "        ls = '--'\n",
    "    else:\n",
    "        ls = '-'\n",
    "    axs[2].loglog(ell, abs(corr), color=c,\n",
    "                  label='LxG i='+str(bin1)+', j='+str(bin2), ls=ls, lw=2.1)\n",
    "axs[0].set_xlabel(r'$\\ell$',fontsize=35)\n",
    "axs[0].set_ylabel(r'$\\ell(\\ell+1)C_{ij}^{GG}(\\ell)/2\\pi$',fontsize=35)\n",
    "axs[0].legend(bbox_to_anchor=(1.04,0.5), loc=\"center left\",fontsize=25)\n",
    "axs[0].set_xlim(10, 2500)\n",
    "axs[1].set_xlabel(r'$\\ell$',fontsize=35)\n",
    "axs[1].set_ylabel(r'$\\ell(\\ell+1)C_{ij}^{LL}(\\ell)/2\\pi$',fontsize=35)\n",
    "axs[1].legend(bbox_to_anchor=(1.04,0.5), loc=\"center left\",fontsize=25)\n",
    "axs[1].set_xlim(10, 4500)\n",
    "axs[2].set_xlabel(r'$\\ell$',fontsize=35)\n",
    "axs[2].set_ylabel(r'$\\ell(\\ell+1)C_{ij}^{LG}(\\ell)/2\\pi$',fontsize=35)\n",
    "axs[2].legend(bbox_to_anchor=(1.04,0.5), loc=\"center left\",fontsize=25)\n",
    "axs[2].set_xlim(10, 2500)\n",
    "#plt.yscale('log')\n",
    "#plt.xscale('log')\n",
    "plt.show()"
   ]
  },
  {
   "cell_type": "markdown",
   "metadata": {},
   "source": [
    "# Spectroscopic Power Spectrum"
   ]
  },
  {
   "cell_type": "markdown",
   "metadata": {},
   "source": [
    "The observed power spectrum of galaxies can be related to the mater power spectrum by \n",
    "\n",
    "$$\n",
    "P^\\mathrm{th} = q_\\| \\times  q_\\perp^2 \\times K \\times \\mathrm{FoG} \\times \\mathrm{Err} \\times P_{mm} + P^\\mathrm{shot}.\n",
    "$$\n",
    "The factors in front are due to different observational effects. The factor $q_\\|$ and $q_\\perp$ are coming from the fact that we can only observe the redshift of galaxies and not their position.\n",
    "To calculate the power spectrum we have to settle for a reference transformation. If this is different from the cosmology we used to compute the power spectrum in, we find \n",
    "$$\n",
    "q_\\| = H(z)/H^\\mathrm{ref}(z) \\quad\\text{and}\\quad q_\\perp = D_A^\\mathrm{ref}(z)/D_A(z)\n",
    "$$\n",
    "\n",
    "The factors $q_\\mathrm{RSD}$ and $q_\\mathrm{FOG}$ describe redshift space distortions and are given by\n",
    "$$\n",
    "K = \\left(b+f\\,\\mu^2\\right)^2\\\\\n",
    "\\mathrm{FoG} = 1+\\left[f\\,\\sigma_p\\,\\mu^2\\right]^2\n",
    "\n",
    "$$\n",
    "where $\\mu$ denotes the angle under which we observe the structures.\n",
    "The factor $q_\\sigma$ is due to the resolution of the instrument and is given by\n",
    "$$\n",
    "\\mathrm{Err} = \\exp\\left[-\\sigma^2_\\|\\, k^2\\, \\mu^2 -\\sigma_\\perp^2 \\,k^2\\,\\left(1- \\mu^2\\right)\\right].\n",
    "$$\n",
    "Finaly, $P^\\mathrm{shot}$ just is a constant term we add for shot noise.\n",
    "The nonlinear power spectrum $P_{mm}$ is approximated as \n",
    "$$\n",
    "P_{mm} \\approx P_{dw} \\coloneqq P_{mm}^\\mathrm{lin}\\,e^{-g} + P_{mm}\\,(1-e^g),\\\\\n",
    "g= \\sigma_v^2 k^2\\, \\left((1-\\mu^2)+\\mu^2(1+f)^2\\right)\n",
    "$$"
   ]
  },
  {
   "cell_type": "code",
   "execution_count": null,
   "metadata": {},
   "outputs": [],
   "source": [
    "observables = ['GCsp']"
   ]
  },
  {
   "cell_type": "markdown",
   "metadata": {},
   "source": [
    "### Pass options and settings to cosmicfish"
   ]
  },
  {
   "cell_type": "code",
   "execution_count": null,
   "metadata": {},
   "outputs": [],
   "source": [
    "cosmoFM_B = cosmicfish.FisherMatrix(fiducialpars=fiducial,\n",
    "                                        options=options, \n",
    "                                        observables=observables,\n",
    "                                        cosmoModel=options['cosmo_model'],\n",
    "                                        surveyName=options['survey_name'])"
   ]
  },
  {
   "cell_type": "markdown",
   "metadata": {},
   "source": [
    "### Calculate the Power Spectrum"
   ]
  },
  {
   "cell_type": "code",
   "execution_count": null,
   "metadata": {},
   "outputs": [],
   "source": [
    "## Import the spectroscopic observable from an LSSsurvey as spobs\n",
    "from cosmicfishpie.LSSsurvey import spectro_obs as spobs\n",
    "\n",
    "spectro_Pk = spobs.ComputeGalSpectro(cosmoFM_B.fiducialcosmopars)"
   ]
  },
  {
   "cell_type": "markdown",
   "metadata": {},
   "source": [
    "### \"De-wiggling\" of the Power Spectrum"
   ]
  },
  {
   "cell_type": "markdown",
   "metadata": {},
   "source": [
    "To calculate the observed power spectrum we need to dewiggle it to find the non linear correction "
   ]
  },
  {
   "cell_type": "code",
   "execution_count": null,
   "metadata": {},
   "outputs": [],
   "source": [
    "z=1\n",
    "kk= np.logspace(-2,np.log10(0.4),200)\n",
    "\n",
    "fig, axs = plt.subplots(1,2,figsize=(18,8))\n",
    "\n",
    "color = iter(snscolors)\n",
    "\n",
    "c = next(color)\n",
    "axs[0].loglog(kk,spectro_Pk.cosmo.Pmm(z,kk),c=c,label='$P_\\mathrm{mm}$')\n",
    "c = next(color)\n",
    "axs[0].loglog(kk,spectro_Pk.cosmo.nonwiggle_pow(z,kk),c=c,label='$P_\\mathrm{nw}$')\n",
    "axs[0].set_xlabel('$k$ [$\\mathrm{Mpc}^{-1}$]')\n",
    "axs[0].set_ylabel('Power Spectrum $P(k)$ [$\\mathrm{Mpc}^{3}$]')\n",
    "axs[0].legend()\n",
    "axs[0].set_xlim([1e-2,0.4])\n",
    "\n",
    "colormap = sns.color_palette(\"rocket\")\n",
    "colors = iter(colormap)\n",
    "mus = np.linspace(0,1,6)\n",
    "for mu in mus:\n",
    "    c = next(colors)\n",
    "    axs[1].plot(kk,spectro_Pk.dewiggled_pdd(z,kk,mu)/spectro_Pk.normalized_pnw(z,kk),c=c)\n",
    "\n",
    "axs[1].set_xscale('log')\n",
    "axs[1].set_xlabel('$k$ [$\\mathrm{Mpc}^{-1}$]')\n",
    "axs[1].set_ylabel('$P_\\mathrm{dw}(k)$/$P_\\mathrm{nw}(k)$ for different $\\mu$')\n",
    "axs[1].set_xlim([1e-2,0.4])\n"
   ]
  },
  {
   "cell_type": "markdown",
   "metadata": {},
   "source": [
    "#### Compute the observed power spectrum at different redshifts and different angles "
   ]
  },
  {
   "cell_type": "code",
   "execution_count": null,
   "metadata": {},
   "outputs": [],
   "source": [
    "\n",
    "fig, axs = plt.subplots(1,2,figsize=(18,8))\n",
    "\n",
    "colormap = sns.color_palette(\"rocket\")\n",
    "colors = iter(colormap)\n",
    "\n",
    "zz= np.linspace(1,2,6)\n",
    "for z in zz:\n",
    "    c = next(colors)\n",
    "    #axs[0].plot(kk,spectro_Pk.observed_Pgg(z,kk,1)/spectro_Pk.observed_Pgg(1,kk,1),c=c)\n",
    "    axs[0].loglog(kk,spectro_Pk.observed_Pgg(z,kk,1),c=c)\n",
    "\n",
    "axs[0].set_xlabel('$k$ [$\\mathrm{Mpc}^{-1}$]')\n",
    "axs[0].set_ylabel('$P(k,z,\\mu=1)[\\mathrm{Mpc}^3]$')\n",
    "axs[0].set_xlim([1e-2,0.4])\n",
    "axs[0].set_xscale('log')\n",
    "\n",
    "colormap = sns.color_palette(\"rocket\")\n",
    "colors = iter(colormap)\n",
    "mus = np.linspace(1,0,6)\n",
    "for mu in mus:\n",
    "    c = next(colors)\n",
    "    #axs[1].plot(kk,spectro_Pk.observed_Pgg(1,kk,mu)/spectro_Pk.observed_Pgg(1,kk,1),c=c)\n",
    "    axs[1].loglog(kk,spectro_Pk.observed_Pgg(1,kk,mu),c=c)\n",
    "\n",
    "axs[1].set_xlabel('$k$ [$\\mathrm{Mpc}^{-1}$]')\n",
    "axs[1].set_ylabel('$P(k,z=1,\\mu)[\\mathrm{Mpc}^3]$')\n",
    "axs[1].set_xlim([1e-2,0.4])\n",
    "axs[1].set_xscale('log')\n"
   ]
  },
  {
   "cell_type": "markdown",
   "metadata": {},
   "source": [
    "### Compare the Power Spectrum from two different cosmologies"
   ]
  },
  {
   "cell_type": "code",
   "execution_count": null,
   "metadata": {},
   "outputs": [],
   "source": [
    "sample = {\"Omegam\":0.32,\n",
    "          \"Omegab\":0.06, #20% higher than the fiducial\n",
    "          \"h\":0.737, #10% higher than the fiducal\n",
    "          \"ns\":0.96,\n",
    "          \"sigma8\":0.815584,\n",
    "          \"w0\":-1.0,\n",
    "          \"wa\":0.,\n",
    "          \"mnu\":0.06,\n",
    "          \"Neff\":3.044,\n",
    "          }\n",
    "\n",
    "spectro_Pk_sampled = spobs.ComputeGalSpectro(sample, cosmoFM_B.fiducialcosmopars)\n"
   ]
  },
  {
   "cell_type": "code",
   "execution_count": null,
   "metadata": {},
   "outputs": [],
   "source": [
    "fig, axs = plt.subplots(1,2,figsize=(18,8))\n",
    "\n",
    "colormap = sns.color_palette(\"colorblind\")\n",
    "colors = iter(colormap)\n",
    "\n",
    "c = next(colors)\n",
    "axs[0].loglog(kk,spectro_Pk.observed_Pgg(1,kk,1),c=c,label='fiducal')\n",
    "\n",
    "c = next(colors)\n",
    "axs[0].loglog(kk,spectro_Pk_sampled.observed_Pgg(1,kk,1),c=c,label='sample')\n",
    "\n",
    "axs[0].set_xlabel('$k$ [$\\mathrm{Mpc}^{-1}$]')\n",
    "axs[0].set_ylabel('$P(k,z=1,\\mu=1)[\\mathrm{Mpc}^3]$')\n",
    "axs[0].set_xlim([1e-2,0.4])\n",
    "axs[0].legend()\n",
    "axs[0].set_xscale('log')\n",
    "\n",
    "axs[1].plot(kk,(spectro_Pk.observed_Pgg(1,kk,1)-spectro_Pk_sampled.observed_Pgg(1,kk,1))/(spectro_Pk.observed_Pgg(1,kk,1)+spectro_Pk_sampled.observed_Pgg(1,kk,1))*200,c='black')\n",
    "\n",
    "axs[1].set_xlabel('$k$ [$\\mathrm{Mpc}^{-1}$]')\n",
    "axs[1].set_ylabel(r'% deviation of Power Spectra')\n",
    "axs[1].set_xlim([1e-2,0.4])\n",
    "axs[1].set_xscale('log')\n"
   ]
  }
 ],
 "metadata": {
  "hide_input": false,
  "kernelspec": {
   "display_name": "Python 3.8.12 ('cosmicfish')",
   "language": "python",
   "name": "python3"
  },
  "language_info": {
   "codemirror_mode": {
    "name": "ipython",
    "version": 3
   },
   "file_extension": ".py",
   "mimetype": "text/x-python",
   "name": "python",
   "nbconvert_exporter": "python",
   "pygments_lexer": "ipython3",
   "version": "3.10.12"
  },
  "toc": {
   "base_numbering": 1,
   "nav_menu": {},
   "number_sections": true,
   "sideBar": true,
   "skip_h1_title": false,
   "title_cell": "Table of Contents",
   "title_sidebar": "Contents",
   "toc_cell": false,
   "toc_position": {},
   "toc_section_display": true,
   "toc_window_display": false
  },
  "vscode": {
   "interpreter": {
    "hash": "6de7e2f7ee95035bf0c6e476fd00bafd31c302653b763246190ee2d75deeceb1"
   }
  }
 },
 "nbformat": 4,
 "nbformat_minor": 2
}
