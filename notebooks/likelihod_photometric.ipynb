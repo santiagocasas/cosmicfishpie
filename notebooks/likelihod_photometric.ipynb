{
 "cells": [
  {
   "cell_type": "code",
   "execution_count": 1,
   "metadata": {},
   "outputs": [],
   "source": [
    "import seaborn as sns\n",
    "import numpy as np\n",
    "import logging\n",
    "from itertools import product\n",
    "snscolors = sns.color_palette(\"colorblind\")\n",
    "from copy import deepcopy, copy"
   ]
  },
  {
   "cell_type": "code",
   "execution_count": 2,
   "metadata": {},
   "outputs": [],
   "source": [
    "from cosmicfishpie.fishermatrix import cosmicfish\n",
    "from cosmicfishpie.LSSsurvey import photo_obs as pobs\n",
    "from cosmicfishpie.LSSsurvey import photo_cov as pcov\n",
    "from cosmicfishpie.utilities.utils import printing as upr"
   ]
  },
  {
   "cell_type": "code",
   "execution_count": 3,
   "metadata": {},
   "outputs": [],
   "source": [
    "from collections.abc import Sequence\n",
    "\n",
    "def is_indexable_iterable(var):\n",
    "    return isinstance(var, (list, np.ndarray, Sequence)) and not isinstance(var, (str, bytes))\n"
   ]
  },
  {
   "cell_type": "code",
   "execution_count": 4,
   "metadata": {},
   "outputs": [],
   "source": [
    "logger = logging.getLogger(\"cosmicfishpie.cosmology.nuisance\")\n",
    "logger.setLevel(logging.INFO)"
   ]
  },
  {
   "cell_type": "code",
   "execution_count": 5,
   "metadata": {},
   "outputs": [],
   "source": [
    "upr.debug = False"
   ]
  },
  {
   "cell_type": "code",
   "execution_count": 6,
   "metadata": {},
   "outputs": [],
   "source": [
    "upr.debug_print(\"test\")"
   ]
  },
  {
   "cell_type": "code",
   "execution_count": 7,
   "metadata": {},
   "outputs": [],
   "source": [
    "fiducial = {\n",
    "    \"Omegam\": 0.3145714273,\n",
    "    \"Omegab\": 0.0491989,\n",
    "    \"h\": 0.6737,\n",
    "    \"ns\": 0.96605,\n",
    "    \"sigma8\": 0.81,\n",
    "    \"w0\": -1.0,\n",
    "    \"wa\": 0.0,\n",
    "    \"mnu\": 0.06,\n",
    "    \"Neff\": 3.044,\n",
    "}\n",
    "observables = ['WL', 'GCph']"
   ]
  },
  {
   "cell_type": "code",
   "execution_count": null,
   "metadata": {},
   "outputs": [],
   "source": [
    "options = {\n",
    "    \"accuracy\": 1,\n",
    "    \"feedback\": 1,\n",
    "    \"code\": \"symbolic\",\n",
    "    \"outroot\": \"photo_3x2pt\",\n",
    "    \"survey_name\": \"Euclid\",\n",
    "    \"survey_name_photo\": \"Euclid-Photometric-ISTF-Pessimistic\",\n",
    "    \"survey_name_spectro\": False,\n",
    "    #\"specs_dir\": \"../survey_specifications\",\n",
    "    \"cosmo_model\": \"LCDM\",\n",
    "    \"bfs8terms\": False,\n",
    "}\n",
    "cosmoFM_fid = cosmicfish.FisherMatrix(\n",
    "    fiducialpars=fiducial,\n",
    "    options=options,\n",
    "    observables=observables,\n",
    "    cosmoModel=options[\"cosmo_model\"],\n",
    "    surveyName=options[\"survey_name\"],\n",
    ")"
   ]
  },
  {
   "cell_type": "code",
   "execution_count": null,
   "metadata": {},
   "outputs": [],
   "source": [
    "cosmoFM_fid.IApars"
   ]
  },
  {
   "cell_type": "code",
   "execution_count": 10,
   "metadata": {},
   "outputs": [],
   "source": [
    "photo_fid = pobs.ComputeCls(cosmopars=cosmoFM_fid.fiducialcosmopars,\n",
    "                            photopars=cosmoFM_fid.photopars,\n",
    "                            IApars=cosmoFM_fid.IApars,\n",
    "                            biaspars=cosmoFM_fid.photobiaspars)\n",
    "\n",
    "photo_fid.compute_all()\n",
    "\n",
    "photo_cov_fid = pcov.PhotoCov(cosmopars=cosmoFM_fid.fiducialcosmopars,\n",
    "    photopars=cosmoFM_fid.photopars,\n",
    "    IApars=cosmoFM_fid.IApars,\n",
    "    biaspars=cosmoFM_fid.photobiaspars,\n",
    "    fiducial_Cls=photo_fid)"
   ]
  },
  {
   "cell_type": "code",
   "execution_count": null,
   "metadata": {},
   "outputs": [],
   "source": [
    "photo_cov_fid.allparsfid"
   ]
  },
  {
   "cell_type": "code",
   "execution_count": 11,
   "metadata": {},
   "outputs": [],
   "source": [
    "def observable_Cell(photo_th: pobs.ComputeCls):\n",
    "    photo_th.compute_all()\n",
    "    binrange = photo_th.binrange\n",
    "    nbin = len(binrange)\n",
    "\n",
    "    ells = photo_th.result[\"ells\"]\n",
    "    output = dict(ells=ells)\n",
    "\n",
    "    observables = photo_th.observables\n",
    "    if \"WL\" in observables:\n",
    "        Cell_LL = np.empty((len(ells), nbin, nbin), dtype=np.float64)\n",
    "    if \"GCph\" in observables:\n",
    "        Cell_GG = np.empty((len(ells), nbin, nbin), dtype=np.float64)\n",
    "    if \"WL\" in observables and \"GCph\" in observables:\n",
    "        Cell_GL = np.empty((len(ells), nbin, nbin), dtype=np.float64)\n",
    "\n",
    "    for i,j in product(binrange, repeat=2):\n",
    "\n",
    "        if \"WL\" in observables:\n",
    "            Cell_LL[:,i-1,j-1] = (photo_th.result[\"WL {}xWL {}\".format(i,j)]\n",
    "                                  + np.eye(nbin)[i-1,j-1]\n",
    "                                  * photo_cov_fid.ellipt_error**2.0 / photo_cov_fid.ngalbin[i-1]\n",
    "                                  )\n",
    "\n",
    "        if \"GCph\" in observables:\n",
    "            Cell_GG[:,i-1,j-1] = (photo_th.result[\"GCph {}xGCph {}\".format(i,j)]\n",
    "                                  + np.eye(nbin)[i-1,j-1]\n",
    "                                  * 1 / photo_cov_fid.ngalbin[i-1]\n",
    "                                  )\n",
    "\n",
    "        if \"WL\" in observables and \"GCph\" in observables:\n",
    "            Cell_GL[:,i-1,j-1] = photo_th.result[\"GCph {}xWL {}\".format(i,j)]\n",
    "\n",
    "    if \"WL\" in observables:\n",
    "        output[\"Cell_LL\"] = Cell_LL\n",
    "    if \"GCph\" in observables:\n",
    "        output[\"Cell_GG\"] = Cell_GG\n",
    "    if \"WL\" in observables and \"GCph\" in observables:\n",
    "        output[\"Cell_GL\"] = Cell_GL\n",
    "\n",
    "    return output"
   ]
  },
  {
   "cell_type": "code",
   "execution_count": 12,
   "metadata": {},
   "outputs": [],
   "source": [
    "Cells_fid = observable_Cell(photo_fid)"
   ]
  },
  {
   "cell_type": "code",
   "execution_count": 13,
   "metadata": {},
   "outputs": [],
   "source": [
    "ellmax_WL = cosmoFM_fid.specs[\"lmax_WL\"]\n",
    "ellmax_GC = cosmoFM_fid.specs[\"lmax_GCph\"]\n",
    "ellmax_XC = np.minimum(ellmax_GC,ellmax_WL)"
   ]
  },
  {
   "cell_type": "code",
   "execution_count": 14,
   "metadata": {},
   "outputs": [],
   "source": [
    "def compute_chi2_per_obs(Cell_fid, Cell_th, ells, dells):\n",
    "\n",
    "    dfid = np.linalg.det(Cell_fid)\n",
    "    dth = np.linalg.det(Cell_th)\n",
    "\n",
    "    nells = len(ells)\n",
    "    _, _, nbin = Cell_fid.shape\n",
    "\n",
    "    dmix = 0\n",
    "    for i in range(nbin):\n",
    "        Cth_mix = copy(Cell_th)\n",
    "        Cth_mix[:,i,:] = Cell_fid[:,i,:]\n",
    "        dmix += np.linalg.det(Cth_mix)\n",
    "\n",
    "    ingrd = (\n",
    "        (2*ells+1)\n",
    "        *(\n",
    "        dmix[:nells]/dth[:nells]\n",
    "        + np.log(dth[:nells]/dfid[:nells])\n",
    "        - nbin)\n",
    "    )\n",
    "    ingrd = [*((ingrd[1:]+ingrd[:-1])/2 * dells[:-1]), ingrd[-1]*dells[-1]]\n",
    "\n",
    "    chi2 = np.sum(ingrd)\n",
    "    return chi2"
   ]
  },
  {
   "cell_type": "code",
   "execution_count": 15,
   "metadata": {},
   "outputs": [],
   "source": [
    "def compute_chi2(Cells_fid, Cells_th):\n",
    "    \"\"\"\n",
    "    Compute χ² for wedges using fully vectorized operations.\n",
    "    Matches the loop implementation exactly.\n",
    "\n",
    "    Parameters:\n",
    "    ----------\n",
    "    Cells_fid: Dict\n",
    "\n",
    "    Cells_th: Dict\n",
    "\n",
    "    Returns:\n",
    "    -------\n",
    "    float\n",
    "        χ² value\n",
    "    \"\"\"\n",
    "    chi2 = 0\n",
    "    ells = Cells_fid[\"ells\"]\n",
    "\n",
    "    if \"WL\" in observables and not \"GCph\" in observables:\n",
    "        Cells_WL_th = Cells_th[\"Cell_LL\"]\n",
    "        Cells_WL_fid = Cells_fid[\"Cell_LL\"]\n",
    "\n",
    "        iWL = np.searchsorted(ells, ellmax_WL)\n",
    "        ells_WL = np.insert(ells, iWL, ellmax_WL)\n",
    "        Dl_WL = np.diff(ells_WL)[:iWL]\n",
    "        ells_WL = ells_WL[:iWL]\n",
    "\n",
    "        \n",
    "        chi2 += (\n",
    "            photo_cov_fid.fsky_WL\n",
    "            * compute_chi2_per_obs(Cells_WL_fid, Cells_WL_th, ells_WL, Dl_WL)\n",
    "        )\n",
    "\n",
    "    if \"GCph\" in observables and not \"WL\" in observables:\n",
    "        Cells_GC_th = Cells_th[\"Cell_GG\"]\n",
    "        Cells_GC_fid = Cells_fid[\"Cell_GG\"]\n",
    "\n",
    "        iGC = np.searchsorted(ells, ellmax_GC)\n",
    "        ells_GC = np.insert(ells, iGC, ellmax_GC)\n",
    "        Dl_GC = np.diff(ells_GC)[:iGC]\n",
    "        ells_GC = ells_GC[:iGC]\n",
    "\n",
    "        chi2 += (photo_cov_fid.fsky_GCph\n",
    "                 * compute_chi2_per_obs(Cells_GC_fid, Cells_GC_th, ells_GC, Dl_GC))\n",
    "\n",
    "    if \"GCph\" in observables and \"WL\" in observables:\n",
    "        Cells_XC_th = Cells_th[\"Cell_GL\"]\n",
    "        Cells_XC_fid = Cells_fid[\"Cell_GL\"]\n",
    "        Cells_GC_th = Cells_th[\"Cell_GG\"]\n",
    "        Cells_GC_fid = Cells_fid[\"Cell_GG\"]\n",
    "        Cells_WL_th = Cells_th[\"Cell_LL\"]\n",
    "        Cells_WL_fid = Cells_fid[\"Cell_LL\"]\n",
    "\n",
    "        iGC = np.searchsorted(ells, ellmax_GC)\n",
    "        ells_GC = np.insert(ells, iGC, ellmax_GC)\n",
    "        Dl_GC = np.diff(ells_GC)[:iGC]\n",
    "        ells_GC = ells_GC[:iGC]\n",
    "        iWL = np.searchsorted(ells, ellmax_WL)\n",
    "        ells_WL = np.insert(ells, iWL, ellmax_WL)\n",
    "        Dl_WL = np.diff(ells_WL)[:iWL]\n",
    "        ells_WL = ells_WL[:iWL]\n",
    "        iXC = np.searchsorted(ells, ellmax_XC)\n",
    "        ells_XC = np.insert(ells, iXC, ellmax_XC)\n",
    "        Dl_XC = np.diff(ells_XC)[:iXC]\n",
    "        ells_XC = ells_GC[:iXC]\n",
    "\n",
    "        big_th = np.block([[Cells_WL_th[:iXC],np.transpose(Cells_XC_th,(0,2,1))[:iXC]],\n",
    "                           [Cells_XC_th[:iXC], Cells_GC_th[:iXC]]])\n",
    "        big_fid = np.block([[Cells_WL_fid[:iXC],np.transpose(Cells_XC_fid,(0,2,1))[:iXC]],\n",
    "                           [Cells_XC_fid[:iXC], Cells_GC_fid[:iXC]]])\n",
    "\n",
    "        chi2 += np.sqrt(photo_cov_fid.fsky_WL*photo_cov_fid.fsky_GCph) * compute_chi2_per_obs(big_fid, big_th,ells_XC, Dl_XC)\n",
    "        chi2 += photo_cov_fid.fsky_WL * compute_chi2_per_obs(Cells_WL_fid[:iXC], Cells_WL_th[:iXC],ells_WL[:iXC], Dl_WL[:iXC])\n",
    "\n",
    "    return chi2"
   ]
  },
  {
   "cell_type": "code",
   "execution_count": 31,
   "metadata": {},
   "outputs": [],
   "source": [
    "def loglike(param_vec, prior=None):\n",
    "    \n",
    "    if type(param_vec) == dict:\n",
    "        param_dict = deepcopy(param_vec)\n",
    "    elif is_indexable_iterable(param_vec) and prior is not None:\n",
    "        #print(f'Loading prior with keys: {prior.keys}')\n",
    "        param_dict={key: param_vec[i] for i, key in enumerate(prior.keys)}\n",
    "    \n",
    "    photopars = deepcopy(cosmoFM_fid.photopars)\n",
    "    for ii, pp in enumerate(cosmoFM_fid.photopars.keys()):\n",
    "        photopars[ii] = param_dict.pop(pp, cosmoFM_fid.photopars[pp])\n",
    "    \n",
    "    photobiaspars = deepcopy(cosmoFM_fid.photobiaspars)\n",
    "    for ii, pp in enumerate(cosmoFM_fid.photobiaspars.keys()):\n",
    "        photobiaspars[pp] = param_dict.pop(pp, cosmoFM_fid.photobiaspars[pp])\n",
    "    \n",
    "    IApars = deepcopy(cosmoFM_fid.IApars)\n",
    "    for ii, pp in enumerate(cosmoFM_fid.IApars.keys()):\n",
    "        IApars[pp] = param_dict.pop(pp, cosmoFM_fid.IApars[pp])\n",
    "    \n",
    "    photo_vary = pobs.ComputeCls(\n",
    "        param_dict,\n",
    "        photopars,\n",
    "        IApars,\n",
    "        photobiaspars,\n",
    "        )\n",
    "    Cells_th = observable_Cell(photo_vary)\n",
    "\n",
    "    return -0.5 * compute_chi2(Cells_fid,Cells_th)"
   ]
  },
  {
   "cell_type": "code",
   "execution_count": null,
   "metadata": {},
   "outputs": [],
   "source": [
    "samp1dic = {'Omegam': 0.31,\n",
    "            'Omegab': 0.05,\n",
    "            'h': 0.68,\n",
    "            'ns': 0.96,\n",
    "            'sigma8': 0.82,\n",
    "            'w0': -1.01,\n",
    "            'wa': 0.2,\n",
    "            'b1': 1.0997727037892875,\n",
    "            'b2': 1.220245876862528,\n",
    "            'b3': 1.2723993083933989,\n",
    "            'b4': 1.316624471897739,\n",
    "            'b5': 1.35812370570578,\n",
    "            'b6': 1.3998214171814918,\n",
    "            'b7': 1.4446452851824907,\n",
    "            'b8': 1.4964959071110084,\n",
    "            'b9': 1.5652475842498528,\n",
    "            'b10': 1.7429859437184225,\n",
    "            'AIA': 1.72,\n",
    "            'betaIA': 2.17,\n",
    "            'etaIA': -0.41,\n",
    "            }\n",
    "print(\"Sample likelihood\", loglike(samp1dic))"
   ]
  },
  {
   "cell_type": "code",
   "execution_count": null,
   "metadata": {},
   "outputs": [],
   "source": [
    "loglike(photo_cov_fid.allparsfid)"
   ]
  },
  {
   "cell_type": "code",
   "execution_count": null,
   "metadata": {},
   "outputs": [],
   "source": [
    "photo_cov_fid.allparsfid"
   ]
  },
  {
   "cell_type": "code",
   "execution_count": 28,
   "metadata": {},
   "outputs": [],
   "source": [
    "from nautilus import Prior\n",
    "from nautilus import Sampler\n",
    "import re"
   ]
  },
  {
   "cell_type": "code",
   "execution_count": 27,
   "metadata": {},
   "outputs": [],
   "source": [
    "prior = Prior()\n",
    "prior_withnuis = Prior()"
   ]
  },
  {
   "cell_type": "code",
   "execution_count": 26,
   "metadata": {},
   "outputs": [],
   "source": [
    "prior_dict ={\n",
    " 'Omegam': [0.24, 0.4],\n",
    " 'Omegab': [0.04, 0.06],\n",
    " 'h': [0.61, 0.73],\n",
    " 'ns': [0.92, 1.00],\n",
    " 'sigma8': [0.79, 0.83],\n",
    " 'AIA': [1.0, 3.0],\n",
    " 'etaIA' :[-6.0, 6.0],\n",
    " 'b1': [1.0, 3.0],\n",
    " 'b2': [1.0, 3.0],\n",
    " 'b3': [1.0, 3.0],\n",
    " 'b4': [1.0, 3.0],\n",
    " 'b5': [1.0, 3.0],\n",
    " 'b6': [1.0, 3.0],\n",
    " 'b7': [1.0, 3.0],\n",
    " 'b8': [1.0, 3.0],\n",
    " 'b9': [1.0, 3.0],\n",
    " 'b10': [1.0, 3.0]\n",
    " }"
   ]
  },
  {
   "cell_type": "code",
   "execution_count": null,
   "metadata": {},
   "outputs": [],
   "source": [
    "cosmoFM_fid.freeparams"
   ]
  },
  {
   "cell_type": "code",
   "execution_count": 29,
   "metadata": {},
   "outputs": [],
   "source": [
    "for par in prior_dict.keys():\n",
    "    if par in cosmoFM_fid.freeparams.keys():\n",
    "        dist_prior = (prior_dict[par][0], prior_dict[par][1])\n",
    "        if re.match(r'b\\d+', par):\n",
    "            prior_withnuis.add_parameter(par, dist_prior)\n",
    "        elif re.search(r'IA', par):\n",
    "            prior_withnuis.add_parameter(par, dist_prior)\n",
    "        else:\n",
    "            prior.add_parameter(par, dist_prior)\n",
    "            prior_withnuis.add_parameter(par, dist_prior)\n"
   ]
  },
  {
   "cell_type": "code",
   "execution_count": null,
   "metadata": {},
   "outputs": [],
   "source": [
    "prior.keys"
   ]
  },
  {
   "cell_type": "code",
   "execution_count": null,
   "metadata": {},
   "outputs": [],
   "source": [
    "print(\"Loading prior with keys: \", prior.keys)\n",
    "sampler = Sampler(prior, \n",
    "                          loglike, \n",
    "                          n_live=1000, \n",
    "                          n_networks=4, \n",
    "                          n_batch=256, pool=8, \n",
    "                          pass_dict=False,\n",
    "                          filepath='cosmicshark_3x2photo_symb_justcosmopar.hdf5', \n",
    "                          resume=True,\n",
    "                          likelihood_kwargs={'prior': prior}\n",
    "                          )\n",
    "sampler.run(verbose=True, discard_exploration=True)\n",
    "log_z_all = sampler.evidence()\n",
    "print('Evidence:', log_z_all)\n",
    "points_all, log_w_all, log_l_all = sampler.posterior()"
   ]
  },
  {
   "cell_type": "code",
   "execution_count": null,
   "metadata": {},
   "outputs": [],
   "source": []
  }
 ],
 "metadata": {
  "kernelspec": {
   "display_name": "fishconsumer",
   "language": "python",
   "name": "python3"
  },
  "language_info": {
   "codemirror_mode": {
    "name": "ipython",
    "version": 3
   },
   "file_extension": ".py",
   "mimetype": "text/x-python",
   "name": "python",
   "nbconvert_exporter": "python",
   "pygments_lexer": "ipython3",
   "version": "3.10.13"
  }
 },
 "nbformat": 4,
 "nbformat_minor": 2
}
