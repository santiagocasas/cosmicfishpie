{
 "cells": [
  {
   "cell_type": "markdown",
   "metadata": {},
   "source": [
    "# CosmicFish Pie v1.0   "
   ]
  },
  {
   "cell_type": "code",
   "execution_count": 1,
   "metadata": {},
   "outputs": [],
   "source": [
    "%load_ext autoreload\n",
    "%autoreload 2"
   ]
  },
  {
   "cell_type": "code",
   "execution_count": 2,
   "metadata": {},
   "outputs": [],
   "source": [
    "%matplotlib inline\n",
    "import os\n",
    "import numpy as np\n",
    "import matplotlib.pyplot as plt\n",
    "import seaborn as sns\n",
    "snscolors=sns.color_palette(\"colorblind\")"
   ]
  },
  {
   "cell_type": "code",
   "execution_count": 3,
   "metadata": {},
   "outputs": [],
   "source": [
    "from cosmicfishpie.fishermatrix import cosmicfish"
   ]
  },
  {
   "cell_type": "code",
   "execution_count": 4,
   "metadata": {},
   "outputs": [
    {
     "name": "stdout",
     "output_type": "stream",
     "text": [
      "The value of OMP_NUM_THREADS is:  None\n",
      "The value of OMP_NUM_THREADS is:  8\n"
     ]
    }
   ],
   "source": [
    "envkey = 'OMP_NUM_THREADS'\n",
    "# Set this environment variable to the number of available cores in your machine, \n",
    "# to get a fast execution of the Einstein Boltzmann Solver\n",
    "print(\"The value of {:s} is: \".format(envkey), os.environ.get(envkey))\n",
    "os.environ[envkey] = str(8)\n",
    "print(\"The value of {:s} is: \".format(envkey), os.environ.get(envkey))"
   ]
  },
  {
   "cell_type": "markdown",
   "metadata": {},
   "source": [
    "# CosmicFish as a cosmology calculator"
   ]
  },
  {
   "cell_type": "markdown",
   "metadata": {},
   "source": [
    "## Define input, options, fiducial and observables"
   ]
  },
  {
   "cell_type": "code",
   "execution_count": 5,
   "metadata": {},
   "outputs": [],
   "source": [
    "fiducial = {\"Omegam\":0.32,\n",
    "            \"Omegab\":0.05,\n",
    "            \"h\":0.67,\n",
    "            \"ns\":0.96,\n",
    "            \"sigma8\":0.815584,\n",
    "            \"w0\":-1.0,\n",
    "            \"wa\":0.,\n",
    "            \"mnu\":0.06,\n",
    "            \"Neff\":3.044,\n",
    "            }\n",
    "\n",
    "options = {\n",
    "                'accuracy': 1,\n",
    "                'feedback': 1,\n",
    "                'code' : 'camb',\n",
    "                'camb_config_yaml' : '../boltzmann_yaml_files/camb/default.yaml',\n",
    "                'outroot': 'w0waCDM-test1',\n",
    "                'specs_dir' : '../survey_specifications/',        \n",
    "                'survey_name': 'Euclid',\n",
    "                'cosmo_model' : 'w0waCDM'}"
   ]
  },
  {
   "cell_type": "markdown",
   "metadata": {},
   "source": [
    "# Photometric 3x2pt Angular Power Spectrum Observable"
   ]
  },
  {
   "cell_type": "markdown",
   "metadata": {},
   "source": [
    "The 3x2pt function is the auto- and cross-correlation of observables X, Y = {L, G},  which can be combined in 3 times the 2pt-function of:\n",
    "Lensing-Lensing, Galaxy-Lensing and Galaxy-Galaxy\n",
    "\n",
    "$$\n",
    "C_{ij}^{XY}(\\ell) = \\int^{z_{max}}_{z_{min}} \\!\\!\\!\\!\\! dz  \\frac{W_{i}^{X}(z) W_{j}^{Y}(z)}{H(z)r^{2}(z)} P_{\\delta \\delta} \\! \\left[ \\frac{\\ell+1/2}{r(z)},z \\right] +N_{ij}^{XY}(\\ell)\n",
    "$$\n",
    "\n",
    "where the cosmic shear window function is given by:\n",
    "\n",
    "$$\n",
    "W_i^{\\gamma}(z) = \\frac{3}{2} \\, H_0^2 \\, \\Omega_m \\,  (1+z) \\, r(z) \\int_z^{z_{max}}dz^\\prime \\,\n",
    "    %\\niof(z') \n",
    "    n_i(z^\\prime)\n",
    "    \\left[1- \\frac{r(z)}{r(z^\\prime)}\\right]~\n",
    "$$\n",
    "\n",
    "and the estimated number density of galaxies in each bin is given by:\n",
    "\n",
    "$$\n",
    "n_i(z) = \\frac{\\int_{z_i^-}^{z_i^+} dz_p n(z) p_{ph}(z_p|z)}{\\int_{z_{min}}^{z_{max}}dz \\int_{z_i^-}^{z_i^+}dz_p n(z) p_{ph}(z_p|z)}~\n",
    "$$\n",
    "\n",
    "which is a convolution of the theoretical mean number density with a photometric redshift error distribution:\n",
    "\n",
    "$$\n",
    "p_{ph}(z_p|z) = \\frac{1-f_{out}}{\\sqrt{2\\pi}\\sigma_b(1+z)} \\exp\\left\\{-\\frac{1}{2}\\left[\\frac{z-c_bz_p-z_b}{\\sigma_b(1+z)}\\right]^2\\right\\} \\\\ + \\frac{f_{out}}{\\sqrt{2\\pi}\\sigma_0(1+z)} \\exp\\left\\{-\\frac{1}{2}\\left[\\frac{z-c_0z_p-z_0}{\\sigma_0(1+z)}\\right]^2\\right\\}\n",
    "$$\n",
    "\n",
    "The full lensing function is given by the addition of cosmic shear and intrinsic alignment, which takes the following form:\n",
    "\n",
    "$$\n",
    "W_{i}^{L}(z) = W_{i}^{\\gamma}(z) - W_{i}^\\mathrm{IA}(z) \n",
    "$$\n",
    "\n",
    "Moreover for IA and for photometric Galaxy clustering, the window function takes the simple form:\n",
    "\n",
    "$$\n",
    "W_{i}^\\mathrm{IA}(z) = \\mathcal{A}_\\mathrm{IA} \\mathcal{C}_\\mathrm{IA}\\Omega_{m,0} \\frac{\\mathcal{F}_\\mathrm{IA}(z)}{D(z)} n_i(z) H(z)\\\\\n",
    "W_{i}^{G}(z) = n_i(z) H(z)\\, b_i(z)\n",
    "$$\n",
    "\n",
    "Here, $b_i(z)$ is the galaxy bias (the ratio between the density contrast of galaxies and dark matter)."
   ]
  },
  {
   "cell_type": "code",
   "execution_count": 6,
   "metadata": {},
   "outputs": [],
   "source": [
    "observables = ['GCph', 'WL']"
   ]
  },
  {
   "cell_type": "markdown",
   "metadata": {},
   "source": [
    "### Pass options and settings to cosmicfish"
   ]
  },
  {
   "cell_type": "code",
   "execution_count": 7,
   "metadata": {},
   "outputs": [
    {
     "name": "stdout",
     "output_type": "stream",
     "text": [
      "**************************************************************\n",
      "   _____               _     _____     __  \n",
      "  / ___/__  ___ __ _  (_)___/ __(_)__ / /  \n",
      " / /__/ _ \\(_-</  ' \\/ / __/ _// (_-</ _ \\ \n",
      " \\___/\\___/___/_/_/_/_/\\__/_/ /_/___/_//_/ \n",
      "\n",
      "**************************************************************\n",
      " This is the new Python version of the CosmicFish code.\n",
      "**************************************************************\n",
      "Custom fiducial parameters loaded\n",
      "\n",
      "  -> Computing cosmology at the fiducial point\n"
     ]
    },
    {
     "ename": "KeyboardInterrupt",
     "evalue": "",
     "output_type": "error",
     "traceback": [
      "\u001b[0;31m---------------------------------------------------------------------------\u001b[0m",
      "\u001b[0;31mKeyboardInterrupt\u001b[0m                         Traceback (most recent call last)",
      "Cell \u001b[0;32mIn[7], line 1\u001b[0m\n\u001b[0;32m----> 1\u001b[0m cosmoFM_A \u001b[38;5;241m=\u001b[39m \u001b[43mcosmicfish\u001b[49m\u001b[38;5;241;43m.\u001b[39;49m\u001b[43mFisherMatrix\u001b[49m\u001b[43m(\u001b[49m\u001b[43mfiducialpars\u001b[49m\u001b[38;5;241;43m=\u001b[39;49m\u001b[43mfiducial\u001b[49m\u001b[43m,\u001b[49m\n\u001b[1;32m      2\u001b[0m \u001b[43m                                        \u001b[49m\u001b[43moptions\u001b[49m\u001b[38;5;241;43m=\u001b[39;49m\u001b[43moptions\u001b[49m\u001b[43m,\u001b[49m\u001b[43m \u001b[49m\n\u001b[1;32m      3\u001b[0m \u001b[43m                                        \u001b[49m\u001b[43mobservables\u001b[49m\u001b[38;5;241;43m=\u001b[39;49m\u001b[43mobservables\u001b[49m\u001b[43m,\u001b[49m\n\u001b[1;32m      4\u001b[0m \u001b[43m                                        \u001b[49m\u001b[43mcosmoModel\u001b[49m\u001b[38;5;241;43m=\u001b[39;49m\u001b[43moptions\u001b[49m\u001b[43m[\u001b[49m\u001b[38;5;124;43m'\u001b[39;49m\u001b[38;5;124;43mcosmo_model\u001b[39;49m\u001b[38;5;124;43m'\u001b[39;49m\u001b[43m]\u001b[49m\u001b[43m,\u001b[49m\n\u001b[1;32m      5\u001b[0m \u001b[43m                                        \u001b[49m\u001b[43msurveyName\u001b[49m\u001b[38;5;241;43m=\u001b[39;49m\u001b[43moptions\u001b[49m\u001b[43m[\u001b[49m\u001b[38;5;124;43m'\u001b[39;49m\u001b[38;5;124;43msurvey_name\u001b[39;49m\u001b[38;5;124;43m'\u001b[39;49m\u001b[43m]\u001b[49m\u001b[43m)\u001b[49m\n",
      "File \u001b[0;32m~/CosmoProjects/cosmicfish_release/cosmicfishpie/cosmicfishpie/fishermatrix/cosmicfish.py:136\u001b[0m, in \u001b[0;36mFisherMatrix.__init__\u001b[0;34m(self, options, specifications, observables, freepars, extfiles, fiducialpars, biaspars, photopars, spectrononlinearpars, IApars, surveyName, cosmoModel, latexnames, parallel, parallel_cpus)\u001b[0m\n\u001b[1;32m    133\u001b[0m \u001b[38;5;28mprint\u001b[39m(\u001b[38;5;124m\"\u001b[39m\u001b[38;5;124m**************************************************************\u001b[39m\u001b[38;5;124m\"\u001b[39m)\n\u001b[1;32m    134\u001b[0m sys\u001b[38;5;241m.\u001b[39mstdout\u001b[38;5;241m.\u001b[39mflush()\n\u001b[0;32m--> 136\u001b[0m \u001b[43mcfg\u001b[49m\u001b[38;5;241;43m.\u001b[39;49m\u001b[43minit\u001b[49m\u001b[43m(\u001b[49m\n\u001b[1;32m    137\u001b[0m \u001b[43m    \u001b[49m\u001b[43moptions\u001b[49m\u001b[38;5;241;43m=\u001b[39;49m\u001b[43moptions\u001b[49m\u001b[43m,\u001b[49m\n\u001b[1;32m    138\u001b[0m \u001b[43m    \u001b[49m\u001b[43mspecifications\u001b[49m\u001b[38;5;241;43m=\u001b[39;49m\u001b[43mspecifications\u001b[49m\u001b[43m,\u001b[49m\n\u001b[1;32m    139\u001b[0m \u001b[43m    \u001b[49m\u001b[43mobservables\u001b[49m\u001b[38;5;241;43m=\u001b[39;49m\u001b[43mobservables\u001b[49m\u001b[43m,\u001b[49m\n\u001b[1;32m    140\u001b[0m \u001b[43m    \u001b[49m\u001b[43mfreepars\u001b[49m\u001b[38;5;241;43m=\u001b[39;49m\u001b[43mfreepars\u001b[49m\u001b[43m,\u001b[49m\n\u001b[1;32m    141\u001b[0m \u001b[43m    \u001b[49m\u001b[43mextfiles\u001b[49m\u001b[38;5;241;43m=\u001b[39;49m\u001b[43mextfiles\u001b[49m\u001b[43m,\u001b[49m\n\u001b[1;32m    142\u001b[0m \u001b[43m    \u001b[49m\u001b[43mfiducialpars\u001b[49m\u001b[38;5;241;43m=\u001b[39;49m\u001b[43mfiducialpars\u001b[49m\u001b[43m,\u001b[49m\n\u001b[1;32m    143\u001b[0m \u001b[43m    \u001b[49m\u001b[43mbiaspars\u001b[49m\u001b[38;5;241;43m=\u001b[39;49m\u001b[43mbiaspars\u001b[49m\u001b[43m,\u001b[49m\n\u001b[1;32m    144\u001b[0m \u001b[43m    \u001b[49m\u001b[43mphotopars\u001b[49m\u001b[38;5;241;43m=\u001b[39;49m\u001b[43mphotopars\u001b[49m\u001b[43m,\u001b[49m\n\u001b[1;32m    145\u001b[0m \u001b[43m    \u001b[49m\u001b[43mIApars\u001b[49m\u001b[38;5;241;43m=\u001b[39;49m\u001b[43mIApars\u001b[49m\u001b[43m,\u001b[49m\n\u001b[1;32m    146\u001b[0m \u001b[43m    \u001b[49m\u001b[43msurveyName\u001b[49m\u001b[38;5;241;43m=\u001b[39;49m\u001b[43msurveyName\u001b[49m\u001b[43m,\u001b[49m\n\u001b[1;32m    147\u001b[0m \u001b[43m    \u001b[49m\u001b[43mcosmoModel\u001b[49m\u001b[38;5;241;43m=\u001b[39;49m\u001b[43mcosmoModel\u001b[49m\u001b[43m,\u001b[49m\n\u001b[1;32m    148\u001b[0m \u001b[43m    \u001b[49m\u001b[43mlatexnames\u001b[49m\u001b[38;5;241;43m=\u001b[39;49m\u001b[43mlatexnames\u001b[49m\u001b[43m,\u001b[49m\n\u001b[1;32m    149\u001b[0m \u001b[43m    \u001b[49m\u001b[43mspectrononlinearpars\u001b[49m\u001b[38;5;241;43m=\u001b[39;49m\u001b[43mspectrononlinearpars\u001b[49m\u001b[43m,\u001b[49m\n\u001b[1;32m    150\u001b[0m \u001b[43m\u001b[49m\u001b[43m)\u001b[49m\n\u001b[1;32m    152\u001b[0m \u001b[38;5;28mself\u001b[39m\u001b[38;5;241m.\u001b[39mfiducialcosmopars \u001b[38;5;241m=\u001b[39m deepcopy(cfg\u001b[38;5;241m.\u001b[39mfiducialparams)\n\u001b[1;32m    153\u001b[0m \u001b[38;5;28mself\u001b[39m\u001b[38;5;241m.\u001b[39mfiducialcosmo \u001b[38;5;241m=\u001b[39m copy(cfg\u001b[38;5;241m.\u001b[39mfiducialcosmo)\n",
      "File \u001b[0;32m~/CosmoProjects/cosmicfish_release/cosmicfishpie/cosmicfishpie/configs/config.py:572\u001b[0m, in \u001b[0;36minit\u001b[0;34m(options, specifications, observables, freepars, extfiles, fiducialpars, biaspars, photopars, IApars, PShotpars, Spectrobiaspars, spectrononlinearpars, IMbiaspars, surveyName, cosmoModel, latexnames)\u001b[0m\n\u001b[1;32m    566\u001b[0m upt\u001b[38;5;241m.\u001b[39mtime_print(\n\u001b[1;32m    567\u001b[0m     feedback_level\u001b[38;5;241m=\u001b[39mfeed_lvl,\n\u001b[1;32m    568\u001b[0m     min_level\u001b[38;5;241m=\u001b[39m\u001b[38;5;241m1\u001b[39m,\n\u001b[1;32m    569\u001b[0m     text\u001b[38;5;241m=\u001b[39m\u001b[38;5;124m\"\u001b[39m\u001b[38;5;124m-> Computing cosmology at the fiducial point\u001b[39m\u001b[38;5;124m\"\u001b[39m,\n\u001b[1;32m    570\u001b[0m )\n\u001b[1;32m    571\u001b[0m tcosmo1 \u001b[38;5;241m=\u001b[39m time()\n\u001b[0;32m--> 572\u001b[0m fiducialcosmo \u001b[38;5;241m=\u001b[39m \u001b[43mcosmology\u001b[49m\u001b[38;5;241;43m.\u001b[39;49m\u001b[43mcosmo_functions\u001b[49m\u001b[43m(\u001b[49m\u001b[43mfiducialparams\u001b[49m\u001b[43m,\u001b[49m\u001b[43m \u001b[49m\u001b[43minput_type\u001b[49m\u001b[43m)\u001b[49m\n\u001b[1;32m    573\u001b[0m tcosmo2 \u001b[38;5;241m=\u001b[39m time()\n\u001b[1;32m    574\u001b[0m upt\u001b[38;5;241m.\u001b[39mtime_print(\n\u001b[1;32m    575\u001b[0m     feedback_level\u001b[38;5;241m=\u001b[39mfeed_lvl,\n\u001b[1;32m    576\u001b[0m     min_level\u001b[38;5;241m=\u001b[39m\u001b[38;5;241m1\u001b[39m,\n\u001b[0;32m   (...)\u001b[0m\n\u001b[1;32m    579\u001b[0m     time_fin\u001b[38;5;241m=\u001b[39mtcosmo2,\n\u001b[1;32m    580\u001b[0m )\n",
      "File \u001b[0;32m~/CosmoProjects/cosmicfish_release/cosmicfishpie/cosmicfishpie/cosmology/cosmology.py:1512\u001b[0m, in \u001b[0;36mcosmo_functions.__init__\u001b[0;34m(self, cosmopars, input)\u001b[0m\n\u001b[1;32m   1510\u001b[0m     \u001b[38;5;28minput\u001b[39m \u001b[38;5;241m=\u001b[39m cfg\u001b[38;5;241m.\u001b[39minput_type\n\u001b[1;32m   1511\u001b[0m \u001b[38;5;28;01mif\u001b[39;00m \u001b[38;5;28minput\u001b[39m \u001b[38;5;241m==\u001b[39m \u001b[38;5;124m\"\u001b[39m\u001b[38;5;124mcamb\u001b[39m\u001b[38;5;124m\"\u001b[39m:\n\u001b[0;32m-> 1512\u001b[0m     cambresults \u001b[38;5;241m=\u001b[39m \u001b[43mboltzmann_code\u001b[49m\u001b[43m(\u001b[49m\u001b[43mcosmopars\u001b[49m\u001b[43m,\u001b[49m\u001b[43m \u001b[49m\u001b[43mcode\u001b[49m\u001b[38;5;241;43m=\u001b[39;49m\u001b[38;5;124;43m\"\u001b[39;49m\u001b[38;5;124;43mcamb\u001b[39;49m\u001b[38;5;124;43m\"\u001b[39;49m\u001b[43m)\u001b[49m\n\u001b[1;32m   1513\u001b[0m     \u001b[38;5;28mself\u001b[39m\u001b[38;5;241m.\u001b[39mcode \u001b[38;5;241m=\u001b[39m \u001b[38;5;124m\"\u001b[39m\u001b[38;5;124mcamb\u001b[39m\u001b[38;5;124m\"\u001b[39m\n\u001b[1;32m   1514\u001b[0m     \u001b[38;5;28mself\u001b[39m\u001b[38;5;241m.\u001b[39mresults \u001b[38;5;241m=\u001b[39m cambresults\u001b[38;5;241m.\u001b[39mresults\n",
      "File \u001b[0;32m~/CosmoProjects/cosmicfish_release/cosmicfishpie/cosmicfishpie/cosmology/cosmology.py:120\u001b[0m, in \u001b[0;36mboltzmann_code.__init__\u001b[0;34m(self, cosmopars, code)\u001b[0m\n\u001b[1;32m    118\u001b[0m     \u001b[38;5;28mself\u001b[39m\u001b[38;5;241m.\u001b[39mboltzmann_cambpars \u001b[38;5;241m=\u001b[39m cfg\u001b[38;5;241m.\u001b[39mboltzmann_cambpars\n\u001b[1;32m    119\u001b[0m     \u001b[38;5;28mself\u001b[39m\u001b[38;5;241m.\u001b[39mcamb_setparams(\u001b[38;5;28mself\u001b[39m\u001b[38;5;241m.\u001b[39mcosmopars, camb)\n\u001b[0;32m--> 120\u001b[0m     \u001b[38;5;28;43mself\u001b[39;49m\u001b[38;5;241;43m.\u001b[39;49m\u001b[43mcamb_results\u001b[49m\u001b[43m(\u001b[49m\u001b[43mcamb\u001b[49m\u001b[43m)\u001b[49m\n\u001b[1;32m    121\u001b[0m \u001b[38;5;28;01melif\u001b[39;00m code \u001b[38;5;241m==\u001b[39m \u001b[38;5;124m\"\u001b[39m\u001b[38;5;124mclass\u001b[39m\u001b[38;5;124m\"\u001b[39m:\n\u001b[1;32m    122\u001b[0m     \u001b[38;5;28mself\u001b[39m\u001b[38;5;241m.\u001b[39mboltzmann_classpars \u001b[38;5;241m=\u001b[39m cfg\u001b[38;5;241m.\u001b[39mboltzmann_classpars\n",
      "File \u001b[0;32m~/CosmoProjects/cosmicfish_release/cosmicfishpie/cosmicfishpie/cosmology/cosmology.py:528\u001b[0m, in \u001b[0;36mboltzmann_code.camb_results\u001b[0;34m(self, camb)\u001b[0m\n\u001b[1;32m    526\u001b[0m tini_camb \u001b[38;5;241m=\u001b[39m time()\n\u001b[1;32m    527\u001b[0m \u001b[38;5;28mself\u001b[39m\u001b[38;5;241m.\u001b[39mresults \u001b[38;5;241m=\u001b[39m types\u001b[38;5;241m.\u001b[39mSimpleNamespace()\n\u001b[0;32m--> 528\u001b[0m cambres \u001b[38;5;241m=\u001b[39m \u001b[43mcamb\u001b[49m\u001b[38;5;241;43m.\u001b[39;49m\u001b[43mget_results\u001b[49m\u001b[43m(\u001b[49m\u001b[38;5;28;43mself\u001b[39;49m\u001b[38;5;241;43m.\u001b[39;49m\u001b[43mcambclasspars\u001b[49m\u001b[43m)\u001b[49m\n\u001b[1;32m    529\u001b[0m \u001b[38;5;28;01mif\u001b[39;00m \u001b[38;5;28mself\u001b[39m\u001b[38;5;241m.\u001b[39mfeed_lvl \u001b[38;5;241m>\u001b[39m \u001b[38;5;241m2\u001b[39m:\n\u001b[1;32m    530\u001b[0m     tres \u001b[38;5;241m=\u001b[39m time()\n",
      "File \u001b[0;32m~/anaconda3/envs/cosmicfishpie/lib/python3.10/site-packages/camb/camb.py:35\u001b[0m, in \u001b[0;36mget_results\u001b[0;34m(params)\u001b[0m\n\u001b[1;32m     33\u001b[0m \u001b[38;5;28;01mif\u001b[39;00m _debug_params:\n\u001b[1;32m     34\u001b[0m     \u001b[38;5;28mprint\u001b[39m(params)\n\u001b[0;32m---> 35\u001b[0m \u001b[43mres\u001b[49m\u001b[38;5;241;43m.\u001b[39;49m\u001b[43mcalc_power_spectra\u001b[49m\u001b[43m(\u001b[49m\u001b[43mparams\u001b[49m\u001b[43m)\u001b[49m\n\u001b[1;32m     36\u001b[0m \u001b[38;5;28;01mreturn\u001b[39;00m res\n",
      "File \u001b[0;32m~/anaconda3/envs/cosmicfishpie/lib/python3.10/site-packages/camb/results.py:333\u001b[0m, in \u001b[0;36mCAMBdata.calc_power_spectra\u001b[0;34m(self, params)\u001b[0m\n\u001b[1;32m    326\u001b[0m \u001b[38;5;250m\u001b[39m\u001b[38;5;124;03m\"\"\"\u001b[39;00m\n\u001b[1;32m    327\u001b[0m \u001b[38;5;124;03mCalculates transfer functions and power spectra.\u001b[39;00m\n\u001b[1;32m    328\u001b[0m \n\u001b[1;32m    329\u001b[0m \u001b[38;5;124;03m:param params: optional :class:`~.model.CAMBparams` instance with parameters to use\u001b[39;00m\n\u001b[1;32m    330\u001b[0m \n\u001b[1;32m    331\u001b[0m \u001b[38;5;124;03m\"\"\"\u001b[39;00m\n\u001b[1;32m    332\u001b[0m \u001b[38;5;28;01mif\u001b[39;00m params \u001b[38;5;129;01mis\u001b[39;00m \u001b[38;5;129;01mnot\u001b[39;00m \u001b[38;5;28;01mNone\u001b[39;00m:\n\u001b[0;32m--> 333\u001b[0m     \u001b[38;5;28;43mself\u001b[39;49m\u001b[38;5;241;43m.\u001b[39;49m\u001b[43mcalc_transfers\u001b[49m\u001b[43m(\u001b[49m\u001b[43mparams\u001b[49m\u001b[43m,\u001b[49m\u001b[43m \u001b[49m\u001b[43monly_transfers\u001b[49m\u001b[38;5;241;43m=\u001b[39;49m\u001b[38;5;28;43;01mFalse\u001b[39;49;00m\u001b[43m)\u001b[49m\n\u001b[1;32m    334\u001b[0m \u001b[38;5;28;01melse\u001b[39;00m:\n\u001b[1;32m    335\u001b[0m     \u001b[38;5;28mself\u001b[39m\u001b[38;5;241m.\u001b[39m_check_powers()\n",
      "File \u001b[0;32m~/anaconda3/envs/cosmicfishpie/lib/python3.10/site-packages/camb/results.py:313\u001b[0m, in \u001b[0;36mCAMBdata.calc_transfers\u001b[0;34m(self, params, only_transfers, only_time_sources)\u001b[0m\n\u001b[1;32m    311\u001b[0m \u001b[38;5;28;01mif\u001b[39;00m \u001b[38;5;129;01mnot\u001b[39;00m (only_transfers \u001b[38;5;129;01mor\u001b[39;00m only_time_sources):\n\u001b[1;32m    312\u001b[0m     \u001b[38;5;28mself\u001b[39m\u001b[38;5;241m.\u001b[39m_check_powers(params)\n\u001b[0;32m--> 313\u001b[0m \u001b[38;5;28;01mif\u001b[39;00m \u001b[43mCAMBdata_gettransfers\u001b[49m\u001b[43m(\u001b[49m\u001b[43mbyref\u001b[49m\u001b[43m(\u001b[49m\u001b[38;5;28;43mself\u001b[39;49m\u001b[43m)\u001b[49m\u001b[43m,\u001b[49m\u001b[43m \u001b[49m\u001b[43mbyref\u001b[49m\u001b[43m(\u001b[49m\u001b[43mparams\u001b[49m\u001b[43m)\u001b[49m\u001b[43m,\u001b[49m\u001b[43m \u001b[49m\u001b[43mbyref\u001b[49m\u001b[43m(\u001b[49m\u001b[43mc_int\u001b[49m\u001b[43m(\u001b[49m\u001b[38;5;241;43m1\u001b[39;49m\u001b[43m \u001b[49m\u001b[38;5;28;43;01mif\u001b[39;49;00m\u001b[43m \u001b[49m\u001b[43monly_transfers\u001b[49m\u001b[43m \u001b[49m\u001b[38;5;28;43;01melse\u001b[39;49;00m\u001b[43m \u001b[49m\u001b[38;5;241;43m0\u001b[39;49m\u001b[43m)\u001b[49m\u001b[43m)\u001b[49m\u001b[43m,\u001b[49m\n\u001b[1;32m    314\u001b[0m \u001b[43m                         \u001b[49m\u001b[43mbyref\u001b[49m\u001b[43m(\u001b[49m\u001b[43mc_int\u001b[49m\u001b[43m(\u001b[49m\u001b[38;5;241;43m1\u001b[39;49m\u001b[43m \u001b[49m\u001b[38;5;28;43;01mif\u001b[39;49;00m\u001b[43m \u001b[49m\u001b[43monly_time_sources\u001b[49m\u001b[43m \u001b[49m\u001b[38;5;28;43;01melse\u001b[39;49;00m\u001b[43m \u001b[49m\u001b[38;5;241;43m0\u001b[39;49m\u001b[43m)\u001b[49m\u001b[43m)\u001b[49m\u001b[43m)\u001b[49m:\n\u001b[1;32m    315\u001b[0m     config\u001b[38;5;241m.\u001b[39mcheck_global_error(\u001b[38;5;124m'\u001b[39m\u001b[38;5;124mcalc_transfer\u001b[39m\u001b[38;5;124m'\u001b[39m)\n",
      "\u001b[0;31mKeyboardInterrupt\u001b[0m: "
     ]
    }
   ],
   "source": [
    "cosmoFM_A = cosmicfish.FisherMatrix(fiducialpars=fiducial,\n",
    "                                        options=options, \n",
    "                                        observables=observables,\n",
    "                                        cosmoModel=options['cosmo_model'],\n",
    "                                        surveyName=options['survey_name'])"
   ]
  },
  {
   "cell_type": "markdown",
   "metadata": {},
   "source": [
    "#### By setting `survey_name=Euclid` above, we have implicitly chose a default set of observational parameters to be used for the photometric probe"
   ]
  },
  {
   "cell_type": "code",
   "execution_count": null,
   "metadata": {},
   "outputs": [],
   "source": [
    "cosmoFM_A.fiducialcosmopars"
   ]
  },
  {
   "cell_type": "code",
   "execution_count": null,
   "metadata": {},
   "outputs": [],
   "source": [
    "cosmoFM_A.biaspars"
   ]
  },
  {
   "cell_type": "code",
   "execution_count": null,
   "metadata": {},
   "outputs": [],
   "source": [
    "cosmoFM_A.photopars"
   ]
  },
  {
   "cell_type": "code",
   "execution_count": null,
   "metadata": {},
   "outputs": [],
   "source": [
    "cosmoFM_A.IApars"
   ]
  },
  {
   "cell_type": "markdown",
   "metadata": {},
   "source": [
    "# Compute the Photometric angular power spectrum $C(\\ell)$"
   ]
  },
  {
   "cell_type": "code",
   "execution_count": null,
   "metadata": {},
   "outputs": [],
   "source": [
    "## Import the photometric observable from an LSSsurvey as phobs\n",
    "from cosmicfishpie.LSSsurvey import photo_obs as phobs"
   ]
  },
  {
   "cell_type": "markdown",
   "metadata": {},
   "source": [
    "#### Declare an instance of the class"
   ]
  },
  {
   "cell_type": "code",
   "execution_count": null,
   "metadata": {},
   "outputs": [],
   "source": [
    "photo_Cls = phobs.ComputeCls(cosmoFM_A.fiducialcosmopars, \n",
    "                             cosmoFM_A.photopars, cosmoFM_A.IApars, \n",
    "                             cosmoFM_A.biaspars)"
   ]
  },
  {
   "cell_type": "markdown",
   "metadata": {},
   "source": [
    "#### Compute the actual $C_\\ell$"
   ]
  },
  {
   "cell_type": "code",
   "execution_count": null,
   "metadata": {},
   "outputs": [],
   "source": [
    "phCls_A = photo_Cls.compute_all()"
   ]
  },
  {
   "cell_type": "markdown",
   "metadata": {},
   "source": [
    " ##  Let's first extract the cosmological ingredients separately"
   ]
  },
  {
   "cell_type": "code",
   "execution_count": null,
   "metadata": {},
   "outputs": [],
   "source": [
    "zz = np.linspace(0.001,5.0,250)   ## declare a z-array\n",
    "kk = np.logspace(np.log10(1e-3),np.log10(10),250)  ## declare a k-array"
   ]
  },
  {
   "cell_type": "code",
   "execution_count": null,
   "metadata": {},
   "outputs": [],
   "source": [
    "cosmofuncs = photo_Cls.cosmo  ## Access the cosmo attribute of the photometric observable\n",
    "                              ## All observables in CF have a cosmo attribute"
   ]
  },
  {
   "cell_type": "code",
   "execution_count": null,
   "metadata": {},
   "outputs": [],
   "source": [
    "method_list = [attribute for attribute in dir(cosmofuncs) if callable(getattr(cosmofuncs, attribute)) \n",
    "               and attribute.startswith('__') is False]\n",
    "print(method_list)"
   ]
  },
  {
   "cell_type": "markdown",
   "metadata": {},
   "source": [
    "### Background and linear perturbations"
   ]
  },
  {
   "cell_type": "code",
   "execution_count": null,
   "metadata": {},
   "outputs": [],
   "source": [
    "chi_z = cosmofuncs.comoving(zz)\n",
    "ang_z = cosmofuncs.angdist(zz)\n",
    "hub_z = cosmofuncs.Hubble(zz, physical=True)\n",
    "D_growth_z = cosmofuncs.growth(zz)\n",
    "f_growthrate_z = cosmofuncs.f_growthrate(zz)"
   ]
  },
  {
   "cell_type": "code",
   "execution_count": null,
   "metadata": {},
   "outputs": [],
   "source": [
    "fig, axs = plt.subplots(2,2, figsize=(12,12))\n",
    "codelab = options['code']\n",
    "axs[0,0].semilogx(zz, hub_z, color=snscolors[0], lw=3, label=codelab)\n",
    "axs[0,0].set_xlabel('$z$',fontsize=20)\n",
    "axs[0,0].set_ylabel(r'$H(z)$',fontsize=20)\n",
    "axs[0,0].legend(loc='best',fontsize=20)\n",
    "\n",
    "axs[0,1].semilogx(zz, chi_z, color=snscolors[1], lw=3, label=r'$\\chi(z)$')\n",
    "axs[0,1].semilogx(zz, ang_z, color=snscolors[1], lw=2, ls='--',  label=r'$d_A (z)$')\n",
    "axs[0,1].set_xlabel('$z$',fontsize=20)\n",
    "axs[0,1].set_ylabel(r'$d(z)$',fontsize=20)\n",
    "axs[0,1].legend(loc='best',fontsize=20)\n",
    "\n",
    "axs[1,0].semilogx(zz, D_growth_z, color=snscolors[2], lw=3, label=codelab)\n",
    "axs[1,0].set_xlabel('$z$',fontsize=20)\n",
    "axs[1,0].set_ylabel(r'$D(z)$',fontsize=20)\n",
    "axs[1,0].legend(loc='best',fontsize=20)\n",
    "\n",
    "axs[1,1].semilogx(zz, f_growthrate_z, color=snscolors[3], lw=3, label=codelab)\n",
    "axs[1,1].set_xlabel('$z$',fontsize=20)\n",
    "axs[1,1].set_ylabel(r'$f(z)$',fontsize=20)\n",
    "axs[1,1].legend(loc='best',fontsize=20)"
   ]
  },
  {
   "cell_type": "markdown",
   "metadata": {},
   "source": [
    "### The matter power spectrum"
   ]
  },
  {
   "cell_type": "code",
   "execution_count": null,
   "metadata": {},
   "outputs": [],
   "source": [
    "fig, axs = plt.subplots(1,1, figsize=(12,7))\n",
    "color=iter(snscolors)\n",
    "zplot = [0, 0.5, 1, 2.5]\n",
    "for zii in zplot:\n",
    "    c=next(color)\n",
    "    axs.loglog(kk, cosmofuncs.matpow(zii, kk, nonlinear=False), ls='--', c=c, label='linear $P(k)$ z=%s'%zii)\n",
    "axs.set_xlabel(r'$k \\, [\\mathrm{Mpc}]$', fontsize=18)\n",
    "axs.set_ylabel(r'$P_{mm} \\, [\\mathrm{Mpc}^{-3}]$', fontsize=18)\n",
    "color=iter(snscolors)\n",
    "for zii in zplot:\n",
    "    c=next(color)\n",
    "    axs.loglog(kk, cosmofuncs.matpow(zii, kk, nonlinear=True), ls='-', c=c, label='nonlinear $P(k)$ z=%s'%zii)\n",
    "axs.legend(fontsize=18)"
   ]
  },
  {
   "cell_type": "markdown",
   "metadata": {},
   "source": [
    "### Extract the Window Functions from Cosmicfish"
   ]
  },
  {
   "cell_type": "code",
   "execution_count": null,
   "metadata": {},
   "outputs": [],
   "source": [
    "zz = np.linspace(0.001, 2.5, 250)   ## Euclid specs are only defined up to z=3."
   ]
  },
  {
   "cell_type": "code",
   "execution_count": null,
   "metadata": {},
   "outputs": [],
   "source": [
    "ph_window = photo_Cls.window"
   ]
  },
  {
   "cell_type": "code",
   "execution_count": null,
   "metadata": {},
   "outputs": [],
   "source": [
    "#Full window function and binned photo n(z) distribution\n",
    "window = photo_Cls.window\n",
    "\n",
    "color=iter(snscolors)\n",
    "plt.figure(figsize=(12, 9))\n",
    "plt.plot(zz, window.dNdz(zz),label=r'$n(z)$', color='k', lw=3, ls='--')\n",
    "for ind in photo_Cls.binrange:\n",
    "    c = next(color)\n",
    "    plt.plot(zz, window.ngal_photoz(zz, ind), label=r'$n^{ph}_{%s}$' %ind, color=c)\n",
    "    plt.plot(zz, window.n_i(zz, ind), ls=':') #label=r'dNi bin-'+str(ind), color=c)\n",
    "plt.xlabel(r'$z$',fontsize=25)\n",
    "plt.ylabel(r'$n(z)$',fontsize=25)\n",
    "plt.legend(bbox_to_anchor=(1.04,0.5), loc=\"center left\",fontsize=20)"
   ]
  },
  {
   "cell_type": "code",
   "execution_count": null,
   "metadata": {
    "scrolled": false
   },
   "outputs": [],
   "source": [
    "#Testing the generation of kernels and Cls\n",
    "\n",
    "color=iter(snscolors)\n",
    "fig, axs = plt.subplots(3,1, figsize=(13,9))\n",
    "plt.figure(figsize=(10, 8))\n",
    "for ind in photo_Cls.binrange:\n",
    "    c = next(color)\n",
    "    axs[0].plot(zz, photo_Cls.genwindow(zz, 'GCph', ind)[0], lw=2., color=c)\n",
    "    axs[1].plot(zz, photo_Cls.genwindow(zz,   'WL', ind)[0], lw=3., color=c)\n",
    "    axs[2].plot(zz, photo_Cls.genwindow(zz,   'WL', ind)[1], lw=3., color=c, label=r'bin %s' %ind)\n",
    "axs[0].set_xlabel(r'$z$',fontsize=20)\n",
    "\n",
    "axs[0].set_ylabel(r'$W_i^{G}(z)$',fontsize=20)\n",
    "axs[1].set_ylabel(r'$W_i^{\\gamma}(z)$',fontsize=20)\n",
    "axs[2].set_ylabel(r'$W_i^\\mathrm{IA}(z)$',fontsize=20)\n",
    "axs[0].minorticks_on()\n",
    "axs[1].minorticks_on()\n",
    "axs[2].minorticks_on()\n",
    "#axs[0].legend()\n",
    "fig.legend(bbox_to_anchor=(1.04,0.5), loc=\"center left\",fontsize=20)"
   ]
  },
  {
   "cell_type": "markdown",
   "metadata": {},
   "source": [
    "## Finally plot the 3x2pt $C^{XY}_{ij}(\\ell) $"
   ]
  },
  {
   "cell_type": "code",
   "execution_count": null,
   "metadata": {
    "scrolled": false
   },
   "outputs": [],
   "source": [
    "#Accessing LSS cls\n",
    "cls = photo_Cls.result\n",
    "ell = cls['ells']\n",
    "norm = ell*(ell+1)/(2*np.pi)\n",
    "\n",
    "color=iter(snscolors)\n",
    "fig, axs = plt.subplots(3,1, figsize=(21,25))\n",
    "for bin1, bin2 in zip([1,2,4,6,10], [2,2,5,7,10]):\n",
    "    c = next(color)   \n",
    "    axs[0].loglog(ell, norm*cls['GCph '+str(bin1)+'xGCph '+str(bin2)], color=c,\n",
    "                  label='GxG i='+str(bin1)+', j='+str(bin2), ls='-', lw=2.1)\n",
    "    axs[1].loglog(ell, norm*cls['WL '+str(bin1)+'xWL '+str(bin2)], color=c,\n",
    "                  label='LxL i='+str(bin1)+', j='+str(bin2), ls='-', lw=2.1)\n",
    "    corr = norm*cls['WL '+str(bin1)+'xGCph '+str(bin2)]\n",
    "    if np.mean(corr) < 0:\n",
    "        ls = '--'\n",
    "    else:\n",
    "        ls = '-'\n",
    "    axs[2].loglog(ell, abs(corr), color=c,\n",
    "                  label='LxG i='+str(bin1)+', j='+str(bin2), ls=ls, lw=2.1)\n",
    "axs[0].set_xlabel(r'$\\ell$',fontsize=35)\n",
    "axs[0].set_ylabel(r'$\\ell(\\ell+1)C_{ij}^{GG}(\\ell)/2\\pi$',fontsize=35)\n",
    "axs[0].legend(bbox_to_anchor=(1.04,0.5), loc=\"center left\",fontsize=25)\n",
    "axs[0].set_xlim(10, 2500)\n",
    "axs[1].set_xlabel(r'$\\ell$',fontsize=35)\n",
    "axs[1].set_ylabel(r'$\\ell(\\ell+1)C_{ij}^{LL}(\\ell)/2\\pi$',fontsize=35)\n",
    "axs[1].legend(bbox_to_anchor=(1.04,0.5), loc=\"center left\",fontsize=25)\n",
    "axs[1].set_xlim(10, 4500)\n",
    "axs[2].set_xlabel(r'$\\ell$',fontsize=35)\n",
    "axs[2].set_ylabel(r'$\\ell(\\ell+1)C_{ij}^{LG}(\\ell)/2\\pi$',fontsize=35)\n",
    "axs[2].legend(bbox_to_anchor=(1.04,0.5), loc=\"center left\",fontsize=25)\n",
    "axs[2].set_xlim(10, 2500)\n",
    "#plt.yscale('log')\n",
    "#plt.xscale('log')\n",
    "plt.show()"
   ]
  },
  {
   "cell_type": "markdown",
   "metadata": {},
   "source": [
    "# Spectroscopic Power Spectrum"
   ]
  },
  {
   "cell_type": "markdown",
   "metadata": {},
   "source": [
    "The observed power spectrum of galaxies can be related to the mater power spectrum by \n",
    "\n",
    "$$\n",
    "P^\\mathrm{th} = q_\\| \\times  q_\\perp^2 \\times K \\times \\mathrm{FoG} \\times \\mathrm{Err} \\times P_{mm} + P^\\mathrm{shot}.\n",
    "$$\n",
    "The factors in front are due to different observational effects. The factor $q_\\|$ and $q_\\perp$ are coming from the fact that we can only observe the redshift of galaxies and not their position.\n",
    "To calculate the power spectrum we have to settle for a reference transformation. If this is different from the cosmology we used to compute the power spectrum in, we find \n",
    "$$\n",
    "q_\\| = H(z)/H^\\mathrm{ref}(z) \\quad\\text{and}\\quad q_\\perp = D_A^\\mathrm{ref}(z)/D_A(z)\n",
    "$$\n",
    "\n",
    "The factors $q_\\mathrm{RSD}$ and $q_\\mathrm{FOG}$ describe redshift space distortions and are given by\n",
    "$$\n",
    "K = \\left(b+f\\,\\mu^2\\right)^2\\\\\n",
    "\\mathrm{FoG} = 1+\\left[f\\,\\sigma_p\\,\\mu^2\\right]^2\n",
    "\n",
    "$$\n",
    "where $\\mu$ denotes the angle under which we observe the structures.\n",
    "The factor $q_\\sigma$ is due to the resolution of the instrument and is given by\n",
    "$$\n",
    "\\mathrm{Err} = \\exp\\left[-\\sigma^2_\\|\\, k^2\\, \\mu^2 -\\sigma_\\perp^2 \\,k^2\\,\\left(1- \\mu^2\\right)\\right].\n",
    "$$\n",
    "Finaly, $P^\\mathrm{shot}$ just is a constant term we add for shot noise.\n",
    "The nonlinear power spectrum $P_{mm}$ is approximated as \n",
    "$$\n",
    "P_{mm} \\approx P_{dw} \\coloneqq P_{mm}^\\mathrm{lin}\\,e^{-g} + P_{mm}\\,(1-e^g),\\\\\n",
    "g= \\sigma_v^2 k^2\\, \\left((1-\\mu^2)+\\mu^2(1+f)^2\\right)\n",
    "$$"
   ]
  },
  {
   "cell_type": "code",
   "execution_count": null,
   "metadata": {},
   "outputs": [],
   "source": [
    "observables = ['GCsp']"
   ]
  },
  {
   "cell_type": "markdown",
   "metadata": {},
   "source": [
    "### Pass options and settings to cosmicfish"
   ]
  },
  {
   "cell_type": "code",
   "execution_count": null,
   "metadata": {},
   "outputs": [],
   "source": [
    "options['bfs8terms'] = False\n",
    "options['vary_bias_str'] = 'b'\n"
   ]
  },
  {
   "cell_type": "code",
   "execution_count": null,
   "metadata": {},
   "outputs": [
    {
     "name": "stdout",
     "output_type": "stream",
     "text": [
      "**************************************************************\n",
      "   _____               _     _____     __  \n",
      "  / ___/__  ___ __ _  (_)___/ __(_)__ / /  \n",
      " / /__/ _ \\(_-</  ' \\/ / __/ _// (_-</ _ \\ \n",
      " \\___/\\___/___/_/_/_/_/\\__/_/ /_/___/_//_/ \n",
      "\n",
      "**************************************************************\n",
      " This is the new Python version of the CosmicFish code.\n",
      "**************************************************************\n",
      "Custom fiducial parameters loaded\n",
      "\n",
      "  -> Computing cosmology at the fiducial point\n",
      "\n",
      "  ---> Cosmological functions obtained in:   6.26 s\n"
     ]
    }
   ],
   "source": [
    "cosmoFM_B = cosmicfish.FisherMatrix(fiducialpars=fiducial,\n",
    "                                        options=options, \n",
    "                                        observables=observables,\n",
    "                                        cosmoModel=options['cosmo_model'],\n",
    "                                        surveyName=options['survey_name'])"
   ]
  },
  {
   "cell_type": "markdown",
   "metadata": {},
   "source": [
    "### Calculate the Power Spectrum"
   ]
  },
  {
   "cell_type": "code",
   "execution_count": null,
   "metadata": {},
   "outputs": [],
   "source": [
    "## Import the spectroscopic observable from an LSSsurvey as spobs\n",
    "from cosmicfishpie.LSSsurvey import spectro_obs as spobs\n",
    "\n",
    "spectro_Pk = spobs.ComputeGalSpectro(cosmoFM_B.fiducialcosmopars)"
   ]
  },
  {
   "cell_type": "code",
   "execution_count": 19,
   "metadata": {},
   "outputs": [
    {
     "data": {
      "text/plain": [
       "{'bg_1': 1.4614804,\n",
       " 'bg_2': 1.6060949000000002,\n",
       " 'bg_3': 1.746479,\n",
       " 'bg_4': 1.898866}"
      ]
     },
     "execution_count": 19,
     "metadata": {},
     "output_type": "execute_result"
    }
   ],
   "source": [
    "print(spectro_Pk.spectrobiaspars)\n",
    "print(\"bias term at z=1.0: \",spectro_Pk.bterm_fid(1.0, bias_sample=\"g\"))\n",
    "print(\"bias term at z=1.2: \",spectro_Pk.bterm_fid(1.2, bias_sample=\"g\"))\n",
    "print(\"bias term at z=1.4: \",spectro_Pk.bterm_fid(1.4, bias_sample=\"g\"))\n",
    "print(\"bias term at z=1.65: \",spectro_Pk.bterm_fid(1.65, bias_sample=\"g\"))"
   ]
  },
  {
   "cell_type": "code",
   "execution_count": 17,
   "metadata": {},
   "outputs": [
    {
     "data": {
      "text/plain": [
       "array(1.6060949)"
      ]
     },
     "execution_count": 17,
     "metadata": {},
     "output_type": "execute_result"
    }
   ],
   "source": [
    "spectro_Pk.bterm_fid(1.2, bias_sample='g')"
   ]
  },
  {
   "cell_type": "markdown",
   "metadata": {},
   "source": [
    "### \"De-wiggling\" of the Power Spectrum"
   ]
  },
  {
   "cell_type": "markdown",
   "metadata": {},
   "source": [
    "To calculate the observed power spectrum we need to dewiggle it to find the non linear correction "
   ]
  },
  {
   "cell_type": "code",
   "execution_count": null,
   "metadata": {},
   "outputs": [],
   "source": [
    "z=1\n",
    "kk= np.logspace(-2,np.log10(0.4),200)\n",
    "\n",
    "fig, axs = plt.subplots(1,2,figsize=(18,8))\n",
    "\n",
    "color = iter(snscolors)\n",
    "\n",
    "c = next(color)\n",
    "axs[0].loglog(kk,spectro_Pk.cosmo.Pmm(z,kk),c=c,label='$P_\\mathrm{mm}$')\n",
    "c = next(color)\n",
    "axs[0].loglog(kk,spectro_Pk.cosmo.nonwiggle_pow(z,kk),c=c,label='$P_\\mathrm{nw}$')\n",
    "axs[0].set_xlabel('$k$ [$\\mathrm{Mpc}^{-1}$]')\n",
    "axs[0].set_ylabel('Power Spectrum $P(k)$ [$\\mathrm{Mpc}^{3}$]')\n",
    "axs[0].legend()\n",
    "axs[0].set_xlim([1e-2,0.4])\n",
    "\n",
    "colormap = sns.color_palette(\"rocket\")\n",
    "colors = iter(colormap)\n",
    "mus = np.linspace(0,1,6)\n",
    "for mu in mus:\n",
    "    c = next(colors)\n",
    "    axs[1].plot(kk,spectro_Pk.dewiggled_pdd(z,kk,mu)/spectro_Pk.normalized_pnw(z,kk),c=c)\n",
    "\n",
    "axs[1].set_xscale('log')\n",
    "axs[1].set_xlabel('$k$ [$\\mathrm{Mpc}^{-1}$]')\n",
    "axs[1].set_ylabel('$P_\\mathrm{dw}(k)$/$P_\\mathrm{nw}(k)$ for different $\\mu$')\n",
    "axs[1].set_xlim([1e-2,0.4])"
   ]
  },
  {
   "cell_type": "markdown",
   "metadata": {},
   "source": [
    "#### Compute the observed power spectrum at different redshifts and different angles "
   ]
  },
  {
   "cell_type": "code",
   "execution_count": null,
   "metadata": {},
   "outputs": [],
   "source": [
    "fig, axs = plt.subplots(1,2,figsize=(18,8))\n",
    "\n",
    "colormap = sns.color_palette(\"rocket\")\n",
    "colors = iter(colormap)\n",
    "\n",
    "zz= np.linspace(1,2,6)\n",
    "for z in zz:\n",
    "    c = next(colors)\n",
    "    #axs[0].plot(kk,spectro_Pk.observed_Pgg(z,kk,1)/spectro_Pk.observed_Pgg(1,kk,1),c=c)\n",
    "    axs[0].loglog(kk,spectro_Pk.observed_Pgg(z,kk,1),c=c)\n",
    "\n",
    "axs[0].set_xlabel('$k$ [$\\mathrm{Mpc}^{-1}$]')\n",
    "axs[0].set_ylabel('$P(k,z,\\mu=1)[\\mathrm{Mpc}^3]$')\n",
    "axs[0].set_xlim([1e-2,0.4])\n",
    "axs[0].set_xscale('log')\n",
    "\n",
    "colormap = sns.color_palette(\"rocket\")\n",
    "colors = iter(colormap)\n",
    "mus = np.linspace(1,0,6)\n",
    "for mu in mus:\n",
    "    c = next(colors)\n",
    "    #axs[1].plot(kk,spectro_Pk.observed_Pgg(1,kk,mu)/spectro_Pk.observed_Pgg(1,kk,1),c=c)\n",
    "    axs[1].loglog(kk,spectro_Pk.observed_Pgg(1,kk,mu),c=c)\n",
    "\n",
    "axs[1].set_xlabel('$k$ [$\\mathrm{Mpc}^{-1}$]')\n",
    "axs[1].set_ylabel('$P(k,z=1,\\mu)[\\mathrm{Mpc}^3]$')\n",
    "axs[1].set_xlim([1e-2,0.4])\n",
    "axs[1].set_xscale('log')"
   ]
  },
  {
   "cell_type": "markdown",
   "metadata": {},
   "source": [
    "### Compare the Power Spectrum from two different cosmologies"
   ]
  },
  {
   "cell_type": "code",
   "execution_count": null,
   "metadata": {},
   "outputs": [],
   "source": [
    "sample = {\"Omegam\":0.32,\n",
    "          \"Omegab\":0.06, #20% higher than the fiducial\n",
    "          \"h\":0.737, #10% higher than the fiducal\n",
    "          \"ns\":0.96,\n",
    "          \"sigma8\":0.815584,\n",
    "          \"w0\":-1.0,\n",
    "          \"wa\":0.,\n",
    "          \"mnu\":0.06,\n",
    "          \"Neff\":3.044,\n",
    "          }\n",
    "\n",
    "spectro_Pk_sampled = spobs.ComputeGalSpectro(sample, cosmoFM_B.fiducialcosmopars)"
   ]
  },
  {
   "cell_type": "code",
   "execution_count": null,
   "metadata": {},
   "outputs": [],
   "source": [
    "fig, axs = plt.subplots(1,2,figsize=(18,8))\n",
    "\n",
    "colormap = sns.color_palette(\"colorblind\")\n",
    "colors = iter(colormap)\n",
    "\n",
    "c = next(colors)\n",
    "axs[0].loglog(kk,spectro_Pk.observed_Pgg(1,kk,1),c=c,label='fiducal')\n",
    "\n",
    "c = next(colors)\n",
    "axs[0].loglog(kk,spectro_Pk_sampled.observed_Pgg(1,kk,1),c=c,label='sample')\n",
    "\n",
    "axs[0].set_xlabel('$k$ [$\\mathrm{Mpc}^{-1}$]')\n",
    "axs[0].set_ylabel('$P(k,z=1,\\mu=1)[\\mathrm{Mpc}^3]$')\n",
    "axs[0].set_xlim([1e-2,0.4])\n",
    "axs[0].legend()\n",
    "axs[0].set_xscale('log')\n",
    "\n",
    "axs[1].plot(kk,(spectro_Pk.observed_Pgg(1,kk,1)-spectro_Pk_sampled.observed_Pgg(1,kk,1))/(spectro_Pk.observed_Pgg(1,kk,1)+spectro_Pk_sampled.observed_Pgg(1,kk,1))*200,c='black')\n",
    "\n",
    "axs[1].set_xlabel('$k$ [$\\mathrm{Mpc}^{-1}$]')\n",
    "axs[1].set_ylabel(r'% deviation of Power Spectra')\n",
    "axs[1].set_xlim([1e-2,0.4])\n",
    "axs[1].set_xscale('log')"
   ]
  }
 ],
 "metadata": {
  "hide_input": false,
  "kernelspec": {
   "display_name": "Python 3.8.12 ('cosmicfish')",
   "language": "python",
   "name": "python3"
  },
  "language_info": {
   "codemirror_mode": {
    "name": "ipython",
    "version": 3
   },
   "file_extension": ".py",
   "mimetype": "text/x-python",
   "name": "python",
   "nbconvert_exporter": "python",
   "pygments_lexer": "ipython3",
   "version": "3.10.13"
  },
  "toc": {
   "base_numbering": 1,
   "nav_menu": {},
   "number_sections": true,
   "sideBar": true,
   "skip_h1_title": false,
   "title_cell": "Table of Contents",
   "title_sidebar": "Contents",
   "toc_cell": false,
   "toc_position": {},
   "toc_section_display": true,
   "toc_window_display": false
  },
  "vscode": {
   "interpreter": {
    "hash": "6de7e2f7ee95035bf0c6e476fd00bafd31c302653b763246190ee2d75deeceb1"
   }
  }
 },
 "nbformat": 4,
 "nbformat_minor": 2
}
