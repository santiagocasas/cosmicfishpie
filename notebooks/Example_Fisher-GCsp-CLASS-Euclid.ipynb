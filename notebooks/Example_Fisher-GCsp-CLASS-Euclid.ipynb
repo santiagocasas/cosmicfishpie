{
 "cells": [
  {
   "cell_type": "code",
   "execution_count": null,
   "id": "52f4ef1d",
   "metadata": {},
   "outputs": [],
   "source": [
    "from cosmicfishpie.fishermatrix.cosmicfish import FisherMatrix"
   ]
  },
  {
   "cell_type": "code",
   "execution_count": null,
   "id": "b01d21f8",
   "metadata": {},
   "outputs": [],
   "source": [
    "#Define the observables you are interested in\n",
    "observables = ['GCsp']\n",
    "\n",
    "#Input options for CosmicFish (global options)\n",
    "options = {'accuracy': 1,\n",
    "           'outroot': 'LCDM+Mnu+Neff_internal_class-Euclid_3PT',\n",
    "           'results_dir': 'results/',\n",
    "           'derivatives': '3PT',\n",
    "           'nonlinear': True,\n",
    "           'feedback': 2,\n",
    "           'survey_name': 'Euclid-ISTF-Superpessimistic',\n",
    "           'specs_dir' : '../survey_specifications/',\n",
    "           'cosmo_model' : 'LCDM',\n",
    "           'code': 'class',  ## Using classy wrapper for CLASS, check that it is installed in your environment\n",
    "           'class_config_yaml':'../boltzmann_yaml_files/class/fast_spectro.yaml'}\n",
    "\n",
    "#Internally CosmicFish converts these parameters to the coresponding parameters in CAMB or CLASS \n",
    "fiducial = {\"Omegam\":0.32,\n",
    "            \"Omegab\":0.05,\n",
    "            \"h\":0.67,\n",
    "            \"ns\":0.96,\n",
    "            \"sigma8\":0.82,\n",
    "            \"mnu\":0.06,\n",
    "            \"Neff\":3.046}\n",
    "\n",
    "spectrononlinearpars = {'sigmap_0':5.255388 ,\n",
    "                        'sigmap_1':4.828736 ,\n",
    "                        'sigmap_2':4.460583 ,\n",
    "                        'sigmap_3':4.067725 ,\n",
    "                        'sigmav_0':5.255388 ,\n",
    "                        'sigmav_1':4.828736 ,\n",
    "                        'sigmav_2':4.460583 ,\n",
    "                        'sigmav_3':4.067725 ,\n",
    "                        }  \n",
    "#Parameters to be varied and analyzed and their percentage variation for numerical derivatives\n",
    "freepars = {'Omegam': 0.01,\n",
    "            'Omegab': 0.01,\n",
    "            'mnu': 0.1,\n",
    "            'Neff': 0.01,\n",
    "            'h': 0.01,\n",
    "            'ns': 0.01,\n",
    "            'sigma8': 0.01}"
   ]
  },
  {
   "cell_type": "code",
   "execution_count": null,
   "id": "d5ce8931",
   "metadata": {
    "scrolled": true
   },
   "outputs": [],
   "source": [
    "Fishers_list = []\n",
    "for survey_spec in ['Optimistic','Superpessimistic']:\n",
    "\n",
    "    options['survey_name']= 'Euclid-ISTF-'+survey_spec\n",
    "    options['outroot']= 'LCDM+Mnu+Neff_internal_class-Euclid-{:s}_3PT'.format(survey_spec)\n",
    "\n",
    "    cosmoFM = FisherMatrix(fiducialpars=fiducial, freepars=freepars, options=options,\n",
    "                      observables=observables, spectrononlinearpars=spectrononlinearpars,\n",
    "                      cosmoModel=options['cosmo_model'],surveyName=options['survey_name'])\n",
    "\n",
    "    Fishers_list.append(cosmoFM.compute())"
   ]
  },
  {
   "cell_type": "markdown",
   "id": "d67858de",
   "metadata": {},
   "source": [
    "## Plotting the Fisher matrix"
   ]
  },
  {
   "cell_type": "code",
   "execution_count": null,
   "id": "5bc73ab3",
   "metadata": {},
   "outputs": [],
   "source": [
    "from cosmicfishpie.analysis import fisher_matrix as fm\n",
    "from cosmicfishpie.analysis import fisher_plotting as fpp\n",
    "\n",
    "plot_options = {'fishers_list': Fishers_list[::-1], \n",
    "                'colors': ['green', 'red'],\n",
    "                'fish_labels': ['Euclid Optimistic GCsp','Euclid SuperPess GCsp'][::-1],\n",
    "                'plot_pars': [par for par in fiducial],\n",
    "                'axis_custom_factors': {'all': 3},  ## Axis limits cover 3-sigma bounds of first Fisher matrix\n",
    "                'plot_method': 'Gaussian',\n",
    "                'file_format': '.pdf',   ##file format for all the plots\n",
    "                'outpath' : './plots/',  ## directory where to store the files, if non-existent, it will be created\n",
    "                'outroot':'Euclid-comparison_w0waCDM_GCsp'  ## file name root for all the plots, extra names can be added individually\n",
    "                } "
   ]
  },
  {
   "cell_type": "code",
   "execution_count": null,
   "id": "8f60ba99",
   "metadata": {},
   "outputs": [],
   "source": [
    "fish_plotter = fpp.fisher_plotting(**plot_options)\n",
    "fish_plotter.plot_fisher(filled=True)"
   ]
  },
  {
   "cell_type": "code",
   "execution_count": null,
   "id": "78b4d8db",
   "metadata": {},
   "outputs": [],
   "source": []
  }
 ],
 "metadata": {
  "hide_input": false,
  "kernelspec": {
   "display_name": "Python 3 (ipykernel)",
   "language": "python",
   "name": "python3"
  },
  "language_info": {
   "codemirror_mode": {
    "name": "ipython",
    "version": 3
   },
   "file_extension": ".py",
   "mimetype": "text/x-python",
   "name": "python",
   "nbconvert_exporter": "python",
   "pygments_lexer": "ipython3",
   "version": "3.10.12"
  },
  "toc": {
   "base_numbering": 1,
   "nav_menu": {},
   "number_sections": true,
   "sideBar": true,
   "skip_h1_title": false,
   "title_cell": "Table of Contents",
   "title_sidebar": "Contents",
   "toc_cell": false,
   "toc_position": {},
   "toc_section_display": true,
   "toc_window_display": false
  }
 },
 "nbformat": 4,
 "nbformat_minor": 5
}
